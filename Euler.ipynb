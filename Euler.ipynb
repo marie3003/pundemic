{
 "cells": [
  {
   "cell_type": "markdown",
   "id": "e4625a15-b4b8-49df-9f46-b93008e2fc1f",
   "metadata": {},
   "source": [
    "# Euler classifier training\n",
    "\n",
    "The following code chunks were run on euler in order to train a classifier for our fungal ITS data, do not attempt running in the nb\n"
   ]
  },
  {
   "cell_type": "code",
   "execution_count": null,
   "id": "09696e30-3113-4f5b-86bc-566f27c5aa8f",
   "metadata": {},
   "outputs": [],
   "source": [
    "# Setting up euler\n",
    "# Get qiime2 on euler (30 mins to set up, around 5gb)\n",
    "conda env create -n q2 --file https://data.qiime2.org/distro/amplicon/qiime2-amplicon-2024.5-py39-osx-conda.yml\n",
    "\n",
    "# Now qiime2 can be activated with:\n",
    "conda activate q2"
   ]
  },
  {
   "cell_type": "code",
   "execution_count": null,
   "id": "1618a801-c41f-422e-ba98-0d3edb6db332",
   "metadata": {},
   "outputs": [],
   "source": [
    "# Getting our pundemic data and denoising\n",
    "wget -O pundemic_metadata.tsv https://polybox.ethz.ch/index.php/s/7LxWSbaw2q37yof/download\n",
    "wget -O pundemic_forward_reads.qza  https://polybox.ethz.ch/index.php/s/o8HqHJqvuf9e2on/download\n",
    "\n",
    "# Denoising script:\n",
    "#!/bin/bash\n",
    "RDATA=\"/cluster/home/ameara/applied_bioinformatics/project/raw_data\"\n",
    "PDATA=\"/cluster/scratch/ameara/apbio/processed_data\"\n",
    "\n",
    "echo \"starting denoising\"\n",
    "\n",
    "qiime dada2 denoise-single \\\n",
    "   --i-demultiplexed-seqs $RDATA/pundemic_forward_reads.qza \\\n",
    "   --p-trunc-len 129 \\\n",
    "   --p-n-threads 4 \\\n",
    "   --o-table $PDATA/dada2_table.qza \\\n",
    "   --o-representative-sequences $PDATA/dada2_rep_seq.qza \\\n",
    "   --o-denoising-stats $PDATA/dada2_stats.qza\n",
    "\n",
    "echo \"finished truncation\"\n",
    "\n",
    "# Running the script\n",
    "sbatch --time=60 --ntasks=4 --mem-per-cpu=30G scripts/denoising.sh \n"
   ]
  },
  {
   "cell_type": "code",
   "execution_count": null,
   "id": "1ec7c141-5f7b-4a49-9062-0a8ab2ee14a7",
   "metadata": {},
   "outputs": [],
   "source": [
    "# Getting unite db for fungal ITS classifier\n",
    "qiime rescript get-unite-data \\\n",
    "    --p-version 10.0 \\\n",
    "    --p-taxon-group eukaryotes \\\n",
    "    --p-cluster-id dynamic \\\n",
    "    --p-no-singletons \\\n",
    "    --verbose \\\n",
    "    --output-dir unite_dynamic \n",
    "\n",
    "# Cleaning up unite db\n",
    "qiime rescript edit-taxonomy \\\n",
    "    --i-taxonomy unite_dynamic/taxonomy.qza \\\n",
    "    --o-edited-taxonomy unite_dynamic/taxonomy-no-SH.qza \\\n",
    "    --p-search-strings ';sh__.*' \\\n",
    "    --p-replacement-strings '' \\\n",
    "    --p-use-regex\n",
    "\n"
   ]
  },
  {
   "cell_type": "code",
   "execution_count": null,
   "id": "92280f62-729d-4ed9-a46f-85d4fe1c2743",
   "metadata": {},
   "outputs": [],
   "source": [
    "# Train classifier\n",
    "sbatch --time=300  --ntasks=4 --mem-per-cpu=30G --wrap=\"\\\n",
    "    qiime feature-classifier fit-classifier-naive-bayes \\\n",
    "    --i-reference-reads unite_dynamic/sequences.qza \\\n",
    "    --i-reference-taxonomy unite_dynamic/taxonomy-no-SH.qza \\\n",
    "    --o-classifier unite_dynamic/classifier.qza\"\n",
    "\n",
    "# See how long it took on euler:\n",
    "sacct -j <jobID> --format=JobID,JobName,Elapsed\n",
    "# job ID here was 11433149, elapsed time: 02:07:47"
   ]
  },
  {
   "cell_type": "code",
   "execution_count": null,
   "id": "c69245d1-6b1f-461a-8ae1-b3e0627a68e3",
   "metadata": {},
   "outputs": [],
   "source": [
    "# Evaluate the classifier\n",
    "# Script for eval\n",
    "#!/bin/bash\n",
    "\n",
    "echo \"starting eval\"\n",
    "\n",
    "qiime rescript evaluate-fit-classifier \\\n",
    "    --i-sequences unite_dynamic/sequences.qza   \\\n",
    "    --i-taxonomy unite_dynamic/taxonomy-no-SH.qza \\\n",
    "    --p-n-jobs 4 \\\n",
    "    --o-classifier unite_dynamic/classifier.qza \\\n",
    "    --o-evaluation unite_dynamic/classifier-evaluation.qzv \\\n",
    "    --o-observed-taxonomy unite_dynamic/predicted-taxonomy.qza\n",
    "\n",
    "echo \"finished fit eval\"\n",
    "\n",
    "qiime rescript evaluate-taxonomy \\\n",
    "  --i-taxonomies unite_dynamic/taxonomy-no-SH.qza unite_dynamic/predicted-taxonomy.qza \\\n",
    "  --p-labels ref-taxonomy predicted-taxonomy \\\n",
    "  --o-taxonomy-stats unite_dynamic/both-taxonomy-evaluation.qzv\n",
    "\n",
    "echo \"finished tax eval\"\n",
    "\n",
    "# Running the script\n",
    "sbatch --time=360 --ntasks=4 --mem-per-cpu=30G scripts/ceval_dynamic.sh \n"
   ]
  },
  {
   "cell_type": "code",
   "execution_count": null,
   "id": "6af0415f-7c39-4920-a183-9b2fa0161009",
   "metadata": {},
   "outputs": [],
   "source": [
    "# Use the classifier on our data\n",
    "# Script for classify\n",
    "\n",
    "#!/bin/bash\n",
    "\n",
    "echo \"Start classifying!\"\n",
    "\n",
    "PDATA=\"/cluster/scratch/ameara/apbio/processed_data\"\n",
    "CDATA=\"/cluster/scratch/ameara/apbio/unite_dynamic\"\n",
    "\n",
    "qiime feature-classifier classify-sklearn \\\n",
    "    --i-classifier $CDATA/classifier.qza \\\n",
    "    --i-reads $PDATA/dada2_rep_seq.qza \\\n",
    "    --o-classification $PDATA/taxonomy_d.qza\n",
    "\n",
    "echo \"Classification done.\"\n",
    "\n",
    "# Run classify script\n",
    "sbatch --time=360 --ntasks=4 --mem-per-cpu=30G /cluster/home/ameara/applied_bioinformatics/project/scripts/classify_d.sh\n"
   ]
  },
  {
   "cell_type": "code",
   "execution_count": null,
   "id": "ef3574ad-02d0-4166-a045-e4884452e083",
   "metadata": {},
   "outputs": [],
   "source": [
    "# Use a pre-trained classifier on our data\n",
    "\n",
    "# Uploading pre-trained classifier from\n",
    "# https://github.com/colinbrislawn/unite-train/releases/tag/v10.0-v04.04.2024-qiime2-2024.5\n",
    "scp unite_ver10_dynamic_s_all_04.04.2024-Q2-2024.5.qza ameara@euler.ethz.ch:/cluster/scratch/ameara/apbio/unite_dynamic/\n",
    "\n",
    "# Run pre-trained classifier on our data:\n",
    "#!/bin/bash\n",
    "\n",
    "echo \"Start classifying!\"\n",
    "\n",
    "PDATA=\"/cluster/scratch/ameara/apbio/processed_data\"\n",
    "CDATA=\"/cluster/scratch/ameara/apbio/unite_dynamic\"\n",
    "\n",
    "qiime feature-classifier classify-sklearn \\\n",
    "    --i-classifier $CDATA/unite_ver10_dynamic_s_all_04.04.2024-Q2-2024.5.qza \\\n",
    "    --i-reads $PDATA/dada2_rep_seq.qza \\\n",
    "    --o-classification $PDATA/taxonomy_d_pre.qza\n",
    "\n",
    "echo \"Classification done.\"\n",
    "\n",
    "# Running the script\n",
    "sbatch --time=360 --ntasks=1 --mem-per-cpu=128G /cluster/home/ameara/applied_bioinformatics/project/scripts/classify_pre.sh \n"
   ]
  },
  {
   "cell_type": "code",
   "execution_count": null,
   "id": "cbd114bb-287e-4cc1-8a7a-0d9d18204dd1",
   "metadata": {},
   "outputs": [],
   "source": [
    "# Retrieve data to local computer\n",
    "# Getting the evaluations\n",
    "scp ameara@euler.ethz.ch:/cluster/scratch/ameara/apbio/unite_dynamic/both-taxonomy-evaluation.qzv .\n",
    "scp ameara@euler.ethz.ch:/cluster/scratch/ameara/apbio/unite_dynamic/classifier-evaluation.qzv .\n",
    "# Getting our classification data \n",
    "scp ameara@euler.ethz.ch:/cluster/scratch/ameara/apbio/processed_data/taxonomy_d.qza .\n",
    "scp ameara@euler.ethz.ch:/cluster/scratch/ameara/apbio/processed_data/taxonomy_d_pre.qza ."
   ]
  }
 ],
 "metadata": {
  "kernelspec": {
   "display_name": "QIIME 2",
   "language": "python",
   "name": "python3"
  },
  "language_info": {
   "codemirror_mode": {
    "name": "ipython",
    "version": 3
   },
   "file_extension": ".py",
   "mimetype": "text/x-python",
   "name": "python",
   "nbconvert_exporter": "python",
   "pygments_lexer": "ipython3",
   "version": "3.9.19"
  }
 },
 "nbformat": 4,
 "nbformat_minor": 5
}
