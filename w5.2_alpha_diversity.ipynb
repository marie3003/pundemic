{
 "cells": [
  {
   "cell_type": "markdown",
   "id": "fc95c31e-02a8-4aeb-a614-0ece29547be4",
   "metadata": {},
   "source": [
    "# Alpha Diversity Analysis"
   ]
  },
  {
   "cell_type": "markdown",
   "id": "39b807f4-ddf1-4616-94dd-f3c51d64b6da",
   "metadata": {},
   "source": [
    "## Import Libraries"
   ]
  },
  {
   "cell_type": "code",
   "execution_count": 1,
   "id": "1ef964cc-1e9e-4540-930a-242247e56031",
   "metadata": {
    "tags": []
   },
   "outputs": [],
   "source": [
    "import os\n",
    "import pandas as pd\n",
    "import qiime2 as q2\n",
    "from qiime2 import Visualization\n",
    "\n",
    "%matplotlib inline"
   ]
  },
  {
   "cell_type": "code",
   "execution_count": 2,
   "id": "2f8bc32e-8850-45fa-87df-2a5768ecc649",
   "metadata": {
    "tags": []
   },
   "outputs": [],
   "source": [
    "data_dir = 'data'\n",
    "data_dir_phyl = 'data/phylogeny'\n",
    "data_dir_div = 'data/diversity'"
   ]
  },
  {
   "cell_type": "markdown",
   "id": "eef36e58-9612-4ae0-989e-eafc3bc533b8",
   "metadata": {},
   "source": [
    "## Alpha Rarefaction"
   ]
  },
  {
   "cell_type": "markdown",
   "id": "66f5ce7b-c728-4eca-ac7a-579265c99953",
   "metadata": {},
   "source": [
    "To perform rarefaction, we first need to decide which sampling depth is best suited for our dataset. For this, we will analyse how sampling depth impacts within-sample diversity estimates (= alpha diversity) with the alpha-rarefaction action. This action generates interactive alpha rarefaction curves for sequencing depths between min_depth and max_depth and computes 10 (default) rarefied tables with corresponding alpha diversity metrics at each sampling depth step."
   ]
  },
  {
   "cell_type": "code",
   "execution_count": 3,
   "id": "4967fad7-a77d-449a-bad4-8d50f7177dc8",
   "metadata": {},
   "outputs": [
    {
     "name": "stdout",
     "output_type": "stream",
     "text": [
      "^C\n",
      "\n",
      "Aborted!\n",
      "\u001b[0m"
     ]
    }
   ],
   "source": [
    "! qiime diversity alpha-rarefaction \\\n",
    "    --i-table $data_dir/dada/dada2_table.qza \\\n",
    "    --i-phylogeny $data_dir_phyl/fasttree_tree_rooted.qza \\\n",
    "    --p-max-depth 10000 \\\n",
    "    --m-metadata-file $data_dir/pundemic_metadata.tsv \\\n",
    "    --o-visualization $data_dir_div/alpha_rarefaction.qzv"
   ]
  },
  {
   "cell_type": "code",
   "execution_count": 4,
   "id": "11541369-59ed-4f75-a055-0473c77d96ae",
   "metadata": {
    "tags": []
   },
   "outputs": [
    {
     "data": {
      "text/html": [
       "<div><img onload=\"(function(div, url){\n",
       "if (typeof require !== 'undefined') {\n",
       "    var baseURL = require.toUrl('').split('/').slice(0, -2).join('/');\n",
       "} else {\n",
       "    var baseURL = JSON.parse(\n",
       "        document.getElementById('jupyter-config-data').innerHTML\n",
       "    ).baseUrl.slice(0, -1);\n",
       "}\n",
       "url = baseURL + url;\n",
       "fetch(url).then(function(res) {\n",
       "    if (res.status === 404) {\n",
       "        div.innerHTML = 'Install QIIME 2 Jupyter extension with:<br />' +\n",
       "                        '<code>jupyter serverextension enable --py qiime2' +\n",
       "                        ' --sys-prefix</code><br />then restart your server.' +\n",
       "                        '<br /><br />(Interactive output not available on ' +\n",
       "                        'static notebook viewer services like nbviewer.)';\n",
       "    } else if (res.status === 409) {\n",
       "        div.innerHTML = 'Visualization no longer in scope. Re-run this cell' +\n",
       "                        ' to see the visualization.';\n",
       "    } else if (res.ok) {\n",
       "        url = res.url;\n",
       "        div.innerHTML = '<iframe src=\\'' + url + '\\' style=\\'' +\n",
       "                        'width: 100%; height: 700px; border: 0;\\'>' +\n",
       "                        '</iframe><hr />Open in a: <a href=\\'' + url + '\\'' +\n",
       "                        ' target=\\'_blank\\'>new window</a>'\n",
       "    } else {\n",
       "        div.innerHTML = 'Something has gone wrong. Check notebook server for' +\n",
       "                        ' errors.';\n",
       "    }\n",
       "});\n",
       "})(this.parentElement, '/qiime2/redirect?location=/tmp/qiime2/jovyan/data/6f523f6b-876e-4e37-ad28-717ceb6b7649')\" src=\"data:image/gif;base64,R0lGODlhAQABAIAAAP///wAAACH5BAEAAAAALAAAAAABAAEAAAICRAEAOw==\" /></div>"
      ],
      "text/plain": [
       "<visualization: Visualization uuid: 6f523f6b-876e-4e37-ad28-717ceb6b7649>"
      ]
     },
     "execution_count": 4,
     "metadata": {},
     "output_type": "execute_result"
    }
   ],
   "source": [
    "Visualization.load(f\"{data_dir_div}/alpha_rarefaction.qzv\")"
   ]
  },
  {
   "cell_type": "markdown",
   "id": "1837a40b-c496-4712-9def-21643ffd2fb8",
   "metadata": {},
   "source": [
    "## Diversity Analysis"
   ]
  },
  {
   "cell_type": "code",
   "execution_count": 5,
   "id": "cefc97cf-24eb-4c13-bc64-793e825df550",
   "metadata": {
    "collapsed": true,
    "jupyter": {
     "outputs_hidden": true
    },
    "tags": []
   },
   "outputs": [
    {
     "name": "stdout",
     "output_type": "stream",
     "text": [
      "Traceback (most recent call last):\n",
      "  File \"/opt/conda/lib/python3.9/site-packages/q2cli/util.py\", line 273, in get_plugin_manager\n",
      "    return qiime2.sdk.PluginManager.reuse_existing()\n",
      "  File \"/opt/conda/lib/python3.9/site-packages/qiime2/sdk/plugin_manager.py\", line 58, in reuse_existing\n",
      "    raise UninitializedPluginManagerError\n",
      "qiime2.sdk.plugin_manager.UninitializedPluginManagerError\n",
      "\n",
      "During handling of the above exception, another exception occurred:\n",
      "\n",
      "Traceback (most recent call last):\n",
      "  File \"/opt/conda/bin/qiime\", line 11, in <module>\n",
      "    sys.exit(qiime())\n",
      "  File \"/opt/conda/lib/python3.9/site-packages/click/core.py\", line 1157, in __call__\n",
      "    return self.main(*args, **kwargs)\n",
      "  File \"/opt/conda/lib/python3.9/site-packages/click/core.py\", line 1078, in main\n",
      "    rv = self.invoke(ctx)\n",
      "  File \"/opt/conda/lib/python3.9/site-packages/click/core.py\", line 1688, in invoke\n",
      "    return _process_result(sub_ctx.command.invoke(sub_ctx))\n",
      "  File \"/opt/conda/lib/python3.9/site-packages/click/core.py\", line 1682, in invoke\n",
      "    cmd_name, cmd, args = self.resolve_command(ctx, args)\n",
      "  File \"/opt/conda/lib/python3.9/site-packages/click/core.py\", line 1729, in resolve_command\n",
      "    cmd = self.get_command(ctx, cmd_name)\n",
      "  File \"/opt/conda/lib/python3.9/site-packages/q2cli/commands.py\", line 244, in get_command\n",
      "    return ActionCommand(name, self._plugin, action)\n",
      "  File \"/opt/conda/lib/python3.9/site-packages/q2cli/commands.py\", line 274, in __init__\n",
      "    action_obj = self._get_action()\n",
      "  File \"/opt/conda/lib/python3.9/site-packages/q2cli/commands.py\", line 366, in _get_action\n",
      "    plugin = self._get_plugin()\n",
      "  File \"/opt/conda/lib/python3.9/site-packages/q2cli/commands.py\", line 362, in _get_plugin\n",
      "    pm = q2cli.util.get_plugin_manager()\n",
      "  File \"/opt/conda/lib/python3.9/site-packages/q2cli/util.py\", line 285, in get_plugin_manager\n",
      "    return qiime2.sdk.PluginManager()\n",
      "  File \"/opt/conda/lib/python3.9/site-packages/qiime2/sdk/plugin_manager.py\", line 67, in __new__\n",
      "    self._init(add_plugins=add_plugins)\n",
      "  File \"/opt/conda/lib/python3.9/site-packages/qiime2/sdk/plugin_manager.py\", line 105, in _init\n",
      "    plugin = entry_point.load()\n",
      "  File \"/opt/conda/lib/python3.9/site-packages/pkg_resources/__init__.py\", line 2605, in load\n",
      "    return self.resolve()\n",
      "  File \"/opt/conda/lib/python3.9/site-packages/pkg_resources/__init__.py\", line 2611, in resolve\n",
      "    module = __import__(self.module_name, fromlist=['__name__'], level=0)\n",
      "  File \"/opt/conda/lib/python3.9/site-packages/q2_longitudinal/plugin_setup.py\", line 28, in <module>\n",
      "    from ._longitudinal import (pairwise_differences, pairwise_distances,\n",
      "  File \"/opt/conda/lib/python3.9/site-packages/q2_longitudinal/_longitudinal.py\", line 20, in <module>\n",
      "    import statsmodels.api as sm\n",
      "  File \"/opt/conda/lib/python3.9/site-packages/statsmodels/api.py\", line 123, in <module>\n",
      "    from .graphics import api as graphics\n",
      "  File \"/opt/conda/lib/python3.9/site-packages/statsmodels/graphics/api.py\", line 1, in <module>\n",
      "    from . import tsaplots as tsa\n",
      "  File \"/opt/conda/lib/python3.9/site-packages/statsmodels/graphics/tsaplots.py\", line 11, in <module>\n",
      "    from statsmodels.tsa.stattools import acf, pacf, ccf\n",
      "  File \"/opt/conda/lib/python3.9/site-packages/statsmodels/tsa/stattools.py\", line 19, in <module>\n",
      "    from scipy.signal import correlate\n",
      "  File \"/opt/conda/lib/python3.9/site-packages/scipy/signal/__init__.py\", line 327, in <module>\n",
      "    from ._signaltools import *\n",
      "  File \"/opt/conda/lib/python3.9/site-packages/scipy/signal/_signaltools.py\", line 13, in <module>\n",
      "    from scipy._lib._util import prod as _prod\n",
      "ImportError: cannot import name 'prod' from 'scipy._lib._util' (/opt/conda/lib/python3.9/site-packages/scipy/_lib/_util.py)\n",
      "\u001b[0m"
     ]
    }
   ],
   "source": [
    "#if error occurs we need to delete old core_metrics_results directory so it can create a new directory \n",
    "! qiime diversity core-metrics-phylogenetic \\\n",
    "  --i-table $data_dir/dada/dada2_table.qza \\\n",
    "  --i-phylogeny $data_dir_phyl/fasttree_tree_rooted.qza \\\n",
    "  --m-metadata-file $data_dir/pundemic_metadata.tsv \\\n",
    "  --p-sampling-depth 1500 \\\n",
    "  --output-dir $data_dir_div/core_metrics_results"
   ]
  },
  {
   "cell_type": "markdown",
   "id": "484b4971-bdd9-4683-b0fb-f6ca9a051237",
   "metadata": {},
   "source": [
    "Test the associations between categorical metadata columns and the Faith Phylogenetic Diversity (a measure of community richness) metric using the qiime diversity alpha-group-significance method (implementation of a one-way ANOVA method, namely Kruskal-Wallis test):"
   ]
  },
  {
   "cell_type": "code",
   "execution_count": 6,
   "id": "1a9b0179-c841-4c96-9911-362270ca31a8",
   "metadata": {
    "collapsed": true,
    "jupyter": {
     "outputs_hidden": true
    },
    "tags": []
   },
   "outputs": [
    {
     "name": "stdout",
     "output_type": "stream",
     "text": [
      "Traceback (most recent call last):\n",
      "  File \"/opt/conda/lib/python3.9/site-packages/q2cli/util.py\", line 273, in get_plugin_manager\n",
      "    return qiime2.sdk.PluginManager.reuse_existing()\n",
      "  File \"/opt/conda/lib/python3.9/site-packages/qiime2/sdk/plugin_manager.py\", line 58, in reuse_existing\n",
      "    raise UninitializedPluginManagerError\n",
      "qiime2.sdk.plugin_manager.UninitializedPluginManagerError\n",
      "\n",
      "During handling of the above exception, another exception occurred:\n",
      "\n",
      "Traceback (most recent call last):\n",
      "  File \"/opt/conda/bin/qiime\", line 11, in <module>\n",
      "    sys.exit(qiime())\n",
      "  File \"/opt/conda/lib/python3.9/site-packages/click/core.py\", line 1157, in __call__\n",
      "    return self.main(*args, **kwargs)\n",
      "  File \"/opt/conda/lib/python3.9/site-packages/click/core.py\", line 1078, in main\n",
      "    rv = self.invoke(ctx)\n",
      "  File \"/opt/conda/lib/python3.9/site-packages/click/core.py\", line 1688, in invoke\n",
      "    return _process_result(sub_ctx.command.invoke(sub_ctx))\n",
      "  File \"/opt/conda/lib/python3.9/site-packages/click/core.py\", line 1682, in invoke\n",
      "    cmd_name, cmd, args = self.resolve_command(ctx, args)\n",
      "  File \"/opt/conda/lib/python3.9/site-packages/click/core.py\", line 1729, in resolve_command\n",
      "    cmd = self.get_command(ctx, cmd_name)\n",
      "  File \"/opt/conda/lib/python3.9/site-packages/q2cli/commands.py\", line 244, in get_command\n",
      "    return ActionCommand(name, self._plugin, action)\n",
      "  File \"/opt/conda/lib/python3.9/site-packages/q2cli/commands.py\", line 274, in __init__\n",
      "    action_obj = self._get_action()\n",
      "  File \"/opt/conda/lib/python3.9/site-packages/q2cli/commands.py\", line 366, in _get_action\n",
      "    plugin = self._get_plugin()\n",
      "  File \"/opt/conda/lib/python3.9/site-packages/q2cli/commands.py\", line 362, in _get_plugin\n",
      "    pm = q2cli.util.get_plugin_manager()\n",
      "  File \"/opt/conda/lib/python3.9/site-packages/q2cli/util.py\", line 285, in get_plugin_manager\n",
      "    return qiime2.sdk.PluginManager()\n",
      "  File \"/opt/conda/lib/python3.9/site-packages/qiime2/sdk/plugin_manager.py\", line 67, in __new__\n",
      "    self._init(add_plugins=add_plugins)\n",
      "  File \"/opt/conda/lib/python3.9/site-packages/qiime2/sdk/plugin_manager.py\", line 105, in _init\n",
      "    plugin = entry_point.load()\n",
      "  File \"/opt/conda/lib/python3.9/site-packages/pkg_resources/__init__.py\", line 2605, in load\n",
      "    return self.resolve()\n",
      "  File \"/opt/conda/lib/python3.9/site-packages/pkg_resources/__init__.py\", line 2611, in resolve\n",
      "    module = __import__(self.module_name, fromlist=['__name__'], level=0)\n",
      "  File \"/opt/conda/lib/python3.9/site-packages/q2_alignment/__init__.py\", line 9, in <module>\n",
      "    from ._mafft import mafft, mafft_add\n",
      "  File \"/opt/conda/lib/python3.9/site-packages/q2_alignment/_mafft.py\", line 13, in <module>\n",
      "    from q2_types.feature_data import DNAFASTAFormat, AlignedDNAFASTAFormat\n",
      "  File \"/opt/conda/lib/python3.9/site-packages/q2_types/__init__.py\", line 18, in <module>\n",
      "    importlib.import_module('q2_types.feature_data')\n",
      "  File \"/opt/conda/lib/python3.9/importlib/__init__.py\", line 127, in import_module\n",
      "    return _bootstrap._gcd_import(name[level:], package, level)\n",
      "  File \"/opt/conda/lib/python3.9/site-packages/q2_types/feature_data/__init__.py\", line 39, in <module>\n",
      "    from ._transformer import (\n",
      "  File \"/opt/conda/lib/python3.9/site-packages/q2_types/feature_data/_transformer.py\", line 14, in <module>\n",
      "    from q2_types.per_sample_sequences import FastqGzFormat\n",
      "  File \"/opt/conda/lib/python3.9/site-packages/q2_types/per_sample_sequences/__init__.py\", line 31, in <module>\n",
      "    from ._type import (Sequences, SequencesWithQuality,\n",
      "  File \"/opt/conda/lib/python3.9/site-packages/q2_types/per_sample_sequences/_type.py\", line 13, in <module>\n",
      "    from ..genome_data import SeedOrthologDirFmt\n",
      "  File \"/opt/conda/lib/python3.9/site-packages/q2_types/genome_data/__init__.py\", line 15, in <module>\n",
      "    from ._transformer import IntervalMetadataIterator\n",
      "  File \"/opt/conda/lib/python3.9/site-packages/q2_types/genome_data/_transformer.py\", line 14, in <module>\n",
      "    from skbio.io import read\n",
      "ImportError: cannot import name 'read' from 'skbio.io' (unknown location)\n"
     ]
    }
   ],
   "source": [
    "! qiime diversity alpha-group-significance \\\n",
    "  --i-alpha-diversity $data_dir_div/core_metrics_results/faith_pd_vector.qza \\\n",
    "  --m-metadata-file $data_dir/pundemic_metadata.tsv \\\n",
    "  --o-visualization $data_dir_div/core_metrics_results/faith_pd_group_significance.qzv"
   ]
  },
  {
   "cell_type": "code",
   "execution_count": 7,
   "id": "235aeedb-4a50-4cfe-90a5-1f00369455ec",
   "metadata": {
    "tags": []
   },
   "outputs": [
    {
     "data": {
      "text/html": [
       "<div><img onload=\"(function(div, url){\n",
       "if (typeof require !== 'undefined') {\n",
       "    var baseURL = require.toUrl('').split('/').slice(0, -2).join('/');\n",
       "} else {\n",
       "    var baseURL = JSON.parse(\n",
       "        document.getElementById('jupyter-config-data').innerHTML\n",
       "    ).baseUrl.slice(0, -1);\n",
       "}\n",
       "url = baseURL + url;\n",
       "fetch(url).then(function(res) {\n",
       "    if (res.status === 404) {\n",
       "        div.innerHTML = 'Install QIIME 2 Jupyter extension with:<br />' +\n",
       "                        '<code>jupyter serverextension enable --py qiime2' +\n",
       "                        ' --sys-prefix</code><br />then restart your server.' +\n",
       "                        '<br /><br />(Interactive output not available on ' +\n",
       "                        'static notebook viewer services like nbviewer.)';\n",
       "    } else if (res.status === 409) {\n",
       "        div.innerHTML = 'Visualization no longer in scope. Re-run this cell' +\n",
       "                        ' to see the visualization.';\n",
       "    } else if (res.ok) {\n",
       "        url = res.url;\n",
       "        div.innerHTML = '<iframe src=\\'' + url + '\\' style=\\'' +\n",
       "                        'width: 100%; height: 700px; border: 0;\\'>' +\n",
       "                        '</iframe><hr />Open in a: <a href=\\'' + url + '\\'' +\n",
       "                        ' target=\\'_blank\\'>new window</a>'\n",
       "    } else {\n",
       "        div.innerHTML = 'Something has gone wrong. Check notebook server for' +\n",
       "                        ' errors.';\n",
       "    }\n",
       "});\n",
       "})(this.parentElement, '/qiime2/redirect?location=/tmp/qiime2/jovyan/data/587086e3-04d8-458e-b7b7-5bf9df772b6d')\" src=\"data:image/gif;base64,R0lGODlhAQABAIAAAP///wAAACH5BAEAAAAALAAAAAABAAEAAAICRAEAOw==\" /></div>"
      ],
      "text/plain": [
       "<visualization: Visualization uuid: 587086e3-04d8-458e-b7b7-5bf9df772b6d>"
      ]
     },
     "execution_count": 7,
     "metadata": {},
     "output_type": "execute_result"
    }
   ],
   "source": [
    "Visualization.load(f\"{data_dir_div}/core_metrics_results/faith_pd_group_significance.qzv\")"
   ]
  },
  {
   "cell_type": "markdown",
   "id": "3f00e6e9-0816-4619-9944-566d797fbe87",
   "metadata": {},
   "source": [
    "Next, we will test whether numeric sample metadata columns are correlated with microbial community richness by using the qiime diversity alpha-correlation method (implementation of Spearman correlation):"
   ]
  },
  {
   "cell_type": "code",
   "execution_count": 8,
   "id": "f609fe10-3c13-4777-b399-12b82c559c58",
   "metadata": {
    "tags": []
   },
   "outputs": [
    {
     "data": {
      "text/plain": [
       "id                               object\n",
       "patient_id                       object\n",
       "age                              object\n",
       "sex                              object\n",
       "ethnicity                        object\n",
       "continent                        object\n",
       "country                          object\n",
       "region                           object\n",
       "city                             object\n",
       "group                            object\n",
       "disease_subgroup                 object\n",
       "blinded_clinical_response        object\n",
       "puns_per_hour_pre_treatment     float64\n",
       "puns_per_hour_post_treatment    float64\n",
       "time_point                       object\n",
       "dtype: object"
      ]
     },
     "execution_count": 8,
     "metadata": {},
     "output_type": "execute_result"
    }
   ],
   "source": [
    "#make metadata columns numeric\n",
    "metadata = pd.read_csv(f\"{data_dir}/pundemic_metadata.tsv\", sep='\\t')\n",
    "metadata.dtypes"
   ]
  },
  {
   "cell_type": "code",
   "execution_count": 9,
   "id": "46e1e241-ef1f-44b8-bb27-4d3aeb2e0e2a",
   "metadata": {
    "tags": []
   },
   "outputs": [
    {
     "data": {
      "text/plain": [
       "id                               object\n",
       "patient_id                      float64\n",
       "age                             float64\n",
       "sex                              object\n",
       "ethnicity                        object\n",
       "continent                        object\n",
       "country                          object\n",
       "region                           object\n",
       "city                             object\n",
       "group                            object\n",
       "disease_subgroup                 object\n",
       "blinded_clinical_response        object\n",
       "puns_per_hour_pre_treatment     float64\n",
       "puns_per_hour_post_treatment    float64\n",
       "time_point                       object\n",
       "dtype: object"
      ]
     },
     "execution_count": 9,
     "metadata": {},
     "output_type": "execute_result"
    }
   ],
   "source": [
    "metadata['age'] = pd.to_numeric(metadata['age'], errors = 'coerce')\n",
    "metadata['patient_id'] = pd.to_numeric(metadata['patient_id'], errors = 'coerce')\n",
    "metadata.dtypes"
   ]
  },
  {
   "cell_type": "code",
   "execution_count": 10,
   "id": "ee5b23a8-c42a-437b-bbc3-f99396f2e7b4",
   "metadata": {
    "tags": []
   },
   "outputs": [],
   "source": [
    "metadata.to_csv(f'{data_dir}/pundemic_metadata_numeric.tsv', sep='\\t', index=False)"
   ]
  },
  {
   "cell_type": "code",
   "execution_count": 11,
   "id": "9afdb3ac-03b5-4f8c-9465-3b5dccb2defd",
   "metadata": {
    "tags": []
   },
   "outputs": [
    {
     "name": "stdout",
     "output_type": "stream",
     "text": [
      "\u001b[33mQIIME is caching your current deployment for improved performance. This may take a few moments and should only happen once per deployment.\u001b[0m\n",
      "\u001b[32mSaved Visualization to: data/diversity/core_metrics_results/faith_pd_group_significance_numeric.qzv\u001b[0m\n",
      "\u001b[0m"
     ]
    }
   ],
   "source": [
    "! qiime diversity alpha-correlation \\\n",
    "  --i-alpha-diversity $data_dir_div/core_metrics_results/faith_pd_vector.qza \\\n",
    "  --m-metadata-file $data_dir/pundemic_metadata_numeric.tsv \\\n",
    "  --o-visualization  $data_dir_div/core_metrics_results/faith_pd_group_significance_numeric.qzv"
   ]
  },
  {
   "cell_type": "code",
   "execution_count": 12,
   "id": "caffd607-e041-4939-8873-706705a976c6",
   "metadata": {},
   "outputs": [
    {
     "data": {
      "text/html": [
       "<div><img onload=\"(function(div, url){\n",
       "if (typeof require !== 'undefined') {\n",
       "    var baseURL = require.toUrl('').split('/').slice(0, -2).join('/');\n",
       "} else {\n",
       "    var baseURL = JSON.parse(\n",
       "        document.getElementById('jupyter-config-data').innerHTML\n",
       "    ).baseUrl.slice(0, -1);\n",
       "}\n",
       "url = baseURL + url;\n",
       "fetch(url).then(function(res) {\n",
       "    if (res.status === 404) {\n",
       "        div.innerHTML = 'Install QIIME 2 Jupyter extension with:<br />' +\n",
       "                        '<code>jupyter serverextension enable --py qiime2' +\n",
       "                        ' --sys-prefix</code><br />then restart your server.' +\n",
       "                        '<br /><br />(Interactive output not available on ' +\n",
       "                        'static notebook viewer services like nbviewer.)';\n",
       "    } else if (res.status === 409) {\n",
       "        div.innerHTML = 'Visualization no longer in scope. Re-run this cell' +\n",
       "                        ' to see the visualization.';\n",
       "    } else if (res.ok) {\n",
       "        url = res.url;\n",
       "        div.innerHTML = '<iframe src=\\'' + url + '\\' style=\\'' +\n",
       "                        'width: 100%; height: 700px; border: 0;\\'>' +\n",
       "                        '</iframe><hr />Open in a: <a href=\\'' + url + '\\'' +\n",
       "                        ' target=\\'_blank\\'>new window</a>'\n",
       "    } else {\n",
       "        div.innerHTML = 'Something has gone wrong. Check notebook server for' +\n",
       "                        ' errors.';\n",
       "    }\n",
       "});\n",
       "})(this.parentElement, '/qiime2/redirect?location=/tmp/qiime2/jovyan/data/05a2ca27-ac0c-4932-9d8f-322251a54f8f')\" src=\"data:image/gif;base64,R0lGODlhAQABAIAAAP///wAAACH5BAEAAAAALAAAAAABAAEAAAICRAEAOw==\" /></div>"
      ],
      "text/plain": [
       "<visualization: Visualization uuid: 05a2ca27-ac0c-4932-9d8f-322251a54f8f>"
      ]
     },
     "execution_count": 12,
     "metadata": {},
     "output_type": "execute_result"
    }
   ],
   "source": [
    "Visualization.load(f\"{data_dir_div}/core_metrics_results/faith_pd_group_significance_numeric.qzv\")"
   ]
  },
  {
   "cell_type": "code",
   "execution_count": null,
   "id": "1cabeb30-cbb2-4594-9f1a-79d760f74454",
   "metadata": {},
   "outputs": [],
   "source": []
  },
  {
   "cell_type": "code",
   "execution_count": null,
   "id": "ef071f7f-e49b-46fb-bb2f-12190f2fd74b",
   "metadata": {},
   "outputs": [],
   "source": []
  }
 ],
 "metadata": {
  "kernelspec": {
   "display_name": "QIIME 2",
   "language": "python",
   "name": "python3"
  },
  "language_info": {
   "codemirror_mode": {
    "name": "ipython",
    "version": 3
   },
   "file_extension": ".py",
   "mimetype": "text/x-python",
   "name": "python",
   "nbconvert_exporter": "python",
   "pygments_lexer": "ipython3",
   "version": "3.9.19"
  }
 },
 "nbformat": 4,
 "nbformat_minor": 5
}
