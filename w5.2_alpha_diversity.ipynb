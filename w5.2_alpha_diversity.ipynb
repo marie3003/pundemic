{
 "cells": [
  {
   "cell_type": "markdown",
   "id": "fc95c31e-02a8-4aeb-a614-0ece29547be4",
   "metadata": {},
   "source": [
    "# Alpha Diversity Analysis"
   ]
  },
  {
   "cell_type": "markdown",
   "id": "39b807f4-ddf1-4616-94dd-f3c51d64b6da",
   "metadata": {},
   "source": [
    "## Import Libraries"
   ]
  },
  {
   "cell_type": "code",
   "execution_count": 1,
   "id": "1ef964cc-1e9e-4540-930a-242247e56031",
   "metadata": {
    "tags": []
   },
   "outputs": [],
   "source": [
    "import os\n",
    "import pandas as pd\n",
    "import qiime2 as q2\n",
    "from qiime2 import Visualization\n",
    "\n",
    "%matplotlib inline\n",
    "\n",
    "data_dir = 'data'"
   ]
  },
  {
   "cell_type": "markdown",
   "id": "eef36e58-9612-4ae0-989e-eafc3bc533b8",
   "metadata": {},
   "source": [
    "## Alpha Rarefaction"
   ]
  },
  {
   "cell_type": "markdown",
   "id": "66f5ce7b-c728-4eca-ac7a-579265c99953",
   "metadata": {},
   "source": [
    "To perform rarefaction, we first need to decide which sampling depth is best suited for our dataset. For this, we will analyse how sampling depth impacts within-sample diversity estimates (= alpha diversity) with the alpha-rarefaction action. This action generates interactive alpha rarefaction curves for sequencing depths between min_depth and max_depth and computes 10 (default) rarefied tables with corresponding alpha diversity metrics at each sampling depth step."
   ]
  },
  {
   "cell_type": "code",
   "execution_count": null,
   "id": "4967fad7-a77d-449a-bad4-8d50f7177dc8",
   "metadata": {},
   "outputs": [],
   "source": [
    "#! qiime diversity alpha-rarefaction \\\n",
    "#    --i-table $data_dir/dada/dada2_rep_seq.qza \\\n",
    "#    --i-phylogeny $data_dir/insertion-tree.qza \\\n",
    "#    --p-max-depth 10000 \\\n",
    "#    --m-metadata-file $data_dir/metadata_proc.tsv \\\n",
    "#    --o-visualization $data_dir/alpha-rarefaction.qzv"
   ]
  }
 ],
 "metadata": {
  "kernelspec": {
   "display_name": "QIIME 2",
   "language": "python",
   "name": "python3"
  },
  "language_info": {
   "codemirror_mode": {
    "name": "ipython",
    "version": 3
   },
   "file_extension": ".py",
   "mimetype": "text/x-python",
   "name": "python",
   "nbconvert_exporter": "python",
   "pygments_lexer": "ipython3",
   "version": "3.9.19"
  }
 },
 "nbformat": 4,
 "nbformat_minor": 5
}
