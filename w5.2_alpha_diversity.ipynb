{
 "cells": [
  {
   "cell_type": "markdown",
   "id": "fc95c31e-02a8-4aeb-a614-0ece29547be4",
   "metadata": {},
   "source": [
    "# Alpha Diversity Analysis\n",
    "\n",
    "We will first test for associations between our categorical metadata columns and alpha diversity. Alpha diversity asks about the distribution of features within each sample, and once calculated for all samples can be used to test whether the per‐sample diversity differs across different conditions (e.g., samples obtained at different ages). The comparison makes no assumptions about the features that are shared between samples; two samples can have the same alpha diversity and not share any features."
   ]
  },
  {
   "cell_type": "markdown",
   "id": "39b807f4-ddf1-4616-94dd-f3c51d64b6da",
   "metadata": {},
   "source": [
    "## Import Libraries"
   ]
  },
  {
   "cell_type": "code",
   "execution_count": 50,
   "id": "1ef964cc-1e9e-4540-930a-242247e56031",
   "metadata": {
    "tags": []
   },
   "outputs": [],
   "source": [
    "import os\n",
    "import pandas as pd\n",
    "import qiime2 as q2\n",
    "from qiime2 import Visualization\n",
    "import numpy as np\n",
    "\n",
    "%matplotlib inline"
   ]
  },
  {
   "cell_type": "code",
   "execution_count": 2,
   "id": "2f8bc32e-8850-45fa-87df-2a5768ecc649",
   "metadata": {
    "tags": []
   },
   "outputs": [],
   "source": [
    "data_dir = 'data'\n",
    "data_dir_phyl = 'data/phylogeny'\n",
    "data_dir_div = 'data/alpha_diversity'"
   ]
  },
  {
   "cell_type": "markdown",
   "id": "eef36e58-9612-4ae0-989e-eafc3bc533b8",
   "metadata": {},
   "source": [
    "## Alpha Rarefaction"
   ]
  },
  {
   "cell_type": "markdown",
   "id": "66f5ce7b-c728-4eca-ac7a-579265c99953",
   "metadata": {},
   "source": [
    "To perform rarefaction, we first need to decide which sampling depth is best suited for our dataset. For this, we will analyse how sampling depth impacts within-sample diversity estimates (= alpha diversity) with the alpha-rarefaction action. This action generates interactive alpha rarefaction curves for sequencing depths between min_depth and max_depth and computes 10 (default) rarefied tables with corresponding alpha diversity metrics at each sampling depth step."
   ]
  },
  {
   "cell_type": "code",
   "execution_count": 57,
   "id": "4967fad7-a77d-449a-bad4-8d50f7177dc8",
   "metadata": {},
   "outputs": [
    {
     "name": "stdout",
     "output_type": "stream",
     "text": [
      "^C\n",
      "\n",
      "Aborted!\n"
     ]
    }
   ],
   "source": [
    "! qiime diversity alpha-rarefaction \\\n",
    "    --i-table $data_dir/closed_reference_cluster/cr90_feature_table.qza \\\n",
    "    --p-max-depth 10000 \\\n",
    "    --m-metadata-file $data_dir/pundemic_metadata.tsv \\\n",
    "    --o-visualization $data_dir_div/alpha_rarefaction.qzv\n",
    "\n",
    "#   --i-phylogeny $data_dir_phyl/fasttree_tree_rooted.qza \\"
   ]
  },
  {
   "cell_type": "code",
   "execution_count": 54,
   "id": "11541369-59ed-4f75-a055-0473c77d96ae",
   "metadata": {
    "collapsed": true,
    "jupyter": {
     "outputs_hidden": true
    },
    "tags": []
   },
   "outputs": [
    {
     "data": {
      "text/html": [
       "<div><img onload=\"(function(div, url){\n",
       "if (typeof require !== 'undefined') {\n",
       "    var baseURL = require.toUrl('').split('/').slice(0, -2).join('/');\n",
       "} else {\n",
       "    var baseURL = JSON.parse(\n",
       "        document.getElementById('jupyter-config-data').innerHTML\n",
       "    ).baseUrl.slice(0, -1);\n",
       "}\n",
       "url = baseURL + url;\n",
       "fetch(url).then(function(res) {\n",
       "    if (res.status === 404) {\n",
       "        div.innerHTML = 'Install QIIME 2 Jupyter extension with:<br />' +\n",
       "                        '<code>jupyter serverextension enable --py qiime2' +\n",
       "                        ' --sys-prefix</code><br />then restart your server.' +\n",
       "                        '<br /><br />(Interactive output not available on ' +\n",
       "                        'static notebook viewer services like nbviewer.)';\n",
       "    } else if (res.status === 409) {\n",
       "        div.innerHTML = 'Visualization no longer in scope. Re-run this cell' +\n",
       "                        ' to see the visualization.';\n",
       "    } else if (res.ok) {\n",
       "        url = res.url;\n",
       "        div.innerHTML = '<iframe src=\\'' + url + '\\' style=\\'' +\n",
       "                        'width: 100%; height: 700px; border: 0;\\'>' +\n",
       "                        '</iframe><hr />Open in a: <a href=\\'' + url + '\\'' +\n",
       "                        ' target=\\'_blank\\'>new window</a>'\n",
       "    } else {\n",
       "        div.innerHTML = 'Something has gone wrong. Check notebook server for' +\n",
       "                        ' errors.';\n",
       "    }\n",
       "});\n",
       "})(this.parentElement, '/qiime2/redirect?location=/tmp/qiime2/jovyan/data/3f6cc54f-1b99-416c-9c1f-b2c921e61557')\" src=\"data:image/gif;base64,R0lGODlhAQABAIAAAP///wAAACH5BAEAAAAALAAAAAABAAEAAAICRAEAOw==\" /></div>"
      ],
      "text/plain": [
       "<visualization: Visualization uuid: 3f6cc54f-1b99-416c-9c1f-b2c921e61557>"
      ]
     },
     "execution_count": 54,
     "metadata": {},
     "output_type": "execute_result"
    }
   ],
   "source": [
    "Visualization.load(f\"{data_dir_div}/alpha_rarefaction.qzv\")"
   ]
  },
  {
   "cell_type": "markdown",
   "id": "1837a40b-c496-4712-9def-21643ffd2fb8",
   "metadata": {},
   "source": [
    "## Diversity Analysis\n",
    "Applies a collection of diversity metrics (non-phylogenetic) to a feature\n",
    "table. For alpha diversity three metrics are important: \n",
    "- Shannon Entropy: a quantitative measure of community richness\n",
    "- Pielou Evenness: a measure of community evenness\n",
    "- observed features: a quantitative measure of community richness, called “observed OTUs” here for historical reasons"
   ]
  },
  {
   "cell_type": "code",
   "execution_count": 79,
   "id": "cefc97cf-24eb-4c13-bc64-793e825df550",
   "metadata": {
    "tags": []
   },
   "outputs": [
    {
     "name": "stdout",
     "output_type": "stream",
     "text": [
      "\u001b[32mSaved FeatureTable[Frequency] to: data/alpha_diversity/core_metrics_results/rarefied_table.qza\u001b[0m\n",
      "\u001b[32mSaved SampleData[AlphaDiversity] to: data/alpha_diversity/core_metrics_results/observed_features_vector.qza\u001b[0m\n",
      "\u001b[32mSaved SampleData[AlphaDiversity] to: data/alpha_diversity/core_metrics_results/shannon_vector.qza\u001b[0m\n",
      "\u001b[32mSaved SampleData[AlphaDiversity] to: data/alpha_diversity/core_metrics_results/evenness_vector.qza\u001b[0m\n",
      "\u001b[32mSaved DistanceMatrix to: data/alpha_diversity/core_metrics_results/jaccard_distance_matrix.qza\u001b[0m\n",
      "\u001b[32mSaved DistanceMatrix to: data/alpha_diversity/core_metrics_results/bray_curtis_distance_matrix.qza\u001b[0m\n",
      "\u001b[32mSaved PCoAResults to: data/alpha_diversity/core_metrics_results/jaccard_pcoa_results.qza\u001b[0m\n",
      "\u001b[32mSaved PCoAResults to: data/alpha_diversity/core_metrics_results/bray_curtis_pcoa_results.qza\u001b[0m\n",
      "\u001b[32mSaved Visualization to: data/alpha_diversity/core_metrics_results/jaccard_emperor.qzv\u001b[0m\n",
      "\u001b[32mSaved Visualization to: data/alpha_diversity/core_metrics_results/bray_curtis_emperor.qzv\u001b[0m\n",
      "\u001b[0m"
     ]
    }
   ],
   "source": [
    "! qiime diversity core-metrics \\\n",
    "  --i-table $data_dir/closed_reference_cluster/cr90_feature_table.qza \\\n",
    "  --m-metadata-file $data_dir/pundemic_metadata.tsv \\\n",
    "  --p-sampling-depth 3000 \\\n",
    "  --p-n-jobs 8 \\\n",
    "  --output-dir $data_dir_div/core_metrics_results"
   ]
  },
  {
   "cell_type": "code",
   "execution_count": 13,
   "id": "1c95edb0-1b9d-40ce-816a-210bbcddcd00",
   "metadata": {
    "tags": []
   },
   "outputs": [],
   "source": [
    "metadata = pd.read_csv(f\"{data_dir}/pundemic_metadata.tsv\", sep='\\t')"
   ]
  },
  {
   "cell_type": "markdown",
   "id": "a3f4ae15-a6e4-4298-9a61-c4ddb3f741f4",
   "metadata": {},
   "source": [
    "## Pairwise difference comparisons between time points\n",
    "When microbial data are collected at different timepoints, it is useful to examine dynamic changes in the microbial communities (longitudinal analysis). This Pairwise difference test determines whether the value of a specific metric changed significantly between pairs of paired samples (e.g., pre- and post-treatment)."
   ]
  },
  {
   "cell_type": "code",
   "execution_count": 55,
   "id": "0a06af92-2647-4088-a564-aa1e4ab38dc2",
   "metadata": {
    "tags": []
   },
   "outputs": [],
   "source": [
    "metadata['subgroup_response'] = metadata['disease_subgroup'] + \"_\" + metadata['blinded_clinical_response']\n",
    "metadata.age = metadata.age.replace('Unknown', np.nan)\n",
    "metadata.sex = metadata.sex.replace('Unknown', np.nan)\n",
    "metadata.to_csv(f'{data_dir}/pundemic_metadata_subgroup_response_all.tsv', sep='\\t', index=False)"
   ]
  },
  {
   "cell_type": "code",
   "execution_count": 15,
   "id": "96bd6183-79bc-497e-a1f9-37c4c77a3a20",
   "metadata": {
    "tags": []
   },
   "outputs": [
    {
     "name": "stdout",
     "output_type": "stream",
     "text": [
      "\u001b[32mExported data/alpha_diversity/core_metrics_results/shannon_vector.qza as AlphaDiversityDirectoryFormat to directory data/alpha_diversity/shannon\u001b[0m\n",
      "\u001b[0m"
     ]
    }
   ],
   "source": [
    "! qiime tools export \\\n",
    "  --input-path $data_dir_div/core_metrics_results/shannon_vector.qza \\\n",
    "  --output-path $data_dir_div/shannon"
   ]
  },
  {
   "cell_type": "code",
   "execution_count": 16,
   "id": "11f97adb-da1e-47ee-a866-306f55b770d3",
   "metadata": {
    "tags": []
   },
   "outputs": [
    {
     "name": "stdout",
     "output_type": "stream",
     "text": [
      "\u001b[32mExported data/alpha_diversity/core_metrics_results/evenness_vector.qza as AlphaDiversityDirectoryFormat to directory data/alpha_diversity/evenness\u001b[0m\n",
      "\u001b[0m"
     ]
    }
   ],
   "source": [
    "! qiime tools export \\\n",
    "  --input-path $data_dir_div/core_metrics_results/evenness_vector.qza \\\n",
    "  --output-path $data_dir_div/evenness"
   ]
  },
  {
   "cell_type": "code",
   "execution_count": 17,
   "id": "78a222b8-4f6f-4f67-a89c-616e8c827642",
   "metadata": {
    "tags": []
   },
   "outputs": [
    {
     "name": "stdout",
     "output_type": "stream",
     "text": [
      "\u001b[32mExported data/alpha_diversity/core_metrics_results/observed_features_vector.qza as AlphaDiversityDirectoryFormat to directory data/alpha_diversity/observed_features\u001b[0m\n",
      "\u001b[0m"
     ]
    }
   ],
   "source": [
    "! qiime tools export \\\n",
    "  --input-path $data_dir_div/core_metrics_results/observed_features_vector.qza \\\n",
    "  --output-path $data_dir_div/observed_features"
   ]
  },
  {
   "cell_type": "code",
   "execution_count": 21,
   "id": "3fdaf2b1-9047-4c81-bab4-55284f582517",
   "metadata": {
    "tags": []
   },
   "outputs": [],
   "source": [
    "shannon = pd.read_csv(f\"{data_dir_div}/shannon/alpha-diversity.tsv\", sep='\\t')\n",
    "evenness = pd.read_csv(f\"{data_dir_div}/evenness/alpha-diversity.tsv\", sep='\\t')\n",
    "observed_features = pd.read_csv(f\"{data_dir_div}/observed_features/alpha-diversity.tsv\", sep='\\t')"
   ]
  },
  {
   "cell_type": "code",
   "execution_count": 24,
   "id": "84daf28f-9ac5-43d4-a027-adcfa654f194",
   "metadata": {
    "tags": []
   },
   "outputs": [],
   "source": [
    "shannon.rename(columns = {shannon.columns[0]: \"id\"}, inplace = True)\n",
    "evenness.rename(columns = {evenness.columns[0]: \"id\"}, inplace = True)\n",
    "observed_features.rename(columns = {observed_features.columns[0]: \"id\"}, inplace = True)"
   ]
  },
  {
   "cell_type": "code",
   "execution_count": 25,
   "id": "1c8e1afc-d236-45c3-8249-2fa40db387da",
   "metadata": {
    "collapsed": true,
    "jupyter": {
     "outputs_hidden": true
    },
    "tags": []
   },
   "outputs": [
    {
     "data": {
      "text/html": [
       "<div>\n",
       "<style scoped>\n",
       "    .dataframe tbody tr th:only-of-type {\n",
       "        vertical-align: middle;\n",
       "    }\n",
       "\n",
       "    .dataframe tbody tr th {\n",
       "        vertical-align: top;\n",
       "    }\n",
       "\n",
       "    .dataframe thead th {\n",
       "        text-align: right;\n",
       "    }\n",
       "</style>\n",
       "<table border=\"1\" class=\"dataframe\">\n",
       "  <thead>\n",
       "    <tr style=\"text-align: right;\">\n",
       "      <th></th>\n",
       "      <th>id</th>\n",
       "      <th>shannon_entropy</th>\n",
       "      <th>pielou_evenness</th>\n",
       "      <th>observed_features</th>\n",
       "    </tr>\n",
       "  </thead>\n",
       "  <tbody>\n",
       "    <tr>\n",
       "      <th>0</th>\n",
       "      <td>SRR10505051</td>\n",
       "      <td>1.267043</td>\n",
       "      <td>0.366257</td>\n",
       "      <td>11</td>\n",
       "    </tr>\n",
       "    <tr>\n",
       "      <th>1</th>\n",
       "      <td>SRR10505052</td>\n",
       "      <td>0.971329</td>\n",
       "      <td>0.217814</td>\n",
       "      <td>22</td>\n",
       "    </tr>\n",
       "    <tr>\n",
       "      <th>2</th>\n",
       "      <td>SRR10505053</td>\n",
       "      <td>0.312109</td>\n",
       "      <td>0.073473</td>\n",
       "      <td>19</td>\n",
       "    </tr>\n",
       "    <tr>\n",
       "      <th>3</th>\n",
       "      <td>SRR10505056</td>\n",
       "      <td>2.111094</td>\n",
       "      <td>0.460439</td>\n",
       "      <td>24</td>\n",
       "    </tr>\n",
       "    <tr>\n",
       "      <th>4</th>\n",
       "      <td>SRR10505057</td>\n",
       "      <td>1.607049</td>\n",
       "      <td>0.434286</td>\n",
       "      <td>13</td>\n",
       "    </tr>\n",
       "  </tbody>\n",
       "</table>\n",
       "</div>"
      ],
      "text/plain": [
       "            id  shannon_entropy  pielou_evenness  observed_features\n",
       "0  SRR10505051         1.267043         0.366257                 11\n",
       "1  SRR10505052         0.971329         0.217814                 22\n",
       "2  SRR10505053         0.312109         0.073473                 19\n",
       "3  SRR10505056         2.111094         0.460439                 24\n",
       "4  SRR10505057         1.607049         0.434286                 13"
      ]
     },
     "execution_count": 25,
     "metadata": {},
     "output_type": "execute_result"
    }
   ],
   "source": [
    "metrics = pd.merge(shannon, evenness, on = \"id\")\n",
    "metrics = pd.merge(metrics, observed_features, on = \"id\")\n",
    "metrics.head()"
   ]
  },
  {
   "cell_type": "code",
   "execution_count": 26,
   "id": "f4b8c886-a9e6-48a9-9c9c-9d9a31f3004c",
   "metadata": {
    "tags": []
   },
   "outputs": [
    {
     "data": {
      "text/html": [
       "<div>\n",
       "<style scoped>\n",
       "    .dataframe tbody tr th:only-of-type {\n",
       "        vertical-align: middle;\n",
       "    }\n",
       "\n",
       "    .dataframe tbody tr th {\n",
       "        vertical-align: top;\n",
       "    }\n",
       "\n",
       "    .dataframe thead th {\n",
       "        text-align: right;\n",
       "    }\n",
       "</style>\n",
       "<table border=\"1\" class=\"dataframe\">\n",
       "  <thead>\n",
       "    <tr style=\"text-align: right;\">\n",
       "      <th></th>\n",
       "      <th>id</th>\n",
       "      <th>patient_id</th>\n",
       "      <th>age</th>\n",
       "      <th>sex</th>\n",
       "      <th>ethnicity</th>\n",
       "      <th>continent</th>\n",
       "      <th>country</th>\n",
       "      <th>region</th>\n",
       "      <th>city</th>\n",
       "      <th>group</th>\n",
       "      <th>disease_subgroup</th>\n",
       "      <th>blinded_clinical_response</th>\n",
       "      <th>puns_per_hour_pre_treatment</th>\n",
       "      <th>puns_per_hour_post_treatment</th>\n",
       "      <th>time_point</th>\n",
       "      <th>subgroup_response</th>\n",
       "      <th>shannon_entropy</th>\n",
       "      <th>pielou_evenness</th>\n",
       "      <th>observed_features</th>\n",
       "    </tr>\n",
       "  </thead>\n",
       "  <tbody>\n",
       "    <tr>\n",
       "      <th>0</th>\n",
       "      <td>SRR10505051</td>\n",
       "      <td>1048</td>\n",
       "      <td>36</td>\n",
       "      <td>female</td>\n",
       "      <td>Caucasian</td>\n",
       "      <td>Europe</td>\n",
       "      <td>Switzerland</td>\n",
       "      <td>Zurich</td>\n",
       "      <td>Zurich</td>\n",
       "      <td>Puns</td>\n",
       "      <td>Placebo</td>\n",
       "      <td>NR</td>\n",
       "      <td>9.0</td>\n",
       "      <td>8.0</td>\n",
       "      <td>post-treatment</td>\n",
       "      <td>Placebo_NR</td>\n",
       "      <td>1.267043</td>\n",
       "      <td>0.366257</td>\n",
       "      <td>11</td>\n",
       "    </tr>\n",
       "    <tr>\n",
       "      <th>1</th>\n",
       "      <td>SRR10505052</td>\n",
       "      <td>1048</td>\n",
       "      <td>36</td>\n",
       "      <td>female</td>\n",
       "      <td>Caucasian</td>\n",
       "      <td>Europe</td>\n",
       "      <td>Switzerland</td>\n",
       "      <td>Zurich</td>\n",
       "      <td>Zurich</td>\n",
       "      <td>Puns</td>\n",
       "      <td>Placebo</td>\n",
       "      <td>NR</td>\n",
       "      <td>9.0</td>\n",
       "      <td>8.0</td>\n",
       "      <td>pre-treatment</td>\n",
       "      <td>Placebo_NR</td>\n",
       "      <td>0.971329</td>\n",
       "      <td>0.217814</td>\n",
       "      <td>22</td>\n",
       "    </tr>\n",
       "    <tr>\n",
       "      <th>2</th>\n",
       "      <td>SRR10505053</td>\n",
       "      <td>1045</td>\n",
       "      <td>29</td>\n",
       "      <td>male</td>\n",
       "      <td>Caucasian</td>\n",
       "      <td>Europe</td>\n",
       "      <td>Switzerland</td>\n",
       "      <td>Zurich</td>\n",
       "      <td>Zurich</td>\n",
       "      <td>Puns</td>\n",
       "      <td>Placebo</td>\n",
       "      <td>Res</td>\n",
       "      <td>6.0</td>\n",
       "      <td>0.0</td>\n",
       "      <td>pre-treatment</td>\n",
       "      <td>Placebo_Res</td>\n",
       "      <td>0.312109</td>\n",
       "      <td>0.073473</td>\n",
       "      <td>19</td>\n",
       "    </tr>\n",
       "    <tr>\n",
       "      <th>3</th>\n",
       "      <td>SRR10505056</td>\n",
       "      <td>1044</td>\n",
       "      <td>34</td>\n",
       "      <td>male</td>\n",
       "      <td>Indian Subcontinental</td>\n",
       "      <td>Europe</td>\n",
       "      <td>Switzerland</td>\n",
       "      <td>Zurich</td>\n",
       "      <td>Zurich</td>\n",
       "      <td>Puns</td>\n",
       "      <td>Placebo</td>\n",
       "      <td>NaN</td>\n",
       "      <td>4.0</td>\n",
       "      <td>NaN</td>\n",
       "      <td>post-treatment</td>\n",
       "      <td>NaN</td>\n",
       "      <td>2.111094</td>\n",
       "      <td>0.460439</td>\n",
       "      <td>24</td>\n",
       "    </tr>\n",
       "    <tr>\n",
       "      <th>4</th>\n",
       "      <td>SRR10505057</td>\n",
       "      <td>1043</td>\n",
       "      <td>35</td>\n",
       "      <td>female</td>\n",
       "      <td>Caucasian</td>\n",
       "      <td>Europe</td>\n",
       "      <td>Switzerland</td>\n",
       "      <td>Zurich</td>\n",
       "      <td>Zurich</td>\n",
       "      <td>Puns</td>\n",
       "      <td>FMT</td>\n",
       "      <td>NR</td>\n",
       "      <td>9.0</td>\n",
       "      <td>6.0</td>\n",
       "      <td>post-treatment</td>\n",
       "      <td>FMT_NR</td>\n",
       "      <td>1.607049</td>\n",
       "      <td>0.434286</td>\n",
       "      <td>13</td>\n",
       "    </tr>\n",
       "  </tbody>\n",
       "</table>\n",
       "</div>"
      ],
      "text/plain": [
       "            id patient_id age     sex              ethnicity continent  \\\n",
       "0  SRR10505051       1048  36  female              Caucasian    Europe   \n",
       "1  SRR10505052       1048  36  female              Caucasian    Europe   \n",
       "2  SRR10505053       1045  29    male              Caucasian    Europe   \n",
       "3  SRR10505056       1044  34    male  Indian Subcontinental    Europe   \n",
       "4  SRR10505057       1043  35  female              Caucasian    Europe   \n",
       "\n",
       "       country  region    city group disease_subgroup  \\\n",
       "0  Switzerland  Zurich  Zurich  Puns          Placebo   \n",
       "1  Switzerland  Zurich  Zurich  Puns          Placebo   \n",
       "2  Switzerland  Zurich  Zurich  Puns          Placebo   \n",
       "3  Switzerland  Zurich  Zurich  Puns          Placebo   \n",
       "4  Switzerland  Zurich  Zurich  Puns              FMT   \n",
       "\n",
       "  blinded_clinical_response  puns_per_hour_pre_treatment  \\\n",
       "0                        NR                          9.0   \n",
       "1                        NR                          9.0   \n",
       "2                       Res                          6.0   \n",
       "3                       NaN                          4.0   \n",
       "4                        NR                          9.0   \n",
       "\n",
       "   puns_per_hour_post_treatment      time_point subgroup_response  \\\n",
       "0                           8.0  post-treatment        Placebo_NR   \n",
       "1                           8.0   pre-treatment        Placebo_NR   \n",
       "2                           0.0   pre-treatment       Placebo_Res   \n",
       "3                           NaN  post-treatment               NaN   \n",
       "4                           6.0  post-treatment            FMT_NR   \n",
       "\n",
       "   shannon_entropy  pielou_evenness  observed_features  \n",
       "0         1.267043         0.366257                 11  \n",
       "1         0.971329         0.217814                 22  \n",
       "2         0.312109         0.073473                 19  \n",
       "3         2.111094         0.460439                 24  \n",
       "4         1.607049         0.434286                 13  "
      ]
     },
     "execution_count": 26,
     "metadata": {},
     "output_type": "execute_result"
    }
   ],
   "source": [
    "metadata = pd.merge(metadata, metrics, on = \"id\")\n",
    "metadata.head()"
   ]
  },
  {
   "cell_type": "markdown",
   "id": "36e5fe02-b9fb-48ce-8f9f-7338bf6abcdd",
   "metadata": {},
   "source": [
    "There was only one patient with placebo response in our metadata, where sadly the post-treatment sample got filtered out at the 3000 cut in the rarefaction step:\n",
    "\n",
    "State post-treatment is not represented by any members of Placebo_Res group in metadata. Consider using a different group_column or state value.\n",
    "So we need to filter out the \"subgroup_response != \"Placebo_Res\"\""
   ]
  },
  {
   "cell_type": "code",
   "execution_count": 27,
   "id": "a8a470e2-a49d-4bf5-804f-6ca2983ffd4d",
   "metadata": {
    "collapsed": true,
    "jupyter": {
     "outputs_hidden": true
    },
    "tags": []
   },
   "outputs": [
    {
     "data": {
      "text/html": [
       "<div>\n",
       "<style scoped>\n",
       "    .dataframe tbody tr th:only-of-type {\n",
       "        vertical-align: middle;\n",
       "    }\n",
       "\n",
       "    .dataframe tbody tr th {\n",
       "        vertical-align: top;\n",
       "    }\n",
       "\n",
       "    .dataframe thead th {\n",
       "        text-align: right;\n",
       "    }\n",
       "</style>\n",
       "<table border=\"1\" class=\"dataframe\">\n",
       "  <thead>\n",
       "    <tr style=\"text-align: right;\">\n",
       "      <th></th>\n",
       "      <th>id</th>\n",
       "      <th>patient_id</th>\n",
       "      <th>age</th>\n",
       "      <th>sex</th>\n",
       "      <th>ethnicity</th>\n",
       "      <th>continent</th>\n",
       "      <th>country</th>\n",
       "      <th>region</th>\n",
       "      <th>city</th>\n",
       "      <th>group</th>\n",
       "      <th>disease_subgroup</th>\n",
       "      <th>blinded_clinical_response</th>\n",
       "      <th>puns_per_hour_pre_treatment</th>\n",
       "      <th>puns_per_hour_post_treatment</th>\n",
       "      <th>time_point</th>\n",
       "      <th>subgroup_response</th>\n",
       "      <th>shannon_entropy</th>\n",
       "      <th>pielou_evenness</th>\n",
       "      <th>observed_features</th>\n",
       "    </tr>\n",
       "  </thead>\n",
       "  <tbody>\n",
       "    <tr>\n",
       "      <th>0</th>\n",
       "      <td>SRR10505051</td>\n",
       "      <td>1048</td>\n",
       "      <td>36</td>\n",
       "      <td>female</td>\n",
       "      <td>Caucasian</td>\n",
       "      <td>Europe</td>\n",
       "      <td>Switzerland</td>\n",
       "      <td>Zurich</td>\n",
       "      <td>Zurich</td>\n",
       "      <td>Puns</td>\n",
       "      <td>Placebo</td>\n",
       "      <td>NR</td>\n",
       "      <td>9.0</td>\n",
       "      <td>8.0</td>\n",
       "      <td>post-treatment</td>\n",
       "      <td>Placebo_NR</td>\n",
       "      <td>1.267043</td>\n",
       "      <td>0.366257</td>\n",
       "      <td>11</td>\n",
       "    </tr>\n",
       "    <tr>\n",
       "      <th>1</th>\n",
       "      <td>SRR10505052</td>\n",
       "      <td>1048</td>\n",
       "      <td>36</td>\n",
       "      <td>female</td>\n",
       "      <td>Caucasian</td>\n",
       "      <td>Europe</td>\n",
       "      <td>Switzerland</td>\n",
       "      <td>Zurich</td>\n",
       "      <td>Zurich</td>\n",
       "      <td>Puns</td>\n",
       "      <td>Placebo</td>\n",
       "      <td>NR</td>\n",
       "      <td>9.0</td>\n",
       "      <td>8.0</td>\n",
       "      <td>pre-treatment</td>\n",
       "      <td>Placebo_NR</td>\n",
       "      <td>0.971329</td>\n",
       "      <td>0.217814</td>\n",
       "      <td>22</td>\n",
       "    </tr>\n",
       "    <tr>\n",
       "      <th>4</th>\n",
       "      <td>SRR10505057</td>\n",
       "      <td>1043</td>\n",
       "      <td>35</td>\n",
       "      <td>female</td>\n",
       "      <td>Caucasian</td>\n",
       "      <td>Europe</td>\n",
       "      <td>Switzerland</td>\n",
       "      <td>Zurich</td>\n",
       "      <td>Zurich</td>\n",
       "      <td>Puns</td>\n",
       "      <td>FMT</td>\n",
       "      <td>NR</td>\n",
       "      <td>9.0</td>\n",
       "      <td>6.0</td>\n",
       "      <td>post-treatment</td>\n",
       "      <td>FMT_NR</td>\n",
       "      <td>1.607049</td>\n",
       "      <td>0.434286</td>\n",
       "      <td>13</td>\n",
       "    </tr>\n",
       "    <tr>\n",
       "      <th>5</th>\n",
       "      <td>SRR10505058</td>\n",
       "      <td>1043</td>\n",
       "      <td>35</td>\n",
       "      <td>female</td>\n",
       "      <td>Caucasian</td>\n",
       "      <td>Europe</td>\n",
       "      <td>Switzerland</td>\n",
       "      <td>Zurich</td>\n",
       "      <td>Zurich</td>\n",
       "      <td>Puns</td>\n",
       "      <td>FMT</td>\n",
       "      <td>NR</td>\n",
       "      <td>9.0</td>\n",
       "      <td>6.0</td>\n",
       "      <td>pre-treatment</td>\n",
       "      <td>FMT_NR</td>\n",
       "      <td>1.976768</td>\n",
       "      <td>0.425674</td>\n",
       "      <td>25</td>\n",
       "    </tr>\n",
       "    <tr>\n",
       "      <th>7</th>\n",
       "      <td>SRR10505060</td>\n",
       "      <td>1042</td>\n",
       "      <td>40</td>\n",
       "      <td>male</td>\n",
       "      <td>Caucasian</td>\n",
       "      <td>Europe</td>\n",
       "      <td>Switzerland</td>\n",
       "      <td>Zurich</td>\n",
       "      <td>Zurich</td>\n",
       "      <td>Puns</td>\n",
       "      <td>Placebo</td>\n",
       "      <td>NR</td>\n",
       "      <td>9.0</td>\n",
       "      <td>8.0</td>\n",
       "      <td>pre-treatment</td>\n",
       "      <td>Placebo_NR</td>\n",
       "      <td>1.008220</td>\n",
       "      <td>0.241784</td>\n",
       "      <td>18</td>\n",
       "    </tr>\n",
       "    <tr>\n",
       "      <th>...</th>\n",
       "      <td>...</td>\n",
       "      <td>...</td>\n",
       "      <td>...</td>\n",
       "      <td>...</td>\n",
       "      <td>...</td>\n",
       "      <td>...</td>\n",
       "      <td>...</td>\n",
       "      <td>...</td>\n",
       "      <td>...</td>\n",
       "      <td>...</td>\n",
       "      <td>...</td>\n",
       "      <td>...</td>\n",
       "      <td>...</td>\n",
       "      <td>...</td>\n",
       "      <td>...</td>\n",
       "      <td>...</td>\n",
       "      <td>...</td>\n",
       "      <td>...</td>\n",
       "      <td>...</td>\n",
       "    </tr>\n",
       "    <tr>\n",
       "      <th>77</th>\n",
       "      <td>SRR10505141</td>\n",
       "      <td>1001</td>\n",
       "      <td>57</td>\n",
       "      <td>female</td>\n",
       "      <td>Caucasian</td>\n",
       "      <td>Europe</td>\n",
       "      <td>Switzerland</td>\n",
       "      <td>Zurich</td>\n",
       "      <td>Zurich</td>\n",
       "      <td>Puns</td>\n",
       "      <td>FMT</td>\n",
       "      <td>Res</td>\n",
       "      <td>7.0</td>\n",
       "      <td>2.0</td>\n",
       "      <td>pre-treatment</td>\n",
       "      <td>FMT_Res</td>\n",
       "      <td>3.011957</td>\n",
       "      <td>0.685733</td>\n",
       "      <td>21</td>\n",
       "    </tr>\n",
       "    <tr>\n",
       "      <th>78</th>\n",
       "      <td>SRR10505142</td>\n",
       "      <td>1001</td>\n",
       "      <td>57</td>\n",
       "      <td>female</td>\n",
       "      <td>Caucasian</td>\n",
       "      <td>Europe</td>\n",
       "      <td>Switzerland</td>\n",
       "      <td>Zurich</td>\n",
       "      <td>Zurich</td>\n",
       "      <td>Puns</td>\n",
       "      <td>FMT</td>\n",
       "      <td>Res</td>\n",
       "      <td>7.0</td>\n",
       "      <td>2.0</td>\n",
       "      <td>post-treatment</td>\n",
       "      <td>FMT_Res</td>\n",
       "      <td>2.499077</td>\n",
       "      <td>0.578232</td>\n",
       "      <td>20</td>\n",
       "    </tr>\n",
       "    <tr>\n",
       "      <th>86</th>\n",
       "      <td>SRR10505153</td>\n",
       "      <td>2225</td>\n",
       "      <td>34</td>\n",
       "      <td>male</td>\n",
       "      <td>Caucasian</td>\n",
       "      <td>Europe</td>\n",
       "      <td>Switzerland</td>\n",
       "      <td>Zurich</td>\n",
       "      <td>Zurich</td>\n",
       "      <td>Puns</td>\n",
       "      <td>FMT</td>\n",
       "      <td>NR</td>\n",
       "      <td>6.0</td>\n",
       "      <td>5.0</td>\n",
       "      <td>pre-treatment</td>\n",
       "      <td>FMT_NR</td>\n",
       "      <td>0.198583</td>\n",
       "      <td>0.070737</td>\n",
       "      <td>7</td>\n",
       "    </tr>\n",
       "    <tr>\n",
       "      <th>87</th>\n",
       "      <td>SRR10505154</td>\n",
       "      <td>1024</td>\n",
       "      <td>Unknown</td>\n",
       "      <td>female</td>\n",
       "      <td>Caucasian</td>\n",
       "      <td>Europe</td>\n",
       "      <td>Switzerland</td>\n",
       "      <td>Zurich</td>\n",
       "      <td>Zurich</td>\n",
       "      <td>Puns</td>\n",
       "      <td>FMT</td>\n",
       "      <td>Res</td>\n",
       "      <td>8.0</td>\n",
       "      <td>0.0</td>\n",
       "      <td>post-treatment</td>\n",
       "      <td>FMT_Res</td>\n",
       "      <td>2.079506</td>\n",
       "      <td>0.466316</td>\n",
       "      <td>22</td>\n",
       "    </tr>\n",
       "    <tr>\n",
       "      <th>88</th>\n",
       "      <td>SRR10505155</td>\n",
       "      <td>1005</td>\n",
       "      <td>30</td>\n",
       "      <td>female</td>\n",
       "      <td>Caucasian</td>\n",
       "      <td>Europe</td>\n",
       "      <td>Switzerland</td>\n",
       "      <td>Zurich</td>\n",
       "      <td>Zurich</td>\n",
       "      <td>Puns</td>\n",
       "      <td>Placebo</td>\n",
       "      <td>NR</td>\n",
       "      <td>8.0</td>\n",
       "      <td>8.0</td>\n",
       "      <td>pre-treatment</td>\n",
       "      <td>Placebo_NR</td>\n",
       "      <td>1.920086</td>\n",
       "      <td>0.380638</td>\n",
       "      <td>33</td>\n",
       "    </tr>\n",
       "  </tbody>\n",
       "</table>\n",
       "<p>66 rows × 19 columns</p>\n",
       "</div>"
      ],
      "text/plain": [
       "             id patient_id      age     sex  ethnicity continent      country  \\\n",
       "0   SRR10505051       1048       36  female  Caucasian    Europe  Switzerland   \n",
       "1   SRR10505052       1048       36  female  Caucasian    Europe  Switzerland   \n",
       "4   SRR10505057       1043       35  female  Caucasian    Europe  Switzerland   \n",
       "5   SRR10505058       1043       35  female  Caucasian    Europe  Switzerland   \n",
       "7   SRR10505060       1042       40    male  Caucasian    Europe  Switzerland   \n",
       "..          ...        ...      ...     ...        ...       ...          ...   \n",
       "77  SRR10505141       1001       57  female  Caucasian    Europe  Switzerland   \n",
       "78  SRR10505142       1001       57  female  Caucasian    Europe  Switzerland   \n",
       "86  SRR10505153       2225       34    male  Caucasian    Europe  Switzerland   \n",
       "87  SRR10505154       1024  Unknown  female  Caucasian    Europe  Switzerland   \n",
       "88  SRR10505155       1005       30  female  Caucasian    Europe  Switzerland   \n",
       "\n",
       "    region    city group disease_subgroup blinded_clinical_response  \\\n",
       "0   Zurich  Zurich  Puns          Placebo                        NR   \n",
       "1   Zurich  Zurich  Puns          Placebo                        NR   \n",
       "4   Zurich  Zurich  Puns              FMT                        NR   \n",
       "5   Zurich  Zurich  Puns              FMT                        NR   \n",
       "7   Zurich  Zurich  Puns          Placebo                        NR   \n",
       "..     ...     ...   ...              ...                       ...   \n",
       "77  Zurich  Zurich  Puns              FMT                       Res   \n",
       "78  Zurich  Zurich  Puns              FMT                       Res   \n",
       "86  Zurich  Zurich  Puns              FMT                        NR   \n",
       "87  Zurich  Zurich  Puns              FMT                       Res   \n",
       "88  Zurich  Zurich  Puns          Placebo                        NR   \n",
       "\n",
       "    puns_per_hour_pre_treatment  puns_per_hour_post_treatment      time_point  \\\n",
       "0                           9.0                           8.0  post-treatment   \n",
       "1                           9.0                           8.0   pre-treatment   \n",
       "4                           9.0                           6.0  post-treatment   \n",
       "5                           9.0                           6.0   pre-treatment   \n",
       "7                           9.0                           8.0   pre-treatment   \n",
       "..                          ...                           ...             ...   \n",
       "77                          7.0                           2.0   pre-treatment   \n",
       "78                          7.0                           2.0  post-treatment   \n",
       "86                          6.0                           5.0   pre-treatment   \n",
       "87                          8.0                           0.0  post-treatment   \n",
       "88                          8.0                           8.0   pre-treatment   \n",
       "\n",
       "   subgroup_response  shannon_entropy  pielou_evenness  observed_features  \n",
       "0         Placebo_NR         1.267043         0.366257                 11  \n",
       "1         Placebo_NR         0.971329         0.217814                 22  \n",
       "4             FMT_NR         1.607049         0.434286                 13  \n",
       "5             FMT_NR         1.976768         0.425674                 25  \n",
       "7         Placebo_NR         1.008220         0.241784                 18  \n",
       "..               ...              ...              ...                ...  \n",
       "77           FMT_Res         3.011957         0.685733                 21  \n",
       "78           FMT_Res         2.499077         0.578232                 20  \n",
       "86            FMT_NR         0.198583         0.070737                  7  \n",
       "87           FMT_Res         2.079506         0.466316                 22  \n",
       "88        Placebo_NR         1.920086         0.380638                 33  \n",
       "\n",
       "[66 rows x 19 columns]"
      ]
     },
     "execution_count": 27,
     "metadata": {},
     "output_type": "execute_result"
    }
   ],
   "source": [
    "metadata_filtered = metadata[metadata.subgroup_response.notna()]\n",
    "metadata_filtered = metadata_filtered[metadata_filtered.subgroup_response != \"Placebo_Res\"]\n",
    "metadata_filtered.to_csv(f'{data_dir}/pundemic_metadata_subgroup_response.tsv', sep='\\t', index=False)\n",
    "metadata_filtered"
   ]
  },
  {
   "cell_type": "markdown",
   "id": "0cb2e272-eda4-4528-a1e6-5999760a5a41",
   "metadata": {},
   "source": [
    "### Shannon Entropy"
   ]
  },
  {
   "cell_type": "code",
   "execution_count": 31,
   "id": "def599f7-ad16-4821-be10-3fc87da0da19",
   "metadata": {
    "tags": []
   },
   "outputs": [
    {
     "name": "stdout",
     "output_type": "stream",
     "text": [
      "\u001b[32mSaved Visualization to: data/alpha_diversity/shannon-pairwise-differences.qzv\u001b[0m\n",
      "\u001b[0m"
     ]
    }
   ],
   "source": [
    "! qiime longitudinal pairwise-differences \\\n",
    "  --m-metadata-file $data_dir/pundemic_metadata_subgroup_response.tsv \\\n",
    "  --p-metric shannon_entropy \\\n",
    "  --p-group-column subgroup_response \\\n",
    "  --p-state-column time_point \\\n",
    "  --p-state-1 pre-treatment \\\n",
    "  --p-state-2 post-treatment \\\n",
    "  --p-individual-id-column patient_id \\\n",
    "  --p-replicate-handling random \\\n",
    "  --o-visualization $data_dir_div/shannon-pairwise-differences.qzv"
   ]
  },
  {
   "cell_type": "code",
   "execution_count": 32,
   "id": "abdf6091-a15d-444f-86da-5451e46a3db4",
   "metadata": {
    "collapsed": true,
    "jupyter": {
     "outputs_hidden": true
    },
    "tags": []
   },
   "outputs": [
    {
     "data": {
      "text/html": [
       "<div><img onload=\"(function(div, url){\n",
       "if (typeof require !== 'undefined') {\n",
       "    var baseURL = require.toUrl('').split('/').slice(0, -2).join('/');\n",
       "} else {\n",
       "    var baseURL = JSON.parse(\n",
       "        document.getElementById('jupyter-config-data').innerHTML\n",
       "    ).baseUrl.slice(0, -1);\n",
       "}\n",
       "url = baseURL + url;\n",
       "fetch(url).then(function(res) {\n",
       "    if (res.status === 404) {\n",
       "        div.innerHTML = 'Install QIIME 2 Jupyter extension with:<br />' +\n",
       "                        '<code>jupyter serverextension enable --py qiime2' +\n",
       "                        ' --sys-prefix</code><br />then restart your server.' +\n",
       "                        '<br /><br />(Interactive output not available on ' +\n",
       "                        'static notebook viewer services like nbviewer.)';\n",
       "    } else if (res.status === 409) {\n",
       "        div.innerHTML = 'Visualization no longer in scope. Re-run this cell' +\n",
       "                        ' to see the visualization.';\n",
       "    } else if (res.ok) {\n",
       "        url = res.url;\n",
       "        div.innerHTML = '<iframe src=\\'' + url + '\\' style=\\'' +\n",
       "                        'width: 100%; height: 700px; border: 0;\\'>' +\n",
       "                        '</iframe><hr />Open in a: <a href=\\'' + url + '\\'' +\n",
       "                        ' target=\\'_blank\\'>new window</a>'\n",
       "    } else {\n",
       "        div.innerHTML = 'Something has gone wrong. Check notebook server for' +\n",
       "                        ' errors.';\n",
       "    }\n",
       "});\n",
       "})(this.parentElement, '/qiime2/redirect?location=/tmp/qiime2/jovyan/data/c7ecc5a5-f4ea-4636-b79b-50db3fb59eb3')\" src=\"data:image/gif;base64,R0lGODlhAQABAIAAAP///wAAACH5BAEAAAAALAAAAAABAAEAAAICRAEAOw==\" /></div>"
      ],
      "text/plain": [
       "<visualization: Visualization uuid: c7ecc5a5-f4ea-4636-b79b-50db3fb59eb3>"
      ]
     },
     "execution_count": 32,
     "metadata": {},
     "output_type": "execute_result"
    }
   ],
   "source": [
    "Visualization.load(f\"{data_dir_div}/shannon-pairwise-differences.qzv\")"
   ]
  },
  {
   "cell_type": "markdown",
   "id": "378f221f-2822-4af8-b8f6-a254226f7426",
   "metadata": {},
   "source": [
    "### Pielou Evenness"
   ]
  },
  {
   "cell_type": "code",
   "execution_count": 33,
   "id": "55aae12e-7dfc-4ee1-8eeb-89b0406dc496",
   "metadata": {},
   "outputs": [
    {
     "name": "stdout",
     "output_type": "stream",
     "text": [
      "\u001b[32mSaved Visualization to: data/alpha_diversity/evenness-pairwise-differences.qzv\u001b[0m\n",
      "\u001b[0m"
     ]
    }
   ],
   "source": [
    "! qiime longitudinal pairwise-differences \\\n",
    "  --m-metadata-file $data_dir/pundemic_metadata_subgroup_response.tsv \\\n",
    "  --p-metric pielou_evenness \\\n",
    "  --p-group-column subgroup_response \\\n",
    "  --p-state-column time_point \\\n",
    "  --p-state-1 pre-treatment \\\n",
    "  --p-state-2 post-treatment \\\n",
    "  --p-individual-id-column patient_id \\\n",
    "  --p-replicate-handling random \\\n",
    "  --o-visualization $data_dir_div/evenness-pairwise-differences.qzv"
   ]
  },
  {
   "cell_type": "code",
   "execution_count": 35,
   "id": "02f86023-1d9f-44a2-a229-143b455a3675",
   "metadata": {
    "collapsed": true,
    "jupyter": {
     "outputs_hidden": true
    },
    "tags": []
   },
   "outputs": [
    {
     "data": {
      "text/html": [
       "<div><img onload=\"(function(div, url){\n",
       "if (typeof require !== 'undefined') {\n",
       "    var baseURL = require.toUrl('').split('/').slice(0, -2).join('/');\n",
       "} else {\n",
       "    var baseURL = JSON.parse(\n",
       "        document.getElementById('jupyter-config-data').innerHTML\n",
       "    ).baseUrl.slice(0, -1);\n",
       "}\n",
       "url = baseURL + url;\n",
       "fetch(url).then(function(res) {\n",
       "    if (res.status === 404) {\n",
       "        div.innerHTML = 'Install QIIME 2 Jupyter extension with:<br />' +\n",
       "                        '<code>jupyter serverextension enable --py qiime2' +\n",
       "                        ' --sys-prefix</code><br />then restart your server.' +\n",
       "                        '<br /><br />(Interactive output not available on ' +\n",
       "                        'static notebook viewer services like nbviewer.)';\n",
       "    } else if (res.status === 409) {\n",
       "        div.innerHTML = 'Visualization no longer in scope. Re-run this cell' +\n",
       "                        ' to see the visualization.';\n",
       "    } else if (res.ok) {\n",
       "        url = res.url;\n",
       "        div.innerHTML = '<iframe src=\\'' + url + '\\' style=\\'' +\n",
       "                        'width: 100%; height: 700px; border: 0;\\'>' +\n",
       "                        '</iframe><hr />Open in a: <a href=\\'' + url + '\\'' +\n",
       "                        ' target=\\'_blank\\'>new window</a>'\n",
       "    } else {\n",
       "        div.innerHTML = 'Something has gone wrong. Check notebook server for' +\n",
       "                        ' errors.';\n",
       "    }\n",
       "});\n",
       "})(this.parentElement, '/qiime2/redirect?location=/tmp/qiime2/jovyan/data/c9edda92-862d-420a-9daa-978e523536af')\" src=\"data:image/gif;base64,R0lGODlhAQABAIAAAP///wAAACH5BAEAAAAALAAAAAABAAEAAAICRAEAOw==\" /></div>"
      ],
      "text/plain": [
       "<visualization: Visualization uuid: c9edda92-862d-420a-9daa-978e523536af>"
      ]
     },
     "execution_count": 35,
     "metadata": {},
     "output_type": "execute_result"
    }
   ],
   "source": [
    "Visualization.load(f\"{data_dir_div}/evenness-pairwise-differences.qzv\")"
   ]
  },
  {
   "cell_type": "markdown",
   "id": "7c59bd0b-8655-46a0-b676-fb919ddbf433",
   "metadata": {},
   "source": [
    "### Observed Features"
   ]
  },
  {
   "cell_type": "code",
   "execution_count": 36,
   "id": "4dc65aad-a1e9-403e-a775-53a9e7d6e3d8",
   "metadata": {},
   "outputs": [
    {
     "name": "stdout",
     "output_type": "stream",
     "text": [
      "\u001b[32mSaved Visualization to: data/alpha_diversity/observed_features-pairwise-differences.qzv\u001b[0m\n",
      "\u001b[0m"
     ]
    }
   ],
   "source": [
    "! qiime longitudinal pairwise-differences \\\n",
    "  --m-metadata-file $data_dir/pundemic_metadata_subgroup_response.tsv \\\n",
    "  --p-metric observed_features \\\n",
    "  --p-group-column subgroup_response \\\n",
    "  --p-state-column time_point \\\n",
    "  --p-state-1 pre-treatment \\\n",
    "  --p-state-2 post-treatment \\\n",
    "  --p-individual-id-column patient_id \\\n",
    "  --p-replicate-handling random \\\n",
    "  --o-visualization $data_dir_div/observed_features-pairwise-differences.qzv"
   ]
  },
  {
   "cell_type": "code",
   "execution_count": 37,
   "id": "6000cc82-1755-409d-8d95-3eb36c76dd64",
   "metadata": {
    "collapsed": true,
    "jupyter": {
     "outputs_hidden": true
    },
    "tags": []
   },
   "outputs": [
    {
     "data": {
      "text/html": [
       "<div><img onload=\"(function(div, url){\n",
       "if (typeof require !== 'undefined') {\n",
       "    var baseURL = require.toUrl('').split('/').slice(0, -2).join('/');\n",
       "} else {\n",
       "    var baseURL = JSON.parse(\n",
       "        document.getElementById('jupyter-config-data').innerHTML\n",
       "    ).baseUrl.slice(0, -1);\n",
       "}\n",
       "url = baseURL + url;\n",
       "fetch(url).then(function(res) {\n",
       "    if (res.status === 404) {\n",
       "        div.innerHTML = 'Install QIIME 2 Jupyter extension with:<br />' +\n",
       "                        '<code>jupyter serverextension enable --py qiime2' +\n",
       "                        ' --sys-prefix</code><br />then restart your server.' +\n",
       "                        '<br /><br />(Interactive output not available on ' +\n",
       "                        'static notebook viewer services like nbviewer.)';\n",
       "    } else if (res.status === 409) {\n",
       "        div.innerHTML = 'Visualization no longer in scope. Re-run this cell' +\n",
       "                        ' to see the visualization.';\n",
       "    } else if (res.ok) {\n",
       "        url = res.url;\n",
       "        div.innerHTML = '<iframe src=\\'' + url + '\\' style=\\'' +\n",
       "                        'width: 100%; height: 700px; border: 0;\\'>' +\n",
       "                        '</iframe><hr />Open in a: <a href=\\'' + url + '\\'' +\n",
       "                        ' target=\\'_blank\\'>new window</a>'\n",
       "    } else {\n",
       "        div.innerHTML = 'Something has gone wrong. Check notebook server for' +\n",
       "                        ' errors.';\n",
       "    }\n",
       "});\n",
       "})(this.parentElement, '/qiime2/redirect?location=/tmp/qiime2/jovyan/data/1825908f-b177-4b26-ba11-5625c03d27b2')\" src=\"data:image/gif;base64,R0lGODlhAQABAIAAAP///wAAACH5BAEAAAAALAAAAAABAAEAAAICRAEAOw==\" /></div>"
      ],
      "text/plain": [
       "<visualization: Visualization uuid: 1825908f-b177-4b26-ba11-5625c03d27b2>"
      ]
     },
     "execution_count": 37,
     "metadata": {},
     "output_type": "execute_result"
    }
   ],
   "source": [
    "Visualization.load(f\"{data_dir_div}/observed_features-pairwise-differences.qzv\")"
   ]
  },
  {
   "cell_type": "markdown",
   "id": "7b23d73a-cec8-48d9-a601-a512124f52fa",
   "metadata": {},
   "source": [
    "There are no significant differences between the different groups (\"Pairwise group comparison tests\"). The same thing can be concluded from the Pairwise difference tests, which states that there are no significant differences between the pre- and post-treatment samples."
   ]
  },
  {
   "cell_type": "markdown",
   "id": "a70d34f7-40ac-4b0e-a480-ccecb35abe6a",
   "metadata": {},
   "source": [
    "## Diversity differences between categorical metadata \n",
    "The rarefied SampleData[AlphaDiversity] artifact produced in the above step contains univariate, continuous values and can be tested using common non‐parametric statistical test (e.g., Kruskal‐Wallis test) with the following command:"
   ]
  },
  {
   "cell_type": "code",
   "execution_count": 56,
   "id": "c8739205-c73f-49ce-a3fa-6b256d585547",
   "metadata": {
    "tags": []
   },
   "outputs": [
    {
     "name": "stdout",
     "output_type": "stream",
     "text": [
      "\u001b[32mSaved Visualization to: data/alpha_diversity/core_metrics_results/shannon_vector.qzv\u001b[0m\n",
      "\u001b[0m"
     ]
    }
   ],
   "source": [
    "! qiime diversity alpha-group-significance \\\n",
    "  --i-alpha-diversity $data_dir_div/core_metrics_results/shannon_vector.qza \\\n",
    "  --m-metadata-file $data_dir/pundemic_metadata_subgroup_response_all.tsv \\\n",
    "  --o-visualization $data_dir_div/core_metrics_results/shannon_vector.qzv"
   ]
  },
  {
   "cell_type": "code",
   "execution_count": 57,
   "id": "85b7be58-ea75-49d4-8829-24937cc8d48e",
   "metadata": {
    "collapsed": true,
    "jupyter": {
     "outputs_hidden": true
    },
    "tags": []
   },
   "outputs": [
    {
     "data": {
      "text/html": [
       "<div><img onload=\"(function(div, url){\n",
       "if (typeof require !== 'undefined') {\n",
       "    var baseURL = require.toUrl('').split('/').slice(0, -2).join('/');\n",
       "} else {\n",
       "    var baseURL = JSON.parse(\n",
       "        document.getElementById('jupyter-config-data').innerHTML\n",
       "    ).baseUrl.slice(0, -1);\n",
       "}\n",
       "url = baseURL + url;\n",
       "fetch(url).then(function(res) {\n",
       "    if (res.status === 404) {\n",
       "        div.innerHTML = 'Install QIIME 2 Jupyter extension with:<br />' +\n",
       "                        '<code>jupyter serverextension enable --py qiime2' +\n",
       "                        ' --sys-prefix</code><br />then restart your server.' +\n",
       "                        '<br /><br />(Interactive output not available on ' +\n",
       "                        'static notebook viewer services like nbviewer.)';\n",
       "    } else if (res.status === 409) {\n",
       "        div.innerHTML = 'Visualization no longer in scope. Re-run this cell' +\n",
       "                        ' to see the visualization.';\n",
       "    } else if (res.ok) {\n",
       "        url = res.url;\n",
       "        div.innerHTML = '<iframe src=\\'' + url + '\\' style=\\'' +\n",
       "                        'width: 100%; height: 700px; border: 0;\\'>' +\n",
       "                        '</iframe><hr />Open in a: <a href=\\'' + url + '\\'' +\n",
       "                        ' target=\\'_blank\\'>new window</a>'\n",
       "    } else {\n",
       "        div.innerHTML = 'Something has gone wrong. Check notebook server for' +\n",
       "                        ' errors.';\n",
       "    }\n",
       "});\n",
       "})(this.parentElement, '/qiime2/redirect?location=/tmp/qiime2/jovyan/data/795edf1c-da0c-499e-b0ff-30b0d4c96fb3')\" src=\"data:image/gif;base64,R0lGODlhAQABAIAAAP///wAAACH5BAEAAAAALAAAAAABAAEAAAICRAEAOw==\" /></div>"
      ],
      "text/plain": [
       "<visualization: Visualization uuid: 795edf1c-da0c-499e-b0ff-30b0d4c96fb3>"
      ]
     },
     "execution_count": 57,
     "metadata": {},
     "output_type": "execute_result"
    }
   ],
   "source": [
    "Visualization.load(f\"{data_dir_div}/core_metrics_results/shannon_vector.qzv\")"
   ]
  },
  {
   "cell_type": "code",
   "execution_count": 58,
   "id": "7c8d4b8d-a30e-4578-bd46-2d069562a00d",
   "metadata": {
    "tags": []
   },
   "outputs": [
    {
     "name": "stdout",
     "output_type": "stream",
     "text": [
      "\u001b[32mSaved Visualization to: data/alpha_diversity/core_metrics_results/evenness_vector.qzv\u001b[0m\n",
      "\u001b[0m"
     ]
    }
   ],
   "source": [
    "! qiime diversity alpha-group-significance \\\n",
    "  --i-alpha-diversity $data_dir_div/core_metrics_results/evenness_vector.qza \\\n",
    "  --m-metadata-file $data_dir/pundemic_metadata_subgroup_response_all.tsv \\\n",
    "  --o-visualization $data_dir_div/core_metrics_results/evenness_vector.qzv"
   ]
  },
  {
   "cell_type": "code",
   "execution_count": 59,
   "id": "e128c4c2-d74b-40f0-97ee-a4aa3e4bcb39",
   "metadata": {
    "collapsed": true,
    "jupyter": {
     "outputs_hidden": true
    },
    "tags": []
   },
   "outputs": [
    {
     "data": {
      "text/html": [
       "<div><img onload=\"(function(div, url){\n",
       "if (typeof require !== 'undefined') {\n",
       "    var baseURL = require.toUrl('').split('/').slice(0, -2).join('/');\n",
       "} else {\n",
       "    var baseURL = JSON.parse(\n",
       "        document.getElementById('jupyter-config-data').innerHTML\n",
       "    ).baseUrl.slice(0, -1);\n",
       "}\n",
       "url = baseURL + url;\n",
       "fetch(url).then(function(res) {\n",
       "    if (res.status === 404) {\n",
       "        div.innerHTML = 'Install QIIME 2 Jupyter extension with:<br />' +\n",
       "                        '<code>jupyter serverextension enable --py qiime2' +\n",
       "                        ' --sys-prefix</code><br />then restart your server.' +\n",
       "                        '<br /><br />(Interactive output not available on ' +\n",
       "                        'static notebook viewer services like nbviewer.)';\n",
       "    } else if (res.status === 409) {\n",
       "        div.innerHTML = 'Visualization no longer in scope. Re-run this cell' +\n",
       "                        ' to see the visualization.';\n",
       "    } else if (res.ok) {\n",
       "        url = res.url;\n",
       "        div.innerHTML = '<iframe src=\\'' + url + '\\' style=\\'' +\n",
       "                        'width: 100%; height: 700px; border: 0;\\'>' +\n",
       "                        '</iframe><hr />Open in a: <a href=\\'' + url + '\\'' +\n",
       "                        ' target=\\'_blank\\'>new window</a>'\n",
       "    } else {\n",
       "        div.innerHTML = 'Something has gone wrong. Check notebook server for' +\n",
       "                        ' errors.';\n",
       "    }\n",
       "});\n",
       "})(this.parentElement, '/qiime2/redirect?location=/tmp/qiime2/jovyan/data/c27957e3-bd3b-45aa-a127-6f78d1c8030c')\" src=\"data:image/gif;base64,R0lGODlhAQABAIAAAP///wAAACH5BAEAAAAALAAAAAABAAEAAAICRAEAOw==\" /></div>"
      ],
      "text/plain": [
       "<visualization: Visualization uuid: c27957e3-bd3b-45aa-a127-6f78d1c8030c>"
      ]
     },
     "execution_count": 59,
     "metadata": {},
     "output_type": "execute_result"
    }
   ],
   "source": [
    "Visualization.load(f\"{data_dir_div}/core_metrics_results/evenness_vector.qzv\")"
   ]
  },
  {
   "cell_type": "code",
   "execution_count": 60,
   "id": "d1a5f5f7-c3d8-4c9d-9886-e60380ac5f31",
   "metadata": {
    "tags": []
   },
   "outputs": [
    {
     "name": "stdout",
     "output_type": "stream",
     "text": [
      "\u001b[32mSaved Visualization to: data/alpha_diversity/core_metrics_results/observed_features_vector.qzv\u001b[0m\n",
      "\u001b[0m"
     ]
    }
   ],
   "source": [
    "! qiime diversity alpha-group-significance \\\n",
    "  --i-alpha-diversity $data_dir_div/core_metrics_results/observed_features_vector.qza \\\n",
    "  --m-metadata-file $data_dir/pundemic_metadata_subgroup_response_all.tsv \\\n",
    "  --o-visualization $data_dir_div/core_metrics_results/observed_features_vector.qzv"
   ]
  },
  {
   "cell_type": "code",
   "execution_count": 62,
   "id": "d22f2177-0bd8-4cdf-9803-a75f3dceaeb6",
   "metadata": {
    "collapsed": true,
    "jupyter": {
     "outputs_hidden": true
    },
    "tags": []
   },
   "outputs": [
    {
     "data": {
      "text/html": [
       "<div><img onload=\"(function(div, url){\n",
       "if (typeof require !== 'undefined') {\n",
       "    var baseURL = require.toUrl('').split('/').slice(0, -2).join('/');\n",
       "} else {\n",
       "    var baseURL = JSON.parse(\n",
       "        document.getElementById('jupyter-config-data').innerHTML\n",
       "    ).baseUrl.slice(0, -1);\n",
       "}\n",
       "url = baseURL + url;\n",
       "fetch(url).then(function(res) {\n",
       "    if (res.status === 404) {\n",
       "        div.innerHTML = 'Install QIIME 2 Jupyter extension with:<br />' +\n",
       "                        '<code>jupyter serverextension enable --py qiime2' +\n",
       "                        ' --sys-prefix</code><br />then restart your server.' +\n",
       "                        '<br /><br />(Interactive output not available on ' +\n",
       "                        'static notebook viewer services like nbviewer.)';\n",
       "    } else if (res.status === 409) {\n",
       "        div.innerHTML = 'Visualization no longer in scope. Re-run this cell' +\n",
       "                        ' to see the visualization.';\n",
       "    } else if (res.ok) {\n",
       "        url = res.url;\n",
       "        div.innerHTML = '<iframe src=\\'' + url + '\\' style=\\'' +\n",
       "                        'width: 100%; height: 700px; border: 0;\\'>' +\n",
       "                        '</iframe><hr />Open in a: <a href=\\'' + url + '\\'' +\n",
       "                        ' target=\\'_blank\\'>new window</a>'\n",
       "    } else {\n",
       "        div.innerHTML = 'Something has gone wrong. Check notebook server for' +\n",
       "                        ' errors.';\n",
       "    }\n",
       "});\n",
       "})(this.parentElement, '/qiime2/redirect?location=/tmp/qiime2/jovyan/data/d2c96005-530c-42f6-89be-5271be324f54')\" src=\"data:image/gif;base64,R0lGODlhAQABAIAAAP///wAAACH5BAEAAAAALAAAAAABAAEAAAICRAEAOw==\" /></div>"
      ],
      "text/plain": [
       "<visualization: Visualization uuid: d2c96005-530c-42f6-89be-5271be324f54>"
      ]
     },
     "execution_count": 62,
     "metadata": {},
     "output_type": "execute_result"
    }
   ],
   "source": [
    "Visualization.load(f\"{data_dir_div}/core_metrics_results/observed_features_vector.qzv\")"
   ]
  },
  {
   "cell_type": "markdown",
   "id": "8b70e633-4162-4c34-bfbc-662d47caf0f9",
   "metadata": {},
   "source": [
    "One important confounding factor here is that we are simultaneously analyzing our samples across all time points and in doing so potentially losing meaningful signals at a particular time point. Importantly, having more than one time point per subject also violates the assumption of the Kurskal‐Wallis test that all samples are independent. More appropriate methods that take into account repeated measurements from the same samples are demonstrated in the longitudinal paiwise data analysis section above."
   ]
  },
  {
   "cell_type": "markdown",
   "id": "5b833e9e-cb65-4cef-9076-3d1a64836e84",
   "metadata": {},
   "source": [
    "## Alpha Correlation of numeric data (puns_per_hour)"
   ]
  },
  {
   "cell_type": "code",
   "execution_count": 42,
   "id": "81d83e38-8f40-406d-b2f6-c15b8bebd6bf",
   "metadata": {
    "tags": []
   },
   "outputs": [
    {
     "name": "stdout",
     "output_type": "stream",
     "text": [
      "\u001b[32mSaved Visualization to: data/alpha_diversity/shannon_alpha_correlation.qzv\u001b[0m\n",
      "\u001b[0m"
     ]
    }
   ],
   "source": [
    "! qiime diversity alpha-correlation \\\n",
    "  --i-alpha-diversity $data_dir_div/core_metrics_results/shannon_vector.qza \\\n",
    "  --m-metadata-file $data_dir/pundemic_metadata_subgroup_response_all.tsv \\\n",
    "  --o-visualization $data_dir_div/shannon_alpha_correlation.qzv"
   ]
  },
  {
   "cell_type": "code",
   "execution_count": 43,
   "id": "cfd94289-08bd-4d7d-a7f0-f240cd55b0a6",
   "metadata": {
    "collapsed": true,
    "jupyter": {
     "outputs_hidden": true
    },
    "tags": []
   },
   "outputs": [
    {
     "data": {
      "text/html": [
       "<div><img onload=\"(function(div, url){\n",
       "if (typeof require !== 'undefined') {\n",
       "    var baseURL = require.toUrl('').split('/').slice(0, -2).join('/');\n",
       "} else {\n",
       "    var baseURL = JSON.parse(\n",
       "        document.getElementById('jupyter-config-data').innerHTML\n",
       "    ).baseUrl.slice(0, -1);\n",
       "}\n",
       "url = baseURL + url;\n",
       "fetch(url).then(function(res) {\n",
       "    if (res.status === 404) {\n",
       "        div.innerHTML = 'Install QIIME 2 Jupyter extension with:<br />' +\n",
       "                        '<code>jupyter serverextension enable --py qiime2' +\n",
       "                        ' --sys-prefix</code><br />then restart your server.' +\n",
       "                        '<br /><br />(Interactive output not available on ' +\n",
       "                        'static notebook viewer services like nbviewer.)';\n",
       "    } else if (res.status === 409) {\n",
       "        div.innerHTML = 'Visualization no longer in scope. Re-run this cell' +\n",
       "                        ' to see the visualization.';\n",
       "    } else if (res.ok) {\n",
       "        url = res.url;\n",
       "        div.innerHTML = '<iframe src=\\'' + url + '\\' style=\\'' +\n",
       "                        'width: 100%; height: 700px; border: 0;\\'>' +\n",
       "                        '</iframe><hr />Open in a: <a href=\\'' + url + '\\'' +\n",
       "                        ' target=\\'_blank\\'>new window</a>'\n",
       "    } else {\n",
       "        div.innerHTML = 'Something has gone wrong. Check notebook server for' +\n",
       "                        ' errors.';\n",
       "    }\n",
       "});\n",
       "})(this.parentElement, '/qiime2/redirect?location=/tmp/qiime2/jovyan/data/28cfbeef-ad73-4d74-877d-e22f43429444')\" src=\"data:image/gif;base64,R0lGODlhAQABAIAAAP///wAAACH5BAEAAAAALAAAAAABAAEAAAICRAEAOw==\" /></div>"
      ],
      "text/plain": [
       "<visualization: Visualization uuid: 28cfbeef-ad73-4d74-877d-e22f43429444>"
      ]
     },
     "execution_count": 43,
     "metadata": {},
     "output_type": "execute_result"
    }
   ],
   "source": [
    "Visualization.load(f\"{data_dir_div}/shannon_alpha_correlation.qzv\")"
   ]
  },
  {
   "cell_type": "code",
   "execution_count": 44,
   "id": "60f4cf7b-8427-4506-b053-6dd07a5cb2db",
   "metadata": {
    "tags": []
   },
   "outputs": [
    {
     "name": "stdout",
     "output_type": "stream",
     "text": [
      "\u001b[32mSaved Visualization to: data/alpha_diversity/evenness_alpha_correlation.qzv\u001b[0m\n",
      "\u001b[0m"
     ]
    }
   ],
   "source": [
    "! qiime diversity alpha-correlation \\\n",
    "  --i-alpha-diversity $data_dir_div/core_metrics_results/evenness_vector.qza \\\n",
    "  --m-metadata-file $data_dir/pundemic_metadata_subgroup_response_all.tsv \\\n",
    "  --o-visualization $data_dir_div/evenness_alpha_correlation.qzv"
   ]
  },
  {
   "cell_type": "code",
   "execution_count": 45,
   "id": "97d3250b-3663-4fc6-8bfa-2554952f1cbe",
   "metadata": {
    "collapsed": true,
    "jupyter": {
     "outputs_hidden": true
    },
    "tags": []
   },
   "outputs": [
    {
     "data": {
      "text/html": [
       "<div><img onload=\"(function(div, url){\n",
       "if (typeof require !== 'undefined') {\n",
       "    var baseURL = require.toUrl('').split('/').slice(0, -2).join('/');\n",
       "} else {\n",
       "    var baseURL = JSON.parse(\n",
       "        document.getElementById('jupyter-config-data').innerHTML\n",
       "    ).baseUrl.slice(0, -1);\n",
       "}\n",
       "url = baseURL + url;\n",
       "fetch(url).then(function(res) {\n",
       "    if (res.status === 404) {\n",
       "        div.innerHTML = 'Install QIIME 2 Jupyter extension with:<br />' +\n",
       "                        '<code>jupyter serverextension enable --py qiime2' +\n",
       "                        ' --sys-prefix</code><br />then restart your server.' +\n",
       "                        '<br /><br />(Interactive output not available on ' +\n",
       "                        'static notebook viewer services like nbviewer.)';\n",
       "    } else if (res.status === 409) {\n",
       "        div.innerHTML = 'Visualization no longer in scope. Re-run this cell' +\n",
       "                        ' to see the visualization.';\n",
       "    } else if (res.ok) {\n",
       "        url = res.url;\n",
       "        div.innerHTML = '<iframe src=\\'' + url + '\\' style=\\'' +\n",
       "                        'width: 100%; height: 700px; border: 0;\\'>' +\n",
       "                        '</iframe><hr />Open in a: <a href=\\'' + url + '\\'' +\n",
       "                        ' target=\\'_blank\\'>new window</a>'\n",
       "    } else {\n",
       "        div.innerHTML = 'Something has gone wrong. Check notebook server for' +\n",
       "                        ' errors.';\n",
       "    }\n",
       "});\n",
       "})(this.parentElement, '/qiime2/redirect?location=/tmp/qiime2/jovyan/data/275f7bde-d4d0-4118-aeca-104cf64e1e38')\" src=\"data:image/gif;base64,R0lGODlhAQABAIAAAP///wAAACH5BAEAAAAALAAAAAABAAEAAAICRAEAOw==\" /></div>"
      ],
      "text/plain": [
       "<visualization: Visualization uuid: 275f7bde-d4d0-4118-aeca-104cf64e1e38>"
      ]
     },
     "execution_count": 45,
     "metadata": {},
     "output_type": "execute_result"
    }
   ],
   "source": [
    "Visualization.load(f\"{data_dir_div}/evenness_alpha_correlation.qzv\")"
   ]
  },
  {
   "cell_type": "code",
   "execution_count": 46,
   "id": "cee34791-b902-4151-a6da-b0b028562f9e",
   "metadata": {
    "tags": []
   },
   "outputs": [
    {
     "name": "stdout",
     "output_type": "stream",
     "text": [
      "\u001b[32mSaved Visualization to: data/alpha_diversity/observed_features_alpha_correlation.qzv\u001b[0m\n",
      "\u001b[0m"
     ]
    }
   ],
   "source": [
    "! qiime diversity alpha-correlation \\\n",
    "  --i-alpha-diversity $data_dir_div/core_metrics_results/observed_features_vector.qza \\\n",
    "  --m-metadata-file $data_dir/pundemic_metadata_subgroup_response_all.tsv \\\n",
    "  --o-visualization $data_dir_div/observed_features_alpha_correlation.qzv"
   ]
  },
  {
   "cell_type": "code",
   "execution_count": 47,
   "id": "0048ed08-79d5-4a67-9955-479d35771ea4",
   "metadata": {
    "collapsed": true,
    "jupyter": {
     "outputs_hidden": true
    },
    "tags": []
   },
   "outputs": [
    {
     "data": {
      "text/html": [
       "<div><img onload=\"(function(div, url){\n",
       "if (typeof require !== 'undefined') {\n",
       "    var baseURL = require.toUrl('').split('/').slice(0, -2).join('/');\n",
       "} else {\n",
       "    var baseURL = JSON.parse(\n",
       "        document.getElementById('jupyter-config-data').innerHTML\n",
       "    ).baseUrl.slice(0, -1);\n",
       "}\n",
       "url = baseURL + url;\n",
       "fetch(url).then(function(res) {\n",
       "    if (res.status === 404) {\n",
       "        div.innerHTML = 'Install QIIME 2 Jupyter extension with:<br />' +\n",
       "                        '<code>jupyter serverextension enable --py qiime2' +\n",
       "                        ' --sys-prefix</code><br />then restart your server.' +\n",
       "                        '<br /><br />(Interactive output not available on ' +\n",
       "                        'static notebook viewer services like nbviewer.)';\n",
       "    } else if (res.status === 409) {\n",
       "        div.innerHTML = 'Visualization no longer in scope. Re-run this cell' +\n",
       "                        ' to see the visualization.';\n",
       "    } else if (res.ok) {\n",
       "        url = res.url;\n",
       "        div.innerHTML = '<iframe src=\\'' + url + '\\' style=\\'' +\n",
       "                        'width: 100%; height: 700px; border: 0;\\'>' +\n",
       "                        '</iframe><hr />Open in a: <a href=\\'' + url + '\\'' +\n",
       "                        ' target=\\'_blank\\'>new window</a>'\n",
       "    } else {\n",
       "        div.innerHTML = 'Something has gone wrong. Check notebook server for' +\n",
       "                        ' errors.';\n",
       "    }\n",
       "});\n",
       "})(this.parentElement, '/qiime2/redirect?location=/tmp/qiime2/jovyan/data/baa4e5b9-2e6a-43e8-b960-cd1843725ff5')\" src=\"data:image/gif;base64,R0lGODlhAQABAIAAAP///wAAACH5BAEAAAAALAAAAAABAAEAAAICRAEAOw==\" /></div>"
      ],
      "text/plain": [
       "<visualization: Visualization uuid: baa4e5b9-2e6a-43e8-b960-cd1843725ff5>"
      ]
     },
     "execution_count": 47,
     "metadata": {},
     "output_type": "execute_result"
    }
   ],
   "source": [
    "Visualization.load(f\"{data_dir_div}/observed_features_alpha_correlation.qzv\")"
   ]
  }
 ],
 "metadata": {
  "kernelspec": {
   "display_name": "QIIME 2",
   "language": "python",
   "name": "python3"
  },
  "language_info": {
   "codemirror_mode": {
    "name": "ipython",
    "version": 3
   },
   "file_extension": ".py",
   "mimetype": "text/x-python",
   "name": "python",
   "nbconvert_exporter": "python",
   "pygments_lexer": "ipython3",
   "version": "3.9.19"
  }
 },
 "nbformat": 4,
 "nbformat_minor": 5
}
