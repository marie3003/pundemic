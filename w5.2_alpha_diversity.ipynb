{
 "cells": [
  {
   "cell_type": "markdown",
   "id": "fc95c31e-02a8-4aeb-a614-0ece29547be4",
   "metadata": {},
   "source": [
    "# Alpha Diversity Analysis"
   ]
  },
  {
   "cell_type": "markdown",
   "id": "39b807f4-ddf1-4616-94dd-f3c51d64b6da",
   "metadata": {},
   "source": [
    "## Import Libraries"
   ]
  },
  {
   "cell_type": "code",
   "execution_count": 77,
   "id": "1ef964cc-1e9e-4540-930a-242247e56031",
   "metadata": {
    "tags": []
   },
   "outputs": [],
   "source": [
    "import os\n",
    "import pandas as pd\n",
    "import qiime2 as q2\n",
    "from qiime2 import Visualization\n",
    "\n",
    "%matplotlib inline"
   ]
  },
  {
   "cell_type": "code",
   "execution_count": 78,
   "id": "2f8bc32e-8850-45fa-87df-2a5768ecc649",
   "metadata": {
    "tags": []
   },
   "outputs": [],
   "source": [
    "data_dir = 'data'\n",
    "data_dir_phyl = 'data/phylogeny'\n",
    "data_dir_div = 'data/alpha_diversity'"
   ]
  },
  {
   "cell_type": "markdown",
   "id": "eef36e58-9612-4ae0-989e-eafc3bc533b8",
   "metadata": {},
   "source": [
    "## Alpha Rarefaction"
   ]
  },
  {
   "cell_type": "markdown",
   "id": "66f5ce7b-c728-4eca-ac7a-579265c99953",
   "metadata": {},
   "source": [
    "To perform rarefaction, we first need to decide which sampling depth is best suited for our dataset. For this, we will analyse how sampling depth impacts within-sample diversity estimates (= alpha diversity) with the alpha-rarefaction action. This action generates interactive alpha rarefaction curves for sequencing depths between min_depth and max_depth and computes 10 (default) rarefied tables with corresponding alpha diversity metrics at each sampling depth step."
   ]
  },
  {
   "cell_type": "code",
   "execution_count": 57,
   "id": "4967fad7-a77d-449a-bad4-8d50f7177dc8",
   "metadata": {},
   "outputs": [
    {
     "name": "stdout",
     "output_type": "stream",
     "text": [
      "^C\n",
      "\n",
      "Aborted!\n"
     ]
    }
   ],
   "source": [
    "! qiime diversity alpha-rarefaction \\\n",
    "    --i-table $data_dir/closed_reference_cluster/cr90_feature_table.qza \\\n",
    "    --p-max-depth 10000 \\\n",
    "    --m-metadata-file $data_dir/pundemic_metadata.tsv \\\n",
    "    --o-visualization $data_dir_div/alpha_rarefaction.qzv\n",
    "\n",
    "#   --i-phylogeny $data_dir_phyl/fasttree_tree_rooted.qza \\"
   ]
  },
  {
   "cell_type": "code",
   "execution_count": 54,
   "id": "11541369-59ed-4f75-a055-0473c77d96ae",
   "metadata": {
    "collapsed": true,
    "jupyter": {
     "outputs_hidden": true
    },
    "tags": []
   },
   "outputs": [
    {
     "data": {
      "text/html": [
       "<div><img onload=\"(function(div, url){\n",
       "if (typeof require !== 'undefined') {\n",
       "    var baseURL = require.toUrl('').split('/').slice(0, -2).join('/');\n",
       "} else {\n",
       "    var baseURL = JSON.parse(\n",
       "        document.getElementById('jupyter-config-data').innerHTML\n",
       "    ).baseUrl.slice(0, -1);\n",
       "}\n",
       "url = baseURL + url;\n",
       "fetch(url).then(function(res) {\n",
       "    if (res.status === 404) {\n",
       "        div.innerHTML = 'Install QIIME 2 Jupyter extension with:<br />' +\n",
       "                        '<code>jupyter serverextension enable --py qiime2' +\n",
       "                        ' --sys-prefix</code><br />then restart your server.' +\n",
       "                        '<br /><br />(Interactive output not available on ' +\n",
       "                        'static notebook viewer services like nbviewer.)';\n",
       "    } else if (res.status === 409) {\n",
       "        div.innerHTML = 'Visualization no longer in scope. Re-run this cell' +\n",
       "                        ' to see the visualization.';\n",
       "    } else if (res.ok) {\n",
       "        url = res.url;\n",
       "        div.innerHTML = '<iframe src=\\'' + url + '\\' style=\\'' +\n",
       "                        'width: 100%; height: 700px; border: 0;\\'>' +\n",
       "                        '</iframe><hr />Open in a: <a href=\\'' + url + '\\'' +\n",
       "                        ' target=\\'_blank\\'>new window</a>'\n",
       "    } else {\n",
       "        div.innerHTML = 'Something has gone wrong. Check notebook server for' +\n",
       "                        ' errors.';\n",
       "    }\n",
       "});\n",
       "})(this.parentElement, '/qiime2/redirect?location=/tmp/qiime2/jovyan/data/3f6cc54f-1b99-416c-9c1f-b2c921e61557')\" src=\"data:image/gif;base64,R0lGODlhAQABAIAAAP///wAAACH5BAEAAAAALAAAAAABAAEAAAICRAEAOw==\" /></div>"
      ],
      "text/plain": [
       "<visualization: Visualization uuid: 3f6cc54f-1b99-416c-9c1f-b2c921e61557>"
      ]
     },
     "execution_count": 54,
     "metadata": {},
     "output_type": "execute_result"
    }
   ],
   "source": [
    "Visualization.load(f\"{data_dir_div}/alpha_rarefaction.qzv\")"
   ]
  },
  {
   "cell_type": "markdown",
   "id": "1837a40b-c496-4712-9def-21643ffd2fb8",
   "metadata": {},
   "source": [
    "## Diversity Analysis"
   ]
  },
  {
   "cell_type": "code",
   "execution_count": 79,
   "id": "cefc97cf-24eb-4c13-bc64-793e825df550",
   "metadata": {
    "tags": []
   },
   "outputs": [
    {
     "name": "stdout",
     "output_type": "stream",
     "text": [
      "\u001b[32mSaved FeatureTable[Frequency] to: data/alpha_diversity/core_metrics_results/rarefied_table.qza\u001b[0m\n",
      "\u001b[32mSaved SampleData[AlphaDiversity] to: data/alpha_diversity/core_metrics_results/observed_features_vector.qza\u001b[0m\n",
      "\u001b[32mSaved SampleData[AlphaDiversity] to: data/alpha_diversity/core_metrics_results/shannon_vector.qza\u001b[0m\n",
      "\u001b[32mSaved SampleData[AlphaDiversity] to: data/alpha_diversity/core_metrics_results/evenness_vector.qza\u001b[0m\n",
      "\u001b[32mSaved DistanceMatrix to: data/alpha_diversity/core_metrics_results/jaccard_distance_matrix.qza\u001b[0m\n",
      "\u001b[32mSaved DistanceMatrix to: data/alpha_diversity/core_metrics_results/bray_curtis_distance_matrix.qza\u001b[0m\n",
      "\u001b[32mSaved PCoAResults to: data/alpha_diversity/core_metrics_results/jaccard_pcoa_results.qza\u001b[0m\n",
      "\u001b[32mSaved PCoAResults to: data/alpha_diversity/core_metrics_results/bray_curtis_pcoa_results.qza\u001b[0m\n",
      "\u001b[32mSaved Visualization to: data/alpha_diversity/core_metrics_results/jaccard_emperor.qzv\u001b[0m\n",
      "\u001b[32mSaved Visualization to: data/alpha_diversity/core_metrics_results/bray_curtis_emperor.qzv\u001b[0m\n",
      "\u001b[0m"
     ]
    }
   ],
   "source": [
    "! qiime diversity core-metrics \\\n",
    "  --i-table $data_dir/closed_reference_cluster/cr90_feature_table.qza \\\n",
    "  --m-metadata-file $data_dir/pundemic_metadata.tsv \\\n",
    "  --p-sampling-depth 3000 \\\n",
    "  --p-n-jobs 8 \\\n",
    "  --output-dir $data_dir_div/core_metrics_results"
   ]
  },
  {
   "cell_type": "code",
   "execution_count": 80,
   "id": "1c95edb0-1b9d-40ce-816a-210bbcddcd00",
   "metadata": {
    "tags": []
   },
   "outputs": [],
   "source": [
    "metadata = pd.read_csv(f\"{data_dir}/pundemic_metadata.tsv\", sep='\\t')"
   ]
  },
  {
   "cell_type": "markdown",
   "id": "a3f4ae15-a6e4-4298-9a61-c4ddb3f741f4",
   "metadata": {},
   "source": [
    "## Pairwise difference comparisons\n",
    "Pairwise difference tests determine whether the value of a specific metric changed significantly between pairs of paired samples (e.g., pre- and post-treatment)."
   ]
  },
  {
   "cell_type": "code",
   "execution_count": 81,
   "id": "8dd991d0-4932-45a6-8405-99b2e0206413",
   "metadata": {
    "tags": []
   },
   "outputs": [
    {
     "name": "stdout",
     "output_type": "stream",
     "text": [
      "\u001b[32mSaved Visualization to: data/alpha_diversity/core_metrics_results/shannon_vector.qzv\u001b[0m\n",
      "\u001b[0m"
     ]
    }
   ],
   "source": [
    "! qiime diversity alpha-group-significance \\\n",
    "  --i-alpha-diversity $data_dir_div/core_metrics_results/shannon_vector.qza \\\n",
    "  --m-metadata-file $data_dir/pundemic_metadata.tsv \\\n",
    "  --o-visualization $data_dir_div/core_metrics_results/shannon_vector.qzv"
   ]
  },
  {
   "cell_type": "code",
   "execution_count": 82,
   "id": "d4c7c76c-1c88-4f79-b307-0c183141164d",
   "metadata": {
    "collapsed": true,
    "jupyter": {
     "outputs_hidden": true
    },
    "tags": []
   },
   "outputs": [
    {
     "data": {
      "text/html": [
       "<div><img onload=\"(function(div, url){\n",
       "if (typeof require !== 'undefined') {\n",
       "    var baseURL = require.toUrl('').split('/').slice(0, -2).join('/');\n",
       "} else {\n",
       "    var baseURL = JSON.parse(\n",
       "        document.getElementById('jupyter-config-data').innerHTML\n",
       "    ).baseUrl.slice(0, -1);\n",
       "}\n",
       "url = baseURL + url;\n",
       "fetch(url).then(function(res) {\n",
       "    if (res.status === 404) {\n",
       "        div.innerHTML = 'Install QIIME 2 Jupyter extension with:<br />' +\n",
       "                        '<code>jupyter serverextension enable --py qiime2' +\n",
       "                        ' --sys-prefix</code><br />then restart your server.' +\n",
       "                        '<br /><br />(Interactive output not available on ' +\n",
       "                        'static notebook viewer services like nbviewer.)';\n",
       "    } else if (res.status === 409) {\n",
       "        div.innerHTML = 'Visualization no longer in scope. Re-run this cell' +\n",
       "                        ' to see the visualization.';\n",
       "    } else if (res.ok) {\n",
       "        url = res.url;\n",
       "        div.innerHTML = '<iframe src=\\'' + url + '\\' style=\\'' +\n",
       "                        'width: 100%; height: 700px; border: 0;\\'>' +\n",
       "                        '</iframe><hr />Open in a: <a href=\\'' + url + '\\'' +\n",
       "                        ' target=\\'_blank\\'>new window</a>'\n",
       "    } else {\n",
       "        div.innerHTML = 'Something has gone wrong. Check notebook server for' +\n",
       "                        ' errors.';\n",
       "    }\n",
       "});\n",
       "})(this.parentElement, '/qiime2/redirect?location=/tmp/qiime2/jovyan/data/473041c1-610d-4c8f-a61e-d65a964d5328')\" src=\"data:image/gif;base64,R0lGODlhAQABAIAAAP///wAAACH5BAEAAAAALAAAAAABAAEAAAICRAEAOw==\" /></div>"
      ],
      "text/plain": [
       "<visualization: Visualization uuid: 473041c1-610d-4c8f-a61e-d65a964d5328>"
      ]
     },
     "execution_count": 82,
     "metadata": {},
     "output_type": "execute_result"
    }
   ],
   "source": [
    "Visualization.load(f\"{data_dir_div}/core_metrics_results/shannon_vector.qzv\")"
   ]
  },
  {
   "cell_type": "code",
   "execution_count": 83,
   "id": "96bd6183-79bc-497e-a1f9-37c4c77a3a20",
   "metadata": {
    "tags": []
   },
   "outputs": [
    {
     "name": "stdout",
     "output_type": "stream",
     "text": [
      "\u001b[32mExported data/alpha_diversity/core_metrics_results/shannon_vector.qza as AlphaDiversityDirectoryFormat to directory data/alpha_diversity/shannon_vector\u001b[0m\n",
      "\u001b[0m"
     ]
    }
   ],
   "source": [
    "! qiime tools export \\\n",
    "  --input-path $data_dir_div/core_metrics_results/shannon_vector.qza \\\n",
    "  --output-path $data_dir_div/shannon_vector"
   ]
  },
  {
   "cell_type": "code",
   "execution_count": 84,
   "id": "3fdaf2b1-9047-4c81-bab4-55284f582517",
   "metadata": {
    "tags": []
   },
   "outputs": [],
   "source": [
    "shannon = pd.read_csv(f\"{data_dir_div}/shannon_vector/alpha-diversity.tsv\", sep='\\t')"
   ]
  },
  {
   "cell_type": "code",
   "execution_count": 85,
   "id": "84daf28f-9ac5-43d4-a027-adcfa654f194",
   "metadata": {
    "tags": []
   },
   "outputs": [],
   "source": [
    "shannon.rename(columns = {shannon.columns[0]: \"id\"}, inplace = True)"
   ]
  },
  {
   "cell_type": "code",
   "execution_count": 86,
   "id": "f4b8c886-a9e6-48a9-9c9c-9d9a31f3004c",
   "metadata": {
    "tags": []
   },
   "outputs": [
    {
     "data": {
      "text/html": [
       "<div>\n",
       "<style scoped>\n",
       "    .dataframe tbody tr th:only-of-type {\n",
       "        vertical-align: middle;\n",
       "    }\n",
       "\n",
       "    .dataframe tbody tr th {\n",
       "        vertical-align: top;\n",
       "    }\n",
       "\n",
       "    .dataframe thead th {\n",
       "        text-align: right;\n",
       "    }\n",
       "</style>\n",
       "<table border=\"1\" class=\"dataframe\">\n",
       "  <thead>\n",
       "    <tr style=\"text-align: right;\">\n",
       "      <th></th>\n",
       "      <th>id</th>\n",
       "      <th>patient_id</th>\n",
       "      <th>age</th>\n",
       "      <th>sex</th>\n",
       "      <th>ethnicity</th>\n",
       "      <th>continent</th>\n",
       "      <th>country</th>\n",
       "      <th>region</th>\n",
       "      <th>city</th>\n",
       "      <th>group</th>\n",
       "      <th>disease_subgroup</th>\n",
       "      <th>blinded_clinical_response</th>\n",
       "      <th>puns_per_hour_pre_treatment</th>\n",
       "      <th>puns_per_hour_post_treatment</th>\n",
       "      <th>time_point</th>\n",
       "      <th>shannon_entropy</th>\n",
       "    </tr>\n",
       "  </thead>\n",
       "  <tbody>\n",
       "    <tr>\n",
       "      <th>0</th>\n",
       "      <td>SRR10505051</td>\n",
       "      <td>1048</td>\n",
       "      <td>36</td>\n",
       "      <td>female</td>\n",
       "      <td>Caucasian</td>\n",
       "      <td>Europe</td>\n",
       "      <td>Switzerland</td>\n",
       "      <td>Zurich</td>\n",
       "      <td>Zurich</td>\n",
       "      <td>Puns</td>\n",
       "      <td>Placebo</td>\n",
       "      <td>NR</td>\n",
       "      <td>9.0</td>\n",
       "      <td>8.0</td>\n",
       "      <td>post-treatment</td>\n",
       "      <td>1.267043</td>\n",
       "    </tr>\n",
       "    <tr>\n",
       "      <th>1</th>\n",
       "      <td>SRR10505052</td>\n",
       "      <td>1048</td>\n",
       "      <td>36</td>\n",
       "      <td>female</td>\n",
       "      <td>Caucasian</td>\n",
       "      <td>Europe</td>\n",
       "      <td>Switzerland</td>\n",
       "      <td>Zurich</td>\n",
       "      <td>Zurich</td>\n",
       "      <td>Puns</td>\n",
       "      <td>Placebo</td>\n",
       "      <td>NR</td>\n",
       "      <td>9.0</td>\n",
       "      <td>8.0</td>\n",
       "      <td>pre-treatment</td>\n",
       "      <td>0.971329</td>\n",
       "    </tr>\n",
       "    <tr>\n",
       "      <th>2</th>\n",
       "      <td>SRR10505053</td>\n",
       "      <td>1045</td>\n",
       "      <td>29</td>\n",
       "      <td>male</td>\n",
       "      <td>Caucasian</td>\n",
       "      <td>Europe</td>\n",
       "      <td>Switzerland</td>\n",
       "      <td>Zurich</td>\n",
       "      <td>Zurich</td>\n",
       "      <td>Puns</td>\n",
       "      <td>Placebo</td>\n",
       "      <td>Res</td>\n",
       "      <td>6.0</td>\n",
       "      <td>0.0</td>\n",
       "      <td>pre-treatment</td>\n",
       "      <td>0.312109</td>\n",
       "    </tr>\n",
       "    <tr>\n",
       "      <th>3</th>\n",
       "      <td>SRR10505056</td>\n",
       "      <td>1044</td>\n",
       "      <td>34</td>\n",
       "      <td>male</td>\n",
       "      <td>Indian Subcontinental</td>\n",
       "      <td>Europe</td>\n",
       "      <td>Switzerland</td>\n",
       "      <td>Zurich</td>\n",
       "      <td>Zurich</td>\n",
       "      <td>Puns</td>\n",
       "      <td>Placebo</td>\n",
       "      <td>NaN</td>\n",
       "      <td>4.0</td>\n",
       "      <td>NaN</td>\n",
       "      <td>post-treatment</td>\n",
       "      <td>2.111094</td>\n",
       "    </tr>\n",
       "    <tr>\n",
       "      <th>4</th>\n",
       "      <td>SRR10505057</td>\n",
       "      <td>1043</td>\n",
       "      <td>35</td>\n",
       "      <td>female</td>\n",
       "      <td>Caucasian</td>\n",
       "      <td>Europe</td>\n",
       "      <td>Switzerland</td>\n",
       "      <td>Zurich</td>\n",
       "      <td>Zurich</td>\n",
       "      <td>Puns</td>\n",
       "      <td>FMT</td>\n",
       "      <td>NR</td>\n",
       "      <td>9.0</td>\n",
       "      <td>6.0</td>\n",
       "      <td>post-treatment</td>\n",
       "      <td>1.607049</td>\n",
       "    </tr>\n",
       "  </tbody>\n",
       "</table>\n",
       "</div>"
      ],
      "text/plain": [
       "            id patient_id age     sex              ethnicity continent  \\\n",
       "0  SRR10505051       1048  36  female              Caucasian    Europe   \n",
       "1  SRR10505052       1048  36  female              Caucasian    Europe   \n",
       "2  SRR10505053       1045  29    male              Caucasian    Europe   \n",
       "3  SRR10505056       1044  34    male  Indian Subcontinental    Europe   \n",
       "4  SRR10505057       1043  35  female              Caucasian    Europe   \n",
       "\n",
       "       country  region    city group disease_subgroup  \\\n",
       "0  Switzerland  Zurich  Zurich  Puns          Placebo   \n",
       "1  Switzerland  Zurich  Zurich  Puns          Placebo   \n",
       "2  Switzerland  Zurich  Zurich  Puns          Placebo   \n",
       "3  Switzerland  Zurich  Zurich  Puns          Placebo   \n",
       "4  Switzerland  Zurich  Zurich  Puns              FMT   \n",
       "\n",
       "  blinded_clinical_response  puns_per_hour_pre_treatment  \\\n",
       "0                        NR                          9.0   \n",
       "1                        NR                          9.0   \n",
       "2                       Res                          6.0   \n",
       "3                       NaN                          4.0   \n",
       "4                        NR                          9.0   \n",
       "\n",
       "   puns_per_hour_post_treatment      time_point  shannon_entropy  \n",
       "0                           8.0  post-treatment         1.267043  \n",
       "1                           8.0   pre-treatment         0.971329  \n",
       "2                           0.0   pre-treatment         0.312109  \n",
       "3                           NaN  post-treatment         2.111094  \n",
       "4                           6.0  post-treatment         1.607049  "
      ]
     },
     "execution_count": 86,
     "metadata": {},
     "output_type": "execute_result"
    }
   ],
   "source": [
    "metadata = pd.merge(metadata, shannon, on = \"id\")\n",
    "metadata.head()"
   ]
  },
  {
   "cell_type": "code",
   "execution_count": 87,
   "id": "88c1ddb5-b410-4d13-9f30-7bbb8ac9ccee",
   "metadata": {
    "tags": []
   },
   "outputs": [
    {
     "data": {
      "text/html": [
       "<div>\n",
       "<style scoped>\n",
       "    .dataframe tbody tr th:only-of-type {\n",
       "        vertical-align: middle;\n",
       "    }\n",
       "\n",
       "    .dataframe tbody tr th {\n",
       "        vertical-align: top;\n",
       "    }\n",
       "\n",
       "    .dataframe thead th {\n",
       "        text-align: right;\n",
       "    }\n",
       "</style>\n",
       "<table border=\"1\" class=\"dataframe\">\n",
       "  <thead>\n",
       "    <tr style=\"text-align: right;\">\n",
       "      <th></th>\n",
       "      <th>id</th>\n",
       "      <th>patient_id</th>\n",
       "      <th>age</th>\n",
       "      <th>sex</th>\n",
       "      <th>ethnicity</th>\n",
       "      <th>continent</th>\n",
       "      <th>country</th>\n",
       "      <th>region</th>\n",
       "      <th>city</th>\n",
       "      <th>group</th>\n",
       "      <th>disease_subgroup</th>\n",
       "      <th>blinded_clinical_response</th>\n",
       "      <th>puns_per_hour_pre_treatment</th>\n",
       "      <th>puns_per_hour_post_treatment</th>\n",
       "      <th>time_point</th>\n",
       "      <th>shannon_entropy</th>\n",
       "      <th>subgroup_response</th>\n",
       "    </tr>\n",
       "  </thead>\n",
       "  <tbody>\n",
       "    <tr>\n",
       "      <th>2</th>\n",
       "      <td>SRR10505053</td>\n",
       "      <td>1045</td>\n",
       "      <td>29</td>\n",
       "      <td>male</td>\n",
       "      <td>Caucasian</td>\n",
       "      <td>Europe</td>\n",
       "      <td>Switzerland</td>\n",
       "      <td>Zurich</td>\n",
       "      <td>Zurich</td>\n",
       "      <td>Puns</td>\n",
       "      <td>Placebo</td>\n",
       "      <td>Res</td>\n",
       "      <td>6.0</td>\n",
       "      <td>0.0</td>\n",
       "      <td>pre-treatment</td>\n",
       "      <td>0.312109</td>\n",
       "      <td>Placebo_Res</td>\n",
       "    </tr>\n",
       "  </tbody>\n",
       "</table>\n",
       "</div>"
      ],
      "text/plain": [
       "            id patient_id age   sex  ethnicity continent      country  region  \\\n",
       "2  SRR10505053       1045  29  male  Caucasian    Europe  Switzerland  Zurich   \n",
       "\n",
       "     city group disease_subgroup blinded_clinical_response  \\\n",
       "2  Zurich  Puns          Placebo                       Res   \n",
       "\n",
       "   puns_per_hour_pre_treatment  puns_per_hour_post_treatment     time_point  \\\n",
       "2                          6.0                           0.0  pre-treatment   \n",
       "\n",
       "   shannon_entropy subgroup_response  \n",
       "2         0.312109       Placebo_Res  "
      ]
     },
     "execution_count": 87,
     "metadata": {},
     "output_type": "execute_result"
    }
   ],
   "source": [
    "metadata['subgroup_response'] = metadata['disease_subgroup'] + \"_\" + metadata['blinded_clinical_response']\n",
    "metadata[metadata.patient_id == \"1045\"]"
   ]
  },
  {
   "cell_type": "markdown",
   "id": "36e5fe02-b9fb-48ce-8f9f-7338bf6abcdd",
   "metadata": {},
   "source": [
    "There was only one patient with placebo response in our metadata, where sadly the post-treatment sample got filtered out at the 3000 cut in the rarefaction step.\n",
    "\n",
    "State post-treatment is not represented by any members of Placebo_Res group in metadata. Consider using a different group_column or state value.\n",
    "So we need to filter out the \"subgroup_response != \"Placebo_Res\"\""
   ]
  },
  {
   "cell_type": "code",
   "execution_count": 89,
   "id": "a8a470e2-a49d-4bf5-804f-6ca2983ffd4d",
   "metadata": {
    "collapsed": true,
    "jupyter": {
     "outputs_hidden": true
    },
    "tags": []
   },
   "outputs": [
    {
     "data": {
      "text/html": [
       "<div>\n",
       "<style scoped>\n",
       "    .dataframe tbody tr th:only-of-type {\n",
       "        vertical-align: middle;\n",
       "    }\n",
       "\n",
       "    .dataframe tbody tr th {\n",
       "        vertical-align: top;\n",
       "    }\n",
       "\n",
       "    .dataframe thead th {\n",
       "        text-align: right;\n",
       "    }\n",
       "</style>\n",
       "<table border=\"1\" class=\"dataframe\">\n",
       "  <thead>\n",
       "    <tr style=\"text-align: right;\">\n",
       "      <th></th>\n",
       "      <th>id</th>\n",
       "      <th>patient_id</th>\n",
       "      <th>age</th>\n",
       "      <th>sex</th>\n",
       "      <th>ethnicity</th>\n",
       "      <th>continent</th>\n",
       "      <th>country</th>\n",
       "      <th>region</th>\n",
       "      <th>city</th>\n",
       "      <th>group</th>\n",
       "      <th>disease_subgroup</th>\n",
       "      <th>blinded_clinical_response</th>\n",
       "      <th>puns_per_hour_pre_treatment</th>\n",
       "      <th>puns_per_hour_post_treatment</th>\n",
       "      <th>time_point</th>\n",
       "      <th>shannon_entropy</th>\n",
       "      <th>subgroup_response</th>\n",
       "    </tr>\n",
       "  </thead>\n",
       "  <tbody>\n",
       "    <tr>\n",
       "      <th>0</th>\n",
       "      <td>SRR10505051</td>\n",
       "      <td>1048</td>\n",
       "      <td>36</td>\n",
       "      <td>female</td>\n",
       "      <td>Caucasian</td>\n",
       "      <td>Europe</td>\n",
       "      <td>Switzerland</td>\n",
       "      <td>Zurich</td>\n",
       "      <td>Zurich</td>\n",
       "      <td>Puns</td>\n",
       "      <td>Placebo</td>\n",
       "      <td>NR</td>\n",
       "      <td>9.0</td>\n",
       "      <td>8.0</td>\n",
       "      <td>post-treatment</td>\n",
       "      <td>1.267043</td>\n",
       "      <td>Placebo_NR</td>\n",
       "    </tr>\n",
       "    <tr>\n",
       "      <th>1</th>\n",
       "      <td>SRR10505052</td>\n",
       "      <td>1048</td>\n",
       "      <td>36</td>\n",
       "      <td>female</td>\n",
       "      <td>Caucasian</td>\n",
       "      <td>Europe</td>\n",
       "      <td>Switzerland</td>\n",
       "      <td>Zurich</td>\n",
       "      <td>Zurich</td>\n",
       "      <td>Puns</td>\n",
       "      <td>Placebo</td>\n",
       "      <td>NR</td>\n",
       "      <td>9.0</td>\n",
       "      <td>8.0</td>\n",
       "      <td>pre-treatment</td>\n",
       "      <td>0.971329</td>\n",
       "      <td>Placebo_NR</td>\n",
       "    </tr>\n",
       "    <tr>\n",
       "      <th>4</th>\n",
       "      <td>SRR10505057</td>\n",
       "      <td>1043</td>\n",
       "      <td>35</td>\n",
       "      <td>female</td>\n",
       "      <td>Caucasian</td>\n",
       "      <td>Europe</td>\n",
       "      <td>Switzerland</td>\n",
       "      <td>Zurich</td>\n",
       "      <td>Zurich</td>\n",
       "      <td>Puns</td>\n",
       "      <td>FMT</td>\n",
       "      <td>NR</td>\n",
       "      <td>9.0</td>\n",
       "      <td>6.0</td>\n",
       "      <td>post-treatment</td>\n",
       "      <td>1.607049</td>\n",
       "      <td>FMT_NR</td>\n",
       "    </tr>\n",
       "    <tr>\n",
       "      <th>5</th>\n",
       "      <td>SRR10505058</td>\n",
       "      <td>1043</td>\n",
       "      <td>35</td>\n",
       "      <td>female</td>\n",
       "      <td>Caucasian</td>\n",
       "      <td>Europe</td>\n",
       "      <td>Switzerland</td>\n",
       "      <td>Zurich</td>\n",
       "      <td>Zurich</td>\n",
       "      <td>Puns</td>\n",
       "      <td>FMT</td>\n",
       "      <td>NR</td>\n",
       "      <td>9.0</td>\n",
       "      <td>6.0</td>\n",
       "      <td>pre-treatment</td>\n",
       "      <td>1.976768</td>\n",
       "      <td>FMT_NR</td>\n",
       "    </tr>\n",
       "    <tr>\n",
       "      <th>7</th>\n",
       "      <td>SRR10505060</td>\n",
       "      <td>1042</td>\n",
       "      <td>40</td>\n",
       "      <td>male</td>\n",
       "      <td>Caucasian</td>\n",
       "      <td>Europe</td>\n",
       "      <td>Switzerland</td>\n",
       "      <td>Zurich</td>\n",
       "      <td>Zurich</td>\n",
       "      <td>Puns</td>\n",
       "      <td>Placebo</td>\n",
       "      <td>NR</td>\n",
       "      <td>9.0</td>\n",
       "      <td>8.0</td>\n",
       "      <td>pre-treatment</td>\n",
       "      <td>1.008220</td>\n",
       "      <td>Placebo_NR</td>\n",
       "    </tr>\n",
       "    <tr>\n",
       "      <th>...</th>\n",
       "      <td>...</td>\n",
       "      <td>...</td>\n",
       "      <td>...</td>\n",
       "      <td>...</td>\n",
       "      <td>...</td>\n",
       "      <td>...</td>\n",
       "      <td>...</td>\n",
       "      <td>...</td>\n",
       "      <td>...</td>\n",
       "      <td>...</td>\n",
       "      <td>...</td>\n",
       "      <td>...</td>\n",
       "      <td>...</td>\n",
       "      <td>...</td>\n",
       "      <td>...</td>\n",
       "      <td>...</td>\n",
       "      <td>...</td>\n",
       "    </tr>\n",
       "    <tr>\n",
       "      <th>77</th>\n",
       "      <td>SRR10505141</td>\n",
       "      <td>1001</td>\n",
       "      <td>57</td>\n",
       "      <td>female</td>\n",
       "      <td>Caucasian</td>\n",
       "      <td>Europe</td>\n",
       "      <td>Switzerland</td>\n",
       "      <td>Zurich</td>\n",
       "      <td>Zurich</td>\n",
       "      <td>Puns</td>\n",
       "      <td>FMT</td>\n",
       "      <td>Res</td>\n",
       "      <td>7.0</td>\n",
       "      <td>2.0</td>\n",
       "      <td>pre-treatment</td>\n",
       "      <td>3.011957</td>\n",
       "      <td>FMT_Res</td>\n",
       "    </tr>\n",
       "    <tr>\n",
       "      <th>78</th>\n",
       "      <td>SRR10505142</td>\n",
       "      <td>1001</td>\n",
       "      <td>57</td>\n",
       "      <td>female</td>\n",
       "      <td>Caucasian</td>\n",
       "      <td>Europe</td>\n",
       "      <td>Switzerland</td>\n",
       "      <td>Zurich</td>\n",
       "      <td>Zurich</td>\n",
       "      <td>Puns</td>\n",
       "      <td>FMT</td>\n",
       "      <td>Res</td>\n",
       "      <td>7.0</td>\n",
       "      <td>2.0</td>\n",
       "      <td>post-treatment</td>\n",
       "      <td>2.499077</td>\n",
       "      <td>FMT_Res</td>\n",
       "    </tr>\n",
       "    <tr>\n",
       "      <th>86</th>\n",
       "      <td>SRR10505153</td>\n",
       "      <td>2225</td>\n",
       "      <td>34</td>\n",
       "      <td>male</td>\n",
       "      <td>Caucasian</td>\n",
       "      <td>Europe</td>\n",
       "      <td>Switzerland</td>\n",
       "      <td>Zurich</td>\n",
       "      <td>Zurich</td>\n",
       "      <td>Puns</td>\n",
       "      <td>FMT</td>\n",
       "      <td>NR</td>\n",
       "      <td>6.0</td>\n",
       "      <td>5.0</td>\n",
       "      <td>pre-treatment</td>\n",
       "      <td>0.198583</td>\n",
       "      <td>FMT_NR</td>\n",
       "    </tr>\n",
       "    <tr>\n",
       "      <th>87</th>\n",
       "      <td>SRR10505154</td>\n",
       "      <td>1024</td>\n",
       "      <td>Unknown</td>\n",
       "      <td>female</td>\n",
       "      <td>Caucasian</td>\n",
       "      <td>Europe</td>\n",
       "      <td>Switzerland</td>\n",
       "      <td>Zurich</td>\n",
       "      <td>Zurich</td>\n",
       "      <td>Puns</td>\n",
       "      <td>FMT</td>\n",
       "      <td>Res</td>\n",
       "      <td>8.0</td>\n",
       "      <td>0.0</td>\n",
       "      <td>post-treatment</td>\n",
       "      <td>2.079506</td>\n",
       "      <td>FMT_Res</td>\n",
       "    </tr>\n",
       "    <tr>\n",
       "      <th>88</th>\n",
       "      <td>SRR10505155</td>\n",
       "      <td>1005</td>\n",
       "      <td>30</td>\n",
       "      <td>female</td>\n",
       "      <td>Caucasian</td>\n",
       "      <td>Europe</td>\n",
       "      <td>Switzerland</td>\n",
       "      <td>Zurich</td>\n",
       "      <td>Zurich</td>\n",
       "      <td>Puns</td>\n",
       "      <td>Placebo</td>\n",
       "      <td>NR</td>\n",
       "      <td>8.0</td>\n",
       "      <td>8.0</td>\n",
       "      <td>pre-treatment</td>\n",
       "      <td>1.920086</td>\n",
       "      <td>Placebo_NR</td>\n",
       "    </tr>\n",
       "  </tbody>\n",
       "</table>\n",
       "<p>66 rows × 17 columns</p>\n",
       "</div>"
      ],
      "text/plain": [
       "             id patient_id      age     sex  ethnicity continent      country  \\\n",
       "0   SRR10505051       1048       36  female  Caucasian    Europe  Switzerland   \n",
       "1   SRR10505052       1048       36  female  Caucasian    Europe  Switzerland   \n",
       "4   SRR10505057       1043       35  female  Caucasian    Europe  Switzerland   \n",
       "5   SRR10505058       1043       35  female  Caucasian    Europe  Switzerland   \n",
       "7   SRR10505060       1042       40    male  Caucasian    Europe  Switzerland   \n",
       "..          ...        ...      ...     ...        ...       ...          ...   \n",
       "77  SRR10505141       1001       57  female  Caucasian    Europe  Switzerland   \n",
       "78  SRR10505142       1001       57  female  Caucasian    Europe  Switzerland   \n",
       "86  SRR10505153       2225       34    male  Caucasian    Europe  Switzerland   \n",
       "87  SRR10505154       1024  Unknown  female  Caucasian    Europe  Switzerland   \n",
       "88  SRR10505155       1005       30  female  Caucasian    Europe  Switzerland   \n",
       "\n",
       "    region    city group disease_subgroup blinded_clinical_response  \\\n",
       "0   Zurich  Zurich  Puns          Placebo                        NR   \n",
       "1   Zurich  Zurich  Puns          Placebo                        NR   \n",
       "4   Zurich  Zurich  Puns              FMT                        NR   \n",
       "5   Zurich  Zurich  Puns              FMT                        NR   \n",
       "7   Zurich  Zurich  Puns          Placebo                        NR   \n",
       "..     ...     ...   ...              ...                       ...   \n",
       "77  Zurich  Zurich  Puns              FMT                       Res   \n",
       "78  Zurich  Zurich  Puns              FMT                       Res   \n",
       "86  Zurich  Zurich  Puns              FMT                        NR   \n",
       "87  Zurich  Zurich  Puns              FMT                       Res   \n",
       "88  Zurich  Zurich  Puns          Placebo                        NR   \n",
       "\n",
       "    puns_per_hour_pre_treatment  puns_per_hour_post_treatment      time_point  \\\n",
       "0                           9.0                           8.0  post-treatment   \n",
       "1                           9.0                           8.0   pre-treatment   \n",
       "4                           9.0                           6.0  post-treatment   \n",
       "5                           9.0                           6.0   pre-treatment   \n",
       "7                           9.0                           8.0   pre-treatment   \n",
       "..                          ...                           ...             ...   \n",
       "77                          7.0                           2.0   pre-treatment   \n",
       "78                          7.0                           2.0  post-treatment   \n",
       "86                          6.0                           5.0   pre-treatment   \n",
       "87                          8.0                           0.0  post-treatment   \n",
       "88                          8.0                           8.0   pre-treatment   \n",
       "\n",
       "    shannon_entropy subgroup_response  \n",
       "0          1.267043        Placebo_NR  \n",
       "1          0.971329        Placebo_NR  \n",
       "4          1.607049            FMT_NR  \n",
       "5          1.976768            FMT_NR  \n",
       "7          1.008220        Placebo_NR  \n",
       "..              ...               ...  \n",
       "77         3.011957           FMT_Res  \n",
       "78         2.499077           FMT_Res  \n",
       "86         0.198583            FMT_NR  \n",
       "87         2.079506           FMT_Res  \n",
       "88         1.920086        Placebo_NR  \n",
       "\n",
       "[66 rows x 17 columns]"
      ]
     },
     "execution_count": 89,
     "metadata": {},
     "output_type": "execute_result"
    }
   ],
   "source": [
    "metadata_filtered = metadata[metadata.subgroup_response.notna()]\n",
    "metadata_filtered = metadata_filtered[metadata_filtered.subgroup_response != \"Placebo_Res\"]\n",
    "metadata_filtered.to_csv(f'{data_dir}/pundemic_metadata_subgroup_response.tsv', sep='\\t', index=False)\n",
    "metadata_filtered"
   ]
  },
  {
   "cell_type": "code",
   "execution_count": null,
   "id": "ca8e9a26-1f7b-4f08-aacf-8b903a42b730",
   "metadata": {},
   "outputs": [],
   "source": [
    "! qiime longitudinal pairwise-differences --help"
   ]
  },
  {
   "cell_type": "code",
   "execution_count": 90,
   "id": "89729351-de1b-4c95-8b6d-38441ce37250",
   "metadata": {
    "tags": []
   },
   "outputs": [
    {
     "name": "stdout",
     "output_type": "stream",
     "text": [
      "\u001b[32mSaved Visualization to: data/alpha_diversity/pairwise-differences.qzv\u001b[0m\n",
      "\u001b[0m"
     ]
    }
   ],
   "source": [
    "! qiime longitudinal pairwise-differences \\\n",
    "  --m-metadata-file $data_dir/pundemic_metadata_subgroup_response.tsv \\\n",
    "  --p-metric shannon_entropy \\\n",
    "  --p-group-column subgroup_response \\\n",
    "  --p-state-column time_point \\\n",
    "  --p-state-1 pre-treatment \\\n",
    "  --p-state-2 post-treatment \\\n",
    "  --p-individual-id-column patient_id \\\n",
    "  --p-replicate-handling random \\\n",
    "  --o-visualization $data_dir_div/pairwise-differences.qzv"
   ]
  },
  {
   "cell_type": "code",
   "execution_count": 91,
   "id": "abdf6091-a15d-444f-86da-5451e46a3db4",
   "metadata": {
    "collapsed": true,
    "jupyter": {
     "outputs_hidden": true
    },
    "tags": []
   },
   "outputs": [
    {
     "data": {
      "text/html": [
       "<div><img onload=\"(function(div, url){\n",
       "if (typeof require !== 'undefined') {\n",
       "    var baseURL = require.toUrl('').split('/').slice(0, -2).join('/');\n",
       "} else {\n",
       "    var baseURL = JSON.parse(\n",
       "        document.getElementById('jupyter-config-data').innerHTML\n",
       "    ).baseUrl.slice(0, -1);\n",
       "}\n",
       "url = baseURL + url;\n",
       "fetch(url).then(function(res) {\n",
       "    if (res.status === 404) {\n",
       "        div.innerHTML = 'Install QIIME 2 Jupyter extension with:<br />' +\n",
       "                        '<code>jupyter serverextension enable --py qiime2' +\n",
       "                        ' --sys-prefix</code><br />then restart your server.' +\n",
       "                        '<br /><br />(Interactive output not available on ' +\n",
       "                        'static notebook viewer services like nbviewer.)';\n",
       "    } else if (res.status === 409) {\n",
       "        div.innerHTML = 'Visualization no longer in scope. Re-run this cell' +\n",
       "                        ' to see the visualization.';\n",
       "    } else if (res.ok) {\n",
       "        url = res.url;\n",
       "        div.innerHTML = '<iframe src=\\'' + url + '\\' style=\\'' +\n",
       "                        'width: 100%; height: 700px; border: 0;\\'>' +\n",
       "                        '</iframe><hr />Open in a: <a href=\\'' + url + '\\'' +\n",
       "                        ' target=\\'_blank\\'>new window</a>'\n",
       "    } else {\n",
       "        div.innerHTML = 'Something has gone wrong. Check notebook server for' +\n",
       "                        ' errors.';\n",
       "    }\n",
       "});\n",
       "})(this.parentElement, '/qiime2/redirect?location=/tmp/qiime2/jovyan/data/6227924a-19fe-4b78-89e1-8222b4dd8b8b')\" src=\"data:image/gif;base64,R0lGODlhAQABAIAAAP///wAAACH5BAEAAAAALAAAAAABAAEAAAICRAEAOw==\" /></div>"
      ],
      "text/plain": [
       "<visualization: Visualization uuid: 6227924a-19fe-4b78-89e1-8222b4dd8b8b>"
      ]
     },
     "execution_count": 91,
     "metadata": {},
     "output_type": "execute_result"
    }
   ],
   "source": [
    "Visualization.load(f\"{data_dir_div}/pairwise-differences.qzv\")"
   ]
  },
  {
   "cell_type": "code",
   "execution_count": null,
   "id": "08fbcc69-fc19-4d79-9355-253799459321",
   "metadata": {},
   "outputs": [],
   "source": []
  },
  {
   "cell_type": "code",
   "execution_count": null,
   "id": "55aae12e-7dfc-4ee1-8eeb-89b0406dc496",
   "metadata": {},
   "outputs": [],
   "source": []
  },
  {
   "cell_type": "code",
   "execution_count": null,
   "id": "02f86023-1d9f-44a2-a229-143b455a3675",
   "metadata": {},
   "outputs": [],
   "source": []
  },
  {
   "cell_type": "code",
   "execution_count": null,
   "id": "8a3f1132-5797-4f09-8a8c-6bbc134cdeef",
   "metadata": {},
   "outputs": [],
   "source": []
  },
  {
   "cell_type": "code",
   "execution_count": null,
   "id": "4dc65aad-a1e9-403e-a775-53a9e7d6e3d8",
   "metadata": {},
   "outputs": [],
   "source": []
  },
  {
   "cell_type": "code",
   "execution_count": 15,
   "id": "3a8fe4ac-84c2-4899-a99a-6299659edb0a",
   "metadata": {
    "tags": []
   },
   "outputs": [
    {
     "name": "stdout",
     "output_type": "stream",
     "text": [
      "\u001b[32mSaved SampleData[AlphaDiversity] to: data/alpha_diversity/alpha_diversity.qza\u001b[0m\n",
      "\u001b[0m"
     ]
    }
   ],
   "source": [
    "#! qiime diversity alpha \\\n",
    "#  --i-table $data_dir/closed_reference_cluster/cr90_feature_table.qza \\\n",
    "#  --p-metric observed_features \\\n",
    "#  --o-alpha-diversity $data_dir_div/alpha_diversity.qza"
   ]
  },
  {
   "cell_type": "markdown",
   "id": "484b4971-bdd9-4683-b0fb-f6ca9a051237",
   "metadata": {},
   "source": [
    "Test the associations between categorical metadata columns and the Faith Phylogenetic Diversity (a measure of community richness) metric using the qiime diversity alpha-group-significance method (implementation of a one-way ANOVA method, namely Kruskal-Wallis test):"
   ]
  },
  {
   "cell_type": "code",
   "execution_count": 16,
   "id": "1a9b0179-c841-4c96-9911-362270ca31a8",
   "metadata": {
    "tags": []
   },
   "outputs": [
    {
     "name": "stdout",
     "output_type": "stream",
     "text": [
      "\u001b[32mSaved Visualization to: data/alpha_diversity/alpha_diversity.qzv\u001b[0m\n",
      "\u001b[0m"
     ]
    }
   ],
   "source": [
    "! qiime diversity alpha-group-significance \\\n",
    "  --i-alpha-diversity $data_dir_div/alpha_diversity.qza \\\n",
    "  --m-metadata-file $data_dir/pundemic_metadata.tsv \\\n",
    "  --o-visualization $data_dir_div/alpha_diversity.qzv"
   ]
  },
  {
   "cell_type": "code",
   "execution_count": 21,
   "id": "235aeedb-4a50-4cfe-90a5-1f00369455ec",
   "metadata": {
    "collapsed": true,
    "jupyter": {
     "outputs_hidden": true
    },
    "tags": []
   },
   "outputs": [
    {
     "data": {
      "text/html": [
       "<div><img onload=\"(function(div, url){\n",
       "if (typeof require !== 'undefined') {\n",
       "    var baseURL = require.toUrl('').split('/').slice(0, -2).join('/');\n",
       "} else {\n",
       "    var baseURL = JSON.parse(\n",
       "        document.getElementById('jupyter-config-data').innerHTML\n",
       "    ).baseUrl.slice(0, -1);\n",
       "}\n",
       "url = baseURL + url;\n",
       "fetch(url).then(function(res) {\n",
       "    if (res.status === 404) {\n",
       "        div.innerHTML = 'Install QIIME 2 Jupyter extension with:<br />' +\n",
       "                        '<code>jupyter serverextension enable --py qiime2' +\n",
       "                        ' --sys-prefix</code><br />then restart your server.' +\n",
       "                        '<br /><br />(Interactive output not available on ' +\n",
       "                        'static notebook viewer services like nbviewer.)';\n",
       "    } else if (res.status === 409) {\n",
       "        div.innerHTML = 'Visualization no longer in scope. Re-run this cell' +\n",
       "                        ' to see the visualization.';\n",
       "    } else if (res.ok) {\n",
       "        url = res.url;\n",
       "        div.innerHTML = '<iframe src=\\'' + url + '\\' style=\\'' +\n",
       "                        'width: 100%; height: 700px; border: 0;\\'>' +\n",
       "                        '</iframe><hr />Open in a: <a href=\\'' + url + '\\'' +\n",
       "                        ' target=\\'_blank\\'>new window</a>'\n",
       "    } else {\n",
       "        div.innerHTML = 'Something has gone wrong. Check notebook server for' +\n",
       "                        ' errors.';\n",
       "    }\n",
       "});\n",
       "})(this.parentElement, '/qiime2/redirect?location=/tmp/qiime2/jovyan/data/4e4e54b5-540b-499a-8095-3fc06e65757e')\" src=\"data:image/gif;base64,R0lGODlhAQABAIAAAP///wAAACH5BAEAAAAALAAAAAABAAEAAAICRAEAOw==\" /></div>"
      ],
      "text/plain": [
       "<visualization: Visualization uuid: 4e4e54b5-540b-499a-8095-3fc06e65757e>"
      ]
     },
     "execution_count": 21,
     "metadata": {},
     "output_type": "execute_result"
    }
   ],
   "source": [
    "Visualization.load(f\"{data_dir_div}/alpha_diversity.qzv\")"
   ]
  },
  {
   "cell_type": "markdown",
   "id": "3f00e6e9-0816-4619-9944-566d797fbe87",
   "metadata": {},
   "source": [
    "Next, we will test whether numeric sample metadata columns are correlated with microbial community richness by using the qiime diversity alpha-correlation method (implementation of Spearman correlation)."
   ]
  },
  {
   "cell_type": "code",
   "execution_count": 9,
   "id": "f609fe10-3c13-4777-b399-12b82c559c58",
   "metadata": {
    "tags": []
   },
   "outputs": [
    {
     "data": {
      "text/plain": [
       "id                               object\n",
       "patient_id                       object\n",
       "age                              object\n",
       "sex                              object\n",
       "ethnicity                        object\n",
       "continent                        object\n",
       "country                          object\n",
       "region                           object\n",
       "city                             object\n",
       "group                            object\n",
       "disease_subgroup                 object\n",
       "blinded_clinical_response        object\n",
       "puns_per_hour_pre_treatment     float64\n",
       "puns_per_hour_post_treatment    float64\n",
       "time_point                       object\n",
       "dtype: object"
      ]
     },
     "execution_count": 9,
     "metadata": {},
     "output_type": "execute_result"
    }
   ],
   "source": [
    "#make metadata columns numeric\n",
    "metadata.dtypes"
   ]
  },
  {
   "cell_type": "code",
   "execution_count": 6,
   "id": "46e1e241-ef1f-44b8-bb27-4d3aeb2e0e2a",
   "metadata": {
    "tags": []
   },
   "outputs": [
    {
     "data": {
      "text/plain": [
       "id                               object\n",
       "patient_id                      float64\n",
       "age                             float64\n",
       "sex                              object\n",
       "ethnicity                        object\n",
       "continent                        object\n",
       "country                          object\n",
       "region                           object\n",
       "city                             object\n",
       "group                            object\n",
       "disease_subgroup                 object\n",
       "blinded_clinical_response        object\n",
       "puns_per_hour_pre_treatment     float64\n",
       "puns_per_hour_post_treatment    float64\n",
       "time_point                       object\n",
       "dtype: object"
      ]
     },
     "execution_count": 6,
     "metadata": {},
     "output_type": "execute_result"
    }
   ],
   "source": [
    "#metadata['age'] = pd.to_numeric(metadata['age'], errors = 'coerce')\n",
    "metadata['patient_id'] = pd.to_numeric(metadata['patient_id'], errors = 'coerce')\n",
    "metadata.dtypes"
   ]
  },
  {
   "cell_type": "code",
   "execution_count": 7,
   "id": "ee5b23a8-c42a-437b-bbc3-f99396f2e7b4",
   "metadata": {
    "tags": []
   },
   "outputs": [],
   "source": [
    "metadata.to_csv(f'{data_dir}/pundemic_metadata_numeric.tsv', sep='\\t', index=False)"
   ]
  },
  {
   "cell_type": "code",
   "execution_count": 10,
   "id": "9afdb3ac-03b5-4f8c-9465-3b5dccb2defd",
   "metadata": {
    "tags": []
   },
   "outputs": [
    {
     "name": "stdout",
     "output_type": "stream",
     "text": [
      "\u001b[32mSaved Visualization to: data/alpha_diversity/alpha_correlation.qzv\u001b[0m\n",
      "\u001b[0m"
     ]
    }
   ],
   "source": [
    "! qiime diversity alpha-correlation \\\n",
    "  --i-alpha-diversity $data_dir_div/alpha_diversity.qza \\\n",
    "  --m-metadata-file $data_dir/pundemic_metadata_numeric.tsv \\\n",
    "  --o-visualization $data_dir_div/alpha_correlation.qzv"
   ]
  },
  {
   "cell_type": "code",
   "execution_count": 3,
   "id": "caffd607-e041-4939-8873-706705a976c6",
   "metadata": {
    "tags": []
   },
   "outputs": [
    {
     "data": {
      "text/html": [
       "<div><img onload=\"(function(div, url){\n",
       "if (typeof require !== 'undefined') {\n",
       "    var baseURL = require.toUrl('').split('/').slice(0, -2).join('/');\n",
       "} else {\n",
       "    var baseURL = JSON.parse(\n",
       "        document.getElementById('jupyter-config-data').innerHTML\n",
       "    ).baseUrl.slice(0, -1);\n",
       "}\n",
       "url = baseURL + url;\n",
       "fetch(url).then(function(res) {\n",
       "    if (res.status === 404) {\n",
       "        div.innerHTML = 'Install QIIME 2 Jupyter extension with:<br />' +\n",
       "                        '<code>jupyter serverextension enable --py qiime2' +\n",
       "                        ' --sys-prefix</code><br />then restart your server.' +\n",
       "                        '<br /><br />(Interactive output not available on ' +\n",
       "                        'static notebook viewer services like nbviewer.)';\n",
       "    } else if (res.status === 409) {\n",
       "        div.innerHTML = 'Visualization no longer in scope. Re-run this cell' +\n",
       "                        ' to see the visualization.';\n",
       "    } else if (res.ok) {\n",
       "        url = res.url;\n",
       "        div.innerHTML = '<iframe src=\\'' + url + '\\' style=\\'' +\n",
       "                        'width: 100%; height: 700px; border: 0;\\'>' +\n",
       "                        '</iframe><hr />Open in a: <a href=\\'' + url + '\\'' +\n",
       "                        ' target=\\'_blank\\'>new window</a>'\n",
       "    } else {\n",
       "        div.innerHTML = 'Something has gone wrong. Check notebook server for' +\n",
       "                        ' errors.';\n",
       "    }\n",
       "});\n",
       "})(this.parentElement, '/qiime2/redirect?location=/tmp/qiime2/jovyan/data/afcb7162-adc5-4158-a2d8-37ae55918fa0')\" src=\"data:image/gif;base64,R0lGODlhAQABAIAAAP///wAAACH5BAEAAAAALAAAAAABAAEAAAICRAEAOw==\" /></div>"
      ],
      "text/plain": [
       "<visualization: Visualization uuid: afcb7162-adc5-4158-a2d8-37ae55918fa0>"
      ]
     },
     "execution_count": 3,
     "metadata": {},
     "output_type": "execute_result"
    }
   ],
   "source": [
    "Visualization.load(f\"{data_dir_div}/alpha_correlation.qzv\")"
   ]
  },
  {
   "cell_type": "code",
   "execution_count": null,
   "id": "4829f0a7-7a96-4cd8-861d-e194528a624f",
   "metadata": {},
   "outputs": [],
   "source": []
  },
  {
   "cell_type": "raw",
   "id": "e0cc14a8-3fad-42c2-83b6-0996c46176f5",
   "metadata": {},
   "source": []
  }
 ],
 "metadata": {
  "kernelspec": {
   "display_name": "QIIME 2",
   "language": "python",
   "name": "python3"
  },
  "language_info": {
   "codemirror_mode": {
    "name": "ipython",
    "version": 3
   },
   "file_extension": ".py",
   "mimetype": "text/x-python",
   "name": "python",
   "nbconvert_exporter": "python",
   "pygments_lexer": "ipython3",
   "version": "3.9.19"
  }
 },
 "nbformat": 4,
 "nbformat_minor": 5
}
