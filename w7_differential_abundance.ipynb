{
 "cells": [
  {
   "cell_type": "markdown",
   "id": "01eb8e05-8a03-46b2-987f-4d4a57a40d09",
   "metadata": {},
   "source": [
    "# Differential Abundance"
   ]
  },
  {
   "cell_type": "code",
   "execution_count": 21,
   "id": "cae7c106-bf68-451d-a083-ac49abb2a584",
   "metadata": {
    "tags": []
   },
   "outputs": [],
   "source": [
    "import os\n",
    "import matplotlib.pyplot as plt\n",
    "import pandas as pd\n",
    "import qiime2 as q2\n",
    "from qiime2 import Visualization\n",
    "import seaborn as sns\n",
    "from scipy.stats import shapiro, kruskal, f_oneway\n",
    "import numpy as np\n",
    "    \n",
    "%matplotlib inline"
   ]
  },
  {
   "cell_type": "code",
   "execution_count": 22,
   "id": "af5291e4-e596-4928-a813-a5c630b8589e",
   "metadata": {
    "tags": []
   },
   "outputs": [],
   "source": [
    "data_dir = 'data/'\n",
    "data_dir_diff = 'data/differential_abundance/'"
   ]
  },
  {
   "cell_type": "code",
   "execution_count": 23,
   "id": "e2287f7a-a031-4b2d-b3af-702d2390c585",
   "metadata": {
    "collapsed": true,
    "jupyter": {
     "outputs_hidden": true
    },
    "tags": []
   },
   "outputs": [
    {
     "data": {
      "text/html": [
       "<div><img onload=\"(function(div, url){\n",
       "if (typeof require !== 'undefined') {\n",
       "    var baseURL = require.toUrl('').split('/').slice(0, -2).join('/');\n",
       "} else {\n",
       "    var baseURL = JSON.parse(\n",
       "        document.getElementById('jupyter-config-data').innerHTML\n",
       "    ).baseUrl.slice(0, -1);\n",
       "}\n",
       "url = baseURL + url;\n",
       "fetch(url).then(function(res) {\n",
       "    if (res.status === 404) {\n",
       "        div.innerHTML = 'Install QIIME 2 Jupyter extension with:<br />' +\n",
       "                        '<code>jupyter serverextension enable --py qiime2' +\n",
       "                        ' --sys-prefix</code><br />then restart your server.' +\n",
       "                        '<br /><br />(Interactive output not available on ' +\n",
       "                        'static notebook viewer services like nbviewer.)';\n",
       "    } else if (res.status === 409) {\n",
       "        div.innerHTML = 'Visualization no longer in scope. Re-run this cell' +\n",
       "                        ' to see the visualization.';\n",
       "    } else if (res.ok) {\n",
       "        url = res.url;\n",
       "        div.innerHTML = '<iframe src=\\'' + url + '\\' style=\\'' +\n",
       "                        'width: 100%; height: 700px; border: 0;\\'>' +\n",
       "                        '</iframe><hr />Open in a: <a href=\\'' + url + '\\'' +\n",
       "                        ' target=\\'_blank\\'>new window</a>'\n",
       "    } else {\n",
       "        div.innerHTML = 'Something has gone wrong. Check notebook server for' +\n",
       "                        ' errors.';\n",
       "    }\n",
       "});\n",
       "})(this.parentElement, '/qiime2/redirect?location=/tmp/qiime2/jovyan/data/6571fb47-d3e5-47b7-b684-a7f016aecfb2')\" src=\"data:image/gif;base64,R0lGODlhAQABAIAAAP///wAAACH5BAEAAAAALAAAAAABAAEAAAICRAEAOw==\" /></div>"
      ],
      "text/plain": [
       "<visualization: Visualization uuid: 6571fb47-d3e5-47b7-b684-a7f016aecfb2>"
      ]
     },
     "execution_count": 23,
     "metadata": {},
     "output_type": "execute_result"
    }
   ],
   "source": [
    "Visualization.load(f\"{data_dir}/closed_reference_cluster/table-filtered.qzv\")"
   ]
  },
  {
   "cell_type": "code",
   "execution_count": 24,
   "id": "f0540ea5-c5a4-4986-a592-16a1d4acbddd",
   "metadata": {
    "tags": []
   },
   "outputs": [],
   "source": [
    "data = q2.Artifact.load(f'{data_dir}/closed_reference_cluster/table-filtered.qza').view(pd.DataFrame)"
   ]
  },
  {
   "cell_type": "code",
   "execution_count": 25,
   "id": "8947d835-1f63-4d3b-8b16-428636ecbf06",
   "metadata": {
    "tags": []
   },
   "outputs": [
    {
     "data": {
      "text/html": [
       "<div>\n",
       "<style scoped>\n",
       "    .dataframe tbody tr th:only-of-type {\n",
       "        vertical-align: middle;\n",
       "    }\n",
       "\n",
       "    .dataframe tbody tr th {\n",
       "        vertical-align: top;\n",
       "    }\n",
       "\n",
       "    .dataframe thead th {\n",
       "        text-align: right;\n",
       "    }\n",
       "</style>\n",
       "<table border=\"1\" class=\"dataframe\">\n",
       "  <thead>\n",
       "    <tr style=\"text-align: right;\">\n",
       "      <th></th>\n",
       "      <th>SH1326835.10FU_KY104094_reps</th>\n",
       "      <th>SH1218977.10FU_GQ329853_refs</th>\n",
       "      <th>SH1290755.10FU_KT799194_reps</th>\n",
       "      <th>SH1338507.10FU_MT974688_reps</th>\n",
       "      <th>SH1352130.10FU_UDB015372_refs</th>\n",
       "      <th>SH1070243.10FU_JN205919_refs</th>\n",
       "      <th>SH1079092.10FU_FR748051_refs</th>\n",
       "      <th>SH1307526.10FU_KU059952_reps</th>\n",
       "      <th>SH1060511.10FU_MK432703_reps</th>\n",
       "      <th>SH1330483.10FU_AF294699_refs</th>\n",
       "      <th>...</th>\n",
       "      <th>SH1382010.10FU_KC521541_reps</th>\n",
       "      <th>SH1357433.10FU_EU714323_refs</th>\n",
       "      <th>SH1254031.10FU_AJ271033_refs</th>\n",
       "      <th>SH1277533.10FU_AY046153_refs</th>\n",
       "      <th>SH1151321.10FU_HQ999978_refs</th>\n",
       "      <th>SH1402560.10FU_FM178254_refs</th>\n",
       "      <th>SH1307933.10FU_KY469041_reps</th>\n",
       "      <th>SH1300597.10FU_OU989370_reps</th>\n",
       "      <th>SH1083411.10FU_KJ081125_reps</th>\n",
       "      <th>SH1156729.10FU_KY103384_refs</th>\n",
       "    </tr>\n",
       "  </thead>\n",
       "  <tbody>\n",
       "    <tr>\n",
       "      <th>SRR10505051</th>\n",
       "      <td>0.0</td>\n",
       "      <td>0.0</td>\n",
       "      <td>0.0</td>\n",
       "      <td>10.0</td>\n",
       "      <td>0.0</td>\n",
       "      <td>0.0</td>\n",
       "      <td>0.0</td>\n",
       "      <td>0.0</td>\n",
       "      <td>0.0</td>\n",
       "      <td>0.0</td>\n",
       "      <td>...</td>\n",
       "      <td>0.0</td>\n",
       "      <td>0.0</td>\n",
       "      <td>0.0</td>\n",
       "      <td>0.0</td>\n",
       "      <td>0.0</td>\n",
       "      <td>0.0</td>\n",
       "      <td>0.0</td>\n",
       "      <td>0.0</td>\n",
       "      <td>0.0</td>\n",
       "      <td>0.0</td>\n",
       "    </tr>\n",
       "    <tr>\n",
       "      <th>SRR10505052</th>\n",
       "      <td>0.0</td>\n",
       "      <td>0.0</td>\n",
       "      <td>0.0</td>\n",
       "      <td>0.0</td>\n",
       "      <td>0.0</td>\n",
       "      <td>0.0</td>\n",
       "      <td>0.0</td>\n",
       "      <td>0.0</td>\n",
       "      <td>0.0</td>\n",
       "      <td>0.0</td>\n",
       "      <td>...</td>\n",
       "      <td>0.0</td>\n",
       "      <td>0.0</td>\n",
       "      <td>0.0</td>\n",
       "      <td>0.0</td>\n",
       "      <td>0.0</td>\n",
       "      <td>0.0</td>\n",
       "      <td>0.0</td>\n",
       "      <td>0.0</td>\n",
       "      <td>0.0</td>\n",
       "      <td>0.0</td>\n",
       "    </tr>\n",
       "    <tr>\n",
       "      <th>SRR10505053</th>\n",
       "      <td>0.0</td>\n",
       "      <td>0.0</td>\n",
       "      <td>0.0</td>\n",
       "      <td>24.0</td>\n",
       "      <td>0.0</td>\n",
       "      <td>0.0</td>\n",
       "      <td>0.0</td>\n",
       "      <td>0.0</td>\n",
       "      <td>0.0</td>\n",
       "      <td>13.0</td>\n",
       "      <td>...</td>\n",
       "      <td>0.0</td>\n",
       "      <td>0.0</td>\n",
       "      <td>0.0</td>\n",
       "      <td>0.0</td>\n",
       "      <td>0.0</td>\n",
       "      <td>0.0</td>\n",
       "      <td>0.0</td>\n",
       "      <td>0.0</td>\n",
       "      <td>0.0</td>\n",
       "      <td>0.0</td>\n",
       "    </tr>\n",
       "    <tr>\n",
       "      <th>SRR10505054</th>\n",
       "      <td>0.0</td>\n",
       "      <td>0.0</td>\n",
       "      <td>0.0</td>\n",
       "      <td>3.0</td>\n",
       "      <td>0.0</td>\n",
       "      <td>0.0</td>\n",
       "      <td>0.0</td>\n",
       "      <td>0.0</td>\n",
       "      <td>0.0</td>\n",
       "      <td>0.0</td>\n",
       "      <td>...</td>\n",
       "      <td>0.0</td>\n",
       "      <td>0.0</td>\n",
       "      <td>0.0</td>\n",
       "      <td>0.0</td>\n",
       "      <td>0.0</td>\n",
       "      <td>0.0</td>\n",
       "      <td>0.0</td>\n",
       "      <td>0.0</td>\n",
       "      <td>0.0</td>\n",
       "      <td>0.0</td>\n",
       "    </tr>\n",
       "    <tr>\n",
       "      <th>SRR10505055</th>\n",
       "      <td>0.0</td>\n",
       "      <td>0.0</td>\n",
       "      <td>0.0</td>\n",
       "      <td>10.0</td>\n",
       "      <td>0.0</td>\n",
       "      <td>0.0</td>\n",
       "      <td>0.0</td>\n",
       "      <td>0.0</td>\n",
       "      <td>0.0</td>\n",
       "      <td>0.0</td>\n",
       "      <td>...</td>\n",
       "      <td>0.0</td>\n",
       "      <td>0.0</td>\n",
       "      <td>0.0</td>\n",
       "      <td>0.0</td>\n",
       "      <td>0.0</td>\n",
       "      <td>0.0</td>\n",
       "      <td>0.0</td>\n",
       "      <td>0.0</td>\n",
       "      <td>0.0</td>\n",
       "      <td>0.0</td>\n",
       "    </tr>\n",
       "  </tbody>\n",
       "</table>\n",
       "<p>5 rows × 320 columns</p>\n",
       "</div>"
      ],
      "text/plain": [
       "             SH1326835.10FU_KY104094_reps  SH1218977.10FU_GQ329853_refs  \\\n",
       "SRR10505051                           0.0                           0.0   \n",
       "SRR10505052                           0.0                           0.0   \n",
       "SRR10505053                           0.0                           0.0   \n",
       "SRR10505054                           0.0                           0.0   \n",
       "SRR10505055                           0.0                           0.0   \n",
       "\n",
       "             SH1290755.10FU_KT799194_reps  SH1338507.10FU_MT974688_reps  \\\n",
       "SRR10505051                           0.0                          10.0   \n",
       "SRR10505052                           0.0                           0.0   \n",
       "SRR10505053                           0.0                          24.0   \n",
       "SRR10505054                           0.0                           3.0   \n",
       "SRR10505055                           0.0                          10.0   \n",
       "\n",
       "             SH1352130.10FU_UDB015372_refs  SH1070243.10FU_JN205919_refs  \\\n",
       "SRR10505051                            0.0                           0.0   \n",
       "SRR10505052                            0.0                           0.0   \n",
       "SRR10505053                            0.0                           0.0   \n",
       "SRR10505054                            0.0                           0.0   \n",
       "SRR10505055                            0.0                           0.0   \n",
       "\n",
       "             SH1079092.10FU_FR748051_refs  SH1307526.10FU_KU059952_reps  \\\n",
       "SRR10505051                           0.0                           0.0   \n",
       "SRR10505052                           0.0                           0.0   \n",
       "SRR10505053                           0.0                           0.0   \n",
       "SRR10505054                           0.0                           0.0   \n",
       "SRR10505055                           0.0                           0.0   \n",
       "\n",
       "             SH1060511.10FU_MK432703_reps  SH1330483.10FU_AF294699_refs  ...  \\\n",
       "SRR10505051                           0.0                           0.0  ...   \n",
       "SRR10505052                           0.0                           0.0  ...   \n",
       "SRR10505053                           0.0                          13.0  ...   \n",
       "SRR10505054                           0.0                           0.0  ...   \n",
       "SRR10505055                           0.0                           0.0  ...   \n",
       "\n",
       "             SH1382010.10FU_KC521541_reps  SH1357433.10FU_EU714323_refs  \\\n",
       "SRR10505051                           0.0                           0.0   \n",
       "SRR10505052                           0.0                           0.0   \n",
       "SRR10505053                           0.0                           0.0   \n",
       "SRR10505054                           0.0                           0.0   \n",
       "SRR10505055                           0.0                           0.0   \n",
       "\n",
       "             SH1254031.10FU_AJ271033_refs  SH1277533.10FU_AY046153_refs  \\\n",
       "SRR10505051                           0.0                           0.0   \n",
       "SRR10505052                           0.0                           0.0   \n",
       "SRR10505053                           0.0                           0.0   \n",
       "SRR10505054                           0.0                           0.0   \n",
       "SRR10505055                           0.0                           0.0   \n",
       "\n",
       "             SH1151321.10FU_HQ999978_refs  SH1402560.10FU_FM178254_refs  \\\n",
       "SRR10505051                           0.0                           0.0   \n",
       "SRR10505052                           0.0                           0.0   \n",
       "SRR10505053                           0.0                           0.0   \n",
       "SRR10505054                           0.0                           0.0   \n",
       "SRR10505055                           0.0                           0.0   \n",
       "\n",
       "             SH1307933.10FU_KY469041_reps  SH1300597.10FU_OU989370_reps  \\\n",
       "SRR10505051                           0.0                           0.0   \n",
       "SRR10505052                           0.0                           0.0   \n",
       "SRR10505053                           0.0                           0.0   \n",
       "SRR10505054                           0.0                           0.0   \n",
       "SRR10505055                           0.0                           0.0   \n",
       "\n",
       "             SH1083411.10FU_KJ081125_reps  SH1156729.10FU_KY103384_refs  \n",
       "SRR10505051                           0.0                           0.0  \n",
       "SRR10505052                           0.0                           0.0  \n",
       "SRR10505053                           0.0                           0.0  \n",
       "SRR10505054                           0.0                           0.0  \n",
       "SRR10505055                           0.0                           0.0  \n",
       "\n",
       "[5 rows x 320 columns]"
      ]
     },
     "execution_count": 25,
     "metadata": {},
     "output_type": "execute_result"
    }
   ],
   "source": [
    "data.head()"
   ]
  },
  {
   "cell_type": "code",
   "execution_count": 26,
   "id": "d5eb656b-0a1a-4b57-853c-ca4466ca8a2c",
   "metadata": {
    "tags": []
   },
   "outputs": [
    {
     "data": {
      "text/plain": [
       "Index(['SH1326835.10FU_KY104094_reps', 'SH1218977.10FU_GQ329853_refs',\n",
       "       'SH1290755.10FU_KT799194_reps'],\n",
       "      dtype='object')"
      ]
     },
     "execution_count": 26,
     "metadata": {},
     "output_type": "execute_result"
    }
   ],
   "source": [
    "top_three = data[data.sum()[:3].index]\n",
    "top_three.columns"
   ]
  },
  {
   "cell_type": "code",
   "execution_count": 27,
   "id": "5fea2b30-0f3e-46f4-b3b3-6b5e5ed9851a",
   "metadata": {
    "tags": []
   },
   "outputs": [
    {
     "data": {
      "image/png": "[encoded data removed]",
      "text/plain": [
       "<Figure size 640x480 with 1 Axes>"
      ]
     },
     "metadata": {},
     "output_type": "display_data"
    }
   ],
   "source": [
    "sns.violinplot(data = top_three)\n",
    "plt.xlabel(\"Top 3 Feature IDs\")\n",
    "plt.ylabel(\"Abundance\")\n",
    "plt.xticks(rotation = 45)\n",
    "plt.show()"
   ]
  },
  {
   "cell_type": "code",
   "execution_count": 28,
   "id": "f5eda29f-3afb-4274-af1d-a46c9f5b4bb7",
   "metadata": {
    "tags": []
   },
   "outputs": [],
   "source": [
    "n = 10\n",
    "\n",
    "# draw n ASVs out of the original DataFrame\n",
    "data_samp = data.sample(n = n, axis = 1, random_state = 234)\n",
    "\n",
    "# create a new DataFrame with three columns (sample, ASV, abundance)\n",
    "col_names = {'level_0': 'sample', 'level_1': 'asv', 0: 'count'}\n",
    "data_plot = data_samp.stack().reset_index().rename(columns=col_names)\n",
    "\n",
    "# make sure the shape is correct (no. of rows should be equal to the size of our random \n",
    "# sample multiplied by number of samples)\n",
    "assert data_plot.shape[0] == n * data_samp.shape[0], 'The new DataFrame has an incorrect no. of rows.'"
   ]
  },
  {
   "cell_type": "code",
   "execution_count": 29,
   "id": "07bf5964-1b8d-4fbf-9daa-9239c5494cdb",
   "metadata": {
    "tags": []
   },
   "outputs": [
    {
     "data": {
      "image/png": "[encoded data removed]",
      "text/plain": [
       "<Figure size 1500x750 with 1 Axes>"
      ]
     },
     "metadata": {},
     "output_type": "display_data"
    }
   ],
   "source": [
    "with sns.axes_style('white'), sns.color_palette('Set1'):\n",
    "    fig, ax = plt.subplots()\n",
    "    fig.set_size_inches(15, 7.5)\n",
    "    \n",
    "    sns.violinplot(data=data_plot, x='asv', y='count', ax=ax)\n",
    "    sns.despine(left=True)\n",
    "    \n",
    "    # adjust tick labels and axes titles\n",
    "    ax.tick_params(axis='x', rotation=90, labelsize=11)\n",
    "    ax.tick_params(axis='y', labelsize=11)\n",
    "    ax.set_xlabel('ASV', fontsize=14)\n",
    "    ax.set_ylabel('Count', fontsize=14)"
   ]
  },
  {
   "cell_type": "markdown",
   "id": "9ea4408a-3e0e-4b91-a4da-b31ebbc6d428",
   "metadata": {},
   "source": [
    "## Test for Data Normality (Shapiro-Wilk Test)"
   ]
  },
  {
   "cell_type": "code",
   "execution_count": 30,
   "id": "2a1df4e8-30cb-4c37-ab17-67487abccf21",
   "metadata": {
    "tags": []
   },
   "outputs": [],
   "source": [
    "alpha = 0.05\n",
    "results = {}\n",
    "\n",
    "# iterate through rows (samples) and test each of them for normality\n",
    "for asv_name, asv_values in data.items():\n",
    "    stat, p = shapiro(asv_values)\n",
    "    results[asv_name] = p\n",
    "\n",
    "# convert test results into a DataFrame\n",
    "results_df = pd.DataFrame(data=results.values(), index=results.keys(), columns=['p'])\n",
    "\n",
    "# add a new column with a descriptive test result\n",
    "results_df['is_normal'] = results_df['p'] > alpha"
   ]
  },
  {
   "cell_type": "code",
   "execution_count": 31,
   "id": "6e241b1c-1c04-44ff-951c-58f6ef6611ea",
   "metadata": {
    "tags": []
   },
   "outputs": [
    {
     "data": {
      "text/html": [
       "<div>\n",
       "<style scoped>\n",
       "    .dataframe tbody tr th:only-of-type {\n",
       "        vertical-align: middle;\n",
       "    }\n",
       "\n",
       "    .dataframe tbody tr th {\n",
       "        vertical-align: top;\n",
       "    }\n",
       "\n",
       "    .dataframe thead th {\n",
       "        text-align: right;\n",
       "    }\n",
       "</style>\n",
       "<table border=\"1\" class=\"dataframe\">\n",
       "  <thead>\n",
       "    <tr style=\"text-align: right;\">\n",
       "      <th></th>\n",
       "      <th>p</th>\n",
       "      <th>is_normal</th>\n",
       "    </tr>\n",
       "  </thead>\n",
       "  <tbody>\n",
       "    <tr>\n",
       "      <th>SH1326835.10FU_KY104094_reps</th>\n",
       "      <td>3.163260e-22</td>\n",
       "      <td>False</td>\n",
       "    </tr>\n",
       "    <tr>\n",
       "      <th>SH1218977.10FU_GQ329853_refs</th>\n",
       "      <td>1.012888e-22</td>\n",
       "      <td>False</td>\n",
       "    </tr>\n",
       "    <tr>\n",
       "      <th>SH1290755.10FU_KT799194_reps</th>\n",
       "      <td>1.012888e-22</td>\n",
       "      <td>False</td>\n",
       "    </tr>\n",
       "    <tr>\n",
       "      <th>SH1338507.10FU_MT974688_reps</th>\n",
       "      <td>1.644800e-21</td>\n",
       "      <td>False</td>\n",
       "    </tr>\n",
       "    <tr>\n",
       "      <th>SH1352130.10FU_UDB015372_refs</th>\n",
       "      <td>1.012888e-22</td>\n",
       "      <td>False</td>\n",
       "    </tr>\n",
       "  </tbody>\n",
       "</table>\n",
       "</div>"
      ],
      "text/plain": [
       "                                          p  is_normal\n",
       "SH1326835.10FU_KY104094_reps   3.163260e-22      False\n",
       "SH1218977.10FU_GQ329853_refs   1.012888e-22      False\n",
       "SH1290755.10FU_KT799194_reps   1.012888e-22      False\n",
       "SH1338507.10FU_MT974688_reps   1.644800e-21      False\n",
       "SH1352130.10FU_UDB015372_refs  1.012888e-22      False"
      ]
     },
     "execution_count": 31,
     "metadata": {},
     "output_type": "execute_result"
    }
   ],
   "source": [
    "results_df.head()"
   ]
  },
  {
   "cell_type": "code",
   "execution_count": 32,
   "id": "bb10102c-723b-45b9-9084-572e4267ca69",
   "metadata": {
    "tags": []
   },
   "outputs": [
    {
     "name": "stdout",
     "output_type": "stream",
     "text": [
      "Number of ASVs with normal distribution: 0\n"
     ]
    }
   ],
   "source": [
    "print('Number of ASVs with normal distribution:', results_df['is_normal'].sum())"
   ]
  },
  {
   "cell_type": "markdown",
   "id": "0bdb86fc-508f-4027-a89e-76cae3b4cf5e",
   "metadata": {},
   "source": [
    "As expected the data are sparse and not normally distributed."
   ]
  },
  {
   "cell_type": "markdown",
   "id": "54db5883-75b2-45b8-915d-0a0812f20148",
   "metadata": {},
   "source": [
    "## ANCOM (ASV level)"
   ]
  },
  {
   "cell_type": "code",
   "execution_count": 124,
   "id": "7b2676fe-9550-42b9-afd4-e8f10b904a21",
   "metadata": {
    "tags": []
   },
   "outputs": [
    {
     "data": {
      "text/plain": [
       "SH1382505.10FU_EF567995_refs       849270.0\n",
       "SH1338507.10FU_MT974688_reps       813334.0\n",
       "SH1085902.10FU_AB018043_refs       616525.0\n",
       "SH1392968.10FU_KJ956016_reps       347613.0\n",
       "SH1089542.10FU_KM209325_reps       270017.0\n",
       "                                     ...   \n",
       "SH1229033.10FU_JF978087_reps            3.0\n",
       "SH1245415.10FU_UDB07249027_reps         2.0\n",
       "SH1054565.10FU_MK776933_reps            2.0\n",
       "SH1108338.10FU_JX233500_reps            2.0\n",
       "SH1357459.10FU_AB498940_refs            2.0\n",
       "Length: 414, dtype: float64"
      ]
     },
     "execution_count": 124,
     "metadata": {},
     "output_type": "execute_result"
    }
   ],
   "source": [
    "np.sum(data, axis = 0).sort_values(ascending = False)"
   ]
  },
  {
   "cell_type": "code",
   "execution_count": 33,
   "id": "4aad2fc1-de4b-4d48-b3b0-72b22307bf61",
   "metadata": {
    "tags": []
   },
   "outputs": [
    {
     "name": "stdout",
     "output_type": "stream",
     "text": [
      "\u001b[32mSaved FeatureTable[Frequency] to: data/differential_abundance//table_abund.qza\u001b[0m\n",
      "\u001b[0m"
     ]
    }
   ],
   "source": [
    "! qiime feature-table filter-features \\\n",
    "    --i-table $data_dir/closed_reference_cluster/table-filtered.qza \\\n",
    "    --p-min-frequency 25 \\\n",
    "    --p-min-samples 6 \\\n",
    "    --o-filtered-table $data_dir_diff/table_abund.qza"
   ]
  },
  {
   "cell_type": "markdown",
   "id": "06d14300-2393-46e4-a6f9-558d1aa9e522",
   "metadata": {},
   "source": [
    "### Healed vs Healthy"
   ]
  },
  {
   "cell_type": "code",
   "execution_count": 34,
   "id": "3f19b96d-aefd-4e7d-9515-4b13a3abfdda",
   "metadata": {
    "tags": []
   },
   "outputs": [
    {
     "name": "stdout",
     "output_type": "stream",
     "text": [
      "\u001b[32mSaved FeatureTable[Frequency] to: data/differential_abundance//table_abund_healthy_healed.qza\u001b[0m\n",
      "\u001b[0m"
     ]
    }
   ],
   "source": [
    "! qiime feature-table filter-samples \\\n",
    "    --i-table $data_dir_diff/table_abund.qza \\\n",
    "    --m-metadata-file $data_dir/pundemic_metadata_subgroup_response_all.tsv \\\n",
    "    --p-where \"[disease_status]='Healthy' or [disease_status]='Healed'\" \\\n",
    "    --o-filtered-table $data_dir_diff/table_abund_healthy_healed.qza"
   ]
  },
  {
   "cell_type": "code",
   "execution_count": 35,
   "id": "06bd1c34-3ceb-4305-b125-91088a890bda",
   "metadata": {
    "tags": []
   },
   "outputs": [
    {
     "name": "stdout",
     "output_type": "stream",
     "text": [
      "\u001b[32mSaved FeatureData[DifferentialAbundance] to: data/differential_abundance//ancombc_healthy_healed.qza\u001b[0m\n",
      "\u001b[0m\u001b[32mSaved Visualization to: data/differential_abundance//ancombc_healthy_healed_barplot.qzv\u001b[0m\n",
      "\u001b[0m\u001b[32mSaved Visualization to: data/differential_abundance//ancombc_healthy_healed.qzv\u001b[0m\n",
      "\u001b[0m"
     ]
    }
   ],
   "source": [
    "! qiime composition ancombc \\\n",
    "    --i-table $data_dir_diff/table_abund_healthy_healed.qza \\\n",
    "    --m-metadata-file $data_dir/pundemic_metadata_subgroup_response_all.tsv \\\n",
    "    --p-formula disease_status \\\n",
    "    --o-differentials $data_dir_diff/ancombc_healthy_healed.qza\n",
    "\n",
    "# Generate a barplot of differentially abundant taxa between environments\n",
    "! qiime composition da-barplot \\\n",
    "    --i-data $data_dir_diff/ancombc_healthy_healed.qza \\\n",
    "    --o-visualization $data_dir_diff/ancombc_healthy_healed_barplot.qzv\n",
    "\n",
    "# Generate a table of these same values for all taxa\n",
    "! qiime composition tabulate \\\n",
    "    --i-data $data_dir_diff/ancombc_healthy_healed.qza \\\n",
    "    --o-visualization $data_dir_diff/ancombc_healthy_healed.qzv"
   ]
  },
  {
   "cell_type": "code",
   "execution_count": 14,
   "id": "bf6be6c2-b0fd-468f-a9cf-27377d48a1ff",
   "metadata": {
    "collapsed": true,
    "jupyter": {
     "outputs_hidden": true
    },
    "tags": []
   },
   "outputs": [
    {
     "data": {
      "text/html": [
       "<div><img onload=\"(function(div, url){\n",
       "if (typeof require !== 'undefined') {\n",
       "    var baseURL = require.toUrl('').split('/').slice(0, -2).join('/');\n",
       "} else {\n",
       "    var baseURL = JSON.parse(\n",
       "        document.getElementById('jupyter-config-data').innerHTML\n",
       "    ).baseUrl.slice(0, -1);\n",
       "}\n",
       "url = baseURL + url;\n",
       "fetch(url).then(function(res) {\n",
       "    if (res.status === 404) {\n",
       "        div.innerHTML = 'Install QIIME 2 Jupyter extension with:<br />' +\n",
       "                        '<code>jupyter serverextension enable --py qiime2' +\n",
       "                        ' --sys-prefix</code><br />then restart your server.' +\n",
       "                        '<br /><br />(Interactive output not available on ' +\n",
       "                        'static notebook viewer services like nbviewer.)';\n",
       "    } else if (res.status === 409) {\n",
       "        div.innerHTML = 'Visualization no longer in scope. Re-run this cell' +\n",
       "                        ' to see the visualization.';\n",
       "    } else if (res.ok) {\n",
       "        url = res.url;\n",
       "        div.innerHTML = '<iframe src=\\'' + url + '\\' style=\\'' +\n",
       "                        'width: 100%; height: 700px; border: 0;\\'>' +\n",
       "                        '</iframe><hr />Open in a: <a href=\\'' + url + '\\'' +\n",
       "                        ' target=\\'_blank\\'>new window</a>'\n",
       "    } else {\n",
       "        div.innerHTML = 'Something has gone wrong. Check notebook server for' +\n",
       "                        ' errors.';\n",
       "    }\n",
       "});\n",
       "})(this.parentElement, '/qiime2/redirect?location=/tmp/qiime2/jovyan/data/3c8f5d7f-a770-4eb4-b03b-5e7a5f212002')\" src=\"data:image/gif;base64,R0lGODlhAQABAIAAAP///wAAACH5BAEAAAAALAAAAAABAAEAAAICRAEAOw==\" /></div>"
      ],
      "text/plain": [
       "<visualization: Visualization uuid: 3c8f5d7f-a770-4eb4-b03b-5e7a5f212002>"
      ]
     },
     "execution_count": 14,
     "metadata": {},
     "output_type": "execute_result"
    }
   ],
   "source": [
    "Visualization.load(f\"{data_dir_diff}/ancombc_healthy_healed.qzv\")"
   ]
  },
  {
   "cell_type": "code",
   "execution_count": 15,
   "id": "d2c1c56a-baf5-488e-9c01-9ebbfb20157f",
   "metadata": {
    "collapsed": true,
    "jupyter": {
     "outputs_hidden": true
    },
    "tags": []
   },
   "outputs": [
    {
     "data": {
      "text/html": [
       "<div><img onload=\"(function(div, url){\n",
       "if (typeof require !== 'undefined') {\n",
       "    var baseURL = require.toUrl('').split('/').slice(0, -2).join('/');\n",
       "} else {\n",
       "    var baseURL = JSON.parse(\n",
       "        document.getElementById('jupyter-config-data').innerHTML\n",
       "    ).baseUrl.slice(0, -1);\n",
       "}\n",
       "url = baseURL + url;\n",
       "fetch(url).then(function(res) {\n",
       "    if (res.status === 404) {\n",
       "        div.innerHTML = 'Install QIIME 2 Jupyter extension with:<br />' +\n",
       "                        '<code>jupyter serverextension enable --py qiime2' +\n",
       "                        ' --sys-prefix</code><br />then restart your server.' +\n",
       "                        '<br /><br />(Interactive output not available on ' +\n",
       "                        'static notebook viewer services like nbviewer.)';\n",
       "    } else if (res.status === 409) {\n",
       "        div.innerHTML = 'Visualization no longer in scope. Re-run this cell' +\n",
       "                        ' to see the visualization.';\n",
       "    } else if (res.ok) {\n",
       "        url = res.url;\n",
       "        div.innerHTML = '<iframe src=\\'' + url + '\\' style=\\'' +\n",
       "                        'width: 100%; height: 700px; border: 0;\\'>' +\n",
       "                        '</iframe><hr />Open in a: <a href=\\'' + url + '\\'' +\n",
       "                        ' target=\\'_blank\\'>new window</a>'\n",
       "    } else {\n",
       "        div.innerHTML = 'Something has gone wrong. Check notebook server for' +\n",
       "                        ' errors.';\n",
       "    }\n",
       "});\n",
       "})(this.parentElement, '/qiime2/redirect?location=/tmp/qiime2/jovyan/data/65cd8e20-54b7-4add-b8d7-82c5ca345b3f')\" src=\"data:image/gif;base64,R0lGODlhAQABAIAAAP///wAAACH5BAEAAAAALAAAAAABAAEAAAICRAEAOw==\" /></div>"
      ],
      "text/plain": [
       "<visualization: Visualization uuid: 65cd8e20-54b7-4add-b8d7-82c5ca345b3f>"
      ]
     },
     "execution_count": 15,
     "metadata": {},
     "output_type": "execute_result"
    }
   ],
   "source": [
    "Visualization.load(f\"{data_dir_diff}/ancombc_healthy_healed_barplot.qzv\")"
   ]
  },
  {
   "cell_type": "markdown",
   "id": "ebfebf41-e644-489b-a199-86b5348270e4",
   "metadata": {},
   "source": [
    "Since the q-value is always 1 it means that all features are not differential abundant across healed and healthy patients. Meaning we could treat them as one group from now on."
   ]
  },
  {
   "cell_type": "markdown",
   "id": "f162533c-1734-4ff7-a3ee-9f08d81578a3",
   "metadata": {},
   "source": [
    "### Healthy vs. Puns"
   ]
  },
  {
   "cell_type": "code",
   "execution_count": 36,
   "id": "13e304cd-e1ff-46c3-856d-bbb0ac3c1987",
   "metadata": {
    "tags": []
   },
   "outputs": [
    {
     "name": "stdout",
     "output_type": "stream",
     "text": [
      "\u001b[32mSaved FeatureTable[Frequency] to: data/differential_abundance//table_abund_healthy_puns.qza\u001b[0m\n",
      "\u001b[0m"
     ]
    }
   ],
   "source": [
    "! qiime feature-table filter-samples \\\n",
    "    --i-table $data_dir_diff/table_abund.qza \\\n",
    "    --m-metadata-file $data_dir/pundemic_metadata_subgroup_response_all.tsv \\\n",
    "    --p-where \"[disease_status]='Healthy' or [disease_status]='Puns'\" \\\n",
    "    --o-filtered-table $data_dir_diff/table_abund_healthy_puns.qza"
   ]
  },
  {
   "cell_type": "code",
   "execution_count": 37,
   "id": "e16c64c5-23e6-4c68-9934-1bc6ff629ace",
   "metadata": {
    "tags": []
   },
   "outputs": [
    {
     "name": "stdout",
     "output_type": "stream",
     "text": [
      "\u001b[32mSaved Visualization to: data/differential_abundance//table_abund_healthy_puns.qzv\u001b[0m\n",
      "\u001b[0m"
     ]
    }
   ],
   "source": [
    "! qiime feature-table summarize \\\n",
    "    --i-table $data_dir_diff/table_abund_healthy_puns.qza \\\n",
    "    --m-sample-metadata-file $data_dir/pundemic_metadata_subgroup_response_all.tsv \\\n",
    "    --o-visualization $data_dir_diff/table_abund_healthy_puns.qzv"
   ]
  },
  {
   "cell_type": "code",
   "execution_count": 128,
   "id": "ab201603-fa13-450e-841e-5623be26272c",
   "metadata": {
    "collapsed": true,
    "jupyter": {
     "outputs_hidden": true
    },
    "tags": []
   },
   "outputs": [
    {
     "data": {
      "text/html": [
       "<div><img onload=\"(function(div, url){\n",
       "if (typeof require !== 'undefined') {\n",
       "    var baseURL = require.toUrl('').split('/').slice(0, -2).join('/');\n",
       "} else {\n",
       "    var baseURL = JSON.parse(\n",
       "        document.getElementById('jupyter-config-data').innerHTML\n",
       "    ).baseUrl.slice(0, -1);\n",
       "}\n",
       "url = baseURL + url;\n",
       "fetch(url).then(function(res) {\n",
       "    if (res.status === 404) {\n",
       "        div.innerHTML = 'Install QIIME 2 Jupyter extension with:<br />' +\n",
       "                        '<code>jupyter serverextension enable --py qiime2' +\n",
       "                        ' --sys-prefix</code><br />then restart your server.' +\n",
       "                        '<br /><br />(Interactive output not available on ' +\n",
       "                        'static notebook viewer services like nbviewer.)';\n",
       "    } else if (res.status === 409) {\n",
       "        div.innerHTML = 'Visualization no longer in scope. Re-run this cell' +\n",
       "                        ' to see the visualization.';\n",
       "    } else if (res.ok) {\n",
       "        url = res.url;\n",
       "        div.innerHTML = '<iframe src=\\'' + url + '\\' style=\\'' +\n",
       "                        'width: 100%; height: 700px; border: 0;\\'>' +\n",
       "                        '</iframe><hr />Open in a: <a href=\\'' + url + '\\'' +\n",
       "                        ' target=\\'_blank\\'>new window</a>'\n",
       "    } else {\n",
       "        div.innerHTML = 'Something has gone wrong. Check notebook server for' +\n",
       "                        ' errors.';\n",
       "    }\n",
       "});\n",
       "})(this.parentElement, '/qiime2/redirect?location=/tmp/qiime2/jovyan/data/4ab5d51f-8425-48cb-8e08-c46b1472745a')\" src=\"data:image/gif;base64,R0lGODlhAQABAIAAAP///wAAACH5BAEAAAAALAAAAAABAAEAAAICRAEAOw==\" /></div>"
      ],
      "text/plain": [
       "<visualization: Visualization uuid: 4ab5d51f-8425-48cb-8e08-c46b1472745a>"
      ]
     },
     "execution_count": 128,
     "metadata": {},
     "output_type": "execute_result"
    }
   ],
   "source": [
    "Visualization.load(f\"{data_dir_diff}/table_abund_healthy_puns.qzv\")"
   ]
  },
  {
   "cell_type": "code",
   "execution_count": 38,
   "id": "ce23e8f8-116a-4653-b6bf-68222bd323cc",
   "metadata": {
    "tags": []
   },
   "outputs": [
    {
     "name": "stdout",
     "output_type": "stream",
     "text": [
      "\u001b[32mSaved FeatureData[DifferentialAbundance] to: data/differential_abundance//ancombc_healthy_puns.qza\u001b[0m\n",
      "\u001b[0m"
     ]
    }
   ],
   "source": [
    "! qiime composition ancombc \\\n",
    "    --i-table $data_dir_diff/table_abund_healthy_puns.qza \\\n",
    "    --m-metadata-file $data_dir/pundemic_metadata_subgroup_response_all.tsv \\\n",
    "    --p-formula disease_status \\\n",
    "    --p-reference-levels disease_status::Healthy \\\n",
    "    --o-differentials $data_dir_diff/ancombc_healthy_puns.qza"
   ]
  },
  {
   "cell_type": "code",
   "execution_count": 39,
   "id": "336aba98-8487-4ab7-abea-e68ca67ca03c",
   "metadata": {
    "tags": []
   },
   "outputs": [
    {
     "name": "stdout",
     "output_type": "stream",
     "text": [
      "\u001b[32mSaved Visualization to: data/differential_abundance//ancombc_healthy_puns_barplot.qzv\u001b[0m\n",
      "\u001b[0m\u001b[32mSaved Visualization to: data/differential_abundance//ancombc_healthy_puns.qzv\u001b[0m\n",
      "\u001b[0m"
     ]
    }
   ],
   "source": [
    "# Generate a barplot of differentially abundant taxa between environments\n",
    "! qiime composition da-barplot \\\n",
    "    --i-data $data_dir_diff/ancombc_healthy_puns.qza \\\n",
    "    --o-visualization $data_dir_diff/ancombc_healthy_puns_barplot.qzv\n",
    "\n",
    "# Generate a table of these same values for all taxa\n",
    "! qiime composition tabulate \\\n",
    "    --i-data $data_dir_diff/ancombc_healthy_puns.qza \\\n",
    "    --o-visualization $data_dir_diff/ancombc_healthy_puns.qzv"
   ]
  },
  {
   "cell_type": "code",
   "execution_count": 134,
   "id": "701af431-a09f-46d1-aef8-55fd86361861",
   "metadata": {
    "collapsed": true,
    "jupyter": {
     "outputs_hidden": true
    },
    "tags": []
   },
   "outputs": [
    {
     "data": {
      "text/html": [
       "<div><img onload=\"(function(div, url){\n",
       "if (typeof require !== 'undefined') {\n",
       "    var baseURL = require.toUrl('').split('/').slice(0, -2).join('/');\n",
       "} else {\n",
       "    var baseURL = JSON.parse(\n",
       "        document.getElementById('jupyter-config-data').innerHTML\n",
       "    ).baseUrl.slice(0, -1);\n",
       "}\n",
       "url = baseURL + url;\n",
       "fetch(url).then(function(res) {\n",
       "    if (res.status === 404) {\n",
       "        div.innerHTML = 'Install QIIME 2 Jupyter extension with:<br />' +\n",
       "                        '<code>jupyter serverextension enable --py qiime2' +\n",
       "                        ' --sys-prefix</code><br />then restart your server.' +\n",
       "                        '<br /><br />(Interactive output not available on ' +\n",
       "                        'static notebook viewer services like nbviewer.)';\n",
       "    } else if (res.status === 409) {\n",
       "        div.innerHTML = 'Visualization no longer in scope. Re-run this cell' +\n",
       "                        ' to see the visualization.';\n",
       "    } else if (res.ok) {\n",
       "        url = res.url;\n",
       "        div.innerHTML = '<iframe src=\\'' + url + '\\' style=\\'' +\n",
       "                        'width: 100%; height: 700px; border: 0;\\'>' +\n",
       "                        '</iframe><hr />Open in a: <a href=\\'' + url + '\\'' +\n",
       "                        ' target=\\'_blank\\'>new window</a>'\n",
       "    } else {\n",
       "        div.innerHTML = 'Something has gone wrong. Check notebook server for' +\n",
       "                        ' errors.';\n",
       "    }\n",
       "});\n",
       "})(this.parentElement, '/qiime2/redirect?location=/tmp/qiime2/jovyan/data/b026a485-3d5e-493f-a86e-ca4815b7512d')\" src=\"data:image/gif;base64,R0lGODlhAQABAIAAAP///wAAACH5BAEAAAAALAAAAAABAAEAAAICRAEAOw==\" /></div>"
      ],
      "text/plain": [
       "<visualization: Visualization uuid: b026a485-3d5e-493f-a86e-ca4815b7512d>"
      ]
     },
     "execution_count": 134,
     "metadata": {},
     "output_type": "execute_result"
    }
   ],
   "source": [
    "Visualization.load(f\"{data_dir_diff}/ancombc_healthy_puns.qzv\")"
   ]
  },
  {
   "cell_type": "code",
   "execution_count": 3,
   "id": "b8e35d49-2296-45f6-bb81-d60ee4e5c6ed",
   "metadata": {
    "collapsed": true,
    "jupyter": {
     "outputs_hidden": true
    },
    "tags": []
   },
   "outputs": [
    {
     "data": {
      "text/html": [
       "<div><img onload=\"(function(div, url){\n",
       "if (typeof require !== 'undefined') {\n",
       "    var baseURL = require.toUrl('').split('/').slice(0, -2).join('/');\n",
       "} else {\n",
       "    var baseURL = JSON.parse(\n",
       "        document.getElementById('jupyter-config-data').innerHTML\n",
       "    ).baseUrl.slice(0, -1);\n",
       "}\n",
       "url = baseURL + url;\n",
       "fetch(url).then(function(res) {\n",
       "    if (res.status === 404) {\n",
       "        div.innerHTML = 'Install QIIME 2 Jupyter extension with:<br />' +\n",
       "                        '<code>jupyter serverextension enable --py qiime2' +\n",
       "                        ' --sys-prefix</code><br />then restart your server.' +\n",
       "                        '<br /><br />(Interactive output not available on ' +\n",
       "                        'static notebook viewer services like nbviewer.)';\n",
       "    } else if (res.status === 409) {\n",
       "        div.innerHTML = 'Visualization no longer in scope. Re-run this cell' +\n",
       "                        ' to see the visualization.';\n",
       "    } else if (res.ok) {\n",
       "        url = res.url;\n",
       "        div.innerHTML = '<iframe src=\\'' + url + '\\' style=\\'' +\n",
       "                        'width: 100%; height: 700px; border: 0;\\'>' +\n",
       "                        '</iframe><hr />Open in a: <a href=\\'' + url + '\\'' +\n",
       "                        ' target=\\'_blank\\'>new window</a>'\n",
       "    } else {\n",
       "        div.innerHTML = 'Something has gone wrong. Check notebook server for' +\n",
       "                        ' errors.';\n",
       "    }\n",
       "});\n",
       "})(this.parentElement, '/qiime2/redirect?location=/tmp/qiime2/jovyan/data/69b49872-c07e-4274-a179-483817aca814')\" src=\"data:image/gif;base64,R0lGODlhAQABAIAAAP///wAAACH5BAEAAAAALAAAAAABAAEAAAICRAEAOw==\" /></div>"
      ],
      "text/plain": [
       "<visualization: Visualization uuid: 69b49872-c07e-4274-a179-483817aca814>"
      ]
     },
     "execution_count": 3,
     "metadata": {},
     "output_type": "execute_result"
    }
   ],
   "source": [
    "Visualization.load(f\"{data_dir_diff}/ancombc_healthy_puns_barplot.qzv\")"
   ]
  },
  {
   "cell_type": "markdown",
   "id": "3066b64b-7672-44e4-aa5b-6311c6cff0ac",
   "metadata": {},
   "source": [
    "There is no significant difference between healthy and disease. "
   ]
  },
  {
   "cell_type": "markdown",
   "id": "0738a6e1-175f-428d-acc8-b30d1d82f245",
   "metadata": {},
   "source": [
    "### Comparison between Pre- and Post-Treatment"
   ]
  },
  {
   "cell_type": "markdown",
   "id": "72232f94-bd53-43d4-b600-24ec544dee02",
   "metadata": {},
   "source": [
    "#### FMT Response: Pre- and Post-Treatment"
   ]
  },
  {
   "cell_type": "code",
   "execution_count": 40,
   "id": "b7280fdd-806b-4bec-aa10-6de50336615c",
   "metadata": {
    "tags": []
   },
   "outputs": [
    {
     "name": "stdout",
     "output_type": "stream",
     "text": [
      "\u001b[32mSaved FeatureTable[Frequency] to: data/differential_abundance//table_abund_FMTres.qza\u001b[0m\n",
      "\u001b[0m"
     ]
    }
   ],
   "source": [
    "! qiime feature-table filter-samples \\\n",
    "    --i-table $data_dir_diff/table_abund.qza \\\n",
    "    --m-metadata-file $data_dir/pundemic_metadata_subgroup_response_all.tsv \\\n",
    "    --p-where \"[subgroup_response]='FMT_Res'\" \\\n",
    "    --o-filtered-table $data_dir_diff/table_abund_FMTres.qza"
   ]
  },
  {
   "cell_type": "code",
   "execution_count": 41,
   "id": "f6bcccd8-36db-4c87-a773-3b73c6597018",
   "metadata": {
    "tags": []
   },
   "outputs": [
    {
     "name": "stdout",
     "output_type": "stream",
     "text": [
      "\u001b[32mSaved FeatureData[DifferentialAbundance] to: data/differential_abundance//ancombc_t_FMTres.qza\u001b[0m\n",
      "\u001b[0m\u001b[32mSaved Visualization to: data/differential_abundance//ancombc_t_FMTres_barplot.qzv\u001b[0m\n",
      "\u001b[0m\u001b[32mSaved Visualization to: data/differential_abundance//ancombc_t_FMTres.qzv\u001b[0m\n",
      "\u001b[0m"
     ]
    }
   ],
   "source": [
    "! qiime composition ancombc \\\n",
    "    --i-table $data_dir_diff/table_abund_FMTres.qza \\\n",
    "    --m-metadata-file $data_dir/pundemic_metadata_subgroup_response_all.tsv \\\n",
    "    --p-formula time_point \\\n",
    "    --p-reference-levels time_point::pre-treatment \\\n",
    "    --o-differentials $data_dir_diff/ancombc_t_FMTres.qza\n",
    "\n",
    "# Generate a barplot of differentially abundant taxa between environments\n",
    "! qiime composition da-barplot \\\n",
    "    --i-data $data_dir_diff/ancombc_t_FMTres.qza \\\n",
    "    --o-visualization $data_dir_diff/ancombc_t_FMTres_barplot.qzv\n",
    "\n",
    "# Generate a table of these same values for all taxa\n",
    "! qiime composition tabulate \\\n",
    "    --i-data $data_dir_diff/ancombc_t_FMTres.qza \\\n",
    "    --o-visualization $data_dir_diff/ancombc_t_FMTres.qzv"
   ]
  },
  {
   "cell_type": "code",
   "execution_count": 146,
   "id": "0c9ab20b-68de-43bf-840a-7d23345fb851",
   "metadata": {
    "collapsed": true,
    "jupyter": {
     "outputs_hidden": true
    },
    "tags": []
   },
   "outputs": [
    {
     "data": {
      "text/html": [
       "<div><img onload=\"(function(div, url){\n",
       "if (typeof require !== 'undefined') {\n",
       "    var baseURL = require.toUrl('').split('/').slice(0, -2).join('/');\n",
       "} else {\n",
       "    var baseURL = JSON.parse(\n",
       "        document.getElementById('jupyter-config-data').innerHTML\n",
       "    ).baseUrl.slice(0, -1);\n",
       "}\n",
       "url = baseURL + url;\n",
       "fetch(url).then(function(res) {\n",
       "    if (res.status === 404) {\n",
       "        div.innerHTML = 'Install QIIME 2 Jupyter extension with:<br />' +\n",
       "                        '<code>jupyter serverextension enable --py qiime2' +\n",
       "                        ' --sys-prefix</code><br />then restart your server.' +\n",
       "                        '<br /><br />(Interactive output not available on ' +\n",
       "                        'static notebook viewer services like nbviewer.)';\n",
       "    } else if (res.status === 409) {\n",
       "        div.innerHTML = 'Visualization no longer in scope. Re-run this cell' +\n",
       "                        ' to see the visualization.';\n",
       "    } else if (res.ok) {\n",
       "        url = res.url;\n",
       "        div.innerHTML = '<iframe src=\\'' + url + '\\' style=\\'' +\n",
       "                        'width: 100%; height: 700px; border: 0;\\'>' +\n",
       "                        '</iframe><hr />Open in a: <a href=\\'' + url + '\\'' +\n",
       "                        ' target=\\'_blank\\'>new window</a>'\n",
       "    } else {\n",
       "        div.innerHTML = 'Something has gone wrong. Check notebook server for' +\n",
       "                        ' errors.';\n",
       "    }\n",
       "});\n",
       "})(this.parentElement, '/qiime2/redirect?location=/tmp/qiime2/jovyan/data/c2071f44-52c1-4a2e-a000-62626ae8ac6f')\" src=\"data:image/gif;base64,R0lGODlhAQABAIAAAP///wAAACH5BAEAAAAALAAAAAABAAEAAAICRAEAOw==\" /></div>"
      ],
      "text/plain": [
       "<visualization: Visualization uuid: c2071f44-52c1-4a2e-a000-62626ae8ac6f>"
      ]
     },
     "execution_count": 146,
     "metadata": {},
     "output_type": "execute_result"
    }
   ],
   "source": [
    "Visualization.load(f\"{data_dir_diff}/ancombc_t_FMTres.qzv\")"
   ]
  },
  {
   "cell_type": "code",
   "execution_count": 4,
   "id": "707131d3-cee5-43bd-a849-b41da6dc3f2d",
   "metadata": {
    "collapsed": true,
    "jupyter": {
     "outputs_hidden": true
    },
    "tags": []
   },
   "outputs": [
    {
     "data": {
      "text/html": [
       "<div><img onload=\"(function(div, url){\n",
       "if (typeof require !== 'undefined') {\n",
       "    var baseURL = require.toUrl('').split('/').slice(0, -2).join('/');\n",
       "} else {\n",
       "    var baseURL = JSON.parse(\n",
       "        document.getElementById('jupyter-config-data').innerHTML\n",
       "    ).baseUrl.slice(0, -1);\n",
       "}\n",
       "url = baseURL + url;\n",
       "fetch(url).then(function(res) {\n",
       "    if (res.status === 404) {\n",
       "        div.innerHTML = 'Install QIIME 2 Jupyter extension with:<br />' +\n",
       "                        '<code>jupyter serverextension enable --py qiime2' +\n",
       "                        ' --sys-prefix</code><br />then restart your server.' +\n",
       "                        '<br /><br />(Interactive output not available on ' +\n",
       "                        'static notebook viewer services like nbviewer.)';\n",
       "    } else if (res.status === 409) {\n",
       "        div.innerHTML = 'Visualization no longer in scope. Re-run this cell' +\n",
       "                        ' to see the visualization.';\n",
       "    } else if (res.ok) {\n",
       "        url = res.url;\n",
       "        div.innerHTML = '<iframe src=\\'' + url + '\\' style=\\'' +\n",
       "                        'width: 100%; height: 700px; border: 0;\\'>' +\n",
       "                        '</iframe><hr />Open in a: <a href=\\'' + url + '\\'' +\n",
       "                        ' target=\\'_blank\\'>new window</a>'\n",
       "    } else {\n",
       "        div.innerHTML = 'Something has gone wrong. Check notebook server for' +\n",
       "                        ' errors.';\n",
       "    }\n",
       "});\n",
       "})(this.parentElement, '/qiime2/redirect?location=/tmp/qiime2/jovyan/data/0d63ba67-4520-4891-9294-5abea3b6e17a')\" src=\"data:image/gif;base64,R0lGODlhAQABAIAAAP///wAAACH5BAEAAAAALAAAAAABAAEAAAICRAEAOw==\" /></div>"
      ],
      "text/plain": [
       "<visualization: Visualization uuid: 0d63ba67-4520-4891-9294-5abea3b6e17a>"
      ]
     },
     "execution_count": 4,
     "metadata": {},
     "output_type": "execute_result"
    }
   ],
   "source": [
    "Visualization.load(f\"{data_dir_diff}/ancombc_t_FMTres_barplot.qzv\")"
   ]
  },
  {
   "cell_type": "markdown",
   "id": "4c36d39c-072f-4c47-a5cc-a1fd84ab2313",
   "metadata": {},
   "source": [
    "#### FMT No Response: Pre- and Post-Treatment"
   ]
  },
  {
   "cell_type": "code",
   "execution_count": 42,
   "id": "799e3cee-321b-4889-8358-3c0eb47eee17",
   "metadata": {
    "tags": []
   },
   "outputs": [
    {
     "name": "stdout",
     "output_type": "stream",
     "text": [
      "\u001b[32mSaved FeatureTable[Frequency] to: data/differential_abundance//table_abund_FMTnr.qza\u001b[0m\n",
      "\u001b[0m"
     ]
    }
   ],
   "source": [
    "! qiime feature-table filter-samples \\\n",
    "    --i-table $data_dir_diff/table_abund.qza \\\n",
    "    --m-metadata-file $data_dir/pundemic_metadata_subgroup_response_all.tsv \\\n",
    "    --p-where \"[subgroup_response]='FMT_NR'\" \\\n",
    "    --o-filtered-table $data_dir_diff/table_abund_FMTnr.qza"
   ]
  },
  {
   "cell_type": "code",
   "execution_count": 43,
   "id": "9ab15903-ae6c-40c2-be33-4d6110c60a69",
   "metadata": {
    "tags": []
   },
   "outputs": [
    {
     "name": "stdout",
     "output_type": "stream",
     "text": [
      "\u001b[32mSaved FeatureData[DifferentialAbundance] to: data/differential_abundance//ancombc_t_FMTnr.qza\u001b[0m\n",
      "\u001b[0m\u001b[32mSaved Visualization to: data/differential_abundance//ancombc_t_FMTnr_barplot.qzv\u001b[0m\n",
      "\u001b[0m\u001b[32mSaved Visualization to: data/differential_abundance//ancombc_t_FMTnr.qzv\u001b[0m\n",
      "\u001b[0m"
     ]
    }
   ],
   "source": [
    "! qiime composition ancombc \\\n",
    "    --i-table $data_dir_diff/table_abund_FMTnr.qza \\\n",
    "    --m-metadata-file $data_dir/pundemic_metadata_subgroup_response_all.tsv \\\n",
    "    --p-formula time_point \\\n",
    "    --p-reference-levels time_point::pre-treatment \\\n",
    "    --o-differentials $data_dir_diff/ancombc_t_FMTnr.qza\n",
    "\n",
    "# Generate a barplot of differentially abundant taxa between environments\n",
    "! qiime composition da-barplot \\\n",
    "    --i-data $data_dir_diff/ancombc_t_FMTnr.qza \\\n",
    "    --o-visualization $data_dir_diff/ancombc_t_FMTnr_barplot.qzv\n",
    "\n",
    "# Generate a table of these same values for all taxa\n",
    "! qiime composition tabulate \\\n",
    "    --i-data $data_dir_diff/ancombc_t_FMTnr.qza \\\n",
    "    --o-visualization $data_dir_diff/ancombc_t_FMTnr.qzv"
   ]
  },
  {
   "cell_type": "code",
   "execution_count": 63,
   "id": "4562a339-f7ad-4203-8cb2-6007d101a223",
   "metadata": {
    "tags": []
   },
   "outputs": [
    {
     "data": {
      "text/html": [
       "<div><img onload=\"(function(div, url){\n",
       "if (typeof require !== 'undefined') {\n",
       "    var baseURL = require.toUrl('').split('/').slice(0, -2).join('/');\n",
       "} else {\n",
       "    var baseURL = JSON.parse(\n",
       "        document.getElementById('jupyter-config-data').innerHTML\n",
       "    ).baseUrl.slice(0, -1);\n",
       "}\n",
       "url = baseURL + url;\n",
       "fetch(url).then(function(res) {\n",
       "    if (res.status === 404) {\n",
       "        div.innerHTML = 'Install QIIME 2 Jupyter extension with:<br />' +\n",
       "                        '<code>jupyter serverextension enable --py qiime2' +\n",
       "                        ' --sys-prefix</code><br />then restart your server.' +\n",
       "                        '<br /><br />(Interactive output not available on ' +\n",
       "                        'static notebook viewer services like nbviewer.)';\n",
       "    } else if (res.status === 409) {\n",
       "        div.innerHTML = 'Visualization no longer in scope. Re-run this cell' +\n",
       "                        ' to see the visualization.';\n",
       "    } else if (res.ok) {\n",
       "        url = res.url;\n",
       "        div.innerHTML = '<iframe src=\\'' + url + '\\' style=\\'' +\n",
       "                        'width: 100%; height: 700px; border: 0;\\'>' +\n",
       "                        '</iframe><hr />Open in a: <a href=\\'' + url + '\\'' +\n",
       "                        ' target=\\'_blank\\'>new window</a>'\n",
       "    } else {\n",
       "        div.innerHTML = 'Something has gone wrong. Check notebook server for' +\n",
       "                        ' errors.';\n",
       "    }\n",
       "});\n",
       "})(this.parentElement, '/qiime2/redirect?location=/tmp/qiime2/jovyan/data/c89ff558-5596-4b6d-bea8-07d4aa731877')\" src=\"data:image/gif;base64,R0lGODlhAQABAIAAAP///wAAACH5BAEAAAAALAAAAAABAAEAAAICRAEAOw==\" /></div>"
      ],
      "text/plain": [
       "<visualization: Visualization uuid: c89ff558-5596-4b6d-bea8-07d4aa731877>"
      ]
     },
     "execution_count": 63,
     "metadata": {},
     "output_type": "execute_result"
    }
   ],
   "source": [
    "Visualization.load(f\"{data_dir_diff}/ancombc_t_FMTnr.qzv\")"
   ]
  },
  {
   "cell_type": "code",
   "execution_count": 5,
   "id": "1e1d17d2-74d1-4017-90e7-a0a8afd02bc8",
   "metadata": {
    "collapsed": true,
    "jupyter": {
     "outputs_hidden": true
    },
    "tags": []
   },
   "outputs": [
    {
     "data": {
      "text/html": [
       "<div><img onload=\"(function(div, url){\n",
       "if (typeof require !== 'undefined') {\n",
       "    var baseURL = require.toUrl('').split('/').slice(0, -2).join('/');\n",
       "} else {\n",
       "    var baseURL = JSON.parse(\n",
       "        document.getElementById('jupyter-config-data').innerHTML\n",
       "    ).baseUrl.slice(0, -1);\n",
       "}\n",
       "url = baseURL + url;\n",
       "fetch(url).then(function(res) {\n",
       "    if (res.status === 404) {\n",
       "        div.innerHTML = 'Install QIIME 2 Jupyter extension with:<br />' +\n",
       "                        '<code>jupyter serverextension enable --py qiime2' +\n",
       "                        ' --sys-prefix</code><br />then restart your server.' +\n",
       "                        '<br /><br />(Interactive output not available on ' +\n",
       "                        'static notebook viewer services like nbviewer.)';\n",
       "    } else if (res.status === 409) {\n",
       "        div.innerHTML = 'Visualization no longer in scope. Re-run this cell' +\n",
       "                        ' to see the visualization.';\n",
       "    } else if (res.ok) {\n",
       "        url = res.url;\n",
       "        div.innerHTML = '<iframe src=\\'' + url + '\\' style=\\'' +\n",
       "                        'width: 100%; height: 700px; border: 0;\\'>' +\n",
       "                        '</iframe><hr />Open in a: <a href=\\'' + url + '\\'' +\n",
       "                        ' target=\\'_blank\\'>new window</a>'\n",
       "    } else {\n",
       "        div.innerHTML = 'Something has gone wrong. Check notebook server for' +\n",
       "                        ' errors.';\n",
       "    }\n",
       "});\n",
       "})(this.parentElement, '/qiime2/redirect?location=/tmp/qiime2/jovyan/data/f8c864ab-56f5-4555-8286-97247b1b87d8')\" src=\"data:image/gif;base64,R0lGODlhAQABAIAAAP///wAAACH5BAEAAAAALAAAAAABAAEAAAICRAEAOw==\" /></div>"
      ],
      "text/plain": [
       "<visualization: Visualization uuid: f8c864ab-56f5-4555-8286-97247b1b87d8>"
      ]
     },
     "execution_count": 5,
     "metadata": {},
     "output_type": "execute_result"
    }
   ],
   "source": [
    "Visualization.load(f\"{data_dir_diff}/ancombc_t_FMTnr_barplot.qzv\")"
   ]
  },
  {
   "cell_type": "markdown",
   "id": "091db255-560b-467a-ac10-be486b77b83e",
   "metadata": {},
   "source": [
    "#### Placebo No Response: Pre- and Post-Treatment"
   ]
  },
  {
   "cell_type": "code",
   "execution_count": 44,
   "id": "bacb0023-4d21-4c0d-bf4c-69648917c711",
   "metadata": {
    "tags": []
   },
   "outputs": [
    {
     "name": "stdout",
     "output_type": "stream",
     "text": [
      "\u001b[32mSaved FeatureTable[Frequency] to: data/differential_abundance//table_abund_PlaceboNR.qza\u001b[0m\n",
      "\u001b[0m"
     ]
    }
   ],
   "source": [
    "! qiime feature-table filter-samples \\\n",
    "    --i-table $data_dir_diff/table_abund.qza \\\n",
    "    --m-metadata-file $data_dir/pundemic_metadata_subgroup_response_all.tsv \\\n",
    "    --p-where \"[subgroup_response]='Placebo_NR'\" \\\n",
    "    --o-filtered-table $data_dir_diff/table_abund_PlaceboNR.qza"
   ]
  },
  {
   "cell_type": "code",
   "execution_count": 45,
   "id": "659b8e4b-7964-46f2-92a9-cfc8bc784f74",
   "metadata": {
    "tags": []
   },
   "outputs": [
    {
     "name": "stdout",
     "output_type": "stream",
     "text": [
      "\u001b[32mSaved FeatureData[DifferentialAbundance] to: data/differential_abundance//ancombc_t_PlaceboNR.qza\u001b[0m\n",
      "\u001b[0m\u001b[32mSaved Visualization to: data/differential_abundance//ancombc_t_PlaceboNR_barplot.qzv\u001b[0m\n",
      "\u001b[0m\u001b[32mSaved Visualization to: data/differential_abundance//ancombc_t_PlaceboNR.qzv\u001b[0m\n",
      "\u001b[0m"
     ]
    }
   ],
   "source": [
    "! qiime composition ancombc \\\n",
    "    --i-table $data_dir_diff/table_abund_PlaceboNR.qza \\\n",
    "    --m-metadata-file $data_dir/pundemic_metadata_subgroup_response_all.tsv \\\n",
    "    --p-formula time_point \\\n",
    "    --p-reference-levels time_point::pre-treatment \\\n",
    "    --o-differentials $data_dir_diff/ancombc_t_PlaceboNR.qza\n",
    "\n",
    "# Generate a barplot of differentially abundant taxa between environments\n",
    "! qiime composition da-barplot \\\n",
    "    --i-data $data_dir_diff/ancombc_t_PlaceboNR.qza \\\n",
    "    --o-visualization $data_dir_diff/ancombc_t_PlaceboNR_barplot.qzv\n",
    "\n",
    "# Generate a table of these same values for all taxa\n",
    "! qiime composition tabulate \\\n",
    "    --i-data $data_dir_diff/ancombc_t_PlaceboNR.qza \\\n",
    "    --o-visualization $data_dir_diff/ancombc_t_PlaceboNR.qzv"
   ]
  },
  {
   "cell_type": "code",
   "execution_count": 150,
   "id": "14d0709d-ffc3-49cc-aaaa-0e9ec52215f5",
   "metadata": {
    "collapsed": true,
    "jupyter": {
     "outputs_hidden": true
    },
    "tags": []
   },
   "outputs": [
    {
     "data": {
      "text/html": [
       "<div><img onload=\"(function(div, url){\n",
       "if (typeof require !== 'undefined') {\n",
       "    var baseURL = require.toUrl('').split('/').slice(0, -2).join('/');\n",
       "} else {\n",
       "    var baseURL = JSON.parse(\n",
       "        document.getElementById('jupyter-config-data').innerHTML\n",
       "    ).baseUrl.slice(0, -1);\n",
       "}\n",
       "url = baseURL + url;\n",
       "fetch(url).then(function(res) {\n",
       "    if (res.status === 404) {\n",
       "        div.innerHTML = 'Install QIIME 2 Jupyter extension with:<br />' +\n",
       "                        '<code>jupyter serverextension enable --py qiime2' +\n",
       "                        ' --sys-prefix</code><br />then restart your server.' +\n",
       "                        '<br /><br />(Interactive output not available on ' +\n",
       "                        'static notebook viewer services like nbviewer.)';\n",
       "    } else if (res.status === 409) {\n",
       "        div.innerHTML = 'Visualization no longer in scope. Re-run this cell' +\n",
       "                        ' to see the visualization.';\n",
       "    } else if (res.ok) {\n",
       "        url = res.url;\n",
       "        div.innerHTML = '<iframe src=\\'' + url + '\\' style=\\'' +\n",
       "                        'width: 100%; height: 700px; border: 0;\\'>' +\n",
       "                        '</iframe><hr />Open in a: <a href=\\'' + url + '\\'' +\n",
       "                        ' target=\\'_blank\\'>new window</a>'\n",
       "    } else {\n",
       "        div.innerHTML = 'Something has gone wrong. Check notebook server for' +\n",
       "                        ' errors.';\n",
       "    }\n",
       "});\n",
       "})(this.parentElement, '/qiime2/redirect?location=/tmp/qiime2/jovyan/data/f97450ef-2d80-419f-963b-f21d37e543e3')\" src=\"data:image/gif;base64,R0lGODlhAQABAIAAAP///wAAACH5BAEAAAAALAAAAAABAAEAAAICRAEAOw==\" /></div>"
      ],
      "text/plain": [
       "<visualization: Visualization uuid: f97450ef-2d80-419f-963b-f21d37e543e3>"
      ]
     },
     "execution_count": 150,
     "metadata": {},
     "output_type": "execute_result"
    }
   ],
   "source": [
    "Visualization.load(f\"{data_dir_diff}/ancombc_t_PlaceboNR.qzv\")"
   ]
  },
  {
   "cell_type": "code",
   "execution_count": 6,
   "id": "55d0807c-9de4-478c-8592-c83005636134",
   "metadata": {
    "collapsed": true,
    "jupyter": {
     "outputs_hidden": true
    },
    "tags": []
   },
   "outputs": [
    {
     "data": {
      "text/html": [
       "<div><img onload=\"(function(div, url){\n",
       "if (typeof require !== 'undefined') {\n",
       "    var baseURL = require.toUrl('').split('/').slice(0, -2).join('/');\n",
       "} else {\n",
       "    var baseURL = JSON.parse(\n",
       "        document.getElementById('jupyter-config-data').innerHTML\n",
       "    ).baseUrl.slice(0, -1);\n",
       "}\n",
       "url = baseURL + url;\n",
       "fetch(url).then(function(res) {\n",
       "    if (res.status === 404) {\n",
       "        div.innerHTML = 'Install QIIME 2 Jupyter extension with:<br />' +\n",
       "                        '<code>jupyter serverextension enable --py qiime2' +\n",
       "                        ' --sys-prefix</code><br />then restart your server.' +\n",
       "                        '<br /><br />(Interactive output not available on ' +\n",
       "                        'static notebook viewer services like nbviewer.)';\n",
       "    } else if (res.status === 409) {\n",
       "        div.innerHTML = 'Visualization no longer in scope. Re-run this cell' +\n",
       "                        ' to see the visualization.';\n",
       "    } else if (res.ok) {\n",
       "        url = res.url;\n",
       "        div.innerHTML = '<iframe src=\\'' + url + '\\' style=\\'' +\n",
       "                        'width: 100%; height: 700px; border: 0;\\'>' +\n",
       "                        '</iframe><hr />Open in a: <a href=\\'' + url + '\\'' +\n",
       "                        ' target=\\'_blank\\'>new window</a>'\n",
       "    } else {\n",
       "        div.innerHTML = 'Something has gone wrong. Check notebook server for' +\n",
       "                        ' errors.';\n",
       "    }\n",
       "});\n",
       "})(this.parentElement, '/qiime2/redirect?location=/tmp/qiime2/jovyan/data/f0e3eb0e-dae9-4674-8bd1-d09059cf1d41')\" src=\"data:image/gif;base64,R0lGODlhAQABAIAAAP///wAAACH5BAEAAAAALAAAAAABAAEAAAICRAEAOw==\" /></div>"
      ],
      "text/plain": [
       "<visualization: Visualization uuid: f0e3eb0e-dae9-4674-8bd1-d09059cf1d41>"
      ]
     },
     "execution_count": 6,
     "metadata": {},
     "output_type": "execute_result"
    }
   ],
   "source": [
    "Visualization.load(f\"{data_dir_diff}/ancombc_t_PlaceboNR_barplot.qzv\")"
   ]
  },
  {
   "cell_type": "markdown",
   "id": "cab257f3-31c4-4fd3-8647-e27c6d8b73e9",
   "metadata": {},
   "source": [
    "#### Placebo Response: Pre- and Post-Treatment"
   ]
  },
  {
   "cell_type": "code",
   "execution_count": 46,
   "id": "c87e1bb5-7d13-47ad-85c6-826bf053e3be",
   "metadata": {
    "tags": []
   },
   "outputs": [
    {
     "name": "stdout",
     "output_type": "stream",
     "text": [
      "\u001b[32mSaved FeatureTable[Frequency] to: data/differential_abundance//table_abund_PlaceboRes.qza\u001b[0m\n",
      "\u001b[0m"
     ]
    }
   ],
   "source": [
    "! qiime feature-table filter-samples \\\n",
    "    --i-table $data_dir_diff/table_abund.qza \\\n",
    "    --m-metadata-file $data_dir/pundemic_metadata_subgroup_response_all.tsv \\\n",
    "    --p-where \"[subgroup_response]='Placebo_Res'\" \\\n",
    "    --o-filtered-table $data_dir_diff/table_abund_PlaceboRes.qza"
   ]
  },
  {
   "cell_type": "code",
   "execution_count": 47,
   "id": "d8cc0e51-eaab-4f9f-9741-ced85a3e1dcc",
   "metadata": {
    "tags": []
   },
   "outputs": [
    {
     "name": "stdout",
     "output_type": "stream",
     "text": [
      "\u001b[32mSaved Visualization to: data/differential_abundance//table_abund_PlaceboRes.qzv\u001b[0m\n",
      "\u001b[0m"
     ]
    }
   ],
   "source": [
    "! qiime feature-table summarize \\\n",
    "    --i-table $data_dir_diff/table_abund_PlaceboRes.qza \\\n",
    "    --m-sample-metadata-file $data_dir/pundemic_metadata_subgroup_response_all.tsv \\\n",
    "    --o-visualization $data_dir_diff/table_abund_PlaceboRes.qzv"
   ]
  },
  {
   "cell_type": "code",
   "execution_count": 156,
   "id": "17786909-7e6a-4845-8f13-d359ad1823c6",
   "metadata": {
    "tags": []
   },
   "outputs": [
    {
     "data": {
      "text/html": [
       "<div><img onload=\"(function(div, url){\n",
       "if (typeof require !== 'undefined') {\n",
       "    var baseURL = require.toUrl('').split('/').slice(0, -2).join('/');\n",
       "} else {\n",
       "    var baseURL = JSON.parse(\n",
       "        document.getElementById('jupyter-config-data').innerHTML\n",
       "    ).baseUrl.slice(0, -1);\n",
       "}\n",
       "url = baseURL + url;\n",
       "fetch(url).then(function(res) {\n",
       "    if (res.status === 404) {\n",
       "        div.innerHTML = 'Install QIIME 2 Jupyter extension with:<br />' +\n",
       "                        '<code>jupyter serverextension enable --py qiime2' +\n",
       "                        ' --sys-prefix</code><br />then restart your server.' +\n",
       "                        '<br /><br />(Interactive output not available on ' +\n",
       "                        'static notebook viewer services like nbviewer.)';\n",
       "    } else if (res.status === 409) {\n",
       "        div.innerHTML = 'Visualization no longer in scope. Re-run this cell' +\n",
       "                        ' to see the visualization.';\n",
       "    } else if (res.ok) {\n",
       "        url = res.url;\n",
       "        div.innerHTML = '<iframe src=\\'' + url + '\\' style=\\'' +\n",
       "                        'width: 100%; height: 700px; border: 0;\\'>' +\n",
       "                        '</iframe><hr />Open in a: <a href=\\'' + url + '\\'' +\n",
       "                        ' target=\\'_blank\\'>new window</a>'\n",
       "    } else {\n",
       "        div.innerHTML = 'Something has gone wrong. Check notebook server for' +\n",
       "                        ' errors.';\n",
       "    }\n",
       "});\n",
       "})(this.parentElement, '/qiime2/redirect?location=/tmp/qiime2/jovyan/data/5ba7556c-ebec-4c5d-a546-74f3b2c85a51')\" src=\"data:image/gif;base64,R0lGODlhAQABAIAAAP///wAAACH5BAEAAAAALAAAAAABAAEAAAICRAEAOw==\" /></div>"
      ],
      "text/plain": [
       "<visualization: Visualization uuid: 5ba7556c-ebec-4c5d-a546-74f3b2c85a51>"
      ]
     },
     "execution_count": 156,
     "metadata": {},
     "output_type": "execute_result"
    }
   ],
   "source": [
    "Visualization.load(f\"{data_dir_diff}/table_abund_PlaceboRes.qzv\")"
   ]
  },
  {
   "cell_type": "code",
   "execution_count": 158,
   "id": "84824726-c198-420d-8e69-c50a4839dcf8",
   "metadata": {
    "tags": []
   },
   "outputs": [],
   "source": [
    "#! qiime composition ancombc \\\n",
    "#    --i-table $data_dir_diff/table_abund_PlaceboRes.qza \\\n",
    "#    --m-metadata-file $data_dir/pundemic_metadata_subgroup_response_all.tsv \\\n",
    "#    --p-formula time_point \\\n",
    "#    --p-reference-levels time_point::pre-treatment \\\n",
    "#    --o-differentials $data_dir_diff/ancombc_t_PlaceboRes.qza\n",
    "\n",
    "# Generate a barplot of differentially abundant taxa between environments\n",
    "#! qiime composition da-barplot \\\n",
    "#    --i-data $data_dir_diff/ancombc_t_PlaceboRes.qza \\\n",
    "#    --o-visualization $data_dir_diff/ancombc_t_PlaceboRes_barplot.qzv\n",
    "\n",
    "# Generate a table of these same values for all taxa\n",
    "#! qiime composition tabulate \\\n",
    "#    --i-data $data_dir_diff/ancombc_t_PlaceboRes.qza \\\n",
    "#    --o-visualization $data_dir_diff/ancombc_t_PlaceboRes.qzv"
   ]
  },
  {
   "cell_type": "markdown",
   "id": "035557a1-f78f-4d34-8b09-39fee5a3e0cd",
   "metadata": {
    "jupyter": {
     "outputs_hidden": true
    },
    "tags": []
   },
   "source": [
    "#! cat /tmp/qiime2-q2cli-err-qx1c_8iq.log\n",
    "\n",
    "#Error: No residual degrees of freedom! The model is over-parameterized; Please consider a more parsimonious model\n",
    "\n",
    "Since Placebo- Response is over-parameterized with only 2 samples, we cannot run the differential abundance analysis"
   ]
  },
  {
   "cell_type": "markdown",
   "id": "0c2ad789-0144-421e-a2c7-10baef559a80",
   "metadata": {},
   "source": [
    "### Check again for Sex Batch Effects"
   ]
  },
  {
   "cell_type": "code",
   "execution_count": 48,
   "id": "40d7e5dd-4c3d-4fca-ab63-fda54c7e6d03",
   "metadata": {
    "tags": []
   },
   "outputs": [
    {
     "name": "stdout",
     "output_type": "stream",
     "text": [
      "\u001b[32mSaved FeatureTable[Frequency] to: data/differential_abundance//table_abund_sex.qza\u001b[0m\n",
      "\u001b[0m"
     ]
    }
   ],
   "source": [
    "! qiime feature-table filter-samples \\\n",
    "    --i-table $data_dir_diff/table_abund.qza \\\n",
    "    --m-metadata-file $data_dir/pundemic_metadata_subgroup_response_all.tsv \\\n",
    "    --p-where \"[sex]='female' or [sex]='male' \" \\\n",
    "    --o-filtered-table $data_dir_diff/table_abund_sex.qza"
   ]
  },
  {
   "cell_type": "code",
   "execution_count": 49,
   "id": "b0db67ba-a6c5-47eb-af13-17b2c7a97866",
   "metadata": {
    "tags": []
   },
   "outputs": [
    {
     "name": "stdout",
     "output_type": "stream",
     "text": [
      "\u001b[32mSaved FeatureData[DifferentialAbundance] to: data/differential_abundance//ancombc_sex.qza\u001b[0m\n",
      "\u001b[0m\u001b[32mSaved Visualization to: data/differential_abundance//ancombc_sex_barplot.qzv\u001b[0m\n",
      "\u001b[0m\u001b[32mSaved Visualization to: data/differential_abundance//ancombc_sex.qzv\u001b[0m\n",
      "\u001b[0m"
     ]
    }
   ],
   "source": [
    "! qiime composition ancombc \\\n",
    "    --i-table $data_dir_diff/table_abund_sex.qza \\\n",
    "    --m-metadata-file $data_dir/pundemic_metadata_subgroup_response_all.tsv \\\n",
    "    --p-formula sex \\\n",
    "    --p-reference-levels sex::female \\\n",
    "    --o-differentials $data_dir_diff/ancombc_sex.qza\n",
    "\n",
    "# Generate a barplot of differentially abundant taxa between environments\n",
    "! qiime composition da-barplot \\\n",
    "    --i-data $data_dir_diff/ancombc_sex.qza \\\n",
    "    --o-visualization $data_dir_diff/ancombc_sex_barplot.qzv\n",
    "\n",
    "# Generate a table of these same values for all taxa\n",
    "! qiime composition tabulate \\\n",
    "    --i-data $data_dir_diff/ancombc_sex.qza \\\n",
    "    --o-visualization $data_dir_diff/ancombc_sex.qzv"
   ]
  },
  {
   "cell_type": "code",
   "execution_count": 13,
   "id": "3d9c040b-5e81-4c3a-942f-361915bb05f9",
   "metadata": {
    "tags": []
   },
   "outputs": [
    {
     "data": {
      "text/html": [
       "<div><img onload=\"(function(div, url){\n",
       "if (typeof require !== 'undefined') {\n",
       "    var baseURL = require.toUrl('').split('/').slice(0, -2).join('/');\n",
       "} else {\n",
       "    var baseURL = JSON.parse(\n",
       "        document.getElementById('jupyter-config-data').innerHTML\n",
       "    ).baseUrl.slice(0, -1);\n",
       "}\n",
       "url = baseURL + url;\n",
       "fetch(url).then(function(res) {\n",
       "    if (res.status === 404) {\n",
       "        div.innerHTML = 'Install QIIME 2 Jupyter extension with:<br />' +\n",
       "                        '<code>jupyter serverextension enable --py qiime2' +\n",
       "                        ' --sys-prefix</code><br />then restart your server.' +\n",
       "                        '<br /><br />(Interactive output not available on ' +\n",
       "                        'static notebook viewer services like nbviewer.)';\n",
       "    } else if (res.status === 409) {\n",
       "        div.innerHTML = 'Visualization no longer in scope. Re-run this cell' +\n",
       "                        ' to see the visualization.';\n",
       "    } else if (res.ok) {\n",
       "        url = res.url;\n",
       "        div.innerHTML = '<iframe src=\\'' + url + '\\' style=\\'' +\n",
       "                        'width: 100%; height: 700px; border: 0;\\'>' +\n",
       "                        '</iframe><hr />Open in a: <a href=\\'' + url + '\\'' +\n",
       "                        ' target=\\'_blank\\'>new window</a>'\n",
       "    } else {\n",
       "        div.innerHTML = 'Something has gone wrong. Check notebook server for' +\n",
       "                        ' errors.';\n",
       "    }\n",
       "});\n",
       "})(this.parentElement, '/qiime2/redirect?location=/tmp/qiime2/jovyan/data/63254795-7fb3-481a-92b8-c1a385e966b2')\" src=\"data:image/gif;base64,R0lGODlhAQABAIAAAP///wAAACH5BAEAAAAALAAAAAABAAEAAAICRAEAOw==\" /></div>"
      ],
      "text/plain": [
       "<visualization: Visualization uuid: 63254795-7fb3-481a-92b8-c1a385e966b2>"
      ]
     },
     "execution_count": 13,
     "metadata": {},
     "output_type": "execute_result"
    }
   ],
   "source": [
    "Visualization.load(f\"{data_dir_diff}/ancombc_sex.qzv\")"
   ]
  },
  {
   "cell_type": "code",
   "execution_count": 7,
   "id": "c548d7a5-aba0-43c2-bbca-6de23a49e38b",
   "metadata": {
    "tags": []
   },
   "outputs": [
    {
     "data": {
      "text/html": [
       "<div><img onload=\"(function(div, url){\n",
       "if (typeof require !== 'undefined') {\n",
       "    var baseURL = require.toUrl('').split('/').slice(0, -2).join('/');\n",
       "} else {\n",
       "    var baseURL = JSON.parse(\n",
       "        document.getElementById('jupyter-config-data').innerHTML\n",
       "    ).baseUrl.slice(0, -1);\n",
       "}\n",
       "url = baseURL + url;\n",
       "fetch(url).then(function(res) {\n",
       "    if (res.status === 404) {\n",
       "        div.innerHTML = 'Install QIIME 2 Jupyter extension with:<br />' +\n",
       "                        '<code>jupyter serverextension enable --py qiime2' +\n",
       "                        ' --sys-prefix</code><br />then restart your server.' +\n",
       "                        '<br /><br />(Interactive output not available on ' +\n",
       "                        'static notebook viewer services like nbviewer.)';\n",
       "    } else if (res.status === 409) {\n",
       "        div.innerHTML = 'Visualization no longer in scope. Re-run this cell' +\n",
       "                        ' to see the visualization.';\n",
       "    } else if (res.ok) {\n",
       "        url = res.url;\n",
       "        div.innerHTML = '<iframe src=\\'' + url + '\\' style=\\'' +\n",
       "                        'width: 100%; height: 700px; border: 0;\\'>' +\n",
       "                        '</iframe><hr />Open in a: <a href=\\'' + url + '\\'' +\n",
       "                        ' target=\\'_blank\\'>new window</a>'\n",
       "    } else {\n",
       "        div.innerHTML = 'Something has gone wrong. Check notebook server for' +\n",
       "                        ' errors.';\n",
       "    }\n",
       "});\n",
       "})(this.parentElement, '/qiime2/redirect?location=/tmp/qiime2/jovyan/data/7f96c5a2-3740-402c-a279-fd9c57b5eb73')\" src=\"data:image/gif;base64,R0lGODlhAQABAIAAAP///wAAACH5BAEAAAAALAAAAAABAAEAAAICRAEAOw==\" /></div>"
      ],
      "text/plain": [
       "<visualization: Visualization uuid: 7f96c5a2-3740-402c-a279-fd9c57b5eb73>"
      ]
     },
     "execution_count": 7,
     "metadata": {},
     "output_type": "execute_result"
    }
   ],
   "source": [
    "Visualization.load(f\"{data_dir_diff}/ancombc_sex_barplot.qzv\")"
   ]
  },
  {
   "cell_type": "markdown",
   "id": "823984d7-8785-414e-b197-bb6e826d2871",
   "metadata": {},
   "source": [
    "No batch effects."
   ]
  },
  {
   "cell_type": "markdown",
   "id": "6bc20c09-e95d-4e86-8b30-4cef1d2c065b",
   "metadata": {},
   "source": [
    "## ANCOM (taxa level)"
   ]
  },
  {
   "cell_type": "code",
   "execution_count": 50,
   "id": "ce361fd6-e948-4131-96d3-b75841c85f14",
   "metadata": {
    "tags": []
   },
   "outputs": [
    {
     "name": "stdout",
     "output_type": "stream",
     "text": [
      "\u001b[32mSaved FeatureTable[Frequency] to: data/differential_abundance//table_abund_taxa.qza\u001b[0m\n",
      "\u001b[0m"
     ]
    }
   ],
   "source": [
    "! qiime taxa collapse \\\n",
    "    --i-table $data_dir_diff/table_abund.qza \\\n",
    "    --i-taxonomy $data_dir/taxonomy_classification/taxonomy_blast_18-11.qza \\\n",
    "    --p-level 6 \\\n",
    "    --o-collapsed-table $data_dir_diff/table_abund_taxa.qza"
   ]
  },
  {
   "cell_type": "markdown",
   "id": "ed5ccd81-ba09-4673-a2fb-016855ffb4ca",
   "metadata": {},
   "source": [
    "### Healthy vs. Healed"
   ]
  },
  {
   "cell_type": "code",
   "execution_count": 51,
   "id": "59aafcf8-244b-4c52-bd07-c4f14fe5b32c",
   "metadata": {
    "tags": []
   },
   "outputs": [
    {
     "name": "stdout",
     "output_type": "stream",
     "text": [
      "\u001b[32mSaved FeatureTable[Frequency] to: data/differential_abundance//table_abund_taxa_healthy_healed.qza\u001b[0m\n",
      "\u001b[0m"
     ]
    }
   ],
   "source": [
    "! qiime feature-table filter-samples \\\n",
    "    --i-table $data_dir_diff/table_abund_taxa.qza \\\n",
    "    --m-metadata-file $data_dir/pundemic_metadata_subgroup_response_all.tsv \\\n",
    "    --p-where \"[disease_status]='Healthy' or [disease_status]='Healed'\" \\\n",
    "    --o-filtered-table $data_dir_diff/table_abund_taxa_healthy_healed.qza"
   ]
  },
  {
   "cell_type": "code",
   "execution_count": 52,
   "id": "a3df75a9-338c-452e-b0a3-63c960986cea",
   "metadata": {
    "tags": []
   },
   "outputs": [
    {
     "name": "stdout",
     "output_type": "stream",
     "text": [
      "\u001b[32mSaved FeatureData[DifferentialAbundance] to: data/differential_abundance//ancombc_taxa_healthy_healed.qza\u001b[0m\n",
      "\u001b[0m\u001b[32mSaved Visualization to: data/differential_abundance//ancombc_taxa_healthy_healed_barplot.qzv\u001b[0m\n",
      "\u001b[0m\u001b[32mSaved Visualization to: data/differential_abundance//ancombc_taxa_healthy_healed.qzv\u001b[0m\n",
      "\u001b[0m"
     ]
    }
   ],
   "source": [
    "! qiime composition ancombc \\\n",
    "    --i-table $data_dir_diff/table_abund_taxa_healthy_healed.qza \\\n",
    "    --m-metadata-file $data_dir/pundemic_metadata_subgroup_response_all.tsv \\\n",
    "    --p-formula disease_status \\\n",
    "    --o-differentials $data_dir_diff/ancombc_taxa_healthy_healed.qza\n",
    "\n",
    "# Generate a barplot of differentially abundant taxa between environments\n",
    "! qiime composition da-barplot \\\n",
    "    --i-data $data_dir_diff/ancombc_taxa_healthy_healed.qza \\\n",
    "    --o-visualization $data_dir_diff/ancombc_taxa_healthy_healed_barplot.qzv\n",
    "\n",
    "# Generate a table of these same values for all taxa\n",
    "! qiime composition tabulate \\\n",
    "    --i-data $data_dir_diff/ancombc_taxa_healthy_healed.qza \\\n",
    "    --o-visualization $data_dir_diff/ancombc_taxa_healthy_healed.qzv"
   ]
  },
  {
   "cell_type": "code",
   "execution_count": 19,
   "id": "204ad0a6-63d2-465a-8dc4-01799f186bda",
   "metadata": {
    "collapsed": true,
    "jupyter": {
     "outputs_hidden": true
    },
    "tags": []
   },
   "outputs": [
    {
     "data": {
      "text/html": [
       "<div><img onload=\"(function(div, url){\n",
       "if (typeof require !== 'undefined') {\n",
       "    var baseURL = require.toUrl('').split('/').slice(0, -2).join('/');\n",
       "} else {\n",
       "    var baseURL = JSON.parse(\n",
       "        document.getElementById('jupyter-config-data').innerHTML\n",
       "    ).baseUrl.slice(0, -1);\n",
       "}\n",
       "url = baseURL + url;\n",
       "fetch(url).then(function(res) {\n",
       "    if (res.status === 404) {\n",
       "        div.innerHTML = 'Install QIIME 2 Jupyter extension with:<br />' +\n",
       "                        '<code>jupyter serverextension enable --py qiime2' +\n",
       "                        ' --sys-prefix</code><br />then restart your server.' +\n",
       "                        '<br /><br />(Interactive output not available on ' +\n",
       "                        'static notebook viewer services like nbviewer.)';\n",
       "    } else if (res.status === 409) {\n",
       "        div.innerHTML = 'Visualization no longer in scope. Re-run this cell' +\n",
       "                        ' to see the visualization.';\n",
       "    } else if (res.ok) {\n",
       "        url = res.url;\n",
       "        div.innerHTML = '<iframe src=\\'' + url + '\\' style=\\'' +\n",
       "                        'width: 100%; height: 700px; border: 0;\\'>' +\n",
       "                        '</iframe><hr />Open in a: <a href=\\'' + url + '\\'' +\n",
       "                        ' target=\\'_blank\\'>new window</a>'\n",
       "    } else {\n",
       "        div.innerHTML = 'Something has gone wrong. Check notebook server for' +\n",
       "                        ' errors.';\n",
       "    }\n",
       "});\n",
       "})(this.parentElement, '/qiime2/redirect?location=/tmp/qiime2/jovyan/data/287e922f-b55b-479d-b307-368c4d088e24')\" src=\"data:image/gif;base64,R0lGODlhAQABAIAAAP///wAAACH5BAEAAAAALAAAAAABAAEAAAICRAEAOw==\" /></div>"
      ],
      "text/plain": [
       "<visualization: Visualization uuid: 287e922f-b55b-479d-b307-368c4d088e24>"
      ]
     },
     "execution_count": 19,
     "metadata": {},
     "output_type": "execute_result"
    }
   ],
   "source": [
    "Visualization.load(f\"{data_dir_diff}/ancombc_taxa_healthy_healed.qzv\")"
   ]
  },
  {
   "cell_type": "code",
   "execution_count": 20,
   "id": "840ec778-4251-49cd-ad93-ae8cfb544a0c",
   "metadata": {
    "collapsed": true,
    "jupyter": {
     "outputs_hidden": true
    },
    "tags": []
   },
   "outputs": [
    {
     "data": {
      "text/html": [
       "<div><img onload=\"(function(div, url){\n",
       "if (typeof require !== 'undefined') {\n",
       "    var baseURL = require.toUrl('').split('/').slice(0, -2).join('/');\n",
       "} else {\n",
       "    var baseURL = JSON.parse(\n",
       "        document.getElementById('jupyter-config-data').innerHTML\n",
       "    ).baseUrl.slice(0, -1);\n",
       "}\n",
       "url = baseURL + url;\n",
       "fetch(url).then(function(res) {\n",
       "    if (res.status === 404) {\n",
       "        div.innerHTML = 'Install QIIME 2 Jupyter extension with:<br />' +\n",
       "                        '<code>jupyter serverextension enable --py qiime2' +\n",
       "                        ' --sys-prefix</code><br />then restart your server.' +\n",
       "                        '<br /><br />(Interactive output not available on ' +\n",
       "                        'static notebook viewer services like nbviewer.)';\n",
       "    } else if (res.status === 409) {\n",
       "        div.innerHTML = 'Visualization no longer in scope. Re-run this cell' +\n",
       "                        ' to see the visualization.';\n",
       "    } else if (res.ok) {\n",
       "        url = res.url;\n",
       "        div.innerHTML = '<iframe src=\\'' + url + '\\' style=\\'' +\n",
       "                        'width: 100%; height: 700px; border: 0;\\'>' +\n",
       "                        '</iframe><hr />Open in a: <a href=\\'' + url + '\\'' +\n",
       "                        ' target=\\'_blank\\'>new window</a>'\n",
       "    } else {\n",
       "        div.innerHTML = 'Something has gone wrong. Check notebook server for' +\n",
       "                        ' errors.';\n",
       "    }\n",
       "});\n",
       "})(this.parentElement, '/qiime2/redirect?location=/tmp/qiime2/jovyan/data/280f4690-3af5-414f-9efa-2e1364d9e695')\" src=\"data:image/gif;base64,R0lGODlhAQABAIAAAP///wAAACH5BAEAAAAALAAAAAABAAEAAAICRAEAOw==\" /></div>"
      ],
      "text/plain": [
       "<visualization: Visualization uuid: 280f4690-3af5-414f-9efa-2e1364d9e695>"
      ]
     },
     "execution_count": 20,
     "metadata": {},
     "output_type": "execute_result"
    }
   ],
   "source": [
    "Visualization.load(f\"{data_dir_diff}/ancombc_taxa_healthy_healed_barplot.qzv\")"
   ]
  },
  {
   "cell_type": "markdown",
   "id": "4c4707c7-3313-43c8-8904-7409feec8a2f",
   "metadata": {},
   "source": [
    "### Healthy vs. Puns"
   ]
  },
  {
   "cell_type": "code",
   "execution_count": 53,
   "id": "f6abd712-09cb-4e6b-ab0d-9fa8ec694f0d",
   "metadata": {
    "tags": []
   },
   "outputs": [
    {
     "name": "stdout",
     "output_type": "stream",
     "text": [
      "\u001b[32mSaved FeatureTable[Frequency] to: data/differential_abundance//table_abund_taxa_healthy_puns.qza\u001b[0m\n",
      "\u001b[0m"
     ]
    }
   ],
   "source": [
    "! qiime feature-table filter-samples \\\n",
    "    --i-table $data_dir_diff/table_abund_taxa.qza \\\n",
    "    --m-metadata-file $data_dir/pundemic_metadata_subgroup_response_all.tsv \\\n",
    "    --p-where \"[disease_status]='Healthy' or [disease_status]='Puns'\" \\\n",
    "    --o-filtered-table $data_dir_diff/table_abund_taxa_healthy_puns.qza"
   ]
  },
  {
   "cell_type": "code",
   "execution_count": 54,
   "id": "0d42b240-7065-4e13-b5fc-32db0a64c07a",
   "metadata": {
    "tags": []
   },
   "outputs": [
    {
     "name": "stdout",
     "output_type": "stream",
     "text": [
      "\u001b[32mSaved FeatureData[DifferentialAbundance] to: data/differential_abundance//ancombc_taxa_healthy_puns.qza\u001b[0m\n",
      "\u001b[0m\u001b[32mSaved Visualization to: data/differential_abundance//ancombc_taxa_healthy_puns_barplot.qzv\u001b[0m\n",
      "\u001b[0m\u001b[32mSaved Visualization to: data/differential_abundance//ancombc_taxa_healthy_puns.qzv\u001b[0m\n",
      "\u001b[0m"
     ]
    }
   ],
   "source": [
    "! qiime composition ancombc \\\n",
    "    --i-table $data_dir_diff/table_abund_taxa_healthy_puns.qza \\\n",
    "    --m-metadata-file $data_dir/pundemic_metadata_subgroup_response_all.tsv \\\n",
    "    --p-formula disease_status \\\n",
    "    --p-reference-levels disease_status::Healthy \\\n",
    "    --o-differentials $data_dir_diff/ancombc_taxa_healthy_puns.qza\n",
    "\n",
    "# Generate a barplot of differentially abundant taxa between environments\n",
    "! qiime composition da-barplot \\\n",
    "    --i-data $data_dir_diff/ancombc_taxa_healthy_puns.qza \\\n",
    "    --o-visualization $data_dir_diff/ancombc_taxa_healthy_puns_barplot.qzv\n",
    "\n",
    "# Generate a table of these same values for all taxa\n",
    "! qiime composition tabulate \\\n",
    "    --i-data $data_dir_diff/ancombc_taxa_healthy_puns.qza \\\n",
    "    --o-visualization $data_dir_diff/ancombc_taxa_healthy_puns.qzv"
   ]
  },
  {
   "cell_type": "code",
   "execution_count": null,
   "id": "d8327e07-21d6-4c85-8d81-2b6cdb9017a5",
   "metadata": {},
   "outputs": [],
   "source": [
    "Visualization.load(f\"{data_dir_diff}/ancombc_taxa_healthy_puns.qzv\")"
   ]
  },
  {
   "cell_type": "code",
   "execution_count": null,
   "id": "9ea68353-c252-46c5-8387-3b19a9197053",
   "metadata": {},
   "outputs": [],
   "source": [
    "Visualization.load(f\"{data_dir_diff}/ancombc_taxa_healthy_puns_barplot.qzv\")"
   ]
  },
  {
   "cell_type": "markdown",
   "id": "1dcc911b-0968-4dda-ae24-56d46bae82e8",
   "metadata": {},
   "source": [
    "### Comparison between Pre- and Post-Treatment\n",
    "#### FMT Response: Pre- and Post-Treatment"
   ]
  },
  {
   "cell_type": "code",
   "execution_count": 55,
   "id": "59e39354-2a4d-47c0-9882-887419fc60f5",
   "metadata": {
    "tags": []
   },
   "outputs": [
    {
     "name": "stdout",
     "output_type": "stream",
     "text": [
      "\u001b[32mSaved FeatureTable[Frequency] to: data/differential_abundance//table_abund_taxa_FMTres.qza\u001b[0m\n",
      "\u001b[0m"
     ]
    }
   ],
   "source": [
    "! qiime feature-table filter-samples \\\n",
    "    --i-table $data_dir_diff/table_abund_taxa.qza \\\n",
    "    --m-metadata-file $data_dir/pundemic_metadata_subgroup_response_all.tsv \\\n",
    "    --p-where \"[subgroup_response]='FMT_Res'\" \\\n",
    "    --o-filtered-table $data_dir_diff/table_abund_taxa_FMTres.qza"
   ]
  },
  {
   "cell_type": "code",
   "execution_count": 56,
   "id": "ad3db9a3-7276-4157-93b3-e9c721ea8d27",
   "metadata": {
    "tags": []
   },
   "outputs": [
    {
     "name": "stdout",
     "output_type": "stream",
     "text": [
      "\u001b[32mSaved FeatureData[DifferentialAbundance] to: data/differential_abundance//ancombc_taxa_t_FMTres.qza\u001b[0m\n",
      "\u001b[0m\u001b[32mSaved Visualization to: data/differential_abundance//ancombc_taxa_t_FMTres_barplot.qzv\u001b[0m\n",
      "\u001b[0m\u001b[32mSaved Visualization to: data/differential_abundance//ancombc_taxa_t_FMTres.qzv\u001b[0m\n",
      "\u001b[0m"
     ]
    }
   ],
   "source": [
    "! qiime composition ancombc \\\n",
    "    --i-table $data_dir_diff/table_abund_taxa_FMTres.qza \\\n",
    "    --m-metadata-file $data_dir/pundemic_metadata_subgroup_response_all.tsv \\\n",
    "    --p-formula time_point \\\n",
    "    --p-reference-levels time_point::pre-treatment \\\n",
    "    --o-differentials $data_dir_diff/ancombc_taxa_t_FMTres.qza\n",
    "\n",
    "# Generate a barplot of differentially abundant taxa between environments\n",
    "! qiime composition da-barplot \\\n",
    "    --i-data $data_dir_diff/ancombc_taxa_t_FMTres.qza \\\n",
    "    --o-visualization $data_dir_diff/ancombc_taxa_t_FMTres_barplot.qzv\n",
    "\n",
    "# Generate a table of these same values for all taxa\n",
    "! qiime composition tabulate \\\n",
    "    --i-data $data_dir_diff/ancombc_taxa_t_FMTres.qza \\\n",
    "    --o-visualization $data_dir_diff/ancombc_taxa_t_FMTres.qzv"
   ]
  },
  {
   "cell_type": "code",
   "execution_count": null,
   "id": "8573d788-5b91-457b-92d9-6bd451f2e895",
   "metadata": {},
   "outputs": [],
   "source": [
    "Visualization.load(f\"{data_dir_diff}/ancombc_taxa_t_FMTres.qzv\")"
   ]
  },
  {
   "cell_type": "code",
   "execution_count": null,
   "id": "98af9ae4-074d-4bc4-922e-ec146adcd08b",
   "metadata": {},
   "outputs": [],
   "source": [
    "Visualization.load(f\"{data_dir_diff}/ancombc_taxa_t_FMTres_barplot.qzv\")"
   ]
  },
  {
   "cell_type": "markdown",
   "id": "82c1e6af-0ba5-425a-9802-9fe40531b5bd",
   "metadata": {},
   "source": [
    "#### FMT No Response: Pre- and Post-Treatment"
   ]
  },
  {
   "cell_type": "code",
   "execution_count": 57,
   "id": "24b16a94-c2ab-4a20-9696-03a290677408",
   "metadata": {
    "tags": []
   },
   "outputs": [
    {
     "name": "stdout",
     "output_type": "stream",
     "text": [
      "\u001b[32mSaved FeatureTable[Frequency] to: data/differential_abundance//table_abund_taxa_FMTnr.qza\u001b[0m\n",
      "\u001b[0m"
     ]
    }
   ],
   "source": [
    "! qiime feature-table filter-samples \\\n",
    "    --i-table $data_dir_diff/table_abund_taxa.qza \\\n",
    "    --m-metadata-file $data_dir/pundemic_metadata_subgroup_response_all.tsv \\\n",
    "    --p-where \"[subgroup_response]='FMT_NR'\" \\\n",
    "    --o-filtered-table $data_dir_diff/table_abund_taxa_FMTnr.qza"
   ]
  },
  {
   "cell_type": "code",
   "execution_count": 58,
   "id": "eb7b06cb-441f-4d85-9c25-b94999478647",
   "metadata": {
    "tags": []
   },
   "outputs": [
    {
     "name": "stdout",
     "output_type": "stream",
     "text": [
      "\u001b[32mSaved FeatureData[DifferentialAbundance] to: data/differential_abundance//ancombc_taxa_t_FMTnr.qza\u001b[0m\n",
      "\u001b[0m\u001b[32mSaved Visualization to: data/differential_abundance//ancombc_taxa_t_FMTnr_barplot.qzv\u001b[0m\n",
      "\u001b[0m\u001b[32mSaved Visualization to: data/differential_abundance//ancombc_taxa_t_FMTnr.qzv\u001b[0m\n",
      "\u001b[0m"
     ]
    }
   ],
   "source": [
    "! qiime composition ancombc \\\n",
    "    --i-table $data_dir_diff/table_abund_taxa_FMTnr.qza \\\n",
    "    --m-metadata-file $data_dir/pundemic_metadata_subgroup_response_all.tsv \\\n",
    "    --p-formula time_point \\\n",
    "    --p-reference-levels time_point::pre-treatment \\\n",
    "    --o-differentials $data_dir_diff/ancombc_taxa_t_FMTnr.qza\n",
    "\n",
    "# Generate a barplot of differentially abundant taxa between environments\n",
    "! qiime composition da-barplot \\\n",
    "    --i-data $data_dir_diff/ancombc_taxa_t_FMTnr.qza \\\n",
    "    --o-visualization $data_dir_diff/ancombc_taxa_t_FMTnr_barplot.qzv\n",
    "\n",
    "# Generate a table of these same values for all taxa\n",
    "! qiime composition tabulate \\\n",
    "    --i-data $data_dir_diff/ancombc_taxa_t_FMTnr.qza \\\n",
    "    --o-visualization $data_dir_diff/ancombc_taxa_t_FMTnr.qzv"
   ]
  },
  {
   "cell_type": "code",
   "execution_count": null,
   "id": "4a99e263-463f-4c6b-bc0f-9284c55834e0",
   "metadata": {},
   "outputs": [],
   "source": [
    "Visualization.load(f\"{data_dir_diff}/ancombc_taxa_t_FMTnr.qzv\")"
   ]
  },
  {
   "cell_type": "code",
   "execution_count": null,
   "id": "80afa543-2660-44bb-819a-a03dcf6ea0ac",
   "metadata": {},
   "outputs": [],
   "source": [
    "Visualization.load(f\"{data_dir_diff}/ancombc_taxa_t_FMTnr_barplot.qzv\")"
   ]
  },
  {
   "cell_type": "markdown",
   "id": "4881cc51-a54a-4cbf-863d-0d97bff2ce56",
   "metadata": {},
   "source": [
    "#### Placebo No Response: Pre- and Post-Treatment"
   ]
  },
  {
   "cell_type": "code",
   "execution_count": 59,
   "id": "adced22c-ac1e-4ecb-ba4b-cc7740fdb35f",
   "metadata": {
    "tags": []
   },
   "outputs": [
    {
     "name": "stdout",
     "output_type": "stream",
     "text": [
      "\u001b[32mSaved FeatureTable[Frequency] to: data/differential_abundance//table_taxa_abund_PlaceboNR.qza\u001b[0m\n",
      "\u001b[0m"
     ]
    }
   ],
   "source": [
    "! qiime feature-table filter-samples \\\n",
    "    --i-table $data_dir_diff/table_abund_taxa.qza \\\n",
    "    --m-metadata-file $data_dir/pundemic_metadata_subgroup_response_all.tsv \\\n",
    "    --p-where \"[subgroup_response]='Placebo_NR'\" \\\n",
    "    --o-filtered-table $data_dir_diff/table_taxa_abund_PlaceboNR.qza"
   ]
  },
  {
   "cell_type": "code",
   "execution_count": 60,
   "id": "8aa03c67-3d8a-46e8-b1d4-9029ddb5697d",
   "metadata": {
    "tags": []
   },
   "outputs": [
    {
     "name": "stdout",
     "output_type": "stream",
     "text": [
      "\u001b[32mSaved FeatureData[DifferentialAbundance] to: data/differential_abundance//ancombc_taxa_t_PlaceboNR.qza\u001b[0m\n",
      "\u001b[0m\u001b[32mSaved Visualization to: data/differential_abundance//ancombc_taxa_t_PlaceboNR_barplot.qzv\u001b[0m\n",
      "\u001b[0m\u001b[32mSaved Visualization to: data/differential_abundance//ancombc_taxa_t_PlaceboNR.qzv\u001b[0m\n",
      "\u001b[0m"
     ]
    }
   ],
   "source": [
    "! qiime composition ancombc \\\n",
    "    --i-table $data_dir_diff/table_taxa_abund_PlaceboNR.qza \\\n",
    "    --m-metadata-file $data_dir/pundemic_metadata_subgroup_response_all.tsv \\\n",
    "    --p-formula time_point \\\n",
    "    --p-reference-levels time_point::pre-treatment \\\n",
    "    --o-differentials $data_dir_diff/ancombc_taxa_t_PlaceboNR.qza\n",
    "\n",
    "# Generate a barplot of differentially abundant taxa between environments\n",
    "! qiime composition da-barplot \\\n",
    "    --i-data $data_dir_diff/ancombc_taxa_t_PlaceboNR.qza \\\n",
    "    --o-visualization $data_dir_diff/ancombc_taxa_t_PlaceboNR_barplot.qzv\n",
    "\n",
    "# Generate a table of these same values for all taxa\n",
    "! qiime composition tabulate \\\n",
    "    --i-data $data_dir_diff/ancombc_taxa_t_PlaceboNR.qza \\\n",
    "    --o-visualization $data_dir_diff/ancombc_taxa_t_PlaceboNR.qzv"
   ]
  },
  {
   "cell_type": "code",
   "execution_count": null,
   "id": "9d6f3c61-7c9c-4de6-a449-79fa146c4e66",
   "metadata": {},
   "outputs": [],
   "source": [
    "Visualization.load(f\"{data_dir_diff}/ancombc_taxa_t_PlaceboNR.qzv\")"
   ]
  },
  {
   "cell_type": "code",
   "execution_count": null,
   "id": "53a3e4ab-08a9-47a7-8622-24c3a7d39e98",
   "metadata": {},
   "outputs": [],
   "source": [
    "Visualization.load(f\"{data_dir_diff}/ancombc_taxa_t_PlaceboNR_barplot.qzv\")"
   ]
  },
  {
   "cell_type": "markdown",
   "id": "30ef8fd4-2425-4581-b240-239c4fd05f57",
   "metadata": {},
   "source": [
    "### Check again for sex batch effects"
   ]
  },
  {
   "cell_type": "code",
   "execution_count": 61,
   "id": "1afe8b7c-787c-455b-be9f-33717dcddf2c",
   "metadata": {
    "tags": []
   },
   "outputs": [
    {
     "name": "stdout",
     "output_type": "stream",
     "text": [
      "\u001b[32mSaved FeatureTable[Frequency] to: data/differential_abundance//table_abund_taxa_sex.qza\u001b[0m\n",
      "\u001b[0m"
     ]
    }
   ],
   "source": [
    "! qiime feature-table filter-samples \\\n",
    "    --i-table $data_dir_diff/table_abund_taxa.qza \\\n",
    "    --m-metadata-file $data_dir/pundemic_metadata_subgroup_response_all.tsv \\\n",
    "    --p-where \"[sex]='female' or [sex]='male' \" \\\n",
    "    --o-filtered-table $data_dir_diff/table_abund_taxa_sex.qza"
   ]
  },
  {
   "cell_type": "code",
   "execution_count": 62,
   "id": "7b1a1bf9-d8f2-41d4-afae-9a0cf2454b96",
   "metadata": {
    "tags": []
   },
   "outputs": [
    {
     "name": "stdout",
     "output_type": "stream",
     "text": [
      "\u001b[32mSaved FeatureData[DifferentialAbundance] to: data/differential_abundance//ancombc_taxa_sex.qza\u001b[0m\n",
      "\u001b[0m\u001b[32mSaved Visualization to: data/differential_abundance//ancombc_taxa_sex_barplot.qzv\u001b[0m\n",
      "\u001b[0m\u001b[32mSaved Visualization to: data/differential_abundance//ancombc_taxa_sex.qzv\u001b[0m\n",
      "\u001b[0m"
     ]
    }
   ],
   "source": [
    "! qiime composition ancombc \\\n",
    "    --i-table $data_dir_diff/table_abund_taxa_sex.qza \\\n",
    "    --m-metadata-file $data_dir/pundemic_metadata_subgroup_response_all.tsv \\\n",
    "    --p-formula sex \\\n",
    "    --p-reference-levels sex::female \\\n",
    "    --o-differentials $data_dir_diff/ancombc_taxa_sex.qza\n",
    "\n",
    "# Generate a barplot of differentially abundant taxa between environments\n",
    "! qiime composition da-barplot \\\n",
    "    --i-data $data_dir_diff/ancombc_taxa_sex.qza \\\n",
    "    --o-visualization $data_dir_diff/ancombc_taxa_sex_barplot.qzv\n",
    "\n",
    "# Generate a table of these same values for all taxa\n",
    "! qiime composition tabulate \\\n",
    "    --i-data $data_dir_diff/ancombc_taxa_sex.qza \\\n",
    "    --o-visualization $data_dir_diff/ancombc_taxa_sex.qzv"
   ]
  },
  {
   "cell_type": "code",
   "execution_count": null,
   "id": "5f9db828-deb5-4cb3-8c81-28121abb8080",
   "metadata": {},
   "outputs": [],
   "source": [
    "Visualization.load(f\"{data_dir_diff}/ancombc_taxa_sex.qzv\")"
   ]
  },
  {
   "cell_type": "code",
   "execution_count": null,
   "id": "90f0974a-a444-45f3-9d34-e7c22ff371b5",
   "metadata": {},
   "outputs": [],
   "source": [
    "Visualization.load(f\"{data_dir_diff}/ancombc_taxa_sex_barplot.qzv\")"
   ]
  }
 ],
 "metadata": {
  "kernelspec": {
   "display_name": "QIIME 2",
   "language": "python",
   "name": "python3"
  },
  "language_info": {
   "codemirror_mode": {
    "name": "ipython",
    "version": 3
   },
   "file_extension": ".py",
   "mimetype": "text/x-python",
   "name": "python",
   "nbconvert_exporter": "python",
   "pygments_lexer": "ipython3",
   "version": "3.9.19"
  }
 },
 "nbformat": 4,
 "nbformat_minor": 5
}
