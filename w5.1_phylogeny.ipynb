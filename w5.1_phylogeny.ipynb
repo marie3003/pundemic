{
 "cells": [
  {
   "cell_type": "markdown",
   "id": "5938f460-3356-469e-a129-240b556809f4",
   "metadata": {},
   "source": [
    "# Phylogeny Analysis"
   ]
  },
  {
   "cell_type": "code",
   "execution_count": 1,
   "id": "d6b9ac11-489e-4422-964d-263a1fccd184",
   "metadata": {
    "collapsed": true,
    "jupyter": {
     "outputs_hidden": true
    },
    "tags": []
   },
   "outputs": [
    {
     "name": "stdout",
     "output_type": "stream",
     "text": [
      "Requirement already satisfied: empress in /opt/conda/lib/python3.9/site-packages (1.2.0)\n",
      "Requirement already satisfied: numpy in /opt/conda/lib/python3.9/site-packages (from empress) (1.26.4)\n",
      "Requirement already satisfied: scipy in /opt/conda/lib/python3.9/site-packages (from empress) (1.10.1)\n",
      "Requirement already satisfied: pandas in /opt/conda/lib/python3.9/site-packages (from empress) (2.2.2)\n",
      "Requirement already satisfied: click in /opt/conda/lib/python3.9/site-packages (from empress) (8.1.7)\n",
      "Requirement already satisfied: jinja2 in /opt/conda/lib/python3.9/site-packages (from empress) (3.1.4)\n",
      "Requirement already satisfied: scikit-bio in /opt/conda/lib/python3.9/site-packages (from empress) (0.5.9)\n",
      "Requirement already satisfied: biom-format in /opt/conda/lib/python3.9/site-packages (from empress) (2.1.15)\n",
      "Requirement already satisfied: iow in /opt/conda/lib/python3.9/site-packages (from empress) (1.0.5)\n",
      "Requirement already satisfied: emperor>=1.0.2 in /opt/conda/lib/python3.9/site-packages (from empress) (1.0.4)\n",
      "Requirement already satisfied: future in /opt/conda/lib/python3.9/site-packages (from emperor>=1.0.2->empress) (1.0.0)\n",
      "Requirement already satisfied: MarkupSafe>=2.0 in /opt/conda/lib/python3.9/site-packages (from jinja2->empress) (2.1.5)\n",
      "Requirement already satisfied: requests>=2.20.0 in /opt/conda/lib/python3.9/site-packages (from scikit-bio->empress) (2.32.3)\n",
      "Requirement already satisfied: decorator>=3.4.2 in /opt/conda/lib/python3.9/site-packages (from scikit-bio->empress) (4.4.2)\n",
      "Requirement already satisfied: IPython>=3.2.0 in /opt/conda/lib/python3.9/site-packages (from scikit-bio->empress) (8.18.1)\n",
      "Requirement already satisfied: matplotlib>=1.4.3 in /opt/conda/lib/python3.9/site-packages (from scikit-bio->empress) (3.8.4)\n",
      "Requirement already satisfied: natsort>=4.0.3 in /opt/conda/lib/python3.9/site-packages (from scikit-bio->empress) (8.4.0)\n",
      "Requirement already satisfied: h5py>=3.6.0 in /opt/conda/lib/python3.9/site-packages (from scikit-bio->empress) (3.11.0)\n",
      "Requirement already satisfied: hdmedians>=0.14.1 in /opt/conda/lib/python3.9/site-packages (from scikit-bio->empress) (0.14.2)\n",
      "Requirement already satisfied: python-dateutil>=2.8.2 in /opt/conda/lib/python3.9/site-packages (from pandas->empress) (2.8.2)\n",
      "Requirement already satisfied: pytz>=2020.1 in /opt/conda/lib/python3.9/site-packages (from pandas->empress) (2024.1)\n",
      "Requirement already satisfied: tzdata>=2022.7 in /opt/conda/lib/python3.9/site-packages (from pandas->empress) (2024.1)\n",
      "Requirement already satisfied: nose>=1.3.7 in /opt/conda/lib/python3.9/site-packages (from iow->empress) (1.3.7)\n",
      "Requirement already satisfied: cython>=0.24.1 in /opt/conda/lib/python3.9/site-packages (from iow->empress) (3.0.11)\n",
      "Requirement already satisfied: jedi>=0.16 in /opt/conda/lib/python3.9/site-packages (from IPython>=3.2.0->scikit-bio->empress) (0.19.1)\n",
      "Requirement already satisfied: matplotlib-inline in /opt/conda/lib/python3.9/site-packages (from IPython>=3.2.0->scikit-bio->empress) (0.1.7)\n",
      "Requirement already satisfied: prompt-toolkit<3.1.0,>=3.0.41 in /opt/conda/lib/python3.9/site-packages (from IPython>=3.2.0->scikit-bio->empress) (3.0.47)\n",
      "Requirement already satisfied: pygments>=2.4.0 in /opt/conda/lib/python3.9/site-packages (from IPython>=3.2.0->scikit-bio->empress) (2.18.0)\n",
      "Requirement already satisfied: stack-data in /opt/conda/lib/python3.9/site-packages (from IPython>=3.2.0->scikit-bio->empress) (0.6.2)\n",
      "Requirement already satisfied: traitlets>=5 in /opt/conda/lib/python3.9/site-packages (from IPython>=3.2.0->scikit-bio->empress) (5.9.0)\n",
      "Requirement already satisfied: typing-extensions in /opt/conda/lib/python3.9/site-packages (from IPython>=3.2.0->scikit-bio->empress) (4.12.2)\n",
      "Requirement already satisfied: exceptiongroup in /opt/conda/lib/python3.9/site-packages (from IPython>=3.2.0->scikit-bio->empress) (1.2.0)\n",
      "Requirement already satisfied: pexpect>4.3 in /opt/conda/lib/python3.9/site-packages (from IPython>=3.2.0->scikit-bio->empress) (4.9.0)\n",
      "Requirement already satisfied: contourpy>=1.0.1 in /opt/conda/lib/python3.9/site-packages (from matplotlib>=1.4.3->scikit-bio->empress) (1.2.1)\n",
      "Requirement already satisfied: cycler>=0.10 in /opt/conda/lib/python3.9/site-packages (from matplotlib>=1.4.3->scikit-bio->empress) (0.12.1)\n",
      "Requirement already satisfied: fonttools>=4.22.0 in /opt/conda/lib/python3.9/site-packages (from matplotlib>=1.4.3->scikit-bio->empress) (4.53.0)\n",
      "Requirement already satisfied: kiwisolver>=1.3.1 in /opt/conda/lib/python3.9/site-packages (from matplotlib>=1.4.3->scikit-bio->empress) (1.4.5)\n",
      "Requirement already satisfied: packaging>=20.0 in /opt/conda/lib/python3.9/site-packages (from matplotlib>=1.4.3->scikit-bio->empress) (24.1)\n",
      "Requirement already satisfied: pillow>=8 in /opt/conda/lib/python3.9/site-packages (from matplotlib>=1.4.3->scikit-bio->empress) (10.3.0)\n",
      "Requirement already satisfied: pyparsing>=2.3.1 in /opt/conda/lib/python3.9/site-packages (from matplotlib>=1.4.3->scikit-bio->empress) (3.1.2)\n",
      "Requirement already satisfied: importlib-resources>=3.2.0 in /opt/conda/lib/python3.9/site-packages (from matplotlib>=1.4.3->scikit-bio->empress) (6.4.0)\n",
      "Requirement already satisfied: six>=1.5 in /opt/conda/lib/python3.9/site-packages (from python-dateutil>=2.8.2->pandas->empress) (1.16.0)\n",
      "Requirement already satisfied: charset-normalizer<4,>=2 in /opt/conda/lib/python3.9/site-packages (from requests>=2.20.0->scikit-bio->empress) (3.3.2)\n",
      "Requirement already satisfied: idna<4,>=2.5 in /opt/conda/lib/python3.9/site-packages (from requests>=2.20.0->scikit-bio->empress) (3.7)\n",
      "Requirement already satisfied: urllib3<3,>=1.21.1 in /opt/conda/lib/python3.9/site-packages (from requests>=2.20.0->scikit-bio->empress) (1.26.19)\n",
      "Requirement already satisfied: certifi>=2017.4.17 in /opt/conda/lib/python3.9/site-packages (from requests>=2.20.0->scikit-bio->empress) (2024.8.30)\n",
      "Requirement already satisfied: zipp>=3.1.0 in /opt/conda/lib/python3.9/site-packages (from importlib-resources>=3.2.0->matplotlib>=1.4.3->scikit-bio->empress) (3.19.2)\n",
      "Requirement already satisfied: parso<0.9.0,>=0.8.3 in /opt/conda/lib/python3.9/site-packages (from jedi>=0.16->IPython>=3.2.0->scikit-bio->empress) (0.8.4)\n",
      "Requirement already satisfied: ptyprocess>=0.5 in /opt/conda/lib/python3.9/site-packages (from pexpect>4.3->IPython>=3.2.0->scikit-bio->empress) (0.7.0)\n",
      "Requirement already satisfied: wcwidth in /opt/conda/lib/python3.9/site-packages (from prompt-toolkit<3.1.0,>=3.0.41->IPython>=3.2.0->scikit-bio->empress) (0.2.13)\n",
      "Requirement already satisfied: executing>=1.2.0 in /opt/conda/lib/python3.9/site-packages (from stack-data->IPython>=3.2.0->scikit-bio->empress) (2.0.1)\n",
      "Requirement already satisfied: asttokens>=2.1.0 in /opt/conda/lib/python3.9/site-packages (from stack-data->IPython>=3.2.0->scikit-bio->empress) (2.4.1)\n",
      "Requirement already satisfied: pure-eval in /opt/conda/lib/python3.9/site-packages (from stack-data->IPython>=3.2.0->scikit-bio->empress) (0.2.2)\n",
      "\u001b[33mQIIME is caching your current deployment for improved performance. This may take a few moments and should only happen once per deployment.\u001b[0m\n",
      "\u001b[0m"
     ]
    }
   ],
   "source": [
    "from qiime2 import Visualization\n",
    "! pip install empress\n",
    "! qiime dev refresh-cache"
   ]
  },
  {
   "cell_type": "code",
   "execution_count": 2,
   "id": "8efe2479-5087-4181-b036-3bfc8dd242bf",
   "metadata": {
    "tags": []
   },
   "outputs": [],
   "source": [
    "data_dir_tax = 'data/taxonomy_classification'\n",
    "data_dir_phyl = 'data/phylogeny'\n",
    "data_dir_dada = 'data/dada'"
   ]
  },
  {
   "cell_type": "markdown",
   "id": "f4360ea1-0d6b-4b2b-9b1c-429962c9b86a",
   "metadata": {},
   "source": [
    "## Phylogeny de novo"
   ]
  },
  {
   "cell_type": "markdown",
   "id": "9d0e8bec-42a3-4919-ac70-186a8a9029e4",
   "metadata": {},
   "source": [
    "#### Sequence Alignment with mafft"
   ]
  },
  {
   "cell_type": "code",
   "execution_count": 3,
   "id": "98ae1c7a-9bc4-4b4a-be3a-8fd55f060786",
   "metadata": {
    "tags": []
   },
   "outputs": [
    {
     "name": "stdout",
     "output_type": "stream",
     "text": [
      "\u001b[32mSaved FeatureData[AlignedSequence] to: data/phylogeny/aligned_rep_seqs.qza\u001b[0m\n",
      "\u001b[0m"
     ]
    }
   ],
   "source": [
    "! qiime alignment mafft \\\n",
    "    --i-sequences $data_dir_dada/dada2_rep_seq.qza \\\n",
    "    --o-alignment $data_dir_phyl/aligned_rep_seqs.qza"
   ]
  },
  {
   "cell_type": "markdown",
   "id": "c1b33c57-3f1e-4bbe-8cc6-a0a9eb13653b",
   "metadata": {
    "tags": []
   },
   "source": [
    "#### Alignment Masking"
   ]
  },
  {
   "cell_type": "code",
   "execution_count": 4,
   "id": "aeb930aa-5c78-4e51-bb43-816ac504017f",
   "metadata": {
    "tags": []
   },
   "outputs": [
    {
     "name": "stdout",
     "output_type": "stream",
     "text": [
      "\u001b[32mSaved FeatureData[AlignedSequence] to: data/phylogeny/masked_aligned_rep_seqs.qza\u001b[0m\n",
      "\u001b[0m"
     ]
    }
   ],
   "source": [
    "! qiime alignment mask \\\n",
    "    --i-alignment $data_dir_phyl/aligned_rep_seqs.qza \\\n",
    "    --o-masked-alignment $data_dir_phyl/masked_aligned_rep_seqs.qza"
   ]
  },
  {
   "cell_type": "markdown",
   "id": "793ccc2e-7c0e-4737-8ec1-df10e49d73b3",
   "metadata": {},
   "source": [
    "#### Tree Construction"
   ]
  },
  {
   "cell_type": "code",
   "execution_count": 5,
   "id": "f12c0b7d-766d-48dd-acb8-3d5a3eeb9508",
   "metadata": {
    "tags": []
   },
   "outputs": [
    {
     "name": "stdout",
     "output_type": "stream",
     "text": [
      "\u001b[32mSaved Phylogeny[Unrooted] to: data/phylogeny/fasttree_tree.qza\u001b[0m\n",
      "\u001b[0m\u001b[32mSaved Phylogeny[Rooted] to: data/phylogeny/fasttree_tree_rooted.qza\u001b[0m\n",
      "\u001b[0m"
     ]
    }
   ],
   "source": [
    "! qiime phylogeny fasttree \\\n",
    "    --i-alignment $data_dir_phyl/masked_aligned_rep_seqs.qza \\\n",
    "    --o-tree $data_dir_phyl/fasttree_tree.qza\n",
    "\n",
    "! qiime phylogeny midpoint-root \\\n",
    "    --i-tree $data_dir_phyl/fasttree_tree.qza \\\n",
    "    --o-rooted-tree $data_dir_phyl/fasttree_tree_rooted.qza"
   ]
  },
  {
   "cell_type": "markdown",
   "id": "3e891e83-3f17-4e5d-bb88-cda66406b2b1",
   "metadata": {},
   "source": [
    "#### Preparation of Tree Visualization"
   ]
  },
  {
   "cell_type": "code",
   "execution_count": 12,
   "id": "cb658568-52ce-4221-b87d-f30e3a4580df",
   "metadata": {
    "tags": []
   },
   "outputs": [
    {
     "name": "stdout",
     "output_type": "stream",
     "text": [
      "\u001b[32mSaved Visualization to: data/phylogeny/fasttree_tree_rooted.qzv\u001b[0m\n",
      "\u001b[0m"
     ]
    }
   ],
   "source": [
    "! qiime empress tree-plot \\\n",
    "    --i-tree $data_dir_phyl/fasttree_tree_rooted.qza \\\n",
    "    --m-feature-metadata-file $data_dir_tax/taxonomy_30-10a.qza \\\n",
    "    --o-visualization $data_dir_phyl/fasttree_tree_rooted.qzv\n",
    "\n",
    "#change \"\"$data_dir_tax/taxonomy_30-10a.qza\" to the taxonomy file of our dada2-rep-seq results\n",
    "#taxonomy_30-10a.qza forward and reverse compliment trimmed"
   ]
  },
  {
   "cell_type": "markdown",
   "id": "ab360880-2209-47ae-a532-dcbed954af34",
   "metadata": {},
   "source": [
    "#### Bootstrapping"
   ]
  },
  {
   "cell_type": "code",
   "execution_count": 13,
   "id": "03193965-19c9-4cc6-81ee-f567270d032d",
   "metadata": {},
   "outputs": [
    {
     "ename": "IndentationError",
     "evalue": "unexpected indent (4161103243.py, line 2)",
     "output_type": "error",
     "traceback": [
      "\u001b[0;36m  Cell \u001b[0;32mIn[13], line 2\u001b[0;36m\u001b[0m\n\u001b[0;31m    --verbose\u001b[0m\n\u001b[0m    ^\u001b[0m\n\u001b[0;31mIndentationError\u001b[0m\u001b[0;31m:\u001b[0m unexpected indent\n"
     ]
    }
   ],
   "source": [
    "! qiime phylogeny raxml-rapid-bootstrap \\\n",
    "    --i-alignment $data_dir_phyl/masked_aligned_rep_seqs.qza \\\n",
    "    --p-seed 1723 \\\n",
    "    --p-rapid-bootstrap-seed 9384 \\\n",
    "    --p-bootstrap-replicates 100 \\\n",
    "    --p-substitution-model GTRCAT \\\n",
    "    --p-n-threads 8 \\\n",
    "    --o-tree $data_dir_phyl/raxml_cat_bootstrap_tree.qza\n",
    "    --verbose"
   ]
  },
  {
   "cell_type": "code",
   "execution_count": 8,
   "id": "24d83adb-bffc-4bdf-add4-93b0d5a83b4c",
   "metadata": {
    "tags": []
   },
   "outputs": [
    {
     "name": "stdout",
     "output_type": "stream",
     "text": [
      "^C\n",
      "\n",
      "Aborted!\n"
     ]
    }
   ],
   "source": [
    "! qiime phylogeny midpoint-root \\\n",
    "    --i-tree $data_dir_phyl/raxml_cat_bootstrap_tree.qza \\\n",
    "    --o-rooted-tree $data_dir_phyl/raxml_cat_bootstrap_tree_rooted.qza"
   ]
  },
  {
   "cell_type": "code",
   "execution_count": 9,
   "id": "255418bf-1151-4eab-9c5d-2a9ec2da07c6",
   "metadata": {
    "tags": []
   },
   "outputs": [
    {
     "name": "stdout",
     "output_type": "stream",
     "text": [
      "^C\n",
      "\n",
      "Aborted!\n"
     ]
    }
   ],
   "source": [
    "! qiime empress tree-plot \\\n",
    "    --i-tree $data_dir_phyl/raxml_cat_bootstrap_tree_rooted.qza \\\n",
    "    --m-feature-metadata-file $$data_dir_tax/taxonomy_30-10a.qza \\\n",
    "    --o-visualization $data_dir_phyl/raxml_cat_bootstrap_tree_rooted.qzv\n",
    "\n",
    "#change \"\"$data_dir_tax/taxonomy_30-10a.qza\" to the taxonomy file of our dada2-rep-seq results"
   ]
  },
  {
   "cell_type": "markdown",
   "id": "86b326ca-730c-4fd5-8142-240a9873d16d",
   "metadata": {},
   "source": [
    "#### Tree Visualization"
   ]
  },
  {
   "cell_type": "markdown",
   "id": "1d34f11a-ef22-4fe4-9e46-afaea8b61247",
   "metadata": {
    "tags": []
   },
   "source": [
    "online visualization: [iTOL](https://itol.embl.de/upload.cgi).\n",
    "\n",
    "web page --> _Choose File_ --> select the tree artifact we generated above --> _Upload_ --> drag-and-drop _taxonomy.qza_ onto tree (label all the nodes with corresponding taxonomies)\n",
    "\n",
    "or open the qzv files on [view.qiime2.org](https://view.qiime2.org)."
   ]
  }
 ],
 "metadata": {
  "kernelspec": {
   "display_name": "QIIME 2",
   "language": "python",
   "name": "python3"
  },
  "language_info": {
   "codemirror_mode": {
    "name": "ipython",
    "version": 3
   },
   "file_extension": ".py",
   "mimetype": "text/x-python",
   "name": "python",
   "nbconvert_exporter": "python",
   "pygments_lexer": "ipython3",
   "version": "3.9.19"
  }
 },
 "nbformat": 4,
 "nbformat_minor": 5
}
