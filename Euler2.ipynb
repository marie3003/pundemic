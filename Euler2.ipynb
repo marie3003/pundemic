{
 "cells": [
  {
   "cell_type": "markdown",
   "id": "e4625a15-b4b8-49df-9f46-b93008e2fc1f",
   "metadata": {},
   "source": [
    "# Euler classifier training\n",
    "\n",
    "The following code chunks were run on euler in order to train a classifier for our fungal ITS data, do not attempt running in the nb. Including different cutadapt and unite classifier. \n"
   ]
  },
  {
   "cell_type": "code",
   "execution_count": null,
   "id": "09696e30-3113-4f5b-86bc-566f27c5aa8f",
   "metadata": {},
   "outputs": [],
   "source": [
    "# Setting up euler\n",
    "# Get qiime2 on euler (30 mins to set up, around 5gb)\n",
    "conda env create -n q2 --file https://data.qiime2.org/distro/amplicon/qiime2-amplicon-2024.5-py39-osx-conda.yml\n",
    "\n",
    "# Now qiime2 can be activated with:\n",
    "conda activate q2"
   ]
  },
  {
   "cell_type": "code",
   "execution_count": null,
   "id": "1618a801-c41f-422e-ba98-0d3edb6db332",
   "metadata": {},
   "outputs": [],
   "source": [
    "# Getting our pundemic data and denoising / trimming\n",
    "cd /cluster/scratch/ameara/ #change to your directory if running yourself\n",
    "mkdir -p apbio2\n",
    "cd apbio2\n",
    "mkdir -p scripts\n",
    "mkdir -p data\n",
    "mkdir -p unite\n",
    "\n",
    "wget -O data/pundemic_metadata.tsv https://polybox.ethz.ch/index.php/s/7LxWSbaw2q37yof/download\n",
    "wget -O data/pundemic_forward_reads.qza  https://polybox.ethz.ch/index.php/s/o8HqHJqvuf9e2on/download\n",
    "\n",
    "# save the folowing scripts in the script folder\n",
    "\n",
    "# Trimming and filtering script trim_filter.sh\n",
    "#!/bin/bash\n",
    "source ~/miniconda3/etc/profile.d/conda.sh\n",
    "conda activate q2\n",
    "DATA=\"/cluster/scratch/ameara/apbio2/data\" # change to yours\n",
    "\n",
    "echo \"starting trimming\"\n",
    "\n",
    "! qiime cutadapt trim-single \\\n",
    "  --i-demultiplexed-sequences $DATA/pundemic_forward_reads.qza \\\n",
    "  --p-front CTTGGTCATTTAGAGGAAGTAA \\\n",
    "  --p-error-rate 0.2 \\\n",
    "  --p-discard-untrimmed \\\n",
    "  --verbose \\\n",
    "  --o-trimmed-sequences $DATA/pundemic_forward_reads_trimmed.qza | tee $DATA/cutadapt_results.log \n",
    "\n",
    "echo \"finished trimming\"\n",
    "\n",
    "! qiime quality-filter q-score \\\n",
    "    --i-demux $DATA/pundemic_forward_reads_trimmed.qza \\\n",
    "    --p-min-quality 15 \\\n",
    "    --p-quality-window 3 \\\n",
    "    --o-filtered-sequences $DATA/pundemic_forward_reads_trimmed_QCfiltered.qza \\\n",
    "    --o-filter-stats $DATA/pundemic_forward_reads_trimmed_QCfiltered_stats.qza\n",
    "\n",
    "\n",
    "# Running the script\n",
    "sbatch --time=60 --ntasks=4 --mem-per-cpu=30G scripts/trim_filter.sh \n",
    "\n",
    "\n",
    "# Denoising script denoise.sh\n",
    "#!/bin/bash\n",
    "source ~/miniconda3/etc/profile.d/conda.sh\n",
    "conda activate q2\n",
    "DATA=\"/cluster/scratch/ameara/apbio2/data\" # change to yours\n",
    "\n",
    "echo \"starting denoising\"\n",
    "\n",
    "qiime dada2 denoise-single \\\n",
    "   --i-demultiplexed-seqs $DATA/pundemic_forward_reads_trimmed_QCfiltered.qza \\\n",
    "   --p-trunc-len 140 \\\n",
    "   --p-n-threads 4 \\\n",
    "   --o-table $DATA/dada2_table.qza \\\n",
    "   --o-representative-sequences $DATA/dada2_rep_seq.qza \\\n",
    "   --o-denoising-stats $DATA/dada2_stats.qza\n",
    "\n",
    "echo \"finished truncation\"\n",
    "\n",
    "# Running the script\n",
    "sbatch --time=60 --ntasks=4 --mem-per-cpu=30G scripts/denoise.sh \n"
   ]
  },
  {
   "cell_type": "markdown",
   "id": "3f11ac90-5fa0-40dd-8b8a-f7f56a8a10e5",
   "metadata": {},
   "source": [
    "## Training a classifier"
   ]
  },
  {
   "cell_type": "code",
   "execution_count": null,
   "id": "1ec7c141-5f7b-4a49-9062-0a8ab2ee14a7",
   "metadata": {
    "tags": []
   },
   "outputs": [],
   "source": [
    "# Getting unite db for fungal ITS classifier\n",
    "qiime rescript get-unite-data \\\n",
    "    --p-version 10.0 \\\n",
    "    --p-taxon-group eukaryotes \\\n",
    "    --p-cluster-id dynamic \\\n",
    "    --p-no-singletons \\\n",
    "    --verbose \\\n",
    "    --output-dir unite_dynamic \n",
    "\n",
    "# Cleaning up unite db\n",
    "qiime rescript edit-taxonomy \\\n",
    "    --i-taxonomy unite_dynamic/taxonomy.qza \\\n",
    "    --o-edited-taxonomy unite_dynamic/taxonomy-no-SH.qza \\\n",
    "    --p-search-strings ';sh__.*' \\\n",
    "    --p-replacement-strings '' \\\n",
    "    --p-use-regex\n",
    "\n"
   ]
  },
  {
   "cell_type": "code",
   "execution_count": null,
   "id": "92280f62-729d-4ed9-a46f-85d4fe1c2743",
   "metadata": {
    "tags": []
   },
   "outputs": [],
   "source": [
    "# Train classifier\n",
    "sbatch --time=300  --ntasks=4 --mem-per-cpu=30G --wrap=\"\\\n",
    "    qiime feature-classifier fit-classifier-naive-bayes \\\n",
    "    --i-reference-reads unite_dynamic/sequences.qza \\\n",
    "    --i-reference-taxonomy unite_dynamic/taxonomy-no-SH.qza \\\n",
    "    --o-classifier unite_dynamic/classifier.qza\"\n",
    "\n",
    "# See how long it took on euler:\n",
    "sacct -j <jobID> --format=JobID,JobName,Elapsed\n",
    "# job ID here was 11433149, elapsed time: 02:07:47"
   ]
  },
  {
   "cell_type": "code",
   "execution_count": null,
   "id": "c69245d1-6b1f-461a-8ae1-b3e0627a68e3",
   "metadata": {
    "tags": []
   },
   "outputs": [],
   "source": [
    "# Evaluate the classifier\n",
    "# Script for eval\n",
    "#!/bin/bash\n",
    "\n",
    "echo \"starting eval\"\n",
    "\n",
    "qiime rescript evaluate-fit-classifier \\\n",
    "    --i-sequences unite_dynamic/sequences.qza   \\\n",
    "    --i-taxonomy unite_dynamic/taxonomy-no-SH.qza \\\n",
    "    --p-n-jobs 4 \\\n",
    "    --o-classifier unite_dynamic/classifier.qza \\\n",
    "    --o-evaluation unite_dynamic/classifier-evaluation.qzv \\\n",
    "    --o-observed-taxonomy unite_dynamic/predicted-taxonomy.qza\n",
    "\n",
    "echo \"finished fit eval\"\n",
    "\n",
    "qiime rescript evaluate-taxonomy \\\n",
    "  --i-taxonomies unite_dynamic/taxonomy-no-SH.qza unite_dynamic/predicted-taxonomy.qza \\\n",
    "  --p-labels ref-taxonomy predicted-taxonomy \\\n",
    "  --o-taxonomy-stats unite_dynamic/both-taxonomy-evaluation.qzv\n",
    "\n",
    "echo \"finished tax eval\"\n",
    "\n",
    "# Running the script\n",
    "sbatch --time=360 --ntasks=4 --mem-per-cpu=30G scripts/ceval_dynamic.sh \n"
   ]
  },
  {
   "cell_type": "code",
   "execution_count": null,
   "id": "6af0415f-7c39-4920-a183-9b2fa0161009",
   "metadata": {
    "tags": []
   },
   "outputs": [],
   "source": [
    "# Use the classifier on our data\n",
    "# Script for classify\n",
    "\n",
    "#!/bin/bash\n",
    "\n",
    "echo \"Start classifying!\"\n",
    "\n",
    "PDATA=\"/cluster/scratch/ameara/apbio/processed_data\"\n",
    "CDATA=\"/cluster/scratch/ameara/apbio/unite_dynamic\"\n",
    "\n",
    "qiime feature-classifier classify-sklearn \\\n",
    "    --i-classifier $CDATA/classifier.qza \\\n",
    "    --i-reads $PDATA/dada2_rep_seq.qza \\\n",
    "    --o-classification $PDATA/taxonomy_d.qza\n",
    "\n",
    "echo \"Classification done.\"\n",
    "\n",
    "# Run classify script\n",
    "sbatch --time=360 --ntasks=4 --mem-per-cpu=30G /cluster/home/ameara/applied_bioinformatics/project/scripts/classify_d.sh\n"
   ]
  },
  {
   "cell_type": "markdown",
   "id": "403ce125-18a4-47c6-ab15-7d06346094be",
   "metadata": {},
   "source": [
    "## Classifying with a pre trained classifier"
   ]
  },
  {
   "cell_type": "code",
   "execution_count": null,
   "id": "ef3574ad-02d0-4166-a045-e4884452e083",
   "metadata": {},
   "outputs": [],
   "source": [
    "# Use a pre-trained classifier on our data\n",
    "\n",
    "# Uploading pre-trained classifier from git\n",
    "# options -> eukaryotes inc, 99, no singletons\n",
    "wget -O /cluster/scratch/ameara/apbio2/unite/unite_ver10_99_all_04.04.2024-Q2-2024.5.qza https://github.com/colinbrislawn/unite-train/releases/download/v10.0-v04.04.2024-qiime2-2024.5/unite_ver10_99_all_04.04.2024-Q2-2024.5.qza\n",
    "#wget -O /home/jovyan/assignments/pundemic/data/unite_ver10_99_all_04.04.2024-Q2-2024.5.qza https://github.com/colinbrislawn/unite-train/releases/download/v10.0-v04.04.2024-qiime2-2024.5/unite_ver10_99_all_04.04.2024-Q2-2024.5.qza\n",
    "\n",
    "# Run pre-trained classifier on our data:\n",
    "#!/bin/bash\n",
    "source ~/miniconda3/etc/profile.d/conda.sh\n",
    "conda activate q2\n",
    "\n",
    "DATA=\"/cluster/scratch/ameara/apbio2/data\"\n",
    "CDATA=\"/cluster/scratch/ameara/apbio2/unite\"\n",
    "\n",
    "echo \"Start classifying!\"\n",
    "\n",
    "qiime feature-classifier classify-sklearn \\\n",
    "    --i-classifier $CDATA/unite_ver10_99_all_04.04.2024-Q2-2024.5.qza \\\n",
    "    --i-reads $DATA/dada2_rep_seq.qza \\\n",
    "    --o-classification $DATA/taxonomy.qza\n",
    "\n",
    "echo \"Classification done.\"\n",
    "\n",
    "# Running the script\n",
    "sbatch --time=360 --ntasks=1 --mem-per-cpu=128G scripts/classify.sh \n"
   ]
  },
  {
   "cell_type": "code",
   "execution_count": null,
   "id": "cbd114bb-287e-4cc1-8a7a-0d9d18204dd1",
   "metadata": {},
   "outputs": [],
   "source": [
    "# Retrieve data to local computer\n",
    "# Getting the evaluations\n",
    "scp ameara@euler.ethz.ch:/cluster/scratch/ameara/apbio/unite_dynamic/both-taxonomy-evaluation.qzv .\n",
    "scp ameara@euler.ethz.ch:/cluster/scratch/ameara/apbio/unite_dynamic/classifier-evaluation.qzv .\n",
    "# Getting our classification data \n",
    "scp ameara@euler.ethz.ch:/cluster/scratch/ameara/apbio2/data/taxonomy.qza ."
   ]
  },
  {
   "cell_type": "code",
   "execution_count": 12,
   "id": "0251f520-3eda-44ef-ab5c-054d2debfb0b",
   "metadata": {
    "tags": []
   },
   "outputs": [
    {
     "name": "stdout",
     "output_type": "stream",
     "text": [
      "Usage: \u001b[94mqiime cutadapt\u001b[0m [OPTIONS] COMMAND [ARGS]...\n",
      "\n",
      "  Description: This QIIME 2 plugin uses cutadapt to work with adapters (e.g.\n",
      "  barcodes, primers) in sequence data.\n",
      "\n",
      "  Plugin website: https://github.com/qiime2/q2-cutadapt\n",
      "\n",
      "  Getting user support: Please post to the QIIME 2 forum for help with this\n",
      "  plugin: https://forum.qiime2.org\n",
      "\n",
      "\u001b[1mOptions\u001b[0m:\n",
      "  \u001b[94m--version\u001b[0m            Show the version and exit.\n",
      "  \u001b[94m--example-data\u001b[0m PATH  Write example data and exit.\n",
      "  \u001b[94m--citations\u001b[0m          Show citations and exit.\n",
      "  \u001b[94m--help\u001b[0m               Show this message and exit.\n",
      "\n",
      "\u001b[1mCommands\u001b[0m:\n",
      "  \u001b[94mdemux-paired\u001b[0m  Demultiplex paired-end sequence data with barcodes in-\n",
      "                sequence.\n",
      "  \u001b[94mdemux-single\u001b[0m  Demultiplex single-end sequence data with barcodes in-\n",
      "                sequence.\n",
      "  \u001b[94mtrim-paired\u001b[0m   Find and remove adapters in demultiplexed paired-end\n",
      "                sequences.\n",
      "  \u001b[94mtrim-single\u001b[0m   Find and remove adapters in demultiplexed single-end\n",
      "                sequences.\n",
      "\u001b[0m"
     ]
    }
   ],
   "source": [
    "! qiime cutadapt --help\n"
   ]
  },
  {
   "cell_type": "code",
   "execution_count": 1,
   "id": "c931b3b2-4fbd-4469-9486-53f3e3bb5860",
   "metadata": {
    "tags": []
   },
   "outputs": [
    {
     "name": "stdout",
     "output_type": "stream",
     "text": [
      "Usage: \u001b[94mqiime vsearch cluster-features-closed-reference\u001b[0m [OPTIONS]\n",
      "\n",
      "  Given a feature table and the associated feature sequences, cluster the\n",
      "  features against a reference database based on user-specified percent\n",
      "  identity threshold of their sequences. This is not a general-purpose closed-\n",
      "  reference clustering method, but rather is intended to be used for\n",
      "  clustering the results of quality-filtering/dereplication methods, such as\n",
      "  DADA2, or for re-clustering a FeatureTable at a lower percent identity than\n",
      "  it was originally clustered at. When a group of features in the input table\n",
      "  are clustered into a single feature, the frequency of that single feature in\n",
      "  a given sample is the sum of the frequencies of the features that were\n",
      "  clustered in that sample. Feature identifiers will be inherited from the\n",
      "  centroid feature of each cluster. See the vsearch documentation for details\n",
      "  on how sequence clustering is performed.\n",
      "\n",
      "\u001b[1mInputs\u001b[0m:\n",
      "  \u001b[94m\u001b[4m--i-sequences\u001b[0m ARTIFACT \u001b[32mFeatureData[Sequence]\u001b[0m\n",
      "                          The sequences corresponding to the features in\n",
      "                          table.                                    \u001b[35m[required]\u001b[0m\n",
      "  \u001b[94m\u001b[4m--i-table\u001b[0m ARTIFACT \u001b[32mFeatureTable[Frequency]\u001b[0m\n",
      "                          The feature table to be clustered.        \u001b[35m[required]\u001b[0m\n",
      "  \u001b[94m\u001b[4m--i-reference-sequences\u001b[0m ARTIFACT \u001b[32mFeatureData[Sequence]\u001b[0m\n",
      "                          The sequences to use as cluster centroids.\n",
      "                                                                    \u001b[35m[required]\u001b[0m\n",
      "\u001b[1mParameters\u001b[0m:\n",
      "  \u001b[94m\u001b[4m--p-perc-identity\u001b[0m PROPORTION \u001b[32mRange(0, 1, inclusive_start=False,\u001b[0m\n",
      "    \u001b[32minclusive_end=True)\u001b[0m   The percent identity at which clustering should be\n",
      "                          performed. This parameter maps to vsearch's --id\n",
      "                          parameter.                                \u001b[35m[required]\u001b[0m\n",
      "  \u001b[94m--p-strand\u001b[0m TEXT \u001b[32mChoices('plus', 'both')\u001b[0m\n",
      "                          Search plus (i.e., forward) or both (i.e., forward\n",
      "                          and reverse complement) strands.   \u001b[35m[default: 'plus']\u001b[0m\n",
      "  \u001b[94m--p-threads\u001b[0m NTHREADS    The number of threads to use for computation.\n",
      "                          Passing 0 will launch one thread per CPU core.\n",
      "                                                                  \u001b[35m[default: 1]\u001b[0m\n",
      "\u001b[1mOutputs\u001b[0m:\n",
      "  \u001b[94m\u001b[4m--o-clustered-table\u001b[0m ARTIFACT \u001b[32mFeatureTable[Frequency]\u001b[0m\n",
      "                          The table following clustering of features.\n",
      "                                                                    \u001b[35m[required]\u001b[0m\n",
      "  \u001b[94m\u001b[4m--o-clustered-sequences\u001b[0m ARTIFACT \u001b[32mFeatureData[Sequence]\u001b[0m\n",
      "                          The sequences representing clustered features,\n",
      "                          relabeled by the reference IDs.           \u001b[35m[required]\u001b[0m\n",
      "  \u001b[94m\u001b[4m--o-unmatched-sequences\u001b[0m ARTIFACT \u001b[32mFeatureData[Sequence]\u001b[0m\n",
      "                          The sequences which failed to match any reference\n",
      "                          sequences. This output maps to vsearch's\n",
      "                          --notmatched parameter.                   \u001b[35m[required]\u001b[0m\n",
      "\u001b[1mMiscellaneous\u001b[0m:\n",
      "  \u001b[94m--output-dir\u001b[0m PATH       Output unspecified results to a directory\n",
      "  \u001b[94m--verbose\u001b[0m / \u001b[94m--quiet\u001b[0m     Display verbose output to stdout and/or stderr\n",
      "                          during execution of this action. Or silence output\n",
      "                          if execution is successful (silence is golden).\n",
      "  \u001b[94m--example-data\u001b[0m PATH     Write example data and exit.\n",
      "  \u001b[94m--citations\u001b[0m             Show citations and exit.\n",
      "  \u001b[94m--help\u001b[0m                  Show this message and exit.\n",
      "\u001b[0m"
     ]
    }
   ],
   "source": [
    "! qiime vsearch cluster-features-closed-reference --help"
   ]
  }
 ],
 "metadata": {
  "kernelspec": {
   "display_name": "QIIME 2",
   "language": "python",
   "name": "python3"
  },
  "language_info": {
   "codemirror_mode": {
    "name": "ipython",
    "version": 3
   },
   "file_extension": ".py",
   "mimetype": "text/x-python",
   "name": "python",
   "nbconvert_exporter": "python",
   "pygments_lexer": "ipython3",
   "version": "3.9.19"
  }
 },
 "nbformat": 4,
 "nbformat_minor": 5
}
