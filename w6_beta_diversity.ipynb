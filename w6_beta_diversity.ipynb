{
 "cells": [
  {
   "cell_type": "markdown",
   "id": "0cfc2a6b-d2ef-4f97-be62-52ae0e983de0",
   "metadata": {},
   "source": [
    "# Beta Diversity"
   ]
  },
  {
   "cell_type": "markdown",
   "id": "74a02dec-cf55-4e61-b45d-7ccb6b09e7d3",
   "metadata": {},
   "source": [
    "## Import Libraries"
   ]
  },
  {
   "cell_type": "code",
   "execution_count": 3,
   "id": "5129e4f7-927c-4905-8c8c-1e828ff51007",
   "metadata": {
    "tags": []
   },
   "outputs": [],
   "source": [
    "import os\n",
    "import pandas as pd\n",
    "import qiime2 as q2\n",
    "from skbio import OrdinationResults\n",
    "from qiime2 import Visualization\n",
    "from seaborn import scatterplot\n",
    "\n",
    "%matplotlib inline"
   ]
  },
  {
   "cell_type": "code",
   "execution_count": 11,
   "id": "54a8257e-b49d-418e-87d4-fdd8aa25d068",
   "metadata": {
    "tags": []
   },
   "outputs": [],
   "source": [
    "data_dir = 'data'"
   ]
  },
  {
   "cell_type": "markdown",
   "id": "e19aa35f-8175-49bd-872f-bd2e12c0318f",
   "metadata": {},
   "source": [
    "Rarefaction is done in alpha diversity notebook. Afterwards phylogenetic core metrics are determined there. We now continue working with the beta diversity artefacts. We decided on a sampling depth of 3000."
   ]
  },
  {
   "cell_type": "markdown",
   "id": "f9d75209-9a0f-46b1-80fb-97e2d53adb6c",
   "metadata": {},
   "source": [
    "# Metadata"
   ]
  },
  {
   "cell_type": "code",
   "execution_count": 6,
   "id": "2a8e560d-d971-46d5-b8ea-a5e7e3eccf1a",
   "metadata": {
    "tags": []
   },
   "outputs": [
    {
     "data": {
      "text/plain": [
       "disease_subgroup\n",
       "FMT        51\n",
       "Placebo    36\n",
       "donor      18\n",
       "Name: count, dtype: int64"
      ]
     },
     "execution_count": 6,
     "metadata": {},
     "output_type": "execute_result"
    }
   ],
   "source": [
    "metadata = pd.read_csv(f\"{data_dir}/pundemic_metadata.tsv\", sep = \"\\t\")\n",
    "metadata[\"disease_subgroup\"].value_counts()"
   ]
  },
  {
   "cell_type": "code",
   "execution_count": 7,
   "id": "f86142f7-445b-4fa7-a37f-d039c9bd60b0",
   "metadata": {},
   "outputs": [
    {
     "data": {
      "text/plain": [
       "time_point\n",
       "post-treatment    44\n",
       "pre-treatment     43\n",
       "t2                10\n",
       "t1                 8\n",
       "Name: count, dtype: int64"
      ]
     },
     "execution_count": 7,
     "metadata": {},
     "output_type": "execute_result"
    }
   ],
   "source": [
    "metadata[\"time_point\"].value_counts()"
   ]
  },
  {
   "cell_type": "markdown",
   "id": "19d3a9ad-dca1-4d8c-80ac-31c7662147e7",
   "metadata": {},
   "source": [
    "## Create Data Frames of Metadata"
   ]
  },
  {
   "cell_type": "code",
   "execution_count": 10,
   "id": "c6b0ebd5-a0df-4586-8827-230bc3a4256f",
   "metadata": {
    "tags": []
   },
   "outputs": [],
   "source": [
    "donor_df = metadata[metadata.disease_subgroup == \"donor\"]\n",
    "FMT_df = metadata[metadata.disease_subgroup == \"FMT\"]\n",
    "placebo_df =  metadata[metadata.disease_subgroup == \"Placebo\"]"
   ]
  },
  {
   "cell_type": "markdown",
   "id": "d228f941-8011-49ff-a234-537fe946f639",
   "metadata": {},
   "source": [
    "## UniFrac"
   ]
  },
  {
   "cell_type": "markdown",
   "id": "518f24d7-0f7a-461a-9bc7-4400d3570e09",
   "metadata": {
    "tags": []
   },
   "source": [
    "Visualization.load(f\"{data_dir}/alpha_diversity/core_metrics_results/unweighted_unifrac_emperor.qzv\")"
   ]
  },
  {
   "cell_type": "markdown",
   "id": "2f0c849e-50e2-4cb3-bf73-c7c3081601e1",
   "metadata": {},
   "source": [
    "does not cluster for anything but change the input file to zthe updated version"
   ]
  },
  {
   "cell_type": "markdown",
   "id": "9ae44da6-425c-49a5-b676-992834558f7f",
   "metadata": {},
   "source": [
    "## Bray Curtis"
   ]
  },
  {
   "cell_type": "code",
   "execution_count": 15,
   "id": "a95559ae-1098-4835-bb48-e3b7778792e9",
   "metadata": {
    "tags": []
   },
   "outputs": [
    {
     "data": {
      "text/html": [
       "<div><img onload=\"(function(div, url){\n",
       "if (typeof require !== 'undefined') {\n",
       "    var baseURL = require.toUrl('').split('/').slice(0, -2).join('/');\n",
       "} else {\n",
       "    var baseURL = JSON.parse(\n",
       "        document.getElementById('jupyter-config-data').innerHTML\n",
       "    ).baseUrl.slice(0, -1);\n",
       "}\n",
       "url = baseURL + url;\n",
       "fetch(url).then(function(res) {\n",
       "    if (res.status === 404) {\n",
       "        div.innerHTML = 'Install QIIME 2 Jupyter extension with:<br />' +\n",
       "                        '<code>jupyter serverextension enable --py qiime2' +\n",
       "                        ' --sys-prefix</code><br />then restart your server.' +\n",
       "                        '<br /><br />(Interactive output not available on ' +\n",
       "                        'static notebook viewer services like nbviewer.)';\n",
       "    } else if (res.status === 409) {\n",
       "        div.innerHTML = 'Visualization no longer in scope. Re-run this cell' +\n",
       "                        ' to see the visualization.';\n",
       "    } else if (res.ok) {\n",
       "        url = res.url;\n",
       "        div.innerHTML = '<iframe src=\\'' + url + '\\' style=\\'' +\n",
       "                        'width: 100%; height: 700px; border: 0;\\'>' +\n",
       "                        '</iframe><hr />Open in a: <a href=\\'' + url + '\\'' +\n",
       "                        ' target=\\'_blank\\'>new window</a>'\n",
       "    } else {\n",
       "        div.innerHTML = 'Something has gone wrong. Check notebook server for' +\n",
       "                        ' errors.';\n",
       "    }\n",
       "});\n",
       "})(this.parentElement, '/qiime2/redirect?location=/tmp/qiime2/jovyan/data/0269ce42-1a47-4fc6-a427-9c3809d7ce88')\" src=\"data:image/gif;base64,R0lGODlhAQABAIAAAP///wAAACH5BAEAAAAALAAAAAABAAEAAAICRAEAOw==\" /></div>"
      ],
      "text/plain": [
       "<visualization: Visualization uuid: 0269ce42-1a47-4fc6-a427-9c3809d7ce88>"
      ]
     },
     "execution_count": 15,
     "metadata": {},
     "output_type": "execute_result"
    }
   ],
   "source": [
    "Visualization.load(f\"{data_dir}/alpha_diversity/core_metrics_results/bray_curtis_emperor.qzv\")"
   ]
  },
  {
   "cell_type": "markdown",
   "id": "3c467b80-93e4-4cdc-8c61-213baf8e3338",
   "metadata": {},
   "source": [
    "does not cluster for anything but change the input file to zthe updated version"
   ]
  },
  {
   "cell_type": "code",
   "execution_count": null,
   "id": "2329ccdb-4093-4d39-9620-a4541656cf09",
   "metadata": {},
   "outputs": [],
   "source": []
  },
  {
   "cell_type": "code",
   "execution_count": null,
   "id": "f059bcdb-a122-46d6-a363-d009e3bfe308",
   "metadata": {},
   "outputs": [],
   "source": []
  }
 ],
 "metadata": {
  "kernelspec": {
   "display_name": "QIIME 2",
   "language": "python",
   "name": "python3"
  },
  "language_info": {
   "codemirror_mode": {
    "name": "ipython",
    "version": 3
   },
   "file_extension": ".py",
   "mimetype": "text/x-python",
   "name": "python",
   "nbconvert_exporter": "python",
   "pygments_lexer": "ipython3",
   "version": "3.9.19"
  }
 },
 "nbformat": 4,
 "nbformat_minor": 5
}
