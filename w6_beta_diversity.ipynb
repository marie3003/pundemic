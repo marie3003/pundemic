{
 "cells": [
  {
   "cell_type": "markdown",
   "id": "0cfc2a6b-d2ef-4f97-be62-52ae0e983de0",
   "metadata": {},
   "source": [
    "# Beta Diversity"
   ]
  },
  {
   "cell_type": "markdown",
   "id": "74a02dec-cf55-4e61-b45d-7ccb6b09e7d3",
   "metadata": {},
   "source": [
    "## Import Libraries"
   ]
  },
  {
   "cell_type": "code",
   "execution_count": 1,
   "id": "5129e4f7-927c-4905-8c8c-1e828ff51007",
   "metadata": {
    "tags": []
   },
   "outputs": [],
   "source": [
    "import os\n",
    "import pandas as pd\n",
    "import qiime2 as q2\n",
    "from skbio import OrdinationResults\n",
    "from qiime2 import Visualization\n",
    "from seaborn import scatterplot\n",
    "\n",
    "%matplotlib inline"
   ]
  },
  {
   "cell_type": "code",
   "execution_count": 2,
   "id": "54a8257e-b49d-418e-87d4-fdd8aa25d068",
   "metadata": {
    "tags": []
   },
   "outputs": [],
   "source": [
    "data_dir = 'data'"
   ]
  },
  {
   "cell_type": "markdown",
   "id": "e19aa35f-8175-49bd-872f-bd2e12c0318f",
   "metadata": {},
   "source": [
    "Rarefaction is done in alpha diversity notebook. Afterwards phylogenetic core metrics are determined there. We now continue working with the beta diversity artefacts. We decided on a sampling depth of 3000."
   ]
  },
  {
   "cell_type": "markdown",
   "id": "f9d75209-9a0f-46b1-80fb-97e2d53adb6c",
   "metadata": {},
   "source": [
    "# Metadata"
   ]
  },
  {
   "cell_type": "code",
   "execution_count": 3,
   "id": "2a8e560d-d971-46d5-b8ea-a5e7e3eccf1a",
   "metadata": {
    "tags": []
   },
   "outputs": [
    {
     "data": {
      "text/plain": [
       "disease_subgroup\n",
       "FMT        51\n",
       "Placebo    36\n",
       "donor      18\n",
       "Name: count, dtype: int64"
      ]
     },
     "execution_count": 3,
     "metadata": {},
     "output_type": "execute_result"
    }
   ],
   "source": [
    "metadata = pd.read_csv(f\"{data_dir}/pundemic_metadata.tsv\", sep = \"\\t\")\n",
    "metadata[\"disease_subgroup\"].value_counts()"
   ]
  },
  {
   "cell_type": "code",
   "execution_count": 4,
   "id": "f86142f7-445b-4fa7-a37f-d039c9bd60b0",
   "metadata": {},
   "outputs": [
    {
     "data": {
      "text/plain": [
       "time_point\n",
       "post-treatment    44\n",
       "pre-treatment     43\n",
       "t2                10\n",
       "t1                 8\n",
       "Name: count, dtype: int64"
      ]
     },
     "execution_count": 4,
     "metadata": {},
     "output_type": "execute_result"
    }
   ],
   "source": [
    "metadata[\"time_point\"].value_counts()"
   ]
  },
  {
   "cell_type": "markdown",
   "id": "19d3a9ad-dca1-4d8c-80ac-31c7662147e7",
   "metadata": {},
   "source": [
    "## Create Data Frames of Metadata"
   ]
  },
  {
   "cell_type": "code",
   "execution_count": 5,
   "id": "c6b0ebd5-a0df-4586-8827-230bc3a4256f",
   "metadata": {
    "tags": []
   },
   "outputs": [],
   "source": [
    "donor_df = metadata[metadata.disease_subgroup == \"donor\"]\n",
    "FMT_df = metadata[metadata.disease_subgroup == \"FMT\"]\n",
    "placebo_df =  metadata[metadata.disease_subgroup == \"Placebo\"]"
   ]
  },
  {
   "cell_type": "markdown",
   "id": "0cdd7c02-a449-469c-87af-a1bc08af1ddd",
   "metadata": {},
   "source": [
    "Since we work with ITS data, we did not get a reliable phylogeny and therefore We DID NOT ran the core-metrics-phylogenetic action, which normally generates several alpha and beta diversity measurements in a single pipeline. That is why, we need to work with a different workflow:"
   ]
  },
  {
   "cell_type": "code",
   "execution_count": null,
   "id": "f059bcdb-a122-46d6-a363-d009e3bfe308",
   "metadata": {},
   "outputs": [],
   "source": []
  }
 ],
 "metadata": {
  "kernelspec": {
   "display_name": "QIIME 2",
   "language": "python",
   "name": "python3"
  },
  "language_info": {
   "codemirror_mode": {
    "name": "ipython",
    "version": 3
   },
   "file_extension": ".py",
   "mimetype": "text/x-python",
   "name": "python",
   "nbconvert_exporter": "python",
   "pygments_lexer": "ipython3",
   "version": "3.9.19"
  }
 },
 "nbformat": 4,
 "nbformat_minor": 5
}
