{
 "cells": [
  {
   "cell_type": "markdown",
   "id": "0cfc2a6b-d2ef-4f97-be62-52ae0e983de0",
   "metadata": {},
   "source": [
    "# Beta Diversity"
   ]
  },
  {
   "cell_type": "markdown",
   "id": "74a02dec-cf55-4e61-b45d-7ccb6b09e7d3",
   "metadata": {},
   "source": [
    "## Import Libraries"
   ]
  },
  {
   "cell_type": "code",
   "execution_count": 1,
   "id": "5129e4f7-927c-4905-8c8c-1e828ff51007",
   "metadata": {
    "tags": []
   },
   "outputs": [],
   "source": [
    "import os\n",
    "import pandas as pd\n",
    "import qiime2 as q2\n",
    "from skbio import OrdinationResults\n",
    "from qiime2 import Visualization\n",
    "from seaborn import scatterplot\n",
    "\n",
    "%matplotlib inline"
   ]
  },
  {
   "cell_type": "code",
   "execution_count": 2,
   "id": "54a8257e-b49d-418e-87d4-fdd8aa25d068",
   "metadata": {
    "tags": []
   },
   "outputs": [],
   "source": [
    "data_dir = 'data'\n",
    "data_dir_div = 'data/beta_diversity'"
   ]
  },
  {
   "cell_type": "markdown",
   "id": "e19aa35f-8175-49bd-872f-bd2e12c0318f",
   "metadata": {},
   "source": [
    "Rarefaction is done in alpha diversity notebook. Afterwards phylogenetic core metrics are determined there. We now continue working with the beta diversity artefacts. We decided on a sampling depth of 3000."
   ]
  },
  {
   "cell_type": "code",
   "execution_count": 4,
   "id": "e929f7e4-3040-4703-81d6-1a58cd3290e8",
   "metadata": {
    "tags": []
   },
   "outputs": [
    {
     "name": "stdout",
     "output_type": "stream",
     "text": [
      "\u001b[32mSaved FeatureTable[Frequency] to: data/beta_diversity/core_metrics_results/rarefied_table.qza\u001b[0m\n",
      "\u001b[32mSaved SampleData[AlphaDiversity] to: data/beta_diversity/core_metrics_results/observed_features_vector.qza\u001b[0m\n",
      "\u001b[32mSaved SampleData[AlphaDiversity] to: data/beta_diversity/core_metrics_results/shannon_vector.qza\u001b[0m\n",
      "\u001b[32mSaved SampleData[AlphaDiversity] to: data/beta_diversity/core_metrics_results/evenness_vector.qza\u001b[0m\n",
      "\u001b[32mSaved DistanceMatrix to: data/beta_diversity/core_metrics_results/jaccard_distance_matrix.qza\u001b[0m\n",
      "\u001b[32mSaved DistanceMatrix to: data/beta_diversity/core_metrics_results/bray_curtis_distance_matrix.qza\u001b[0m\n",
      "\u001b[32mSaved PCoAResults to: data/beta_diversity/core_metrics_results/jaccard_pcoa_results.qza\u001b[0m\n",
      "\u001b[32mSaved PCoAResults to: data/beta_diversity/core_metrics_results/bray_curtis_pcoa_results.qza\u001b[0m\n",
      "\u001b[32mSaved Visualization to: data/beta_diversity/core_metrics_results/jaccard_emperor.qzv\u001b[0m\n",
      "\u001b[32mSaved Visualization to: data/beta_diversity/core_metrics_results/bray_curtis_emperor.qzv\u001b[0m\n",
      "\u001b[0m"
     ]
    }
   ],
   "source": [
    "! qiime diversity core-metrics \\\n",
    "  --i-table $data_dir/closed_reference_cluster/cr90_feature_table.qza \\\n",
    "  --m-metadata-file $data_dir/pundemic_metadata_subgroup_response_all.tsv \\\n",
    "  --p-sampling-depth 3000 \\\n",
    "  --p-n-jobs 8 \\\n",
    "  --output-dir $data_dir_div/core_metrics_results"
   ]
  },
  {
   "cell_type": "markdown",
   "id": "b78d176c-8bf5-43fa-843c-e72f6f4be966",
   "metadata": {},
   "source": [
    "## Beta Diversity Analysis\n",
    "### PCoA Plots"
   ]
  },
  {
   "cell_type": "code",
   "execution_count": 3,
   "id": "e0454d21-63f1-448c-954e-e2d6a3a29826",
   "metadata": {
    "tags": []
   },
   "outputs": [
    {
     "data": {
      "text/html": [
       "<div><img onload=\"(function(div, url){\n",
       "if (typeof require !== 'undefined') {\n",
       "    var baseURL = require.toUrl('').split('/').slice(0, -2).join('/');\n",
       "} else {\n",
       "    var baseURL = JSON.parse(\n",
       "        document.getElementById('jupyter-config-data').innerHTML\n",
       "    ).baseUrl.slice(0, -1);\n",
       "}\n",
       "url = baseURL + url;\n",
       "fetch(url).then(function(res) {\n",
       "    if (res.status === 404) {\n",
       "        div.innerHTML = 'Install QIIME 2 Jupyter extension with:<br />' +\n",
       "                        '<code>jupyter serverextension enable --py qiime2' +\n",
       "                        ' --sys-prefix</code><br />then restart your server.' +\n",
       "                        '<br /><br />(Interactive output not available on ' +\n",
       "                        'static notebook viewer services like nbviewer.)';\n",
       "    } else if (res.status === 409) {\n",
       "        div.innerHTML = 'Visualization no longer in scope. Re-run this cell' +\n",
       "                        ' to see the visualization.';\n",
       "    } else if (res.ok) {\n",
       "        url = res.url;\n",
       "        div.innerHTML = '<iframe src=\\'' + url + '\\' style=\\'' +\n",
       "                        'width: 100%; height: 700px; border: 0;\\'>' +\n",
       "                        '</iframe><hr />Open in a: <a href=\\'' + url + '\\'' +\n",
       "                        ' target=\\'_blank\\'>new window</a>'\n",
       "    } else {\n",
       "        div.innerHTML = 'Something has gone wrong. Check notebook server for' +\n",
       "                        ' errors.';\n",
       "    }\n",
       "});\n",
       "})(this.parentElement, '/qiime2/redirect?location=/tmp/qiime2/jovyan/data/799f0e6c-f53d-49e5-add4-4b89e38157c7')\" src=\"data:image/gif;base64,R0lGODlhAQABAIAAAP///wAAACH5BAEAAAAALAAAAAABAAEAAAICRAEAOw==\" /></div>"
      ],
      "text/plain": [
       "<visualization: Visualization uuid: 799f0e6c-f53d-49e5-add4-4b89e38157c7>"
      ]
     },
     "execution_count": 3,
     "metadata": {},
     "output_type": "execute_result"
    }
   ],
   "source": [
    "Visualization.load(f\"{data_dir_div}/core_metrics_results/bray_curtis_emperor.qzv\")"
   ]
  },
  {
   "cell_type": "code",
   "execution_count": 6,
   "id": "8ed0ff51-0370-4a44-a018-b4111195cf5f",
   "metadata": {
    "collapsed": true,
    "jupyter": {
     "outputs_hidden": true
    },
    "tags": []
   },
   "outputs": [
    {
     "data": {
      "text/html": [
       "<div><img onload=\"(function(div, url){\n",
       "if (typeof require !== 'undefined') {\n",
       "    var baseURL = require.toUrl('').split('/').slice(0, -2).join('/');\n",
       "} else {\n",
       "    var baseURL = JSON.parse(\n",
       "        document.getElementById('jupyter-config-data').innerHTML\n",
       "    ).baseUrl.slice(0, -1);\n",
       "}\n",
       "url = baseURL + url;\n",
       "fetch(url).then(function(res) {\n",
       "    if (res.status === 404) {\n",
       "        div.innerHTML = 'Install QIIME 2 Jupyter extension with:<br />' +\n",
       "                        '<code>jupyter serverextension enable --py qiime2' +\n",
       "                        ' --sys-prefix</code><br />then restart your server.' +\n",
       "                        '<br /><br />(Interactive output not available on ' +\n",
       "                        'static notebook viewer services like nbviewer.)';\n",
       "    } else if (res.status === 409) {\n",
       "        div.innerHTML = 'Visualization no longer in scope. Re-run this cell' +\n",
       "                        ' to see the visualization.';\n",
       "    } else if (res.ok) {\n",
       "        url = res.url;\n",
       "        div.innerHTML = '<iframe src=\\'' + url + '\\' style=\\'' +\n",
       "                        'width: 100%; height: 700px; border: 0;\\'>' +\n",
       "                        '</iframe><hr />Open in a: <a href=\\'' + url + '\\'' +\n",
       "                        ' target=\\'_blank\\'>new window</a>'\n",
       "    } else {\n",
       "        div.innerHTML = 'Something has gone wrong. Check notebook server for' +\n",
       "                        ' errors.';\n",
       "    }\n",
       "});\n",
       "})(this.parentElement, '/qiime2/redirect?location=/tmp/qiime2/jovyan/data/9913907f-33f3-40a2-8e18-74e92e2db9f3')\" src=\"data:image/gif;base64,R0lGODlhAQABAIAAAP///wAAACH5BAEAAAAALAAAAAABAAEAAAICRAEAOw==\" /></div>"
      ],
      "text/plain": [
       "<visualization: Visualization uuid: 9913907f-33f3-40a2-8e18-74e92e2db9f3>"
      ]
     },
     "execution_count": 6,
     "metadata": {},
     "output_type": "execute_result"
    }
   ],
   "source": [
    "Visualization.load(f\"{data_dir_div}/core_metrics_results/jaccard_emperor.qzv\")"
   ]
  },
  {
   "cell_type": "markdown",
   "id": "eb41fcb2-b370-4ba8-9765-206eda9fc9e0",
   "metadata": {},
   "source": [
    "In jaccard emperor visualization we see that the donors cluster a bit more than average to one side. There are no other clusters visible for the other categories."
   ]
  },
  {
   "cell_type": "markdown",
   "id": "8c6ce8f3-f753-4298-b719-ac8280a3824d",
   "metadata": {},
   "source": [
    "### Significance Analysis of Disease Status"
   ]
  },
  {
   "cell_type": "code",
   "execution_count": 8,
   "id": "a00116ca-ec57-452a-9744-1d8d7397f788",
   "metadata": {
    "tags": []
   },
   "outputs": [
    {
     "name": "stdout",
     "output_type": "stream",
     "text": [
      "\u001b[32mSaved Visualization to: data/beta_diversity/core_metrics_results/bray_curtis-disease_status-significance.qzv\u001b[0m\n",
      "\u001b[0m"
     ]
    }
   ],
   "source": [
    "! qiime diversity beta-group-significance \\\n",
    "    --i-distance-matrix $data_dir_div/core_metrics_results/bray_curtis_distance_matrix.qza \\\n",
    "    --m-metadata-file $data_dir/pundemic_metadata_subgroup_response_all.tsv \\\n",
    "    --m-metadata-column disease_status \\\n",
    "    --p-pairwise \\\n",
    "    --o-visualization $data_dir_div/core_metrics_results/bray_curtis-disease_status-significance.qzv"
   ]
  },
  {
   "cell_type": "code",
   "execution_count": 9,
   "id": "a7aeaace-5aca-422f-8ade-7b8f725ad677",
   "metadata": {
    "collapsed": true,
    "jupyter": {
     "outputs_hidden": true
    },
    "tags": []
   },
   "outputs": [
    {
     "data": {
      "text/html": [
       "<div><img onload=\"(function(div, url){\n",
       "if (typeof require !== 'undefined') {\n",
       "    var baseURL = require.toUrl('').split('/').slice(0, -2).join('/');\n",
       "} else {\n",
       "    var baseURL = JSON.parse(\n",
       "        document.getElementById('jupyter-config-data').innerHTML\n",
       "    ).baseUrl.slice(0, -1);\n",
       "}\n",
       "url = baseURL + url;\n",
       "fetch(url).then(function(res) {\n",
       "    if (res.status === 404) {\n",
       "        div.innerHTML = 'Install QIIME 2 Jupyter extension with:<br />' +\n",
       "                        '<code>jupyter serverextension enable --py qiime2' +\n",
       "                        ' --sys-prefix</code><br />then restart your server.' +\n",
       "                        '<br /><br />(Interactive output not available on ' +\n",
       "                        'static notebook viewer services like nbviewer.)';\n",
       "    } else if (res.status === 409) {\n",
       "        div.innerHTML = 'Visualization no longer in scope. Re-run this cell' +\n",
       "                        ' to see the visualization.';\n",
       "    } else if (res.ok) {\n",
       "        url = res.url;\n",
       "        div.innerHTML = '<iframe src=\\'' + url + '\\' style=\\'' +\n",
       "                        'width: 100%; height: 700px; border: 0;\\'>' +\n",
       "                        '</iframe><hr />Open in a: <a href=\\'' + url + '\\'' +\n",
       "                        ' target=\\'_blank\\'>new window</a>'\n",
       "    } else {\n",
       "        div.innerHTML = 'Something has gone wrong. Check notebook server for' +\n",
       "                        ' errors.';\n",
       "    }\n",
       "});\n",
       "})(this.parentElement, '/qiime2/redirect?location=/tmp/qiime2/jovyan/data/d55f2a8a-18da-4d1e-bd35-dab3e650fa8a')\" src=\"data:image/gif;base64,R0lGODlhAQABAIAAAP///wAAACH5BAEAAAAALAAAAAABAAEAAAICRAEAOw==\" /></div>"
      ],
      "text/plain": [
       "<visualization: Visualization uuid: d55f2a8a-18da-4d1e-bd35-dab3e650fa8a>"
      ]
     },
     "execution_count": 9,
     "metadata": {},
     "output_type": "execute_result"
    }
   ],
   "source": [
    "Visualization.load(f\"{data_dir_div}/core_metrics_results/bray_curtis-disease_status-significance.qzv\")"
   ]
  },
  {
   "cell_type": "code",
   "execution_count": 10,
   "id": "4529218a-22e7-49d1-b614-175f0f916a63",
   "metadata": {
    "tags": []
   },
   "outputs": [
    {
     "name": "stdout",
     "output_type": "stream",
     "text": [
      "\u001b[32mSaved Visualization to: data/beta_diversity/core_metrics_results/jaccard-disease_status-significance.qzv\u001b[0m\n",
      "\u001b[0m"
     ]
    }
   ],
   "source": [
    "! qiime diversity beta-group-significance \\\n",
    "    --i-distance-matrix $data_dir_div/core_metrics_results/jaccard_distance_matrix.qza \\\n",
    "    --m-metadata-file $data_dir/pundemic_metadata_subgroup_response_all.tsv \\\n",
    "    --m-metadata-column disease_status \\\n",
    "    --p-pairwise \\\n",
    "    --o-visualization $data_dir_div/core_metrics_results/jaccard-disease_status-significance.qzv"
   ]
  },
  {
   "cell_type": "code",
   "execution_count": 11,
   "id": "444674b1-4f3b-4d88-987b-f03b3d7dc4dc",
   "metadata": {
    "collapsed": true,
    "jupyter": {
     "outputs_hidden": true
    },
    "tags": []
   },
   "outputs": [
    {
     "data": {
      "text/html": [
       "<div><img onload=\"(function(div, url){\n",
       "if (typeof require !== 'undefined') {\n",
       "    var baseURL = require.toUrl('').split('/').slice(0, -2).join('/');\n",
       "} else {\n",
       "    var baseURL = JSON.parse(\n",
       "        document.getElementById('jupyter-config-data').innerHTML\n",
       "    ).baseUrl.slice(0, -1);\n",
       "}\n",
       "url = baseURL + url;\n",
       "fetch(url).then(function(res) {\n",
       "    if (res.status === 404) {\n",
       "        div.innerHTML = 'Install QIIME 2 Jupyter extension with:<br />' +\n",
       "                        '<code>jupyter serverextension enable --py qiime2' +\n",
       "                        ' --sys-prefix</code><br />then restart your server.' +\n",
       "                        '<br /><br />(Interactive output not available on ' +\n",
       "                        'static notebook viewer services like nbviewer.)';\n",
       "    } else if (res.status === 409) {\n",
       "        div.innerHTML = 'Visualization no longer in scope. Re-run this cell' +\n",
       "                        ' to see the visualization.';\n",
       "    } else if (res.ok) {\n",
       "        url = res.url;\n",
       "        div.innerHTML = '<iframe src=\\'' + url + '\\' style=\\'' +\n",
       "                        'width: 100%; height: 700px; border: 0;\\'>' +\n",
       "                        '</iframe><hr />Open in a: <a href=\\'' + url + '\\'' +\n",
       "                        ' target=\\'_blank\\'>new window</a>'\n",
       "    } else {\n",
       "        div.innerHTML = 'Something has gone wrong. Check notebook server for' +\n",
       "                        ' errors.';\n",
       "    }\n",
       "});\n",
       "})(this.parentElement, '/qiime2/redirect?location=/tmp/qiime2/jovyan/data/b2b8a9fb-9621-423c-8b0a-c94580a8cea0')\" src=\"data:image/gif;base64,R0lGODlhAQABAIAAAP///wAAACH5BAEAAAAALAAAAAABAAEAAAICRAEAOw==\" /></div>"
      ],
      "text/plain": [
       "<visualization: Visualization uuid: b2b8a9fb-9621-423c-8b0a-c94580a8cea0>"
      ]
     },
     "execution_count": 11,
     "metadata": {},
     "output_type": "execute_result"
    }
   ],
   "source": [
    "Visualization.load(f\"{data_dir_div}/core_metrics_results/jaccard-disease_status-significance.qzv\")"
   ]
  },
  {
   "cell_type": "markdown",
   "id": "b3e2e188-38be-43b9-ae23-515feaddd3ac",
   "metadata": {},
   "source": [
    "### Significance Analysis of Sexes"
   ]
  },
  {
   "cell_type": "code",
   "execution_count": 12,
   "id": "432017d0-4637-476a-bd5b-77ab15583e55",
   "metadata": {
    "tags": []
   },
   "outputs": [
    {
     "name": "stdout",
     "output_type": "stream",
     "text": [
      "\u001b[32mSaved Visualization to: data/beta_diversity/core_metrics_results/bray_curtis-sex-significance.qzv\u001b[0m\n",
      "\u001b[0m"
     ]
    }
   ],
   "source": [
    "! qiime diversity beta-group-significance \\\n",
    "    --i-distance-matrix $data_dir_div/core_metrics_results/bray_curtis_distance_matrix.qza \\\n",
    "    --m-metadata-file $data_dir/pundemic_metadata_subgroup_response_all.tsv \\\n",
    "    --m-metadata-column sex \\\n",
    "    --p-pairwise \\\n",
    "    --o-visualization $data_dir_div/core_metrics_results/bray_curtis-sex-significance.qzv"
   ]
  },
  {
   "cell_type": "code",
   "execution_count": 13,
   "id": "b50e8f48-36ce-41a8-abab-ed539115d2f8",
   "metadata": {
    "collapsed": true,
    "jupyter": {
     "outputs_hidden": true
    },
    "tags": []
   },
   "outputs": [
    {
     "data": {
      "text/html": [
       "<div><img onload=\"(function(div, url){\n",
       "if (typeof require !== 'undefined') {\n",
       "    var baseURL = require.toUrl('').split('/').slice(0, -2).join('/');\n",
       "} else {\n",
       "    var baseURL = JSON.parse(\n",
       "        document.getElementById('jupyter-config-data').innerHTML\n",
       "    ).baseUrl.slice(0, -1);\n",
       "}\n",
       "url = baseURL + url;\n",
       "fetch(url).then(function(res) {\n",
       "    if (res.status === 404) {\n",
       "        div.innerHTML = 'Install QIIME 2 Jupyter extension with:<br />' +\n",
       "                        '<code>jupyter serverextension enable --py qiime2' +\n",
       "                        ' --sys-prefix</code><br />then restart your server.' +\n",
       "                        '<br /><br />(Interactive output not available on ' +\n",
       "                        'static notebook viewer services like nbviewer.)';\n",
       "    } else if (res.status === 409) {\n",
       "        div.innerHTML = 'Visualization no longer in scope. Re-run this cell' +\n",
       "                        ' to see the visualization.';\n",
       "    } else if (res.ok) {\n",
       "        url = res.url;\n",
       "        div.innerHTML = '<iframe src=\\'' + url + '\\' style=\\'' +\n",
       "                        'width: 100%; height: 700px; border: 0;\\'>' +\n",
       "                        '</iframe><hr />Open in a: <a href=\\'' + url + '\\'' +\n",
       "                        ' target=\\'_blank\\'>new window</a>'\n",
       "    } else {\n",
       "        div.innerHTML = 'Something has gone wrong. Check notebook server for' +\n",
       "                        ' errors.';\n",
       "    }\n",
       "});\n",
       "})(this.parentElement, '/qiime2/redirect?location=/tmp/qiime2/jovyan/data/76a7dc89-d677-4929-837d-fba650910de8')\" src=\"data:image/gif;base64,R0lGODlhAQABAIAAAP///wAAACH5BAEAAAAALAAAAAABAAEAAAICRAEAOw==\" /></div>"
      ],
      "text/plain": [
       "<visualization: Visualization uuid: 76a7dc89-d677-4929-837d-fba650910de8>"
      ]
     },
     "execution_count": 13,
     "metadata": {},
     "output_type": "execute_result"
    }
   ],
   "source": [
    "Visualization.load(f\"{data_dir_div}/core_metrics_results/bray_curtis-sex-significance.qzv\")"
   ]
  },
  {
   "cell_type": "code",
   "execution_count": 14,
   "id": "87e3648e-ae41-4a70-83d3-215f81188992",
   "metadata": {
    "tags": []
   },
   "outputs": [
    {
     "name": "stdout",
     "output_type": "stream",
     "text": [
      "\u001b[32mSaved Visualization to: data/beta_diversity/core_metrics_results/jaccard-sex-significance.qzv\u001b[0m\n",
      "\u001b[0m"
     ]
    }
   ],
   "source": [
    "! qiime diversity beta-group-significance \\\n",
    "    --i-distance-matrix $data_dir_div/core_metrics_results/jaccard_distance_matrix.qza \\\n",
    "    --m-metadata-file $data_dir/pundemic_metadata_subgroup_response_all.tsv \\\n",
    "    --m-metadata-column sex \\\n",
    "    --p-pairwise \\\n",
    "    --o-visualization $data_dir_div/core_metrics_results/jaccard-sex-significance.qzv"
   ]
  },
  {
   "cell_type": "code",
   "execution_count": 15,
   "id": "41afc980-dd69-451b-9bc3-6b35f0070123",
   "metadata": {
    "collapsed": true,
    "jupyter": {
     "outputs_hidden": true
    },
    "tags": []
   },
   "outputs": [
    {
     "data": {
      "text/html": [
       "<div><img onload=\"(function(div, url){\n",
       "if (typeof require !== 'undefined') {\n",
       "    var baseURL = require.toUrl('').split('/').slice(0, -2).join('/');\n",
       "} else {\n",
       "    var baseURL = JSON.parse(\n",
       "        document.getElementById('jupyter-config-data').innerHTML\n",
       "    ).baseUrl.slice(0, -1);\n",
       "}\n",
       "url = baseURL + url;\n",
       "fetch(url).then(function(res) {\n",
       "    if (res.status === 404) {\n",
       "        div.innerHTML = 'Install QIIME 2 Jupyter extension with:<br />' +\n",
       "                        '<code>jupyter serverextension enable --py qiime2' +\n",
       "                        ' --sys-prefix</code><br />then restart your server.' +\n",
       "                        '<br /><br />(Interactive output not available on ' +\n",
       "                        'static notebook viewer services like nbviewer.)';\n",
       "    } else if (res.status === 409) {\n",
       "        div.innerHTML = 'Visualization no longer in scope. Re-run this cell' +\n",
       "                        ' to see the visualization.';\n",
       "    } else if (res.ok) {\n",
       "        url = res.url;\n",
       "        div.innerHTML = '<iframe src=\\'' + url + '\\' style=\\'' +\n",
       "                        'width: 100%; height: 700px; border: 0;\\'>' +\n",
       "                        '</iframe><hr />Open in a: <a href=\\'' + url + '\\'' +\n",
       "                        ' target=\\'_blank\\'>new window</a>'\n",
       "    } else {\n",
       "        div.innerHTML = 'Something has gone wrong. Check notebook server for' +\n",
       "                        ' errors.';\n",
       "    }\n",
       "});\n",
       "})(this.parentElement, '/qiime2/redirect?location=/tmp/qiime2/jovyan/data/e64204a6-75b0-45a6-bcaf-ce6741247ab7')\" src=\"data:image/gif;base64,R0lGODlhAQABAIAAAP///wAAACH5BAEAAAAALAAAAAABAAEAAAICRAEAOw==\" /></div>"
      ],
      "text/plain": [
       "<visualization: Visualization uuid: e64204a6-75b0-45a6-bcaf-ce6741247ab7>"
      ]
     },
     "execution_count": 15,
     "metadata": {},
     "output_type": "execute_result"
    }
   ],
   "source": [
    "Visualization.load(f\"{data_dir_div}/core_metrics_results/jaccard-sex-significance.qzv\")"
   ]
  },
  {
   "cell_type": "markdown",
   "id": "476160ec-b21e-4fc6-bbfd-66c0c317af6b",
   "metadata": {},
   "source": [
    "### Significance Analysis of Subgroup Response"
   ]
  },
  {
   "cell_type": "code",
   "execution_count": 16,
   "id": "db708a1f-8bad-45dd-b83f-0a63ff0ec0be",
   "metadata": {
    "tags": []
   },
   "outputs": [
    {
     "name": "stdout",
     "output_type": "stream",
     "text": [
      "\u001b[32mSaved Visualization to: data/beta_diversity/core_metrics_results/bray_curtis-subgroup_response-significance.qzv\u001b[0m\n",
      "\u001b[0m"
     ]
    }
   ],
   "source": [
    "! qiime diversity beta-group-significance \\\n",
    "    --i-distance-matrix $data_dir_div/core_metrics_results/bray_curtis_distance_matrix.qza \\\n",
    "    --m-metadata-file $data_dir/pundemic_metadata_subgroup_response_all.tsv \\\n",
    "    --m-metadata-column subgroup_response \\\n",
    "    --p-pairwise \\\n",
    "    --o-visualization $data_dir_div/core_metrics_results/bray_curtis-subgroup_response-significance.qzv"
   ]
  },
  {
   "cell_type": "code",
   "execution_count": 17,
   "id": "015d2121-0d81-480a-b7cf-db58194cee37",
   "metadata": {
    "collapsed": true,
    "jupyter": {
     "outputs_hidden": true
    },
    "tags": []
   },
   "outputs": [
    {
     "data": {
      "text/html": [
       "<div><img onload=\"(function(div, url){\n",
       "if (typeof require !== 'undefined') {\n",
       "    var baseURL = require.toUrl('').split('/').slice(0, -2).join('/');\n",
       "} else {\n",
       "    var baseURL = JSON.parse(\n",
       "        document.getElementById('jupyter-config-data').innerHTML\n",
       "    ).baseUrl.slice(0, -1);\n",
       "}\n",
       "url = baseURL + url;\n",
       "fetch(url).then(function(res) {\n",
       "    if (res.status === 404) {\n",
       "        div.innerHTML = 'Install QIIME 2 Jupyter extension with:<br />' +\n",
       "                        '<code>jupyter serverextension enable --py qiime2' +\n",
       "                        ' --sys-prefix</code><br />then restart your server.' +\n",
       "                        '<br /><br />(Interactive output not available on ' +\n",
       "                        'static notebook viewer services like nbviewer.)';\n",
       "    } else if (res.status === 409) {\n",
       "        div.innerHTML = 'Visualization no longer in scope. Re-run this cell' +\n",
       "                        ' to see the visualization.';\n",
       "    } else if (res.ok) {\n",
       "        url = res.url;\n",
       "        div.innerHTML = '<iframe src=\\'' + url + '\\' style=\\'' +\n",
       "                        'width: 100%; height: 700px; border: 0;\\'>' +\n",
       "                        '</iframe><hr />Open in a: <a href=\\'' + url + '\\'' +\n",
       "                        ' target=\\'_blank\\'>new window</a>'\n",
       "    } else {\n",
       "        div.innerHTML = 'Something has gone wrong. Check notebook server for' +\n",
       "                        ' errors.';\n",
       "    }\n",
       "});\n",
       "})(this.parentElement, '/qiime2/redirect?location=/tmp/qiime2/jovyan/data/e81472ea-731e-4851-ab0d-4fbae456be19')\" src=\"data:image/gif;base64,R0lGODlhAQABAIAAAP///wAAACH5BAEAAAAALAAAAAABAAEAAAICRAEAOw==\" /></div>"
      ],
      "text/plain": [
       "<visualization: Visualization uuid: e81472ea-731e-4851-ab0d-4fbae456be19>"
      ]
     },
     "execution_count": 17,
     "metadata": {},
     "output_type": "execute_result"
    }
   ],
   "source": [
    "Visualization.load(f\"{data_dir_div}/core_metrics_results/bray_curtis-subgroup_response-significance.qzv\")"
   ]
  },
  {
   "cell_type": "code",
   "execution_count": 18,
   "id": "1c9d39f7-90c5-4d2d-a166-95fe7319fc89",
   "metadata": {
    "tags": []
   },
   "outputs": [
    {
     "name": "stdout",
     "output_type": "stream",
     "text": [
      "\u001b[32mSaved Visualization to: data/beta_diversity/core_metrics_results/jaccard-subgroup_response-significance.qzv\u001b[0m\n",
      "\u001b[0m"
     ]
    }
   ],
   "source": [
    "! qiime diversity beta-group-significance \\\n",
    "    --i-distance-matrix $data_dir_div/core_metrics_results/jaccard_distance_matrix.qza \\\n",
    "    --m-metadata-file $data_dir/pundemic_metadata_subgroup_response_all.tsv \\\n",
    "    --m-metadata-column subgroup_response \\\n",
    "    --p-pairwise \\\n",
    "    --o-visualization $data_dir_div/core_metrics_results/jaccard-subgroup_response-significance.qzv"
   ]
  },
  {
   "cell_type": "code",
   "execution_count": 19,
   "id": "7c59f391-db71-433f-8273-ec26e84443e8",
   "metadata": {
    "collapsed": true,
    "jupyter": {
     "outputs_hidden": true
    },
    "tags": []
   },
   "outputs": [
    {
     "data": {
      "text/html": [
       "<div><img onload=\"(function(div, url){\n",
       "if (typeof require !== 'undefined') {\n",
       "    var baseURL = require.toUrl('').split('/').slice(0, -2).join('/');\n",
       "} else {\n",
       "    var baseURL = JSON.parse(\n",
       "        document.getElementById('jupyter-config-data').innerHTML\n",
       "    ).baseUrl.slice(0, -1);\n",
       "}\n",
       "url = baseURL + url;\n",
       "fetch(url).then(function(res) {\n",
       "    if (res.status === 404) {\n",
       "        div.innerHTML = 'Install QIIME 2 Jupyter extension with:<br />' +\n",
       "                        '<code>jupyter serverextension enable --py qiime2' +\n",
       "                        ' --sys-prefix</code><br />then restart your server.' +\n",
       "                        '<br /><br />(Interactive output not available on ' +\n",
       "                        'static notebook viewer services like nbviewer.)';\n",
       "    } else if (res.status === 409) {\n",
       "        div.innerHTML = 'Visualization no longer in scope. Re-run this cell' +\n",
       "                        ' to see the visualization.';\n",
       "    } else if (res.ok) {\n",
       "        url = res.url;\n",
       "        div.innerHTML = '<iframe src=\\'' + url + '\\' style=\\'' +\n",
       "                        'width: 100%; height: 700px; border: 0;\\'>' +\n",
       "                        '</iframe><hr />Open in a: <a href=\\'' + url + '\\'' +\n",
       "                        ' target=\\'_blank\\'>new window</a>'\n",
       "    } else {\n",
       "        div.innerHTML = 'Something has gone wrong. Check notebook server for' +\n",
       "                        ' errors.';\n",
       "    }\n",
       "});\n",
       "})(this.parentElement, '/qiime2/redirect?location=/tmp/qiime2/jovyan/data/23a9e236-e35c-4218-bdfb-342d5119e73a')\" src=\"data:image/gif;base64,R0lGODlhAQABAIAAAP///wAAACH5BAEAAAAALAAAAAABAAEAAAICRAEAOw==\" /></div>"
      ],
      "text/plain": [
       "<visualization: Visualization uuid: 23a9e236-e35c-4218-bdfb-342d5119e73a>"
      ]
     },
     "execution_count": 19,
     "metadata": {},
     "output_type": "execute_result"
    }
   ],
   "source": [
    "Visualization.load(f\"{data_dir_div}/core_metrics_results/jaccard-subgroup_response-significance.qzv\")"
   ]
  },
  {
   "cell_type": "markdown",
   "id": "37d062ed-7f6e-4250-84f6-6be3307aa3a2",
   "metadata": {},
   "source": [
    "### Significance Analysis of Ethnicity"
   ]
  },
  {
   "cell_type": "code",
   "execution_count": 46,
   "id": "d163ce34-5ee3-4d8d-bc50-6fa28104a410",
   "metadata": {
    "tags": []
   },
   "outputs": [],
   "source": [
    "metadata = pd.read_csv(f\"{data_dir}/pundemic_metadata_subgroup_response_all.tsv\", sep = \"\\t\")\n",
    "metadata.ethnicity = metadata.ethnicity.replace('Arabic/Middle Eastern', 'Arabic_Middle Eastern')\n",
    "metadata.to_csv(f'{data_dir}/pundemic_metadata_subgroup_response_all.tsv', sep='\\t', index=False)"
   ]
  },
  {
   "cell_type": "code",
   "execution_count": 47,
   "id": "44fbb475-cb1b-45d0-8818-1e7611981fc7",
   "metadata": {
    "tags": []
   },
   "outputs": [
    {
     "name": "stdout",
     "output_type": "stream",
     "text": [
      "\u001b[32mSaved Visualization to: data/beta_diversity/core_metrics_results/bray_curtis-ethnicity-significance.qzv\u001b[0m\n",
      "\u001b[0m"
     ]
    }
   ],
   "source": [
    "! qiime diversity beta-group-significance \\\n",
    "    --i-distance-matrix $data_dir_div/core_metrics_results/bray_curtis_distance_matrix.qza \\\n",
    "    --m-metadata-file $data_dir/pundemic_metadata_subgroup_response_all.tsv \\\n",
    "    --m-metadata-column ethnicity \\\n",
    "    --p-pairwise \\\n",
    "    --o-visualization $data_dir_div/core_metrics_results/bray_curtis-ethnicity-significance.qzv"
   ]
  },
  {
   "cell_type": "code",
   "execution_count": 48,
   "id": "52e2a13e-b51c-4279-8371-7c09d6711189",
   "metadata": {
    "tags": []
   },
   "outputs": [
    {
     "data": {
      "text/html": [
       "<div><img onload=\"(function(div, url){\n",
       "if (typeof require !== 'undefined') {\n",
       "    var baseURL = require.toUrl('').split('/').slice(0, -2).join('/');\n",
       "} else {\n",
       "    var baseURL = JSON.parse(\n",
       "        document.getElementById('jupyter-config-data').innerHTML\n",
       "    ).baseUrl.slice(0, -1);\n",
       "}\n",
       "url = baseURL + url;\n",
       "fetch(url).then(function(res) {\n",
       "    if (res.status === 404) {\n",
       "        div.innerHTML = 'Install QIIME 2 Jupyter extension with:<br />' +\n",
       "                        '<code>jupyter serverextension enable --py qiime2' +\n",
       "                        ' --sys-prefix</code><br />then restart your server.' +\n",
       "                        '<br /><br />(Interactive output not available on ' +\n",
       "                        'static notebook viewer services like nbviewer.)';\n",
       "    } else if (res.status === 409) {\n",
       "        div.innerHTML = 'Visualization no longer in scope. Re-run this cell' +\n",
       "                        ' to see the visualization.';\n",
       "    } else if (res.ok) {\n",
       "        url = res.url;\n",
       "        div.innerHTML = '<iframe src=\\'' + url + '\\' style=\\'' +\n",
       "                        'width: 100%; height: 700px; border: 0;\\'>' +\n",
       "                        '</iframe><hr />Open in a: <a href=\\'' + url + '\\'' +\n",
       "                        ' target=\\'_blank\\'>new window</a>'\n",
       "    } else {\n",
       "        div.innerHTML = 'Something has gone wrong. Check notebook server for' +\n",
       "                        ' errors.';\n",
       "    }\n",
       "});\n",
       "})(this.parentElement, '/qiime2/redirect?location=/tmp/qiime2/jovyan/data/fa63e36a-eece-479b-8f2c-8b2b38f95709')\" src=\"data:image/gif;base64,R0lGODlhAQABAIAAAP///wAAACH5BAEAAAAALAAAAAABAAEAAAICRAEAOw==\" /></div>"
      ],
      "text/plain": [
       "<visualization: Visualization uuid: fa63e36a-eece-479b-8f2c-8b2b38f95709>"
      ]
     },
     "execution_count": 48,
     "metadata": {},
     "output_type": "execute_result"
    }
   ],
   "source": [
    "Visualization.load(f\"{data_dir_div}/core_metrics_results/bray_curtis-ethnicity-significance.qzv\")"
   ]
  },
  {
   "cell_type": "code",
   "execution_count": 49,
   "id": "fedb9a4d-c3f5-4c30-ade5-4d42b928c39f",
   "metadata": {
    "tags": []
   },
   "outputs": [
    {
     "name": "stdout",
     "output_type": "stream",
     "text": [
      "\u001b[32mSaved Visualization to: data/beta_diversity/core_metrics_results/jaccard-ethnicity-significance.qzv\u001b[0m\n",
      "\u001b[0m"
     ]
    }
   ],
   "source": [
    "! qiime diversity beta-group-significance \\\n",
    "    --i-distance-matrix $data_dir_div/core_metrics_results/jaccard_distance_matrix.qza \\\n",
    "    --m-metadata-file $data_dir/pundemic_metadata_subgroup_response_all.tsv \\\n",
    "    --m-metadata-column ethnicity \\\n",
    "    --p-pairwise \\\n",
    "    --o-visualization $data_dir_div/core_metrics_results/jaccard-ethnicity-significance.qzv"
   ]
  },
  {
   "cell_type": "code",
   "execution_count": 50,
   "id": "ef3919b2-4450-4193-8bd3-05459ec6af77",
   "metadata": {
    "collapsed": true,
    "jupyter": {
     "outputs_hidden": true
    },
    "tags": []
   },
   "outputs": [
    {
     "data": {
      "text/html": [
       "<div><img onload=\"(function(div, url){\n",
       "if (typeof require !== 'undefined') {\n",
       "    var baseURL = require.toUrl('').split('/').slice(0, -2).join('/');\n",
       "} else {\n",
       "    var baseURL = JSON.parse(\n",
       "        document.getElementById('jupyter-config-data').innerHTML\n",
       "    ).baseUrl.slice(0, -1);\n",
       "}\n",
       "url = baseURL + url;\n",
       "fetch(url).then(function(res) {\n",
       "    if (res.status === 404) {\n",
       "        div.innerHTML = 'Install QIIME 2 Jupyter extension with:<br />' +\n",
       "                        '<code>jupyter serverextension enable --py qiime2' +\n",
       "                        ' --sys-prefix</code><br />then restart your server.' +\n",
       "                        '<br /><br />(Interactive output not available on ' +\n",
       "                        'static notebook viewer services like nbviewer.)';\n",
       "    } else if (res.status === 409) {\n",
       "        div.innerHTML = 'Visualization no longer in scope. Re-run this cell' +\n",
       "                        ' to see the visualization.';\n",
       "    } else if (res.ok) {\n",
       "        url = res.url;\n",
       "        div.innerHTML = '<iframe src=\\'' + url + '\\' style=\\'' +\n",
       "                        'width: 100%; height: 700px; border: 0;\\'>' +\n",
       "                        '</iframe><hr />Open in a: <a href=\\'' + url + '\\'' +\n",
       "                        ' target=\\'_blank\\'>new window</a>'\n",
       "    } else {\n",
       "        div.innerHTML = 'Something has gone wrong. Check notebook server for' +\n",
       "                        ' errors.';\n",
       "    }\n",
       "});\n",
       "})(this.parentElement, '/qiime2/redirect?location=/tmp/qiime2/jovyan/data/287e4bf5-1879-495b-bffa-73b768ca84be')\" src=\"data:image/gif;base64,R0lGODlhAQABAIAAAP///wAAACH5BAEAAAAALAAAAAABAAEAAAICRAEAOw==\" /></div>"
      ],
      "text/plain": [
       "<visualization: Visualization uuid: 287e4bf5-1879-495b-bffa-73b768ca84be>"
      ]
     },
     "execution_count": 50,
     "metadata": {},
     "output_type": "execute_result"
    }
   ],
   "source": [
    "Visualization.load(f\"{data_dir_div}/core_metrics_results/jaccard-ethnicity-significance.qzv\")"
   ]
  },
  {
   "cell_type": "markdown",
   "id": "a2cb2c0b-ce2b-4c8a-968a-d52698730a64",
   "metadata": {},
   "source": [
    "There is no bias for ethnicity and sex in the data."
   ]
  },
  {
   "cell_type": "markdown",
   "id": "188d4f28-7ad4-49ff-a046-4ec048f87bd6",
   "metadata": {},
   "source": [
    "## Visualizing PCoA Data"
   ]
  },
  {
   "cell_type": "code",
   "execution_count": 56,
   "id": "6621bbe2-6e42-48ae-a0a8-8bb83b3809d3",
   "metadata": {
    "tags": []
   },
   "outputs": [],
   "source": [
    "pcs = q2.Artifact.load(os.path.join(data_dir_div, 'core_metrics_results/bray_curtis_pcoa_results.qza'))\n",
    "pcs = pcs.view(OrdinationResults)\n",
    "\n",
    "pcs_data = pcs.samples.iloc[:,:2]\n",
    "\n",
    "pcs_data.columns = ['Axis 1', 'Axis 2']"
   ]
  },
  {
   "cell_type": "code",
   "execution_count": 57,
   "id": "f059bcdb-a122-46d6-a363-d009e3bfe308",
   "metadata": {},
   "outputs": [
    {
     "data": {
      "text/html": [
       "<div>\n",
       "<style scoped>\n",
       "    .dataframe tbody tr th:only-of-type {\n",
       "        vertical-align: middle;\n",
       "    }\n",
       "\n",
       "    .dataframe tbody tr th {\n",
       "        vertical-align: top;\n",
       "    }\n",
       "\n",
       "    .dataframe thead th {\n",
       "        text-align: right;\n",
       "    }\n",
       "</style>\n",
       "<table border=\"1\" class=\"dataframe\">\n",
       "  <thead>\n",
       "    <tr style=\"text-align: right;\">\n",
       "      <th></th>\n",
       "      <th>Axis 1</th>\n",
       "      <th>Axis 2</th>\n",
       "    </tr>\n",
       "  </thead>\n",
       "  <tbody>\n",
       "    <tr>\n",
       "      <th>SRR10505051</th>\n",
       "      <td>0.250298</td>\n",
       "      <td>-0.338638</td>\n",
       "    </tr>\n",
       "    <tr>\n",
       "      <th>SRR10505052</th>\n",
       "      <td>0.424126</td>\n",
       "      <td>0.204503</td>\n",
       "    </tr>\n",
       "    <tr>\n",
       "      <th>SRR10505053</th>\n",
       "      <td>-0.217905</td>\n",
       "      <td>0.075264</td>\n",
       "    </tr>\n",
       "    <tr>\n",
       "      <th>SRR10505056</th>\n",
       "      <td>-0.172541</td>\n",
       "      <td>0.087929</td>\n",
       "    </tr>\n",
       "    <tr>\n",
       "      <th>SRR10505057</th>\n",
       "      <td>-0.292707</td>\n",
       "      <td>0.109955</td>\n",
       "    </tr>\n",
       "  </tbody>\n",
       "</table>\n",
       "</div>"
      ],
      "text/plain": [
       "               Axis 1    Axis 2\n",
       "SRR10505051  0.250298 -0.338638\n",
       "SRR10505052  0.424126  0.204503\n",
       "SRR10505053 -0.217905  0.075264\n",
       "SRR10505056 -0.172541  0.087929\n",
       "SRR10505057 -0.292707  0.109955"
      ]
     },
     "execution_count": 57,
     "metadata": {},
     "output_type": "execute_result"
    }
   ],
   "source": [
    "pcs_data.head()"
   ]
  },
  {
   "cell_type": "code",
   "execution_count": 60,
   "id": "5e940eef-a4f2-49b3-bf60-5a26fc1663e8",
   "metadata": {
    "tags": []
   },
   "outputs": [],
   "source": [
    "metadata = metadata.set_index('id')"
   ]
  },
  {
   "cell_type": "code",
   "execution_count": 61,
   "id": "d62c1cf9-aaf3-4ff0-9662-09489c41ee1e",
   "metadata": {
    "tags": []
   },
   "outputs": [
    {
     "data": {
      "text/html": [
       "<div>\n",
       "<style scoped>\n",
       "    .dataframe tbody tr th:only-of-type {\n",
       "        vertical-align: middle;\n",
       "    }\n",
       "\n",
       "    .dataframe tbody tr th {\n",
       "        vertical-align: top;\n",
       "    }\n",
       "\n",
       "    .dataframe thead th {\n",
       "        text-align: right;\n",
       "    }\n",
       "</style>\n",
       "<table border=\"1\" class=\"dataframe\">\n",
       "  <thead>\n",
       "    <tr style=\"text-align: right;\">\n",
       "      <th></th>\n",
       "      <th>Axis 1</th>\n",
       "      <th>Axis 2</th>\n",
       "      <th>patient_id</th>\n",
       "      <th>age</th>\n",
       "      <th>sex</th>\n",
       "      <th>ethnicity</th>\n",
       "      <th>continent</th>\n",
       "      <th>country</th>\n",
       "      <th>region</th>\n",
       "      <th>city</th>\n",
       "      <th>group</th>\n",
       "      <th>disease_subgroup</th>\n",
       "      <th>blinded_clinical_response</th>\n",
       "      <th>puns_per_hour_pre_treatment</th>\n",
       "      <th>puns_per_hour_post_treatment</th>\n",
       "      <th>time_point</th>\n",
       "      <th>subgroup_response</th>\n",
       "      <th>disease_status</th>\n",
       "    </tr>\n",
       "  </thead>\n",
       "  <tbody>\n",
       "    <tr>\n",
       "      <th>SRR10505051</th>\n",
       "      <td>0.250298</td>\n",
       "      <td>-0.338638</td>\n",
       "      <td>1048</td>\n",
       "      <td>36.0</td>\n",
       "      <td>female</td>\n",
       "      <td>Caucasian</td>\n",
       "      <td>Europe</td>\n",
       "      <td>Switzerland</td>\n",
       "      <td>Zurich</td>\n",
       "      <td>Zurich</td>\n",
       "      <td>Puns</td>\n",
       "      <td>Placebo</td>\n",
       "      <td>NR</td>\n",
       "      <td>9.0</td>\n",
       "      <td>8.0</td>\n",
       "      <td>post-treatment</td>\n",
       "      <td>Placebo_NR</td>\n",
       "      <td>Puns</td>\n",
       "    </tr>\n",
       "    <tr>\n",
       "      <th>SRR10505052</th>\n",
       "      <td>0.424126</td>\n",
       "      <td>0.204503</td>\n",
       "      <td>1048</td>\n",
       "      <td>36.0</td>\n",
       "      <td>female</td>\n",
       "      <td>Caucasian</td>\n",
       "      <td>Europe</td>\n",
       "      <td>Switzerland</td>\n",
       "      <td>Zurich</td>\n",
       "      <td>Zurich</td>\n",
       "      <td>Puns</td>\n",
       "      <td>Placebo</td>\n",
       "      <td>NR</td>\n",
       "      <td>9.0</td>\n",
       "      <td>8.0</td>\n",
       "      <td>pre-treatment</td>\n",
       "      <td>Placebo_NR</td>\n",
       "      <td>Puns</td>\n",
       "    </tr>\n",
       "    <tr>\n",
       "      <th>SRR10505053</th>\n",
       "      <td>-0.217905</td>\n",
       "      <td>0.075264</td>\n",
       "      <td>1045</td>\n",
       "      <td>29.0</td>\n",
       "      <td>male</td>\n",
       "      <td>Caucasian</td>\n",
       "      <td>Europe</td>\n",
       "      <td>Switzerland</td>\n",
       "      <td>Zurich</td>\n",
       "      <td>Zurich</td>\n",
       "      <td>Puns</td>\n",
       "      <td>Placebo</td>\n",
       "      <td>Res</td>\n",
       "      <td>6.0</td>\n",
       "      <td>0.0</td>\n",
       "      <td>pre-treatment</td>\n",
       "      <td>Placebo_Res</td>\n",
       "      <td>Puns</td>\n",
       "    </tr>\n",
       "    <tr>\n",
       "      <th>SRR10505056</th>\n",
       "      <td>-0.172541</td>\n",
       "      <td>0.087929</td>\n",
       "      <td>1044</td>\n",
       "      <td>34.0</td>\n",
       "      <td>male</td>\n",
       "      <td>Indian Subcontinental</td>\n",
       "      <td>Europe</td>\n",
       "      <td>Switzerland</td>\n",
       "      <td>Zurich</td>\n",
       "      <td>Zurich</td>\n",
       "      <td>Puns</td>\n",
       "      <td>Placebo</td>\n",
       "      <td>NaN</td>\n",
       "      <td>4.0</td>\n",
       "      <td>NaN</td>\n",
       "      <td>post-treatment</td>\n",
       "      <td>NaN</td>\n",
       "      <td>Puns</td>\n",
       "    </tr>\n",
       "    <tr>\n",
       "      <th>SRR10505057</th>\n",
       "      <td>-0.292707</td>\n",
       "      <td>0.109955</td>\n",
       "      <td>1043</td>\n",
       "      <td>35.0</td>\n",
       "      <td>female</td>\n",
       "      <td>Caucasian</td>\n",
       "      <td>Europe</td>\n",
       "      <td>Switzerland</td>\n",
       "      <td>Zurich</td>\n",
       "      <td>Zurich</td>\n",
       "      <td>Puns</td>\n",
       "      <td>FMT</td>\n",
       "      <td>NR</td>\n",
       "      <td>9.0</td>\n",
       "      <td>6.0</td>\n",
       "      <td>post-treatment</td>\n",
       "      <td>FMT_NR</td>\n",
       "      <td>Puns</td>\n",
       "    </tr>\n",
       "  </tbody>\n",
       "</table>\n",
       "</div>"
      ],
      "text/plain": [
       "               Axis 1    Axis 2 patient_id   age     sex  \\\n",
       "SRR10505051  0.250298 -0.338638       1048  36.0  female   \n",
       "SRR10505052  0.424126  0.204503       1048  36.0  female   \n",
       "SRR10505053 -0.217905  0.075264       1045  29.0    male   \n",
       "SRR10505056 -0.172541  0.087929       1044  34.0    male   \n",
       "SRR10505057 -0.292707  0.109955       1043  35.0  female   \n",
       "\n",
       "                         ethnicity continent      country  region    city  \\\n",
       "SRR10505051              Caucasian    Europe  Switzerland  Zurich  Zurich   \n",
       "SRR10505052              Caucasian    Europe  Switzerland  Zurich  Zurich   \n",
       "SRR10505053              Caucasian    Europe  Switzerland  Zurich  Zurich   \n",
       "SRR10505056  Indian Subcontinental    Europe  Switzerland  Zurich  Zurich   \n",
       "SRR10505057              Caucasian    Europe  Switzerland  Zurich  Zurich   \n",
       "\n",
       "            group disease_subgroup blinded_clinical_response  \\\n",
       "SRR10505051  Puns          Placebo                        NR   \n",
       "SRR10505052  Puns          Placebo                        NR   \n",
       "SRR10505053  Puns          Placebo                       Res   \n",
       "SRR10505056  Puns          Placebo                       NaN   \n",
       "SRR10505057  Puns              FMT                        NR   \n",
       "\n",
       "             puns_per_hour_pre_treatment  puns_per_hour_post_treatment  \\\n",
       "SRR10505051                          9.0                           8.0   \n",
       "SRR10505052                          9.0                           8.0   \n",
       "SRR10505053                          6.0                           0.0   \n",
       "SRR10505056                          4.0                           NaN   \n",
       "SRR10505057                          9.0                           6.0   \n",
       "\n",
       "                 time_point subgroup_response disease_status  \n",
       "SRR10505051  post-treatment        Placebo_NR           Puns  \n",
       "SRR10505052   pre-treatment        Placebo_NR           Puns  \n",
       "SRR10505053   pre-treatment       Placebo_Res           Puns  \n",
       "SRR10505056  post-treatment               NaN           Puns  \n",
       "SRR10505057  post-treatment            FMT_NR           Puns  "
      ]
     },
     "execution_count": 61,
     "metadata": {},
     "output_type": "execute_result"
    }
   ],
   "source": [
    "pcs_data_with_md = pd.concat([pcs_data, metadata], axis=1, join='inner')\n",
    "pcs_data_with_md.head()"
   ]
  },
  {
   "cell_type": "code",
   "execution_count": 62,
   "id": "19154632-3ccf-4b16-91bb-ec8935bf2e8f",
   "metadata": {
    "tags": []
   },
   "outputs": [
    {
     "data": {
      "text/plain": [
       "<Axes: xlabel='Axis 1', ylabel='Axis 2'>"
      ]
     },
     "execution_count": 62,
     "metadata": {},
     "output_type": "execute_result"
    },
    {
     "data": {
      "image/png": "[encoded data removed]",
      "text/plain": [
       "<Figure size 640x480 with 1 Axes>"
      ]
     },
     "metadata": {},
     "output_type": "display_data"
    }
   ],
   "source": [
    "scatterplot(data = pcs_data_with_md,\n",
    "            x = 'Axis 1',\n",
    "            y = 'Axis 2',\n",
    "            hue = 'disease_status',\n",
    "            palette = 'viridis')"
   ]
  },
  {
   "cell_type": "code",
   "execution_count": 64,
   "id": "c94dc61f-45fd-42e6-88e1-dd7e2545b811",
   "metadata": {
    "tags": []
   },
   "outputs": [
    {
     "data": {
      "text/plain": [
       "<Axes: xlabel='Axis 1', ylabel='Axis 2'>"
      ]
     },
     "execution_count": 64,
     "metadata": {},
     "output_type": "execute_result"
    },
    {
     "data": {
      "image/png": "[encoded data removed]",
      "text/plain": [
       "<Figure size 640x480 with 1 Axes>"
      ]
     },
     "metadata": {},
     "output_type": "display_data"
    }
   ],
   "source": [
    "scatterplot(data = pcs_data_with_md,\n",
    "            x = 'Axis 1',\n",
    "            y = 'Axis 2',\n",
    "            hue = 'sex',\n",
    "            palette = 'viridis')"
   ]
  },
  {
   "cell_type": "code",
   "execution_count": 65,
   "id": "6211badd-ef9d-47c5-ae55-3a6cec075be9",
   "metadata": {
    "tags": []
   },
   "outputs": [
    {
     "data": {
      "text/plain": [
       "<Axes: xlabel='Axis 1', ylabel='Axis 2'>"
      ]
     },
     "execution_count": 65,
     "metadata": {},
     "output_type": "execute_result"
    },
    {
     "data": {
      "image/png": "[encoded data removed]",
      "text/plain": [
       "<Figure size 640x480 with 1 Axes>"
      ]
     },
     "metadata": {},
     "output_type": "display_data"
    }
   ],
   "source": [
    "scatterplot(data = pcs_data_with_md,\n",
    "            x = 'Axis 1',\n",
    "            y = 'Axis 2',\n",
    "            hue = 'ethnicity',\n",
    "            palette = 'viridis')"
   ]
  }
 ],
 "metadata": {
  "kernelspec": {
   "display_name": "QIIME 2",
   "language": "python",
   "name": "python3"
  },
  "language_info": {
   "codemirror_mode": {
    "name": "ipython",
    "version": 3
   },
   "file_extension": ".py",
   "mimetype": "text/x-python",
   "name": "python",
   "nbconvert_exporter": "python",
   "pygments_lexer": "ipython3",
   "version": "3.9.19"
  }
 },
 "nbformat": 4,
 "nbformat_minor": 5
}
