{
 "cells": [
  {
   "cell_type": "markdown",
   "id": "0cfc2a6b-d2ef-4f97-be62-52ae0e983de0",
   "metadata": {},
   "source": [
    "# Beta Diversity"
   ]
  },
  {
   "cell_type": "markdown",
   "id": "74a02dec-cf55-4e61-b45d-7ccb6b09e7d3",
   "metadata": {},
   "source": [
    "## Import Libraries"
   ]
  },
  {
   "cell_type": "code",
   "execution_count": 3,
   "id": "5129e4f7-927c-4905-8c8c-1e828ff51007",
   "metadata": {
    "tags": []
   },
   "outputs": [],
   "source": [
    "import os\n",
    "import pandas as pd\n",
    "import qiime2 as q2\n",
    "from skbio import OrdinationResults\n",
    "from qiime2 import Visualization\n",
    "from seaborn import scatterplot\n",
    "\n",
    "%matplotlib inline"
   ]
  },
  {
   "cell_type": "code",
   "execution_count": 4,
   "id": "54a8257e-b49d-418e-87d4-fdd8aa25d068",
   "metadata": {
    "tags": []
   },
   "outputs": [],
   "source": [
    "data_dir = 'data'"
   ]
  },
  {
   "cell_type": "markdown",
   "id": "e19aa35f-8175-49bd-872f-bd2e12c0318f",
   "metadata": {},
   "source": [
    "Rarefaction is done in alpha diversity notebook. Afterwards phylogenetic core metrics are determined there. We now continue working with the beta diversity artefacts. We decided on a sampling depth of 3000."
   ]
  },
  {
   "cell_type": "markdown",
   "id": "f9d75209-9a0f-46b1-80fb-97e2d53adb6c",
   "metadata": {},
   "source": [
    "# Metadata"
   ]
  },
  {
   "cell_type": "code",
   "execution_count": 6,
   "id": "2a8e560d-d971-46d5-b8ea-a5e7e3eccf1a",
   "metadata": {
    "tags": []
   },
   "outputs": [
    {
     "data": {
      "text/plain": [
       "disease_subgroup\n",
       "FMT        51\n",
       "Placebo    36\n",
       "donor      18\n",
       "Name: count, dtype: int64"
      ]
     },
     "execution_count": 6,
     "metadata": {},
     "output_type": "execute_result"
    }
   ],
   "source": [
    "metadata = pd.read_csv(f\"{data_dir}/pundemic_metadata.tsv\", sep = \"\\t\")\n",
    "metadata[\"disease_subgroup\"].value_counts()"
   ]
  },
  {
   "cell_type": "code",
   "execution_count": null,
   "id": "f86142f7-445b-4fa7-a37f-d039c9bd60b0",
   "metadata": {},
   "outputs": [],
   "source": []
  }
 ],
 "metadata": {
  "kernelspec": {
   "display_name": "QIIME 2",
   "language": "python",
   "name": "python3"
  },
  "language_info": {
   "codemirror_mode": {
    "name": "ipython",
    "version": 3
   },
   "file_extension": ".py",
   "mimetype": "text/x-python",
   "name": "python",
   "nbconvert_exporter": "python",
   "pygments_lexer": "ipython3",
   "version": "3.9.19"
  }
 },
 "nbformat": 4,
 "nbformat_minor": 5
}
