{
 "cells": [
  {
   "cell_type": "markdown",
   "id": "0cfc2a6b-d2ef-4f97-be62-52ae0e983de0",
   "metadata": {},
   "source": [
    "# Beta Diversity"
   ]
  },
  {
   "cell_type": "markdown",
   "id": "74a02dec-cf55-4e61-b45d-7ccb6b09e7d3",
   "metadata": {},
   "source": [
    "## Import Libraries"
   ]
  },
  {
   "cell_type": "code",
   "execution_count": 1,
   "id": "5129e4f7-927c-4905-8c8c-1e828ff51007",
   "metadata": {
    "tags": []
   },
   "outputs": [],
   "source": [
    "import os\n",
    "import pandas as pd\n",
    "import qiime2 as q2\n",
    "from skbio import OrdinationResults\n",
    "from qiime2 import Visualization\n",
    "from seaborn import scatterplot\n",
    "import matplotlib.pyplot as plt\n",
    "import seaborn as sns\n",
    "\n",
    "%matplotlib inline"
   ]
  },
  {
   "cell_type": "code",
   "execution_count": 2,
   "id": "54a8257e-b49d-418e-87d4-fdd8aa25d068",
   "metadata": {
    "tags": []
   },
   "outputs": [],
   "source": [
    "data_dir = 'data'\n",
    "data_dir_div = 'data/beta_diversity'"
   ]
  },
  {
   "cell_type": "markdown",
   "id": "e19aa35f-8175-49bd-872f-bd2e12c0318f",
   "metadata": {},
   "source": [
    "Rarefaction is done in alpha diversity notebook. Afterwards phylogenetic core metrics are determined there. We now continue working with the beta diversity artefacts. We decided on a sampling depth of 3000."
   ]
  },
  {
   "cell_type": "code",
   "execution_count": 7,
   "id": "e929f7e4-3040-4703-81d6-1a58cd3290e8",
   "metadata": {
    "tags": []
   },
   "outputs": [
    {
     "name": "stdout",
     "output_type": "stream",
     "text": [
      "\u001b[32mSaved FeatureTable[Frequency] to: data/beta_diversity/core_metrics_results/rarefied_table.qza\u001b[0m\n",
      "\u001b[32mSaved SampleData[AlphaDiversity] to: data/beta_diversity/core_metrics_results/observed_features_vector.qza\u001b[0m\n",
      "\u001b[32mSaved SampleData[AlphaDiversity] to: data/beta_diversity/core_metrics_results/shannon_vector.qza\u001b[0m\n",
      "\u001b[32mSaved SampleData[AlphaDiversity] to: data/beta_diversity/core_metrics_results/evenness_vector.qza\u001b[0m\n",
      "\u001b[32mSaved DistanceMatrix to: data/beta_diversity/core_metrics_results/jaccard_distance_matrix.qza\u001b[0m\n",
      "\u001b[32mSaved DistanceMatrix to: data/beta_diversity/core_metrics_results/bray_curtis_distance_matrix.qza\u001b[0m\n",
      "\u001b[32mSaved PCoAResults to: data/beta_diversity/core_metrics_results/jaccard_pcoa_results.qza\u001b[0m\n",
      "\u001b[32mSaved PCoAResults to: data/beta_diversity/core_metrics_results/bray_curtis_pcoa_results.qza\u001b[0m\n",
      "\u001b[32mSaved Visualization to: data/beta_diversity/core_metrics_results/jaccard_emperor.qzv\u001b[0m\n",
      "\u001b[32mSaved Visualization to: data/beta_diversity/core_metrics_results/bray_curtis_emperor.qzv\u001b[0m\n",
      "\u001b[0m"
     ]
    }
   ],
   "source": [
    "! qiime diversity core-metrics \\\n",
    "  --i-table $data_dir/closed_reference_cluster/table-filtered.qza \\\n",
    "  --m-metadata-file $data_dir/pundemic_metadata_subgroup_response_all.tsv \\\n",
    "  --p-sampling-depth 3000 \\\n",
    "  --p-n-jobs 8 \\\n",
    "  --output-dir $data_dir_div/core_metrics_results"
   ]
  },
  {
   "cell_type": "markdown",
   "id": "b78d176c-8bf5-43fa-843c-e72f6f4be966",
   "metadata": {},
   "source": [
    "## Beta Diversity Analysis\n",
    "### PCoA Plots"
   ]
  },
  {
   "cell_type": "code",
   "execution_count": 3,
   "id": "e0454d21-63f1-448c-954e-e2d6a3a29826",
   "metadata": {
    "tags": []
   },
   "outputs": [
    {
     "data": {
      "text/html": [
       "<div><img onload=\"(function(div, url){\n",
       "if (typeof require !== 'undefined') {\n",
       "    var baseURL = require.toUrl('').split('/').slice(0, -2).join('/');\n",
       "} else {\n",
       "    var baseURL = JSON.parse(\n",
       "        document.getElementById('jupyter-config-data').innerHTML\n",
       "    ).baseUrl.slice(0, -1);\n",
       "}\n",
       "url = baseURL + url;\n",
       "fetch(url).then(function(res) {\n",
       "    if (res.status === 404) {\n",
       "        div.innerHTML = 'Install QIIME 2 Jupyter extension with:<br />' +\n",
       "                        '<code>jupyter serverextension enable --py qiime2' +\n",
       "                        ' --sys-prefix</code><br />then restart your server.' +\n",
       "                        '<br /><br />(Interactive output not available on ' +\n",
       "                        'static notebook viewer services like nbviewer.)';\n",
       "    } else if (res.status === 409) {\n",
       "        div.innerHTML = 'Visualization no longer in scope. Re-run this cell' +\n",
       "                        ' to see the visualization.';\n",
       "    } else if (res.ok) {\n",
       "        url = res.url;\n",
       "        div.innerHTML = '<iframe src=\\'' + url + '\\' style=\\'' +\n",
       "                        'width: 100%; height: 700px; border: 0;\\'>' +\n",
       "                        '</iframe><hr />Open in a: <a href=\\'' + url + '\\'' +\n",
       "                        ' target=\\'_blank\\'>new window</a>'\n",
       "    } else {\n",
       "        div.innerHTML = 'Something has gone wrong. Check notebook server for' +\n",
       "                        ' errors.';\n",
       "    }\n",
       "});\n",
       "})(this.parentElement, '/qiime2/redirect?location=/tmp/qiime2/jovyan/data/a178e025-9bba-4f8f-a2d1-86fbe2c3d010')\" src=\"data:image/gif;base64,R0lGODlhAQABAIAAAP///wAAACH5BAEAAAAALAAAAAABAAEAAAICRAEAOw==\" /></div>"
      ],
      "text/plain": [
       "<visualization: Visualization uuid: a178e025-9bba-4f8f-a2d1-86fbe2c3d010>"
      ]
     },
     "execution_count": 3,
     "metadata": {},
     "output_type": "execute_result"
    }
   ],
   "source": [
    "Visualization.load(f\"{data_dir_div}/core_metrics_results/bray_curtis_emperor.qzv\")"
   ]
  },
  {
   "cell_type": "code",
   "execution_count": 9,
   "id": "8ed0ff51-0370-4a44-a018-b4111195cf5f",
   "metadata": {
    "tags": []
   },
   "outputs": [
    {
     "data": {
      "text/html": [
       "<div><img onload=\"(function(div, url){\n",
       "if (typeof require !== 'undefined') {\n",
       "    var baseURL = require.toUrl('').split('/').slice(0, -2).join('/');\n",
       "} else {\n",
       "    var baseURL = JSON.parse(\n",
       "        document.getElementById('jupyter-config-data').innerHTML\n",
       "    ).baseUrl.slice(0, -1);\n",
       "}\n",
       "url = baseURL + url;\n",
       "fetch(url).then(function(res) {\n",
       "    if (res.status === 404) {\n",
       "        div.innerHTML = 'Install QIIME 2 Jupyter extension with:<br />' +\n",
       "                        '<code>jupyter serverextension enable --py qiime2' +\n",
       "                        ' --sys-prefix</code><br />then restart your server.' +\n",
       "                        '<br /><br />(Interactive output not available on ' +\n",
       "                        'static notebook viewer services like nbviewer.)';\n",
       "    } else if (res.status === 409) {\n",
       "        div.innerHTML = 'Visualization no longer in scope. Re-run this cell' +\n",
       "                        ' to see the visualization.';\n",
       "    } else if (res.ok) {\n",
       "        url = res.url;\n",
       "        div.innerHTML = '<iframe src=\\'' + url + '\\' style=\\'' +\n",
       "                        'width: 100%; height: 700px; border: 0;\\'>' +\n",
       "                        '</iframe><hr />Open in a: <a href=\\'' + url + '\\'' +\n",
       "                        ' target=\\'_blank\\'>new window</a>'\n",
       "    } else {\n",
       "        div.innerHTML = 'Something has gone wrong. Check notebook server for' +\n",
       "                        ' errors.';\n",
       "    }\n",
       "});\n",
       "})(this.parentElement, '/qiime2/redirect?location=/tmp/qiime2/jovyan/data/3515dd05-8d19-44a8-b303-f97552aeeed7')\" src=\"data:image/gif;base64,R0lGODlhAQABAIAAAP///wAAACH5BAEAAAAALAAAAAABAAEAAAICRAEAOw==\" /></div>"
      ],
      "text/plain": [
       "<visualization: Visualization uuid: 3515dd05-8d19-44a8-b303-f97552aeeed7>"
      ]
     },
     "execution_count": 9,
     "metadata": {},
     "output_type": "execute_result"
    }
   ],
   "source": [
    "Visualization.load(f\"{data_dir_div}/core_metrics_results/jaccard_emperor.qzv\")"
   ]
  },
  {
   "cell_type": "markdown",
   "id": "eb41fcb2-b370-4ba8-9765-206eda9fc9e0",
   "metadata": {},
   "source": [
    "In jaccard emperor visualization we see that the donors cluster a bit more than average to one side. There are no other clusters visible for the other categories."
   ]
  },
  {
   "cell_type": "markdown",
   "id": "8c6ce8f3-f753-4298-b719-ac8280a3824d",
   "metadata": {},
   "source": [
    "### Significance Analysis of Disease Status"
   ]
  },
  {
   "cell_type": "code",
   "execution_count": 8,
   "id": "a00116ca-ec57-452a-9744-1d8d7397f788",
   "metadata": {
    "tags": []
   },
   "outputs": [
    {
     "name": "stdout",
     "output_type": "stream",
     "text": [
      "\u001b[32mSaved Visualization to: data/beta_diversity/core_metrics_results/bray_curtis-disease_status-significance.qzv\u001b[0m\n",
      "\u001b[0m"
     ]
    }
   ],
   "source": [
    "! qiime diversity beta-group-significance \\\n",
    "    --i-distance-matrix $data_dir_div/core_metrics_results/bray_curtis_distance_matrix.qza \\\n",
    "    --m-metadata-file $data_dir/pundemic_metadata_subgroup_response_all.tsv \\\n",
    "    --m-metadata-column disease_status \\\n",
    "    --p-pairwise \\\n",
    "    --o-visualization $data_dir_div/core_metrics_results/bray_curtis-disease_status-significance.qzv"
   ]
  },
  {
   "cell_type": "code",
   "execution_count": 10,
   "id": "a7aeaace-5aca-422f-8ade-7b8f725ad677",
   "metadata": {
    "collapsed": true,
    "jupyter": {
     "outputs_hidden": true
    },
    "tags": []
   },
   "outputs": [
    {
     "data": {
      "text/html": [
       "<div><img onload=\"(function(div, url){\n",
       "if (typeof require !== 'undefined') {\n",
       "    var baseURL = require.toUrl('').split('/').slice(0, -2).join('/');\n",
       "} else {\n",
       "    var baseURL = JSON.parse(\n",
       "        document.getElementById('jupyter-config-data').innerHTML\n",
       "    ).baseUrl.slice(0, -1);\n",
       "}\n",
       "url = baseURL + url;\n",
       "fetch(url).then(function(res) {\n",
       "    if (res.status === 404) {\n",
       "        div.innerHTML = 'Install QIIME 2 Jupyter extension with:<br />' +\n",
       "                        '<code>jupyter serverextension enable --py qiime2' +\n",
       "                        ' --sys-prefix</code><br />then restart your server.' +\n",
       "                        '<br /><br />(Interactive output not available on ' +\n",
       "                        'static notebook viewer services like nbviewer.)';\n",
       "    } else if (res.status === 409) {\n",
       "        div.innerHTML = 'Visualization no longer in scope. Re-run this cell' +\n",
       "                        ' to see the visualization.';\n",
       "    } else if (res.ok) {\n",
       "        url = res.url;\n",
       "        div.innerHTML = '<iframe src=\\'' + url + '\\' style=\\'' +\n",
       "                        'width: 100%; height: 700px; border: 0;\\'>' +\n",
       "                        '</iframe><hr />Open in a: <a href=\\'' + url + '\\'' +\n",
       "                        ' target=\\'_blank\\'>new window</a>'\n",
       "    } else {\n",
       "        div.innerHTML = 'Something has gone wrong. Check notebook server for' +\n",
       "                        ' errors.';\n",
       "    }\n",
       "});\n",
       "})(this.parentElement, '/qiime2/redirect?location=/tmp/qiime2/jovyan/data/a6d54944-4f20-45f5-a742-088701e73629')\" src=\"data:image/gif;base64,R0lGODlhAQABAIAAAP///wAAACH5BAEAAAAALAAAAAABAAEAAAICRAEAOw==\" /></div>"
      ],
      "text/plain": [
       "<visualization: Visualization uuid: a6d54944-4f20-45f5-a742-088701e73629>"
      ]
     },
     "execution_count": 10,
     "metadata": {},
     "output_type": "execute_result"
    }
   ],
   "source": [
    "Visualization.load(f\"{data_dir_div}/core_metrics_results/bray_curtis-disease_status-significance.qzv\")"
   ]
  },
  {
   "cell_type": "code",
   "execution_count": 10,
   "id": "4529218a-22e7-49d1-b614-175f0f916a63",
   "metadata": {
    "tags": []
   },
   "outputs": [
    {
     "name": "stdout",
     "output_type": "stream",
     "text": [
      "\u001b[32mSaved Visualization to: data/beta_diversity/core_metrics_results/jaccard-disease_status-significance.qzv\u001b[0m\n",
      "\u001b[0m"
     ]
    }
   ],
   "source": [
    "! qiime diversity beta-group-significance \\\n",
    "    --i-distance-matrix $data_dir_div/core_metrics_results/jaccard_distance_matrix.qza \\\n",
    "    --m-metadata-file $data_dir/pundemic_metadata_subgroup_response_all.tsv \\\n",
    "    --m-metadata-column disease_status \\\n",
    "    --p-pairwise \\\n",
    "    --o-visualization $data_dir_div/core_metrics_results/jaccard-disease_status-significance.qzv"
   ]
  },
  {
   "cell_type": "code",
   "execution_count": 3,
   "id": "444674b1-4f3b-4d88-987b-f03b3d7dc4dc",
   "metadata": {
    "collapsed": true,
    "jupyter": {
     "outputs_hidden": true
    },
    "tags": []
   },
   "outputs": [
    {
     "data": {
      "text/html": [
       "<div><img onload=\"(function(div, url){\n",
       "if (typeof require !== 'undefined') {\n",
       "    var baseURL = require.toUrl('').split('/').slice(0, -2).join('/');\n",
       "} else {\n",
       "    var baseURL = JSON.parse(\n",
       "        document.getElementById('jupyter-config-data').innerHTML\n",
       "    ).baseUrl.slice(0, -1);\n",
       "}\n",
       "url = baseURL + url;\n",
       "fetch(url).then(function(res) {\n",
       "    if (res.status === 404) {\n",
       "        div.innerHTML = 'Install QIIME 2 Jupyter extension with:<br />' +\n",
       "                        '<code>jupyter serverextension enable --py qiime2' +\n",
       "                        ' --sys-prefix</code><br />then restart your server.' +\n",
       "                        '<br /><br />(Interactive output not available on ' +\n",
       "                        'static notebook viewer services like nbviewer.)';\n",
       "    } else if (res.status === 409) {\n",
       "        div.innerHTML = 'Visualization no longer in scope. Re-run this cell' +\n",
       "                        ' to see the visualization.';\n",
       "    } else if (res.ok) {\n",
       "        url = res.url;\n",
       "        div.innerHTML = '<iframe src=\\'' + url + '\\' style=\\'' +\n",
       "                        'width: 100%; height: 700px; border: 0;\\'>' +\n",
       "                        '</iframe><hr />Open in a: <a href=\\'' + url + '\\'' +\n",
       "                        ' target=\\'_blank\\'>new window</a>'\n",
       "    } else {\n",
       "        div.innerHTML = 'Something has gone wrong. Check notebook server for' +\n",
       "                        ' errors.';\n",
       "    }\n",
       "});\n",
       "})(this.parentElement, '/qiime2/redirect?location=/tmp/qiime2/jovyan/data/d2f2b95c-af27-4eee-b06e-ec610432a36d')\" src=\"data:image/gif;base64,R0lGODlhAQABAIAAAP///wAAACH5BAEAAAAALAAAAAABAAEAAAICRAEAOw==\" /></div>"
      ],
      "text/plain": [
       "<visualization: Visualization uuid: d2f2b95c-af27-4eee-b06e-ec610432a36d>"
      ]
     },
     "execution_count": 3,
     "metadata": {},
     "output_type": "execute_result"
    }
   ],
   "source": [
    "Visualization.load(f\"{data_dir_div}/core_metrics_results/jaccard-disease_status-significance.qzv\")"
   ]
  },
  {
   "cell_type": "markdown",
   "id": "b3e2e188-38be-43b9-ae23-515feaddd3ac",
   "metadata": {},
   "source": [
    "### Significance Analysis of Sexes"
   ]
  },
  {
   "cell_type": "code",
   "execution_count": 12,
   "id": "432017d0-4637-476a-bd5b-77ab15583e55",
   "metadata": {
    "tags": []
   },
   "outputs": [
    {
     "name": "stdout",
     "output_type": "stream",
     "text": [
      "\u001b[32mSaved Visualization to: data/beta_diversity/core_metrics_results/bray_curtis-sex-significance.qzv\u001b[0m\n",
      "\u001b[0m"
     ]
    }
   ],
   "source": [
    "! qiime diversity beta-group-significance \\\n",
    "    --i-distance-matrix $data_dir_div/core_metrics_results/bray_curtis_distance_matrix.qza \\\n",
    "    --m-metadata-file $data_dir/pundemic_metadata_subgroup_response_all.tsv \\\n",
    "    --m-metadata-column sex \\\n",
    "    --p-pairwise \\\n",
    "    --o-visualization $data_dir_div/core_metrics_results/bray_curtis-sex-significance.qzv"
   ]
  },
  {
   "cell_type": "code",
   "execution_count": 13,
   "id": "b50e8f48-36ce-41a8-abab-ed539115d2f8",
   "metadata": {
    "collapsed": true,
    "jupyter": {
     "outputs_hidden": true
    },
    "tags": []
   },
   "outputs": [
    {
     "data": {
      "text/html": [
       "<div><img onload=\"(function(div, url){\n",
       "if (typeof require !== 'undefined') {\n",
       "    var baseURL = require.toUrl('').split('/').slice(0, -2).join('/');\n",
       "} else {\n",
       "    var baseURL = JSON.parse(\n",
       "        document.getElementById('jupyter-config-data').innerHTML\n",
       "    ).baseUrl.slice(0, -1);\n",
       "}\n",
       "url = baseURL + url;\n",
       "fetch(url).then(function(res) {\n",
       "    if (res.status === 404) {\n",
       "        div.innerHTML = 'Install QIIME 2 Jupyter extension with:<br />' +\n",
       "                        '<code>jupyter serverextension enable --py qiime2' +\n",
       "                        ' --sys-prefix</code><br />then restart your server.' +\n",
       "                        '<br /><br />(Interactive output not available on ' +\n",
       "                        'static notebook viewer services like nbviewer.)';\n",
       "    } else if (res.status === 409) {\n",
       "        div.innerHTML = 'Visualization no longer in scope. Re-run this cell' +\n",
       "                        ' to see the visualization.';\n",
       "    } else if (res.ok) {\n",
       "        url = res.url;\n",
       "        div.innerHTML = '<iframe src=\\'' + url + '\\' style=\\'' +\n",
       "                        'width: 100%; height: 700px; border: 0;\\'>' +\n",
       "                        '</iframe><hr />Open in a: <a href=\\'' + url + '\\'' +\n",
       "                        ' target=\\'_blank\\'>new window</a>'\n",
       "    } else {\n",
       "        div.innerHTML = 'Something has gone wrong. Check notebook server for' +\n",
       "                        ' errors.';\n",
       "    }\n",
       "});\n",
       "})(this.parentElement, '/qiime2/redirect?location=/tmp/qiime2/jovyan/data/76a7dc89-d677-4929-837d-fba650910de8')\" src=\"data:image/gif;base64,R0lGODlhAQABAIAAAP///wAAACH5BAEAAAAALAAAAAABAAEAAAICRAEAOw==\" /></div>"
      ],
      "text/plain": [
       "<visualization: Visualization uuid: 76a7dc89-d677-4929-837d-fba650910de8>"
      ]
     },
     "execution_count": 13,
     "metadata": {},
     "output_type": "execute_result"
    }
   ],
   "source": [
    "Visualization.load(f\"{data_dir_div}/core_metrics_results/bray_curtis-sex-significance.qzv\")"
   ]
  },
  {
   "cell_type": "code",
   "execution_count": 14,
   "id": "87e3648e-ae41-4a70-83d3-215f81188992",
   "metadata": {
    "tags": []
   },
   "outputs": [
    {
     "name": "stdout",
     "output_type": "stream",
     "text": [
      "\u001b[32mSaved Visualization to: data/beta_diversity/core_metrics_results/jaccard-sex-significance.qzv\u001b[0m\n",
      "\u001b[0m"
     ]
    }
   ],
   "source": [
    "! qiime diversity beta-group-significance \\\n",
    "    --i-distance-matrix $data_dir_div/core_metrics_results/jaccard_distance_matrix.qza \\\n",
    "    --m-metadata-file $data_dir/pundemic_metadata_subgroup_response_all.tsv \\\n",
    "    --m-metadata-column sex \\\n",
    "    --p-pairwise \\\n",
    "    --o-visualization $data_dir_div/core_metrics_results/jaccard-sex-significance.qzv"
   ]
  },
  {
   "cell_type": "code",
   "execution_count": 11,
   "id": "41afc980-dd69-451b-9bc3-6b35f0070123",
   "metadata": {
    "tags": []
   },
   "outputs": [
    {
     "data": {
      "text/html": [
       "<div><img onload=\"(function(div, url){\n",
       "if (typeof require !== 'undefined') {\n",
       "    var baseURL = require.toUrl('').split('/').slice(0, -2).join('/');\n",
       "} else {\n",
       "    var baseURL = JSON.parse(\n",
       "        document.getElementById('jupyter-config-data').innerHTML\n",
       "    ).baseUrl.slice(0, -1);\n",
       "}\n",
       "url = baseURL + url;\n",
       "fetch(url).then(function(res) {\n",
       "    if (res.status === 404) {\n",
       "        div.innerHTML = 'Install QIIME 2 Jupyter extension with:<br />' +\n",
       "                        '<code>jupyter serverextension enable --py qiime2' +\n",
       "                        ' --sys-prefix</code><br />then restart your server.' +\n",
       "                        '<br /><br />(Interactive output not available on ' +\n",
       "                        'static notebook viewer services like nbviewer.)';\n",
       "    } else if (res.status === 409) {\n",
       "        div.innerHTML = 'Visualization no longer in scope. Re-run this cell' +\n",
       "                        ' to see the visualization.';\n",
       "    } else if (res.ok) {\n",
       "        url = res.url;\n",
       "        div.innerHTML = '<iframe src=\\'' + url + '\\' style=\\'' +\n",
       "                        'width: 100%; height: 700px; border: 0;\\'>' +\n",
       "                        '</iframe><hr />Open in a: <a href=\\'' + url + '\\'' +\n",
       "                        ' target=\\'_blank\\'>new window</a>'\n",
       "    } else {\n",
       "        div.innerHTML = 'Something has gone wrong. Check notebook server for' +\n",
       "                        ' errors.';\n",
       "    }\n",
       "});\n",
       "})(this.parentElement, '/qiime2/redirect?location=/tmp/qiime2/jovyan/data/3243f935-bbbc-4b93-8cf1-5acd5fe4a2dc')\" src=\"data:image/gif;base64,R0lGODlhAQABAIAAAP///wAAACH5BAEAAAAALAAAAAABAAEAAAICRAEAOw==\" /></div>"
      ],
      "text/plain": [
       "<visualization: Visualization uuid: 3243f935-bbbc-4b93-8cf1-5acd5fe4a2dc>"
      ]
     },
     "execution_count": 11,
     "metadata": {},
     "output_type": "execute_result"
    }
   ],
   "source": [
    "Visualization.load(f\"{data_dir_div}/core_metrics_results/jaccard-sex-significance.qzv\")"
   ]
  },
  {
   "cell_type": "markdown",
   "id": "476160ec-b21e-4fc6-bbfd-66c0c317af6b",
   "metadata": {},
   "source": [
    "### Significance Analysis of Subgroup Response"
   ]
  },
  {
   "cell_type": "code",
   "execution_count": 7,
   "id": "8d01fc41-e743-4993-b3db-3429ed285aa1",
   "metadata": {
    "tags": []
   },
   "outputs": [],
   "source": [
    "metadata = pd.read_csv(f\"{data_dir}/pundemic_metadata_subgroup_response_all.tsv\", sep='\\t')\n",
    "metadata_pt = metadata[metadata.time_point == \"post-treatment\"]\n",
    "metadata_pt.to_csv(f'{data_dir}/pundemic_metadata_subgroup_response_pt.tsv', sep='\\t', index=False)"
   ]
  },
  {
   "cell_type": "code",
   "execution_count": 8,
   "id": "510a163f-7756-4c78-8da1-230416387e58",
   "metadata": {
    "tags": []
   },
   "outputs": [
    {
     "data": {
      "text/html": [
       "<div>\n",
       "<style scoped>\n",
       "    .dataframe tbody tr th:only-of-type {\n",
       "        vertical-align: middle;\n",
       "    }\n",
       "\n",
       "    .dataframe tbody tr th {\n",
       "        vertical-align: top;\n",
       "    }\n",
       "\n",
       "    .dataframe thead th {\n",
       "        text-align: right;\n",
       "    }\n",
       "</style>\n",
       "<table border=\"1\" class=\"dataframe\">\n",
       "  <thead>\n",
       "    <tr style=\"text-align: right;\">\n",
       "      <th></th>\n",
       "      <th>id</th>\n",
       "      <th>patient_id</th>\n",
       "      <th>age</th>\n",
       "      <th>sex</th>\n",
       "      <th>ethnicity</th>\n",
       "      <th>continent</th>\n",
       "      <th>country</th>\n",
       "      <th>region</th>\n",
       "      <th>city</th>\n",
       "      <th>group</th>\n",
       "      <th>disease_subgroup</th>\n",
       "      <th>blinded_clinical_response</th>\n",
       "      <th>puns_per_hour_pre_treatment</th>\n",
       "      <th>puns_per_hour_post_treatment</th>\n",
       "      <th>time_point</th>\n",
       "      <th>subgroup_response</th>\n",
       "      <th>disease_status</th>\n",
       "    </tr>\n",
       "  </thead>\n",
       "  <tbody>\n",
       "    <tr>\n",
       "      <th>0</th>\n",
       "      <td>SRR10505051</td>\n",
       "      <td>1048</td>\n",
       "      <td>36.0</td>\n",
       "      <td>female</td>\n",
       "      <td>Caucasian</td>\n",
       "      <td>Europe</td>\n",
       "      <td>Switzerland</td>\n",
       "      <td>Zurich</td>\n",
       "      <td>Zurich</td>\n",
       "      <td>Puns</td>\n",
       "      <td>Placebo</td>\n",
       "      <td>NR</td>\n",
       "      <td>9.0</td>\n",
       "      <td>8.0</td>\n",
       "      <td>post-treatment</td>\n",
       "      <td>Placebo_NR</td>\n",
       "      <td>Puns</td>\n",
       "    </tr>\n",
       "    <tr>\n",
       "      <th>1</th>\n",
       "      <td>SRR10505052</td>\n",
       "      <td>1048</td>\n",
       "      <td>36.0</td>\n",
       "      <td>female</td>\n",
       "      <td>Caucasian</td>\n",
       "      <td>Europe</td>\n",
       "      <td>Switzerland</td>\n",
       "      <td>Zurich</td>\n",
       "      <td>Zurich</td>\n",
       "      <td>Puns</td>\n",
       "      <td>Placebo</td>\n",
       "      <td>NR</td>\n",
       "      <td>9.0</td>\n",
       "      <td>8.0</td>\n",
       "      <td>pre-treatment</td>\n",
       "      <td>Placebo_NR</td>\n",
       "      <td>Puns</td>\n",
       "    </tr>\n",
       "    <tr>\n",
       "      <th>2</th>\n",
       "      <td>SRR10505053</td>\n",
       "      <td>1045</td>\n",
       "      <td>29.0</td>\n",
       "      <td>male</td>\n",
       "      <td>Caucasian</td>\n",
       "      <td>Europe</td>\n",
       "      <td>Switzerland</td>\n",
       "      <td>Zurich</td>\n",
       "      <td>Zurich</td>\n",
       "      <td>Puns</td>\n",
       "      <td>Placebo</td>\n",
       "      <td>Res</td>\n",
       "      <td>6.0</td>\n",
       "      <td>0.0</td>\n",
       "      <td>pre-treatment</td>\n",
       "      <td>Placebo_Res</td>\n",
       "      <td>Puns</td>\n",
       "    </tr>\n",
       "    <tr>\n",
       "      <th>3</th>\n",
       "      <td>SRR10505054</td>\n",
       "      <td>1045</td>\n",
       "      <td>29.0</td>\n",
       "      <td>male</td>\n",
       "      <td>Caucasian</td>\n",
       "      <td>Europe</td>\n",
       "      <td>Switzerland</td>\n",
       "      <td>Zurich</td>\n",
       "      <td>Zurich</td>\n",
       "      <td>Puns</td>\n",
       "      <td>Placebo</td>\n",
       "      <td>Res</td>\n",
       "      <td>6.0</td>\n",
       "      <td>0.0</td>\n",
       "      <td>post-treatment</td>\n",
       "      <td>Placebo_Res</td>\n",
       "      <td>Healed</td>\n",
       "    </tr>\n",
       "    <tr>\n",
       "      <th>4</th>\n",
       "      <td>SRR10505055</td>\n",
       "      <td>1044</td>\n",
       "      <td>34.0</td>\n",
       "      <td>male</td>\n",
       "      <td>Indian Subcontinental</td>\n",
       "      <td>Europe</td>\n",
       "      <td>Switzerland</td>\n",
       "      <td>Zurich</td>\n",
       "      <td>Zurich</td>\n",
       "      <td>Puns</td>\n",
       "      <td>Placebo</td>\n",
       "      <td>NaN</td>\n",
       "      <td>4.0</td>\n",
       "      <td>NaN</td>\n",
       "      <td>pre-treatment</td>\n",
       "      <td>NaN</td>\n",
       "      <td>Puns</td>\n",
       "    </tr>\n",
       "  </tbody>\n",
       "</table>\n",
       "</div>"
      ],
      "text/plain": [
       "            id patient_id   age     sex              ethnicity continent  \\\n",
       "0  SRR10505051       1048  36.0  female              Caucasian    Europe   \n",
       "1  SRR10505052       1048  36.0  female              Caucasian    Europe   \n",
       "2  SRR10505053       1045  29.0    male              Caucasian    Europe   \n",
       "3  SRR10505054       1045  29.0    male              Caucasian    Europe   \n",
       "4  SRR10505055       1044  34.0    male  Indian Subcontinental    Europe   \n",
       "\n",
       "       country  region    city group disease_subgroup  \\\n",
       "0  Switzerland  Zurich  Zurich  Puns          Placebo   \n",
       "1  Switzerland  Zurich  Zurich  Puns          Placebo   \n",
       "2  Switzerland  Zurich  Zurich  Puns          Placebo   \n",
       "3  Switzerland  Zurich  Zurich  Puns          Placebo   \n",
       "4  Switzerland  Zurich  Zurich  Puns          Placebo   \n",
       "\n",
       "  blinded_clinical_response  puns_per_hour_pre_treatment  \\\n",
       "0                        NR                          9.0   \n",
       "1                        NR                          9.0   \n",
       "2                       Res                          6.0   \n",
       "3                       Res                          6.0   \n",
       "4                       NaN                          4.0   \n",
       "\n",
       "   puns_per_hour_post_treatment      time_point subgroup_response  \\\n",
       "0                           8.0  post-treatment        Placebo_NR   \n",
       "1                           8.0   pre-treatment        Placebo_NR   \n",
       "2                           0.0   pre-treatment       Placebo_Res   \n",
       "3                           0.0  post-treatment       Placebo_Res   \n",
       "4                           NaN   pre-treatment               NaN   \n",
       "\n",
       "  disease_status  \n",
       "0           Puns  \n",
       "1           Puns  \n",
       "2           Puns  \n",
       "3         Healed  \n",
       "4           Puns  "
      ]
     },
     "execution_count": 8,
     "metadata": {},
     "output_type": "execute_result"
    }
   ],
   "source": [
    "metadata.head()"
   ]
  },
  {
   "cell_type": "code",
   "execution_count": 19,
   "id": "f428af64-bd9d-49e9-9c9d-33f49ce3935e",
   "metadata": {
    "tags": []
   },
   "outputs": [
    {
     "name": "stdout",
     "output_type": "stream",
     "text": [
      "\u001b[32mSaved FeatureTable[Frequency] to: data/beta_diversity/table-filtered_post-treatment.qza\u001b[0m\n",
      "\u001b[0m"
     ]
    }
   ],
   "source": [
    "! qiime feature-table filter-samples \\\n",
    "    --i-table $data_dir/closed_reference_cluster/table-filtered.qza \\\n",
    "    --m-metadata-file $data_dir/pundemic_metadata_subgroup_response_all.tsv \\\n",
    "    --p-where \"[time_point]='post-treatment'\" \\\n",
    "    --o-filtered-table $data_dir_div/table-filtered_post-treatment.qza"
   ]
  },
  {
   "cell_type": "code",
   "execution_count": 20,
   "id": "aeafd0f6-f815-44f7-8843-e55c9fdd4c8d",
   "metadata": {
    "tags": []
   },
   "outputs": [
    {
     "name": "stdout",
     "output_type": "stream",
     "text": [
      "\u001b[32mSaved FeatureTable[Frequency] to: data/beta_diversity/core_metrics_results_pt/rarefied_table.qza\u001b[0m\n",
      "\u001b[32mSaved SampleData[AlphaDiversity] to: data/beta_diversity/core_metrics_results_pt/observed_features_vector.qza\u001b[0m\n",
      "\u001b[32mSaved SampleData[AlphaDiversity] to: data/beta_diversity/core_metrics_results_pt/shannon_vector.qza\u001b[0m\n",
      "\u001b[32mSaved SampleData[AlphaDiversity] to: data/beta_diversity/core_metrics_results_pt/evenness_vector.qza\u001b[0m\n",
      "\u001b[32mSaved DistanceMatrix to: data/beta_diversity/core_metrics_results_pt/jaccard_distance_matrix.qza\u001b[0m\n",
      "\u001b[32mSaved DistanceMatrix to: data/beta_diversity/core_metrics_results_pt/bray_curtis_distance_matrix.qza\u001b[0m\n",
      "\u001b[32mSaved PCoAResults to: data/beta_diversity/core_metrics_results_pt/jaccard_pcoa_results.qza\u001b[0m\n",
      "\u001b[32mSaved PCoAResults to: data/beta_diversity/core_metrics_results_pt/bray_curtis_pcoa_results.qza\u001b[0m\n",
      "\u001b[32mSaved Visualization to: data/beta_diversity/core_metrics_results_pt/jaccard_emperor.qzv\u001b[0m\n",
      "\u001b[32mSaved Visualization to: data/beta_diversity/core_metrics_results_pt/bray_curtis_emperor.qzv\u001b[0m\n",
      "\u001b[0m"
     ]
    }
   ],
   "source": [
    "! qiime diversity core-metrics \\\n",
    "  --i-table $data_dir_div/table-filtered_post-treatment.qza \\\n",
    "  --m-metadata-file $data_dir/pundemic_metadata_subgroup_response_all.tsv \\\n",
    "  --p-sampling-depth 3000 \\\n",
    "  --p-n-jobs 8 \\\n",
    "  --output-dir $data_dir_div/core_metrics_results_pt"
   ]
  },
  {
   "cell_type": "code",
   "execution_count": 21,
   "id": "db708a1f-8bad-45dd-b83f-0a63ff0ec0be",
   "metadata": {
    "tags": []
   },
   "outputs": [
    {
     "name": "stdout",
     "output_type": "stream",
     "text": [
      "\u001b[32mSaved Visualization to: data/beta_diversity/core_metrics_results_pt/bray_curtis-subgroup_response-significance.qzv\u001b[0m\n",
      "\u001b[0m"
     ]
    }
   ],
   "source": [
    "! qiime diversity beta-group-significance \\\n",
    "    --i-distance-matrix $data_dir_div/core_metrics_results_pt/bray_curtis_distance_matrix.qza \\\n",
    "    --m-metadata-file $data_dir/pundemic_metadata_subgroup_response_pt.tsv \\\n",
    "    --m-metadata-column subgroup_response \\\n",
    "    --p-pairwise \\\n",
    "    --o-visualization $data_dir_div/core_metrics_results_pt/bray_curtis-subgroup_response-significance.qzv"
   ]
  },
  {
   "cell_type": "code",
   "execution_count": 22,
   "id": "015d2121-0d81-480a-b7cf-db58194cee37",
   "metadata": {
    "tags": []
   },
   "outputs": [
    {
     "data": {
      "text/html": [
       "<div><img onload=\"(function(div, url){\n",
       "if (typeof require !== 'undefined') {\n",
       "    var baseURL = require.toUrl('').split('/').slice(0, -2).join('/');\n",
       "} else {\n",
       "    var baseURL = JSON.parse(\n",
       "        document.getElementById('jupyter-config-data').innerHTML\n",
       "    ).baseUrl.slice(0, -1);\n",
       "}\n",
       "url = baseURL + url;\n",
       "fetch(url).then(function(res) {\n",
       "    if (res.status === 404) {\n",
       "        div.innerHTML = 'Install QIIME 2 Jupyter extension with:<br />' +\n",
       "                        '<code>jupyter serverextension enable --py qiime2' +\n",
       "                        ' --sys-prefix</code><br />then restart your server.' +\n",
       "                        '<br /><br />(Interactive output not available on ' +\n",
       "                        'static notebook viewer services like nbviewer.)';\n",
       "    } else if (res.status === 409) {\n",
       "        div.innerHTML = 'Visualization no longer in scope. Re-run this cell' +\n",
       "                        ' to see the visualization.';\n",
       "    } else if (res.ok) {\n",
       "        url = res.url;\n",
       "        div.innerHTML = '<iframe src=\\'' + url + '\\' style=\\'' +\n",
       "                        'width: 100%; height: 700px; border: 0;\\'>' +\n",
       "                        '</iframe><hr />Open in a: <a href=\\'' + url + '\\'' +\n",
       "                        ' target=\\'_blank\\'>new window</a>'\n",
       "    } else {\n",
       "        div.innerHTML = 'Something has gone wrong. Check notebook server for' +\n",
       "                        ' errors.';\n",
       "    }\n",
       "});\n",
       "})(this.parentElement, '/qiime2/redirect?location=/tmp/qiime2/jovyan/data/e0ff4a84-622d-4d28-8f20-2cd88a5322d3')\" src=\"data:image/gif;base64,R0lGODlhAQABAIAAAP///wAAACH5BAEAAAAALAAAAAABAAEAAAICRAEAOw==\" /></div>"
      ],
      "text/plain": [
       "<visualization: Visualization uuid: e0ff4a84-622d-4d28-8f20-2cd88a5322d3>"
      ]
     },
     "execution_count": 22,
     "metadata": {},
     "output_type": "execute_result"
    }
   ],
   "source": [
    "Visualization.load(f\"{data_dir_div}/core_metrics_results_pt/bray_curtis-subgroup_response-significance.qzv\")"
   ]
  },
  {
   "cell_type": "code",
   "execution_count": 23,
   "id": "1c9d39f7-90c5-4d2d-a166-95fe7319fc89",
   "metadata": {
    "tags": []
   },
   "outputs": [
    {
     "name": "stdout",
     "output_type": "stream",
     "text": [
      "\u001b[32mSaved Visualization to: data/beta_diversity/core_metrics_results_pt/jaccard-subgroup_response-significance.qzv\u001b[0m\n",
      "\u001b[0m"
     ]
    }
   ],
   "source": [
    "! qiime diversity beta-group-significance \\\n",
    "    --i-distance-matrix $data_dir_div/core_metrics_results_pt/jaccard_distance_matrix.qza \\\n",
    "    --m-metadata-file $data_dir/pundemic_metadata_subgroup_response_pt.tsv \\\n",
    "    --m-metadata-column subgroup_response \\\n",
    "    --p-pairwise \\\n",
    "    --o-visualization $data_dir_div/core_metrics_results_pt/jaccard-subgroup_response-significance.qzv"
   ]
  },
  {
   "cell_type": "code",
   "execution_count": 12,
   "id": "7c59f391-db71-433f-8273-ec26e84443e8",
   "metadata": {
    "tags": []
   },
   "outputs": [
    {
     "data": {
      "text/html": [
       "<div><img onload=\"(function(div, url){\n",
       "if (typeof require !== 'undefined') {\n",
       "    var baseURL = require.toUrl('').split('/').slice(0, -2).join('/');\n",
       "} else {\n",
       "    var baseURL = JSON.parse(\n",
       "        document.getElementById('jupyter-config-data').innerHTML\n",
       "    ).baseUrl.slice(0, -1);\n",
       "}\n",
       "url = baseURL + url;\n",
       "fetch(url).then(function(res) {\n",
       "    if (res.status === 404) {\n",
       "        div.innerHTML = 'Install QIIME 2 Jupyter extension with:<br />' +\n",
       "                        '<code>jupyter serverextension enable --py qiime2' +\n",
       "                        ' --sys-prefix</code><br />then restart your server.' +\n",
       "                        '<br /><br />(Interactive output not available on ' +\n",
       "                        'static notebook viewer services like nbviewer.)';\n",
       "    } else if (res.status === 409) {\n",
       "        div.innerHTML = 'Visualization no longer in scope. Re-run this cell' +\n",
       "                        ' to see the visualization.';\n",
       "    } else if (res.ok) {\n",
       "        url = res.url;\n",
       "        div.innerHTML = '<iframe src=\\'' + url + '\\' style=\\'' +\n",
       "                        'width: 100%; height: 700px; border: 0;\\'>' +\n",
       "                        '</iframe><hr />Open in a: <a href=\\'' + url + '\\'' +\n",
       "                        ' target=\\'_blank\\'>new window</a>'\n",
       "    } else {\n",
       "        div.innerHTML = 'Something has gone wrong. Check notebook server for' +\n",
       "                        ' errors.';\n",
       "    }\n",
       "});\n",
       "})(this.parentElement, '/qiime2/redirect?location=/tmp/qiime2/jovyan/data/55fb6fc7-5c53-4107-bafc-31e9f6ac88b3')\" src=\"data:image/gif;base64,R0lGODlhAQABAIAAAP///wAAACH5BAEAAAAALAAAAAABAAEAAAICRAEAOw==\" /></div>"
      ],
      "text/plain": [
       "<visualization: Visualization uuid: 55fb6fc7-5c53-4107-bafc-31e9f6ac88b3>"
      ]
     },
     "execution_count": 12,
     "metadata": {},
     "output_type": "execute_result"
    }
   ],
   "source": [
    "Visualization.load(f\"{data_dir_div}/core_metrics_results_pt/jaccard-subgroup_response-significance.qzv\")"
   ]
  },
  {
   "cell_type": "markdown",
   "id": "37d062ed-7f6e-4250-84f6-6be3307aa3a2",
   "metadata": {},
   "source": [
    "### Significance Analysis of Ethnicity"
   ]
  },
  {
   "cell_type": "code",
   "execution_count": 46,
   "id": "d163ce34-5ee3-4d8d-bc50-6fa28104a410",
   "metadata": {
    "tags": []
   },
   "outputs": [],
   "source": [
    "metadata = pd.read_csv(f\"{data_dir}/pundemic_metadata_subgroup_response_all.tsv\", sep = \"\\t\")\n",
    "metadata.ethnicity = metadata.ethnicity.replace('Arabic/Middle Eastern', 'Arabic_Middle Eastern')\n",
    "metadata.to_csv(f'{data_dir}/pundemic_metadata_subgroup_response_all.tsv', sep='\\t', index=False)"
   ]
  },
  {
   "cell_type": "code",
   "execution_count": 5,
   "id": "44fbb475-cb1b-45d0-8818-1e7611981fc7",
   "metadata": {
    "tags": []
   },
   "outputs": [
    {
     "name": "stdout",
     "output_type": "stream",
     "text": [
      "\u001b[32mSaved Visualization to: data/beta_diversity/core_metrics_results/bray_curtis-ethnicity-significance.qzv\u001b[0m\n",
      "\u001b[0m"
     ]
    }
   ],
   "source": [
    "! qiime diversity beta-group-significance \\\n",
    "    --i-distance-matrix $data_dir_div/core_metrics_results/bray_curtis_distance_matrix.qza \\\n",
    "    --m-metadata-file $data_dir/pundemic_metadata_subgroup_response_all.tsv \\\n",
    "    --m-metadata-column ethnicity \\\n",
    "    --p-pairwise \\\n",
    "    --o-visualization $data_dir_div/core_metrics_results/bray_curtis-ethnicity-significance.qzv"
   ]
  },
  {
   "cell_type": "code",
   "execution_count": 6,
   "id": "52e2a13e-b51c-4279-8371-7c09d6711189",
   "metadata": {
    "collapsed": true,
    "jupyter": {
     "outputs_hidden": true
    },
    "tags": []
   },
   "outputs": [
    {
     "data": {
      "text/html": [
       "<div><img onload=\"(function(div, url){\n",
       "if (typeof require !== 'undefined') {\n",
       "    var baseURL = require.toUrl('').split('/').slice(0, -2).join('/');\n",
       "} else {\n",
       "    var baseURL = JSON.parse(\n",
       "        document.getElementById('jupyter-config-data').innerHTML\n",
       "    ).baseUrl.slice(0, -1);\n",
       "}\n",
       "url = baseURL + url;\n",
       "fetch(url).then(function(res) {\n",
       "    if (res.status === 404) {\n",
       "        div.innerHTML = 'Install QIIME 2 Jupyter extension with:<br />' +\n",
       "                        '<code>jupyter serverextension enable --py qiime2' +\n",
       "                        ' --sys-prefix</code><br />then restart your server.' +\n",
       "                        '<br /><br />(Interactive output not available on ' +\n",
       "                        'static notebook viewer services like nbviewer.)';\n",
       "    } else if (res.status === 409) {\n",
       "        div.innerHTML = 'Visualization no longer in scope. Re-run this cell' +\n",
       "                        ' to see the visualization.';\n",
       "    } else if (res.ok) {\n",
       "        url = res.url;\n",
       "        div.innerHTML = '<iframe src=\\'' + url + '\\' style=\\'' +\n",
       "                        'width: 100%; height: 700px; border: 0;\\'>' +\n",
       "                        '</iframe><hr />Open in a: <a href=\\'' + url + '\\'' +\n",
       "                        ' target=\\'_blank\\'>new window</a>'\n",
       "    } else {\n",
       "        div.innerHTML = 'Something has gone wrong. Check notebook server for' +\n",
       "                        ' errors.';\n",
       "    }\n",
       "});\n",
       "})(this.parentElement, '/qiime2/redirect?location=/tmp/qiime2/jovyan/data/f9aa6275-a645-4857-b414-bdde05109f2a')\" src=\"data:image/gif;base64,R0lGODlhAQABAIAAAP///wAAACH5BAEAAAAALAAAAAABAAEAAAICRAEAOw==\" /></div>"
      ],
      "text/plain": [
       "<visualization: Visualization uuid: f9aa6275-a645-4857-b414-bdde05109f2a>"
      ]
     },
     "execution_count": 6,
     "metadata": {},
     "output_type": "execute_result"
    }
   ],
   "source": [
    "Visualization.load(f\"{data_dir_div}/core_metrics_results/bray_curtis-ethnicity-significance.qzv\")"
   ]
  },
  {
   "cell_type": "code",
   "execution_count": 7,
   "id": "fedb9a4d-c3f5-4c30-ade5-4d42b928c39f",
   "metadata": {
    "tags": []
   },
   "outputs": [
    {
     "name": "stdout",
     "output_type": "stream",
     "text": [
      "\u001b[32mSaved Visualization to: data/beta_diversity/core_metrics_results/jaccard-ethnicity-significance.qzv\u001b[0m\n",
      "\u001b[0m"
     ]
    }
   ],
   "source": [
    "! qiime diversity beta-group-significance \\\n",
    "    --i-distance-matrix $data_dir_div/core_metrics_results/jaccard_distance_matrix.qza \\\n",
    "    --m-metadata-file $data_dir/pundemic_metadata_subgroup_response_all.tsv \\\n",
    "    --m-metadata-column ethnicity \\\n",
    "    --p-pairwise \\\n",
    "    --o-visualization $data_dir_div/core_metrics_results/jaccard-ethnicity-significance.qzv"
   ]
  },
  {
   "cell_type": "code",
   "execution_count": 13,
   "id": "ef3919b2-4450-4193-8bd3-05459ec6af77",
   "metadata": {
    "tags": []
   },
   "outputs": [
    {
     "data": {
      "text/html": [
       "<div><img onload=\"(function(div, url){\n",
       "if (typeof require !== 'undefined') {\n",
       "    var baseURL = require.toUrl('').split('/').slice(0, -2).join('/');\n",
       "} else {\n",
       "    var baseURL = JSON.parse(\n",
       "        document.getElementById('jupyter-config-data').innerHTML\n",
       "    ).baseUrl.slice(0, -1);\n",
       "}\n",
       "url = baseURL + url;\n",
       "fetch(url).then(function(res) {\n",
       "    if (res.status === 404) {\n",
       "        div.innerHTML = 'Install QIIME 2 Jupyter extension with:<br />' +\n",
       "                        '<code>jupyter serverextension enable --py qiime2' +\n",
       "                        ' --sys-prefix</code><br />then restart your server.' +\n",
       "                        '<br /><br />(Interactive output not available on ' +\n",
       "                        'static notebook viewer services like nbviewer.)';\n",
       "    } else if (res.status === 409) {\n",
       "        div.innerHTML = 'Visualization no longer in scope. Re-run this cell' +\n",
       "                        ' to see the visualization.';\n",
       "    } else if (res.ok) {\n",
       "        url = res.url;\n",
       "        div.innerHTML = '<iframe src=\\'' + url + '\\' style=\\'' +\n",
       "                        'width: 100%; height: 700px; border: 0;\\'>' +\n",
       "                        '</iframe><hr />Open in a: <a href=\\'' + url + '\\'' +\n",
       "                        ' target=\\'_blank\\'>new window</a>'\n",
       "    } else {\n",
       "        div.innerHTML = 'Something has gone wrong. Check notebook server for' +\n",
       "                        ' errors.';\n",
       "    }\n",
       "});\n",
       "})(this.parentElement, '/qiime2/redirect?location=/tmp/qiime2/jovyan/data/3fa84c86-6754-4de0-8871-791f4762ae61')\" src=\"data:image/gif;base64,R0lGODlhAQABAIAAAP///wAAACH5BAEAAAAALAAAAAABAAEAAAICRAEAOw==\" /></div>"
      ],
      "text/plain": [
       "<visualization: Visualization uuid: 3fa84c86-6754-4de0-8871-791f4762ae61>"
      ]
     },
     "execution_count": 13,
     "metadata": {},
     "output_type": "execute_result"
    }
   ],
   "source": [
    "Visualization.load(f\"{data_dir_div}/core_metrics_results/jaccard-ethnicity-significance.qzv\")"
   ]
  },
  {
   "cell_type": "markdown",
   "id": "a2cb2c0b-ce2b-4c8a-968a-d52698730a64",
   "metadata": {},
   "source": [
    "There is no bias for ethnicity and sex in the data."
   ]
  },
  {
   "cell_type": "markdown",
   "id": "188d4f28-7ad4-49ff-a046-4ec048f87bd6",
   "metadata": {},
   "source": [
    "## Visualizing PCoA Data"
   ]
  },
  {
   "cell_type": "code",
   "execution_count": 4,
   "id": "6621bbe2-6e42-48ae-a0a8-8bb83b3809d3",
   "metadata": {
    "tags": []
   },
   "outputs": [],
   "source": [
    "pcs = q2.Artifact.load(os.path.join(data_dir_div, 'core_metrics_results/bray_curtis_pcoa_results.qza'))\n",
    "pcs = pcs.view(OrdinationResults)\n",
    "\n",
    "pcs_data = pcs.samples.iloc[:,:2]\n",
    "\n",
    "pcs_data.columns = ['Axis 1', 'Axis 2']"
   ]
  },
  {
   "cell_type": "code",
   "execution_count": 5,
   "id": "f059bcdb-a122-46d6-a363-d009e3bfe308",
   "metadata": {
    "tags": []
   },
   "outputs": [
    {
     "data": {
      "text/html": [
       "<div>\n",
       "<style scoped>\n",
       "    .dataframe tbody tr th:only-of-type {\n",
       "        vertical-align: middle;\n",
       "    }\n",
       "\n",
       "    .dataframe tbody tr th {\n",
       "        vertical-align: top;\n",
       "    }\n",
       "\n",
       "    .dataframe thead th {\n",
       "        text-align: right;\n",
       "    }\n",
       "</style>\n",
       "<table border=\"1\" class=\"dataframe\">\n",
       "  <thead>\n",
       "    <tr style=\"text-align: right;\">\n",
       "      <th></th>\n",
       "      <th>Axis 1</th>\n",
       "      <th>Axis 2</th>\n",
       "    </tr>\n",
       "  </thead>\n",
       "  <tbody>\n",
       "    <tr>\n",
       "      <th>SRR10505051</th>\n",
       "      <td>-0.131482</td>\n",
       "      <td>0.377262</td>\n",
       "    </tr>\n",
       "    <tr>\n",
       "      <th>SRR10505052</th>\n",
       "      <td>0.424119</td>\n",
       "      <td>0.155639</td>\n",
       "    </tr>\n",
       "    <tr>\n",
       "      <th>SRR10505053</th>\n",
       "      <td>-0.101891</td>\n",
       "      <td>-0.210574</td>\n",
       "    </tr>\n",
       "    <tr>\n",
       "      <th>SRR10505056</th>\n",
       "      <td>-0.066227</td>\n",
       "      <td>-0.197125</td>\n",
       "    </tr>\n",
       "    <tr>\n",
       "      <th>SRR10505057</th>\n",
       "      <td>-0.127295</td>\n",
       "      <td>-0.306091</td>\n",
       "    </tr>\n",
       "  </tbody>\n",
       "</table>\n",
       "</div>"
      ],
      "text/plain": [
       "               Axis 1    Axis 2\n",
       "SRR10505051 -0.131482  0.377262\n",
       "SRR10505052  0.424119  0.155639\n",
       "SRR10505053 -0.101891 -0.210574\n",
       "SRR10505056 -0.066227 -0.197125\n",
       "SRR10505057 -0.127295 -0.306091"
      ]
     },
     "execution_count": 5,
     "metadata": {},
     "output_type": "execute_result"
    }
   ],
   "source": [
    "pcs_data.head()"
   ]
  },
  {
   "cell_type": "code",
   "execution_count": 9,
   "id": "5e940eef-a4f2-49b3-bf60-5a26fc1663e8",
   "metadata": {
    "tags": []
   },
   "outputs": [],
   "source": [
    "metadata = metadata.set_index('id')"
   ]
  },
  {
   "cell_type": "code",
   "execution_count": 10,
   "id": "d62c1cf9-aaf3-4ff0-9662-09489c41ee1e",
   "metadata": {
    "tags": []
   },
   "outputs": [
    {
     "data": {
      "text/html": [
       "<div>\n",
       "<style scoped>\n",
       "    .dataframe tbody tr th:only-of-type {\n",
       "        vertical-align: middle;\n",
       "    }\n",
       "\n",
       "    .dataframe tbody tr th {\n",
       "        vertical-align: top;\n",
       "    }\n",
       "\n",
       "    .dataframe thead th {\n",
       "        text-align: right;\n",
       "    }\n",
       "</style>\n",
       "<table border=\"1\" class=\"dataframe\">\n",
       "  <thead>\n",
       "    <tr style=\"text-align: right;\">\n",
       "      <th></th>\n",
       "      <th>Axis 1</th>\n",
       "      <th>Axis 2</th>\n",
       "      <th>patient_id</th>\n",
       "      <th>age</th>\n",
       "      <th>sex</th>\n",
       "      <th>ethnicity</th>\n",
       "      <th>continent</th>\n",
       "      <th>country</th>\n",
       "      <th>region</th>\n",
       "      <th>city</th>\n",
       "      <th>group</th>\n",
       "      <th>disease_subgroup</th>\n",
       "      <th>blinded_clinical_response</th>\n",
       "      <th>puns_per_hour_pre_treatment</th>\n",
       "      <th>puns_per_hour_post_treatment</th>\n",
       "      <th>time_point</th>\n",
       "      <th>subgroup_response</th>\n",
       "      <th>disease_status</th>\n",
       "    </tr>\n",
       "  </thead>\n",
       "  <tbody>\n",
       "    <tr>\n",
       "      <th>SRR10505051</th>\n",
       "      <td>-0.131482</td>\n",
       "      <td>0.377262</td>\n",
       "      <td>1048</td>\n",
       "      <td>36.0</td>\n",
       "      <td>female</td>\n",
       "      <td>Caucasian</td>\n",
       "      <td>Europe</td>\n",
       "      <td>Switzerland</td>\n",
       "      <td>Zurich</td>\n",
       "      <td>Zurich</td>\n",
       "      <td>Puns</td>\n",
       "      <td>Placebo</td>\n",
       "      <td>NR</td>\n",
       "      <td>9.0</td>\n",
       "      <td>8.0</td>\n",
       "      <td>post-treatment</td>\n",
       "      <td>Placebo_NR</td>\n",
       "      <td>Puns</td>\n",
       "    </tr>\n",
       "    <tr>\n",
       "      <th>SRR10505052</th>\n",
       "      <td>0.424119</td>\n",
       "      <td>0.155639</td>\n",
       "      <td>1048</td>\n",
       "      <td>36.0</td>\n",
       "      <td>female</td>\n",
       "      <td>Caucasian</td>\n",
       "      <td>Europe</td>\n",
       "      <td>Switzerland</td>\n",
       "      <td>Zurich</td>\n",
       "      <td>Zurich</td>\n",
       "      <td>Puns</td>\n",
       "      <td>Placebo</td>\n",
       "      <td>NR</td>\n",
       "      <td>9.0</td>\n",
       "      <td>8.0</td>\n",
       "      <td>pre-treatment</td>\n",
       "      <td>Placebo_NR</td>\n",
       "      <td>Puns</td>\n",
       "    </tr>\n",
       "    <tr>\n",
       "      <th>SRR10505053</th>\n",
       "      <td>-0.101891</td>\n",
       "      <td>-0.210574</td>\n",
       "      <td>1045</td>\n",
       "      <td>29.0</td>\n",
       "      <td>male</td>\n",
       "      <td>Caucasian</td>\n",
       "      <td>Europe</td>\n",
       "      <td>Switzerland</td>\n",
       "      <td>Zurich</td>\n",
       "      <td>Zurich</td>\n",
       "      <td>Puns</td>\n",
       "      <td>Placebo</td>\n",
       "      <td>Res</td>\n",
       "      <td>6.0</td>\n",
       "      <td>0.0</td>\n",
       "      <td>pre-treatment</td>\n",
       "      <td>Placebo_Res</td>\n",
       "      <td>Puns</td>\n",
       "    </tr>\n",
       "    <tr>\n",
       "      <th>SRR10505056</th>\n",
       "      <td>-0.066227</td>\n",
       "      <td>-0.197125</td>\n",
       "      <td>1044</td>\n",
       "      <td>34.0</td>\n",
       "      <td>male</td>\n",
       "      <td>Indian Subcontinental</td>\n",
       "      <td>Europe</td>\n",
       "      <td>Switzerland</td>\n",
       "      <td>Zurich</td>\n",
       "      <td>Zurich</td>\n",
       "      <td>Puns</td>\n",
       "      <td>Placebo</td>\n",
       "      <td>NaN</td>\n",
       "      <td>4.0</td>\n",
       "      <td>NaN</td>\n",
       "      <td>post-treatment</td>\n",
       "      <td>NaN</td>\n",
       "      <td>Puns</td>\n",
       "    </tr>\n",
       "    <tr>\n",
       "      <th>SRR10505057</th>\n",
       "      <td>-0.127295</td>\n",
       "      <td>-0.306091</td>\n",
       "      <td>1043</td>\n",
       "      <td>35.0</td>\n",
       "      <td>female</td>\n",
       "      <td>Caucasian</td>\n",
       "      <td>Europe</td>\n",
       "      <td>Switzerland</td>\n",
       "      <td>Zurich</td>\n",
       "      <td>Zurich</td>\n",
       "      <td>Puns</td>\n",
       "      <td>FMT</td>\n",
       "      <td>NR</td>\n",
       "      <td>9.0</td>\n",
       "      <td>6.0</td>\n",
       "      <td>post-treatment</td>\n",
       "      <td>FMT_NR</td>\n",
       "      <td>Puns</td>\n",
       "    </tr>\n",
       "  </tbody>\n",
       "</table>\n",
       "</div>"
      ],
      "text/plain": [
       "               Axis 1    Axis 2 patient_id   age     sex  \\\n",
       "SRR10505051 -0.131482  0.377262       1048  36.0  female   \n",
       "SRR10505052  0.424119  0.155639       1048  36.0  female   \n",
       "SRR10505053 -0.101891 -0.210574       1045  29.0    male   \n",
       "SRR10505056 -0.066227 -0.197125       1044  34.0    male   \n",
       "SRR10505057 -0.127295 -0.306091       1043  35.0  female   \n",
       "\n",
       "                         ethnicity continent      country  region    city  \\\n",
       "SRR10505051              Caucasian    Europe  Switzerland  Zurich  Zurich   \n",
       "SRR10505052              Caucasian    Europe  Switzerland  Zurich  Zurich   \n",
       "SRR10505053              Caucasian    Europe  Switzerland  Zurich  Zurich   \n",
       "SRR10505056  Indian Subcontinental    Europe  Switzerland  Zurich  Zurich   \n",
       "SRR10505057              Caucasian    Europe  Switzerland  Zurich  Zurich   \n",
       "\n",
       "            group disease_subgroup blinded_clinical_response  \\\n",
       "SRR10505051  Puns          Placebo                        NR   \n",
       "SRR10505052  Puns          Placebo                        NR   \n",
       "SRR10505053  Puns          Placebo                       Res   \n",
       "SRR10505056  Puns          Placebo                       NaN   \n",
       "SRR10505057  Puns              FMT                        NR   \n",
       "\n",
       "             puns_per_hour_pre_treatment  puns_per_hour_post_treatment  \\\n",
       "SRR10505051                          9.0                           8.0   \n",
       "SRR10505052                          9.0                           8.0   \n",
       "SRR10505053                          6.0                           0.0   \n",
       "SRR10505056                          4.0                           NaN   \n",
       "SRR10505057                          9.0                           6.0   \n",
       "\n",
       "                 time_point subgroup_response disease_status  \n",
       "SRR10505051  post-treatment        Placebo_NR           Puns  \n",
       "SRR10505052   pre-treatment        Placebo_NR           Puns  \n",
       "SRR10505053   pre-treatment       Placebo_Res           Puns  \n",
       "SRR10505056  post-treatment               NaN           Puns  \n",
       "SRR10505057  post-treatment            FMT_NR           Puns  "
      ]
     },
     "execution_count": 10,
     "metadata": {},
     "output_type": "execute_result"
    }
   ],
   "source": [
    "pcs_data_with_md = pd.concat([pcs_data, metadata], axis=1, join='inner')\n",
    "pcs_data_with_md.head()"
   ]
  },
  {
   "cell_type": "code",
   "execution_count": 17,
   "id": "0af692ad-3d41-49ea-95b7-9b226f9fc344",
   "metadata": {
    "tags": []
   },
   "outputs": [
    {
     "data": {
      "image/png": "[encoded data removed]",
      "text/plain": [
       "<Figure size 1800x600 with 3 Axes>"
      ]
     },
     "metadata": {},
     "output_type": "display_data"
    }
   ],
   "source": [
    "fig, axes = plt.subplots(1, 3, figsize=(18, 6), sharex=True, sharey=True)\n",
    "\n",
    "# Scatterplot for disease_status\n",
    "sns.scatterplot(data=pcs_data_with_md,\n",
    "                x='Axis 1',\n",
    "                y='Axis 2',\n",
    "                hue='disease_status',\n",
    "                palette='viridis',\n",
    "                ax=axes[0])\n",
    "axes[0].set_title(\"Disease Status\")\n",
    "axes[0].set_xlabel(\"PCo1\")\n",
    "axes[0].set_ylabel(\"PCo2\")\n",
    "\n",
    "# Scatterplot for sex\n",
    "sns.scatterplot(data=pcs_data_with_md,\n",
    "                x='Axis 1',\n",
    "                y='Axis 2',\n",
    "                hue='sex',\n",
    "                palette='viridis',\n",
    "                ax=axes[1])\n",
    "axes[1].set_title(\"Sex\")\n",
    "axes[1].set_xlabel(\"PCo1\")\n",
    "\n",
    "# Scatterplot for ethnicity\n",
    "sns.scatterplot(data=pcs_data_with_md,\n",
    "                x='Axis 1',\n",
    "                y='Axis 2',\n",
    "                hue='ethnicity',\n",
    "                palette='viridis',\n",
    "                ax=axes[2])\n",
    "axes[2].set_title(\"Ethnicity\")\n",
    "axes[2].set_xlabel(\"PCo1\")\n",
    "\n",
    "# Adjust layout\n",
    "plt.tight_layout()\n",
    "plt.show()\n"
   ]
  },
  {
   "cell_type": "code",
   "execution_count": 18,
   "id": "9e4a1e2c-06d5-4cd3-a90f-e0d7c87aeb10",
   "metadata": {
    "tags": []
   },
   "outputs": [],
   "source": [
    "pcs_ji = q2.Artifact.load(os.path.join(data_dir_div, 'core_metrics_results/jaccard_pcoa_results.qza'))\n",
    "pcs_ji = pcs_ji.view(OrdinationResults)\n",
    "\n",
    "pcs_data_ji = pcs_ji.samples.iloc[:,:2]\n",
    "\n",
    "pcs_data_ji.columns = ['Axis 1', 'Axis 2']"
   ]
  },
  {
   "cell_type": "code",
   "execution_count": 19,
   "id": "53bf52b1-db78-4ca9-8c9a-e338f18124ff",
   "metadata": {
    "tags": []
   },
   "outputs": [
    {
     "data": {
      "text/html": [
       "<div>\n",
       "<style scoped>\n",
       "    .dataframe tbody tr th:only-of-type {\n",
       "        vertical-align: middle;\n",
       "    }\n",
       "\n",
       "    .dataframe tbody tr th {\n",
       "        vertical-align: top;\n",
       "    }\n",
       "\n",
       "    .dataframe thead th {\n",
       "        text-align: right;\n",
       "    }\n",
       "</style>\n",
       "<table border=\"1\" class=\"dataframe\">\n",
       "  <thead>\n",
       "    <tr style=\"text-align: right;\">\n",
       "      <th></th>\n",
       "      <th>Axis 1</th>\n",
       "      <th>Axis 2</th>\n",
       "      <th>patient_id</th>\n",
       "      <th>age</th>\n",
       "      <th>sex</th>\n",
       "      <th>ethnicity</th>\n",
       "      <th>continent</th>\n",
       "      <th>country</th>\n",
       "      <th>region</th>\n",
       "      <th>city</th>\n",
       "      <th>group</th>\n",
       "      <th>disease_subgroup</th>\n",
       "      <th>blinded_clinical_response</th>\n",
       "      <th>puns_per_hour_pre_treatment</th>\n",
       "      <th>puns_per_hour_post_treatment</th>\n",
       "      <th>time_point</th>\n",
       "      <th>subgroup_response</th>\n",
       "      <th>disease_status</th>\n",
       "    </tr>\n",
       "  </thead>\n",
       "  <tbody>\n",
       "    <tr>\n",
       "      <th>SRR10505051</th>\n",
       "      <td>0.136840</td>\n",
       "      <td>0.185801</td>\n",
       "      <td>1048</td>\n",
       "      <td>36.0</td>\n",
       "      <td>female</td>\n",
       "      <td>Caucasian</td>\n",
       "      <td>Europe</td>\n",
       "      <td>Switzerland</td>\n",
       "      <td>Zurich</td>\n",
       "      <td>Zurich</td>\n",
       "      <td>Puns</td>\n",
       "      <td>Placebo</td>\n",
       "      <td>NR</td>\n",
       "      <td>9.0</td>\n",
       "      <td>8.0</td>\n",
       "      <td>post-treatment</td>\n",
       "      <td>Placebo_NR</td>\n",
       "      <td>Puns</td>\n",
       "    </tr>\n",
       "    <tr>\n",
       "      <th>SRR10505052</th>\n",
       "      <td>-0.132679</td>\n",
       "      <td>0.019205</td>\n",
       "      <td>1048</td>\n",
       "      <td>36.0</td>\n",
       "      <td>female</td>\n",
       "      <td>Caucasian</td>\n",
       "      <td>Europe</td>\n",
       "      <td>Switzerland</td>\n",
       "      <td>Zurich</td>\n",
       "      <td>Zurich</td>\n",
       "      <td>Puns</td>\n",
       "      <td>Placebo</td>\n",
       "      <td>NR</td>\n",
       "      <td>9.0</td>\n",
       "      <td>8.0</td>\n",
       "      <td>pre-treatment</td>\n",
       "      <td>Placebo_NR</td>\n",
       "      <td>Puns</td>\n",
       "    </tr>\n",
       "    <tr>\n",
       "      <th>SRR10505053</th>\n",
       "      <td>-0.166741</td>\n",
       "      <td>0.003256</td>\n",
       "      <td>1045</td>\n",
       "      <td>29.0</td>\n",
       "      <td>male</td>\n",
       "      <td>Caucasian</td>\n",
       "      <td>Europe</td>\n",
       "      <td>Switzerland</td>\n",
       "      <td>Zurich</td>\n",
       "      <td>Zurich</td>\n",
       "      <td>Puns</td>\n",
       "      <td>Placebo</td>\n",
       "      <td>Res</td>\n",
       "      <td>6.0</td>\n",
       "      <td>0.0</td>\n",
       "      <td>pre-treatment</td>\n",
       "      <td>Placebo_Res</td>\n",
       "      <td>Puns</td>\n",
       "    </tr>\n",
       "    <tr>\n",
       "      <th>SRR10505056</th>\n",
       "      <td>-0.076568</td>\n",
       "      <td>0.181875</td>\n",
       "      <td>1044</td>\n",
       "      <td>34.0</td>\n",
       "      <td>male</td>\n",
       "      <td>Indian Subcontinental</td>\n",
       "      <td>Europe</td>\n",
       "      <td>Switzerland</td>\n",
       "      <td>Zurich</td>\n",
       "      <td>Zurich</td>\n",
       "      <td>Puns</td>\n",
       "      <td>Placebo</td>\n",
       "      <td>NaN</td>\n",
       "      <td>4.0</td>\n",
       "      <td>NaN</td>\n",
       "      <td>post-treatment</td>\n",
       "      <td>NaN</td>\n",
       "      <td>Puns</td>\n",
       "    </tr>\n",
       "    <tr>\n",
       "      <th>SRR10505057</th>\n",
       "      <td>-0.052955</td>\n",
       "      <td>-0.297694</td>\n",
       "      <td>1043</td>\n",
       "      <td>35.0</td>\n",
       "      <td>female</td>\n",
       "      <td>Caucasian</td>\n",
       "      <td>Europe</td>\n",
       "      <td>Switzerland</td>\n",
       "      <td>Zurich</td>\n",
       "      <td>Zurich</td>\n",
       "      <td>Puns</td>\n",
       "      <td>FMT</td>\n",
       "      <td>NR</td>\n",
       "      <td>9.0</td>\n",
       "      <td>6.0</td>\n",
       "      <td>post-treatment</td>\n",
       "      <td>FMT_NR</td>\n",
       "      <td>Puns</td>\n",
       "    </tr>\n",
       "  </tbody>\n",
       "</table>\n",
       "</div>"
      ],
      "text/plain": [
       "               Axis 1    Axis 2 patient_id   age     sex  \\\n",
       "SRR10505051  0.136840  0.185801       1048  36.0  female   \n",
       "SRR10505052 -0.132679  0.019205       1048  36.0  female   \n",
       "SRR10505053 -0.166741  0.003256       1045  29.0    male   \n",
       "SRR10505056 -0.076568  0.181875       1044  34.0    male   \n",
       "SRR10505057 -0.052955 -0.297694       1043  35.0  female   \n",
       "\n",
       "                         ethnicity continent      country  region    city  \\\n",
       "SRR10505051              Caucasian    Europe  Switzerland  Zurich  Zurich   \n",
       "SRR10505052              Caucasian    Europe  Switzerland  Zurich  Zurich   \n",
       "SRR10505053              Caucasian    Europe  Switzerland  Zurich  Zurich   \n",
       "SRR10505056  Indian Subcontinental    Europe  Switzerland  Zurich  Zurich   \n",
       "SRR10505057              Caucasian    Europe  Switzerland  Zurich  Zurich   \n",
       "\n",
       "            group disease_subgroup blinded_clinical_response  \\\n",
       "SRR10505051  Puns          Placebo                        NR   \n",
       "SRR10505052  Puns          Placebo                        NR   \n",
       "SRR10505053  Puns          Placebo                       Res   \n",
       "SRR10505056  Puns          Placebo                       NaN   \n",
       "SRR10505057  Puns              FMT                        NR   \n",
       "\n",
       "             puns_per_hour_pre_treatment  puns_per_hour_post_treatment  \\\n",
       "SRR10505051                          9.0                           8.0   \n",
       "SRR10505052                          9.0                           8.0   \n",
       "SRR10505053                          6.0                           0.0   \n",
       "SRR10505056                          4.0                           NaN   \n",
       "SRR10505057                          9.0                           6.0   \n",
       "\n",
       "                 time_point subgroup_response disease_status  \n",
       "SRR10505051  post-treatment        Placebo_NR           Puns  \n",
       "SRR10505052   pre-treatment        Placebo_NR           Puns  \n",
       "SRR10505053   pre-treatment       Placebo_Res           Puns  \n",
       "SRR10505056  post-treatment               NaN           Puns  \n",
       "SRR10505057  post-treatment            FMT_NR           Puns  "
      ]
     },
     "execution_count": 19,
     "metadata": {},
     "output_type": "execute_result"
    }
   ],
   "source": [
    "pcs_data_with_md_ji = pd.concat([pcs_data_ji, metadata], axis=1, join='inner')\n",
    "pcs_data_with_md_ji.head()"
   ]
  },
  {
   "cell_type": "code",
   "execution_count": 20,
   "id": "29f70cc3-43bf-456a-b366-7b473594b4e9",
   "metadata": {
    "tags": []
   },
   "outputs": [
    {
     "data": {
      "image/png": "[encoded data removed]",
      "text/plain": [
       "<Figure size 1800x600 with 3 Axes>"
      ]
     },
     "metadata": {},
     "output_type": "display_data"
    }
   ],
   "source": [
    "fig, axes = plt.subplots(1, 3, figsize=(18, 6), sharex=True, sharey=True)\n",
    "\n",
    "# Scatterplot for disease_status\n",
    "sns.scatterplot(data=pcs_data_with_md_ji,\n",
    "                x='Axis 1',\n",
    "                y='Axis 2',\n",
    "                hue='disease_status',\n",
    "                palette='viridis',\n",
    "                ax=axes[0])\n",
    "axes[0].set_title(\"Disease Status\")\n",
    "axes[0].set_xlabel(\"PCo1\")\n",
    "axes[0].set_ylabel(\"PCo2\")\n",
    "\n",
    "# Scatterplot for sex\n",
    "sns.scatterplot(data=pcs_data_with_md_ji,\n",
    "                x='Axis 1',\n",
    "                y='Axis 2',\n",
    "                hue='sex',\n",
    "                palette='viridis',\n",
    "                ax=axes[1])\n",
    "axes[1].set_title(\"Sex\")\n",
    "axes[1].set_xlabel(\"PCo1\")\n",
    "\n",
    "# Scatterplot for ethnicity\n",
    "sns.scatterplot(data=pcs_data_with_md_ji,\n",
    "                x='Axis 1',\n",
    "                y='Axis 2',\n",
    "                hue='ethnicity',\n",
    "                palette='viridis',\n",
    "                ax=axes[2])\n",
    "axes[2].set_title(\"Ethnicity\")\n",
    "axes[2].set_xlabel(\"PCo1\")\n",
    "\n",
    "# Adjust layout\n",
    "plt.tight_layout()\n",
    "plt.show()\n"
   ]
  }
 ],
 "metadata": {
  "kernelspec": {
   "display_name": "QIIME 2",
   "language": "python",
   "name": "python3"
  },
  "language_info": {
   "codemirror_mode": {
    "name": "ipython",
    "version": 3
   },
   "file_extension": ".py",
   "mimetype": "text/x-python",
   "name": "python",
   "nbconvert_exporter": "python",
   "pygments_lexer": "ipython3",
   "version": "3.9.19"
  }
 },
 "nbformat": 4,
 "nbformat_minor": 5
}
