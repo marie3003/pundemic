{
 "cells": [
  {
   "cell_type": "markdown",
   "id": "0cfc2a6b-d2ef-4f97-be62-52ae0e983de0",
   "metadata": {},
   "source": [
    "# Beta Diversity"
   ]
  },
  {
   "cell_type": "markdown",
   "id": "74a02dec-cf55-4e61-b45d-7ccb6b09e7d3",
   "metadata": {},
   "source": [
    "## Import Libraries"
   ]
  },
  {
   "cell_type": "code",
   "execution_count": 2,
   "id": "5129e4f7-927c-4905-8c8c-1e828ff51007",
   "metadata": {
    "tags": []
   },
   "outputs": [],
   "source": [
    "import os\n",
    "import pandas as pd\n",
    "import qiime2 as q2\n",
    "from skbio import OrdinationResults\n",
    "from qiime2 import Visualization\n",
    "from seaborn import scatterplot\n",
    "\n",
    "%matplotlib inline"
   ]
  }
 ],
 "metadata": {
  "kernelspec": {
   "display_name": "QIIME 2",
   "language": "python",
   "name": "python3"
  },
  "language_info": {
   "codemirror_mode": {
    "name": "ipython",
    "version": 3
   },
   "file_extension": ".py",
   "mimetype": "text/x-python",
   "name": "python",
   "nbconvert_exporter": "python",
   "pygments_lexer": "ipython3",
   "version": "3.9.19"
  }
 },
 "nbformat": 4,
 "nbformat_minor": 5
}
