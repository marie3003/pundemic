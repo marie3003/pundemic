{
 "cells": [
  {
   "cell_type": "markdown",
   "id": "8a014dad-9220-432c-8002-ff753ed7a1f0",
   "metadata": {
    "tags": []
   },
   "source": [
    "# Metadata Overview\n",
    "\n",
    "#### Description of data and aims:\n",
    "In the summer of 2024, a mysterious disease dubbed the “pundemic” by the media began cropping up worldwide. Diseased patients make puns at every opportunity. A link between the pundemic and changes in the gut microbiome was discovered, and a doctor at the USZ set up a clinical trial using fecal microbiota transplants (FMT) as a possible treatment.\n",
    "\n",
    "Trial data:  \n",
    "Collection of fecal microbiome samples from pundemic patients before and after the trial, from both treatment and placebo groups. Pundemic severity in patients was quantified in terms of puns per hour. Fecal samples were collected from the FMT donors as well.\n",
    "\n",
    "Because the bacterial and fungal gut microbiome are both of interest, the USZ team collected both **16S rRNA gene** and **ITS** data from the study cohort. \n",
    "\n",
    "Aims:\n",
    "1. Analyzing the ITS data in order to further explore the connection between pundemic symptoms and an altered gut mycobiome composition\n",
    "2. Analyzing the potential of FMT as a pandemic treatment option. You have received DNA sequences as well as metadata allowing you to distinguish pundemic from healthy samples.\n"
   ]
  },
  {
   "cell_type": "markdown",
   "id": "844a6ab1-8afb-4cc4-9bfa-0d8cafe4caa9",
   "metadata": {},
   "source": [
    "## Metadata import and exploration\n",
    "\n",
    "To get a better sense for the data we are working with, we do some preliminary exploration of the metadata here"
   ]
  },
  {
   "cell_type": "code",
   "execution_count": 4,
   "id": "6c642ea6-9b20-410c-a059-08a1f3c91038",
   "metadata": {
    "tags": []
   },
   "outputs": [],
   "source": [
    "# Import libraries\n",
    "import os\n",
    "import matplotlib.pyplot as plt\n",
    "import seaborn as sns\n",
    "from matplotlib.backends.backend_pdf import PdfPages\n",
    "import pandas as pd"
   ]
  },
  {
   "cell_type": "code",
   "execution_count": 5,
   "id": "67e27e9d-03c6-4943-8c83-a6a775b09994",
   "metadata": {
    "tags": []
   },
   "outputs": [],
   "source": [
    "# Metadata import, df creation and overview\n",
    "if not os.path.exists('data/pundemic_metadata.tsv'):\n",
    "    !wget -O data/pundemic_metadata.tsv https://polybox.ethz.ch/index.php/s/7LxWSbaw2q37yof/download\n",
    "\n",
    "meta_df = pd.read_csv('data/pundemic_metadata.tsv', sep='\\t', index_col=0)\n",
    "meta_df['age'] = pd.to_numeric(meta_df['age'], errors='coerce')\n",
    "\n",
    "# Sort the DataFrame by 'age'\n",
    "meta_age_df = meta_df.sort_values(by='age')"
   ]
  },
  {
   "cell_type": "code",
   "execution_count": 25,
   "id": "b3a85cb1-1ceb-4135-be63-64a29f8499cf",
   "metadata": {
    "tags": []
   },
   "outputs": [
    {
     "name": "stdout",
     "output_type": "stream",
     "text": [
      "male_fmt_patients 16\n",
      "female_fmt_patients 13\n"
     ]
    }
   ],
   "source": [
    "# Investigate gender dfs\n",
    "male_fmt_patients = meta_df[(meta_df.sex == \"male\") & (meta_df.disease_subgroup == 'FMT')]\n",
    "female_fmt_patients = meta_df[(meta_df.sex == \"female\") & (meta_df.disease_subgroup == 'FMT')]\n",
    "\n",
    "duplicate_patients_m = male_fmt_patients[male_fmt_patients.duplicated(subset='patient_id', keep=False)]\n",
    "duplicate_patients_f = female_fmt_patients[female_fmt_patients.duplicated(subset='patient_id', keep=False)]\n",
    "\n",
    "print(\"male_fmt_patients\", male_fmt_patients['patient_id'].nunique())\n",
    "print(\"female_fmt_patients\", female_fmt_patients['patient_id'].nunique())"
   ]
  },
  {
   "cell_type": "code",
   "execution_count": 6,
   "id": "662fbecf-0725-459b-b80a-d304a05dc153",
   "metadata": {
    "tags": []
   },
   "outputs": [
    {
     "name": "stdout",
     "output_type": "stream",
     "text": [
      "male_fmt_patients 10\n",
      "female_fmt_patients 9\n"
     ]
    }
   ],
   "source": [
    "# Get fecal matter transplant (fmt) patient dfs\n",
    "male_placebo_patients = meta_df[(meta_df.sex == \"male\") & (meta_df.disease_subgroup == 'Placebo')]\n",
    "female_placebo_patients = meta_df[(meta_df.sex == \"female\") & (meta_df.disease_subgroup == 'Placebo')]\n",
    "\n",
    "duplicate_patients_m = male_placebo_patients[male_placebo_patients.duplicated(subset='patient_id', keep=False)]\n",
    "duplicate_patients_f = female_placebo_patients[female_placebo_patients.duplicated(subset='patient_id', keep=False)]\n",
    "\n",
    "\n",
    "print(\"male_fmt_patients\", male_placebo_patients['patient_id'].nunique())\n",
    "print(\"female_fmt_patients\", female_placebo_patients['patient_id'].nunique())"
   ]
  },
  {
   "cell_type": "code",
   "execution_count": 3,
   "id": "90fdcf19-46ed-4ccf-8010-094ed952e583",
   "metadata": {
    "tags": []
   },
   "outputs": [],
   "source": [
    "# Open the PDF file to save all the plots\n",
    "with PdfPages('results/pundemic_plots_complete.pdf') as pdf:\n",
    "    \n",
    "    # Figure 1: Sex Ratio\n",
    "    sex_counts = meta_df['sex'].value_counts()\n",
    "    plt.figure(figsize=(6, 4))\n",
    "    plt.bar(sex_counts.index, sex_counts.values, color=['skyblue', 'lightcoral', 'purple'])\n",
    "    plt.xlabel('Sex')\n",
    "    plt.ylabel('Count')\n",
    "    #plt.title('Sex Ratio')\n",
    "    plt.tight_layout()\n",
    "    #plt.text(-0.5, -10, \"Figure 1: Distribution of participants by sex.\", fontsize=10)\n",
    "    pdf.savefig()\n",
    "    plt.close()\n",
    "\n",
    "    # Figure 2: Overview of Disease Subgroups\n",
    "    disease_counts = meta_df['disease_subgroup'].value_counts()\n",
    "    plt.figure(figsize=(6, 4))\n",
    "    plt.bar(disease_counts.index, disease_counts.values, color=['skyblue', 'lightcoral', 'purple'])\n",
    "    plt.xlabel('Disease Subgroups')\n",
    "    plt.ylabel('Count')\n",
    "    #plt.title('Overview over Disease Subgroups')\n",
    "    plt.tight_layout()\n",
    "    #plt.text(-0.5, -10, \"Figure 2: Distribution of participants across disease subgroups.\", fontsize=10)\n",
    "    pdf.savefig()\n",
    "    plt.close()\n",
    "\n",
    "    # Figure 3: Overview of Timepoints\n",
    "    time_counts = meta_df['time_point'].value_counts()\n",
    "    plt.figure(figsize=(6, 4))\n",
    "    plt.bar(time_counts.index, time_counts.values, color=['skyblue', 'lightcoral', 'purple', 'darkblue'])\n",
    "    plt.xlabel('Timepoints')\n",
    "    plt.ylabel('Count')\n",
    "    #plt.title('Overview over Timepoints')\n",
    "    plt.tight_layout()\n",
    "    #plt.text(-0.5, -10, \"Figure 3: Distribution of participants across different timepoints.\", fontsize=10)\n",
    "    pdf.savefig()\n",
    "    plt.close()\n",
    "\n",
    "    # Figure 4: Ethnicity Distribution\n",
    "    plt.figure(figsize=(6, 4))\n",
    "    sns.countplot(data=meta_df, x='ethnicity', order=meta_df['ethnicity'].value_counts().index)\n",
    "    #plt.title(\"Ethnicity Distribution\")\n",
    "    plt.xticks(rotation=45)\n",
    "    plt.ylabel(\"Number of Participants\")\n",
    "    plt.tight_layout()\n",
    "    #plt.text(-0.5, -10, \"Figure 4: Ethnicity distribution of participants.\", fontsize=10)\n",
    "    pdf.savefig()\n",
    "    plt.close()\n",
    "\n",
    "    # Figure 5: Sex Distribution Across Groups\n",
    "    plt.figure(figsize=(6, 4))\n",
    "    sns.countplot(data=meta_df, x='sex', hue='group')\n",
    "    #plt.title(\"Sex Distribution Across Groups\")\n",
    "    plt.ylabel(\"Number of Participants\")\n",
    "    plt.legend(title=\"Group\")\n",
    "    plt.tight_layout()\n",
    "    #plt.text(-0.5, -10, \"Figure 5: Sex distribution across Puns and Healthy groups.\", fontsize=10)\n",
    "    pdf.savefig()\n",
    "    plt.close()\n",
    "\n",
    "    # Figure 6: Puns per Hour Pre- and Post-Treatment\n",
    "    plt.figure(figsize=(12, 6))\n",
    "    sns.violinplot(data=meta_df, x='time_point', y='puns_per_hour_post_treatment', hue='group', split=True)\n",
    "    #plt.title(\"Puns Per Hour Pre- and Post-Treatment\")\n",
    "    plt.ylabel(\"Puns per Hour (Post-Treatment)\")\n",
    "    plt.tight_layout()\n",
    "    #plt.text(-0.5, -10, \"Figure 6: Comparison of puns per hour pre- and post-treatment across groups.\", fontsize=10)\n",
    "    pdf.savefig()\n",
    "    plt.close()\n",
    "\n",
    "    # Figure 7: Blinded Clinical Response Analysis\n",
    "    plt.figure(figsize=(6, 4))\n",
    "    sns.boxplot(data=meta_df, x='blinded_clinical_response', y='puns_per_hour_post_treatment')\n",
    "    #plt.title(\"Post-Treatment Puns per Hour by Clinical Response\")\n",
    "    plt.ylabel(\"Puns per Hour (Post-Treatment)\")\n",
    "    plt.tight_layout()\n",
    "    #plt.text(-0.5, -10, \"Figure 7: Post-treatment puns per hour by clinical response (NR or Res).\", fontsize=10)\n",
    "    pdf.savefig()\n",
    "    plt.close()\n",
    "\n",
    "    # Figure 8: Correlation Between Puns per Hour Pre- and Post-Treatment\n",
    "    plt.figure(figsize=(6, 4))\n",
    "    sns.scatterplot(data=meta_df, x='puns_per_hour_pre_treatment', y='puns_per_hour_post_treatment', hue='group')\n",
    "    sns.regplot(data=meta_df, x='puns_per_hour_pre_treatment', y='puns_per_hour_post_treatment', scatter=False, color='black')\n",
    "    #plt.title(\"Correlation Between Puns Per Hour Pre- and Post-Treatment\")\n",
    "    plt.xlabel(\"Puns per Hour (Pre-Treatment)\")\n",
    "    plt.ylabel(\"Puns per Hour (Post-Treatment)\")\n",
    "    plt.tight_layout()\n",
    "    #plt.text(-0.5, -10, \"Figure 8: Correlation between pre- and post-treatment puns per hour.\", fontsize=10)\n",
    "    pdf.savefig()\n",
    "    plt.close()\n",
    "\n",
    "    # Figure 9: Puns per Hour Across Disease Subgroups\n",
    "    plt.figure(figsize=(6, 4))\n",
    "    sns.boxplot(data=meta_df, x='disease_subgroup', y='puns_per_hour_post_treatment')\n",
    "    #plt.title(\"Post-Treatment Puns per Hour by Disease Subgroup\")\n",
    "    plt.ylabel(\"Puns per Hour (Post-Treatment)\")\n",
    "    plt.tight_layout()\n",
    "    #plt.text(-0.5, -10, \"Figure 9: Puns per hour post-treatment by disease subgroups (FMT, Placebo, Donor).\", fontsize=10)\n",
    "    pdf.savefig()\n",
    "    plt.close()\n",
    "\n",
    "    # Figure 10: Age vs. Puns per Hour Post-Treatment\n",
    "    plt.figure(figsize=(11, 4))\n",
    "    sns.scatterplot(data=meta_age_df, x='age', y='puns_per_hour_post_treatment', hue='group')\n",
    "    #plt.title(\"Age vs. Puns Per Hour Post-Treatment\")\n",
    "    plt.xlabel(\"Age\")\n",
    "    plt.ylabel(\"Puns per Hour (Post-Treatment)\")\n",
    "    plt.tight_layout()\n",
    "    #plt.text(-0.5, -10, \"Figure 10: Scatter plot showing the relationship between age and puns per hour post-treatment.\", fontsize=10)\n",
    "    pdf.savefig()\n",
    "    plt.close()"
   ]
  }
 ],
 "metadata": {
  "kernelspec": {
   "display_name": "QIIME 2",
   "language": "python",
   "name": "python3"
  },
  "language_info": {
   "codemirror_mode": {
    "name": "ipython",
    "version": 3
   },
   "file_extension": ".py",
   "mimetype": "text/x-python",
   "name": "python",
   "nbconvert_exporter": "python",
   "pygments_lexer": "ipython3",
   "version": "3.9.19"
  }
 },
 "nbformat": 4,
 "nbformat_minor": 5
}
