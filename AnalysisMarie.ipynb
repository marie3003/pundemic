{
 "cells": [
  {
   "cell_type": "markdown",
   "id": "f43858ac-8868-40f6-9826-5563ce6c1ecd",
   "metadata": {},
   "source": [
    "# Pundemic project"
   ]
  },
  {
   "cell_type": "code",
   "execution_count": 7,
   "id": "2a80555c-7f76-43e2-9eb7-993db1daab60",
   "metadata": {},
   "outputs": [
    {
     "name": "stdout",
     "output_type": "stream",
     "text": [
      "--2024-10-02 14:06:59--  https://polybox.ethz.ch/index.php/s/7LxWSbaw2q37yof/download\n",
      "Resolving polybox.ethz.ch (polybox.ethz.ch)... 129.132.71.243\n",
      "Connecting to polybox.ethz.ch (polybox.ethz.ch)|129.132.71.243|:443... connected.\n",
      "HTTP request sent, awaiting response... 200 OK\n",
      "Length: 10868 (11K) [application/octet-stream]\n",
      "Saving to: ‘data/raw/pundemic_metadata.tsv’\n",
      "\n",
      "data/raw/pundemic_m 100%[===================>]  10.61K  --.-KB/s    in 0s      \n",
      "\n",
      "2024-10-02 14:06:59 (1.84 GB/s) - ‘data/raw/pundemic_metadata.tsv’ saved [10868/10868]\n",
      "\n"
     ]
    }
   ],
   "source": [
    "! wget -O data/raw/pundemic_metadata.tsv https://polybox.ethz.ch/index.php/s/7LxWSbaw2q37yof/download\n",
    "! wget -O data/raw/pundemic_forward_reads.qza https://polybox.ethz.ch/index.php/s/o8HqHJqvuf9e2on/download"
   ]
  },
  {
   "cell_type": "code",
   "execution_count": null,
   "id": "b1429702-f250-4798-813b-38485c18f8ae",
   "metadata": {},
   "outputs": [],
   "source": []
  }
 ],
 "metadata": {
  "kernelspec": {
   "display_name": "QIIME 2",
   "language": "python",
   "name": "python3"
  },
  "language_info": {
   "codemirror_mode": {
    "name": "ipython",
    "version": 3
   },
   "file_extension": ".py",
   "mimetype": "text/x-python",
   "name": "python",
   "nbconvert_exporter": "python",
   "pygments_lexer": "ipython3",
   "version": "3.9.19"
  }
 },
 "nbformat": 4,
 "nbformat_minor": 5
}
