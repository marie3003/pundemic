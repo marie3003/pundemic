{
 "cells": [
  {
   "cell_type": "markdown",
   "id": "111e738c-fc85-4564-a24b-b97cd5a79179",
   "metadata": {
    "tags": []
   },
   "source": [
    "# AM data analysis\n",
    "\n",
    "#### Description of data and aims:\n",
    "In the summer of 2024, a mysterious disease dubbed the “pundemic” by the media began cropping up worldwide. Diseased patients make puns at every opportunity. A link between the pundemic and changes in the gut microbiome was discovered, and a doctor at the USZ set up a clinical trial using fecal microbiota transplants (FMT) as a possible treatment.\n",
    "\n",
    "Trial data:  \n",
    "Collection of fecal microbiome samples from pundemic patients before and after the trial, from both treatment and placebo groups. Pundemic severity in patients was quantified in terms of puns per hour. Fecal samples were collected from the FMT donors as well.\n",
    "\n",
    "Because the bacterial and fungal gut microbiome are both of interest, the USZ team collected both **16S rRNA gene** and **ITS** data from the study cohort. \n",
    "\n",
    "Aims:\n",
    "1. Analyzing the ITS data in order to further explore the connection between pundemic symptoms and an altered gut mycobiome composition\n",
    "2. Analyzing the potential of FMT as a pandemic treatment option. You have received DNA sequences as well as metadata allowing you to distinguish pundemic from healthy samples.\n"
   ]
  },
  {
   "cell_type": "code",
   "execution_count": 1,
   "id": "9878c873-9967-4110-bd8d-d7d73f72dbe0",
   "metadata": {
    "tags": []
   },
   "outputs": [],
   "source": [
    "# Package import\n",
    "import os\n",
    "import pandas as pd\n",
    "from qiime2 import Visualization\n",
    "import matplotlib.pyplot as plt\n",
    "import numpy as np\n",
    "import qiime2 as q2\n",
    "\n",
    "%matplotlib inline"
   ]
  },
  {
   "cell_type": "code",
   "execution_count": 30,
   "id": "6660fc64-b632-484f-bce0-41efa5cf748a",
   "metadata": {
    "tags": []
   },
   "outputs": [],
   "source": [
    "data_dir = 'data/raw'\n",
    "data_dir_p = 'data/processed'"
   ]
  },
  {
   "cell_type": "markdown",
   "id": "94aee510-0c24-4578-86a3-1c08a2a98461",
   "metadata": {},
   "source": [
    "## Data import and denoising"
   ]
  },
  {
   "cell_type": "code",
   "execution_count": 5,
   "id": "4abc9cef-b73a-42d0-96f6-1bf2fbb2aa1d",
   "metadata": {
    "collapsed": true,
    "jupyter": {
     "outputs_hidden": true
    },
    "tags": []
   },
   "outputs": [
    {
     "name": "stdout",
     "output_type": "stream",
     "text": [
      "--2024-10-03 22:55:02--  https://polybox.ethz.ch/index.php/s/7LxWSbaw2q37yof/download\n",
      "Resolving polybox.ethz.ch (polybox.ethz.ch)... 129.132.71.243\n",
      "Connecting to polybox.ethz.ch (polybox.ethz.ch)|129.132.71.243|:443... connected.\n",
      "HTTP request sent, awaiting response... 200 OK\n",
      "Length: 10868 (11K) [application/octet-stream]\n",
      "Saving to: ‘data/raw/pundemic_metadata.tsv’\n",
      "\n",
      "data/raw/pundemic_m 100%[===================>]  10.61K  --.-KB/s    in 0s      \n",
      "\n",
      "2024-10-03 22:55:02 (106 MB/s) - ‘data/raw/pundemic_metadata.tsv’ saved [10868/10868]\n",
      "\n",
      "--2024-10-03 22:55:02--  https://polybox.ethz.ch/index.php/s/o8HqHJqvuf9e2on/download\n",
      "Resolving polybox.ethz.ch (polybox.ethz.ch)... 129.132.71.243\n",
      "Connecting to polybox.ethz.ch (polybox.ethz.ch)|129.132.71.243|:443... connected.\n",
      "HTTP request sent, awaiting response... 200 OK\n",
      "Length: 942144925 (898M) [application/octet-stream]\n",
      "Saving to: ‘data/raw/pundemic_forward_reads.qza’\n",
      "\n",
      "data/raw/pundemic_f 100%[===================>] 898.50M   314MB/s    in 2.9s    \n",
      "\n",
      "2024-10-03 22:55:05 (314 MB/s) - ‘data/raw/pundemic_forward_reads.qza’ saved [942144925/942144925]\n",
      "\n"
     ]
    }
   ],
   "source": [
    "# Data and metadata import\n",
    "#! wget -O data/raw/pundemic_metadata.tsv https://polybox.ethz.ch/index.php/s/7LxWSbaw2q37yof/download\n",
    "#! wget -O data/raw/pundemic_forward_reads.qza https://polybox.ethz.ch/index.php/s/o8HqHJqvuf9e2on/download\n"
   ]
  },
  {
   "cell_type": "code",
   "execution_count": 2,
   "id": "ecc871c9-98fd-4cd2-aafe-09b144fbfc6a",
   "metadata": {
    "collapsed": true,
    "jupyter": {
     "outputs_hidden": true
    },
    "tags": []
   },
   "outputs": [
    {
     "data": {
      "text/html": [
       "<div>\n",
       "<style scoped>\n",
       "    .dataframe tbody tr th:only-of-type {\n",
       "        vertical-align: middle;\n",
       "    }\n",
       "\n",
       "    .dataframe tbody tr th {\n",
       "        vertical-align: top;\n",
       "    }\n",
       "\n",
       "    .dataframe thead th {\n",
       "        text-align: right;\n",
       "    }\n",
       "</style>\n",
       "<table border=\"1\" class=\"dataframe\">\n",
       "  <thead>\n",
       "    <tr style=\"text-align: right;\">\n",
       "      <th></th>\n",
       "      <th>patient_id</th>\n",
       "      <th>age</th>\n",
       "      <th>sex</th>\n",
       "      <th>ethnicity</th>\n",
       "      <th>continent</th>\n",
       "      <th>country</th>\n",
       "      <th>region</th>\n",
       "      <th>city</th>\n",
       "      <th>group</th>\n",
       "      <th>disease_subgroup</th>\n",
       "      <th>blinded_clinical_response</th>\n",
       "      <th>puns_per_hour_pre_treatment</th>\n",
       "      <th>puns_per_hour_post_treatment</th>\n",
       "      <th>time_point</th>\n",
       "    </tr>\n",
       "    <tr>\n",
       "      <th>id</th>\n",
       "      <th></th>\n",
       "      <th></th>\n",
       "      <th></th>\n",
       "      <th></th>\n",
       "      <th></th>\n",
       "      <th></th>\n",
       "      <th></th>\n",
       "      <th></th>\n",
       "      <th></th>\n",
       "      <th></th>\n",
       "      <th></th>\n",
       "      <th></th>\n",
       "      <th></th>\n",
       "      <th></th>\n",
       "    </tr>\n",
       "  </thead>\n",
       "  <tbody>\n",
       "    <tr>\n",
       "      <th>SRR10505051</th>\n",
       "      <td>1048</td>\n",
       "      <td>36</td>\n",
       "      <td>female</td>\n",
       "      <td>Caucasian</td>\n",
       "      <td>Europe</td>\n",
       "      <td>Switzerland</td>\n",
       "      <td>Zurich</td>\n",
       "      <td>Zurich</td>\n",
       "      <td>Puns</td>\n",
       "      <td>Placebo</td>\n",
       "      <td>NR</td>\n",
       "      <td>9.0</td>\n",
       "      <td>8.0</td>\n",
       "      <td>post-treatment</td>\n",
       "    </tr>\n",
       "    <tr>\n",
       "      <th>SRR10505052</th>\n",
       "      <td>1048</td>\n",
       "      <td>36</td>\n",
       "      <td>female</td>\n",
       "      <td>Caucasian</td>\n",
       "      <td>Europe</td>\n",
       "      <td>Switzerland</td>\n",
       "      <td>Zurich</td>\n",
       "      <td>Zurich</td>\n",
       "      <td>Puns</td>\n",
       "      <td>Placebo</td>\n",
       "      <td>NR</td>\n",
       "      <td>9.0</td>\n",
       "      <td>8.0</td>\n",
       "      <td>pre-treatment</td>\n",
       "    </tr>\n",
       "    <tr>\n",
       "      <th>SRR10505053</th>\n",
       "      <td>1045</td>\n",
       "      <td>29</td>\n",
       "      <td>male</td>\n",
       "      <td>Caucasian</td>\n",
       "      <td>Europe</td>\n",
       "      <td>Switzerland</td>\n",
       "      <td>Zurich</td>\n",
       "      <td>Zurich</td>\n",
       "      <td>Puns</td>\n",
       "      <td>Placebo</td>\n",
       "      <td>Res</td>\n",
       "      <td>6.0</td>\n",
       "      <td>0.0</td>\n",
       "      <td>pre-treatment</td>\n",
       "    </tr>\n",
       "    <tr>\n",
       "      <th>SRR10505054</th>\n",
       "      <td>1045</td>\n",
       "      <td>29</td>\n",
       "      <td>male</td>\n",
       "      <td>Caucasian</td>\n",
       "      <td>Europe</td>\n",
       "      <td>Switzerland</td>\n",
       "      <td>Zurich</td>\n",
       "      <td>Zurich</td>\n",
       "      <td>Puns</td>\n",
       "      <td>Placebo</td>\n",
       "      <td>Res</td>\n",
       "      <td>6.0</td>\n",
       "      <td>0.0</td>\n",
       "      <td>post-treatment</td>\n",
       "    </tr>\n",
       "    <tr>\n",
       "      <th>SRR10505055</th>\n",
       "      <td>1044</td>\n",
       "      <td>34</td>\n",
       "      <td>male</td>\n",
       "      <td>Indian Subcontinental</td>\n",
       "      <td>Europe</td>\n",
       "      <td>Switzerland</td>\n",
       "      <td>Zurich</td>\n",
       "      <td>Zurich</td>\n",
       "      <td>Puns</td>\n",
       "      <td>Placebo</td>\n",
       "      <td>NaN</td>\n",
       "      <td>4.0</td>\n",
       "      <td>NaN</td>\n",
       "      <td>pre-treatment</td>\n",
       "    </tr>\n",
       "    <tr>\n",
       "      <th>...</th>\n",
       "      <td>...</td>\n",
       "      <td>...</td>\n",
       "      <td>...</td>\n",
       "      <td>...</td>\n",
       "      <td>...</td>\n",
       "      <td>...</td>\n",
       "      <td>...</td>\n",
       "      <td>...</td>\n",
       "      <td>...</td>\n",
       "      <td>...</td>\n",
       "      <td>...</td>\n",
       "      <td>...</td>\n",
       "      <td>...</td>\n",
       "      <td>...</td>\n",
       "    </tr>\n",
       "    <tr>\n",
       "      <th>SRR10505151</th>\n",
       "      <td>D54</td>\n",
       "      <td>Unknown</td>\n",
       "      <td>Unknown</td>\n",
       "      <td>NaN</td>\n",
       "      <td>Europe</td>\n",
       "      <td>Switzerland</td>\n",
       "      <td>Zurich</td>\n",
       "      <td>Zurich</td>\n",
       "      <td>Healthy</td>\n",
       "      <td>donor</td>\n",
       "      <td>NaN</td>\n",
       "      <td>NaN</td>\n",
       "      <td>NaN</td>\n",
       "      <td>t1</td>\n",
       "    </tr>\n",
       "    <tr>\n",
       "      <th>SRR10505152</th>\n",
       "      <td>D53</td>\n",
       "      <td>Unknown</td>\n",
       "      <td>Unknown</td>\n",
       "      <td>NaN</td>\n",
       "      <td>Europe</td>\n",
       "      <td>Switzerland</td>\n",
       "      <td>Zurich</td>\n",
       "      <td>Zurich</td>\n",
       "      <td>Healthy</td>\n",
       "      <td>donor</td>\n",
       "      <td>NaN</td>\n",
       "      <td>NaN</td>\n",
       "      <td>NaN</td>\n",
       "      <td>t1</td>\n",
       "    </tr>\n",
       "    <tr>\n",
       "      <th>SRR10505153</th>\n",
       "      <td>2225</td>\n",
       "      <td>34</td>\n",
       "      <td>male</td>\n",
       "      <td>Caucasian</td>\n",
       "      <td>Europe</td>\n",
       "      <td>Switzerland</td>\n",
       "      <td>Zurich</td>\n",
       "      <td>Zurich</td>\n",
       "      <td>Puns</td>\n",
       "      <td>FMT</td>\n",
       "      <td>NR</td>\n",
       "      <td>6.0</td>\n",
       "      <td>5.0</td>\n",
       "      <td>pre-treatment</td>\n",
       "    </tr>\n",
       "    <tr>\n",
       "      <th>SRR10505154</th>\n",
       "      <td>1024</td>\n",
       "      <td>Unknown</td>\n",
       "      <td>female</td>\n",
       "      <td>Caucasian</td>\n",
       "      <td>Europe</td>\n",
       "      <td>Switzerland</td>\n",
       "      <td>Zurich</td>\n",
       "      <td>Zurich</td>\n",
       "      <td>Puns</td>\n",
       "      <td>FMT</td>\n",
       "      <td>Res</td>\n",
       "      <td>8.0</td>\n",
       "      <td>0.0</td>\n",
       "      <td>post-treatment</td>\n",
       "    </tr>\n",
       "    <tr>\n",
       "      <th>SRR10505155</th>\n",
       "      <td>1005</td>\n",
       "      <td>30</td>\n",
       "      <td>female</td>\n",
       "      <td>Caucasian</td>\n",
       "      <td>Europe</td>\n",
       "      <td>Switzerland</td>\n",
       "      <td>Zurich</td>\n",
       "      <td>Zurich</td>\n",
       "      <td>Puns</td>\n",
       "      <td>Placebo</td>\n",
       "      <td>NR</td>\n",
       "      <td>8.0</td>\n",
       "      <td>8.0</td>\n",
       "      <td>pre-treatment</td>\n",
       "    </tr>\n",
       "  </tbody>\n",
       "</table>\n",
       "<p>105 rows × 14 columns</p>\n",
       "</div>"
      ],
      "text/plain": [
       "            patient_id      age      sex              ethnicity continent  \\\n",
       "id                                                                          \n",
       "SRR10505051       1048       36   female              Caucasian    Europe   \n",
       "SRR10505052       1048       36   female              Caucasian    Europe   \n",
       "SRR10505053       1045       29     male              Caucasian    Europe   \n",
       "SRR10505054       1045       29     male              Caucasian    Europe   \n",
       "SRR10505055       1044       34     male  Indian Subcontinental    Europe   \n",
       "...                ...      ...      ...                    ...       ...   \n",
       "SRR10505151        D54  Unknown  Unknown                    NaN    Europe   \n",
       "SRR10505152        D53  Unknown  Unknown                    NaN    Europe   \n",
       "SRR10505153       2225       34     male              Caucasian    Europe   \n",
       "SRR10505154       1024  Unknown   female              Caucasian    Europe   \n",
       "SRR10505155       1005       30   female              Caucasian    Europe   \n",
       "\n",
       "                 country  region    city    group disease_subgroup  \\\n",
       "id                                                                   \n",
       "SRR10505051  Switzerland  Zurich  Zurich     Puns          Placebo   \n",
       "SRR10505052  Switzerland  Zurich  Zurich     Puns          Placebo   \n",
       "SRR10505053  Switzerland  Zurich  Zurich     Puns          Placebo   \n",
       "SRR10505054  Switzerland  Zurich  Zurich     Puns          Placebo   \n",
       "SRR10505055  Switzerland  Zurich  Zurich     Puns          Placebo   \n",
       "...                  ...     ...     ...      ...              ...   \n",
       "SRR10505151  Switzerland  Zurich  Zurich  Healthy            donor   \n",
       "SRR10505152  Switzerland  Zurich  Zurich  Healthy            donor   \n",
       "SRR10505153  Switzerland  Zurich  Zurich     Puns              FMT   \n",
       "SRR10505154  Switzerland  Zurich  Zurich     Puns              FMT   \n",
       "SRR10505155  Switzerland  Zurich  Zurich     Puns          Placebo   \n",
       "\n",
       "            blinded_clinical_response  puns_per_hour_pre_treatment  \\\n",
       "id                                                                   \n",
       "SRR10505051                        NR                          9.0   \n",
       "SRR10505052                        NR                          9.0   \n",
       "SRR10505053                       Res                          6.0   \n",
       "SRR10505054                       Res                          6.0   \n",
       "SRR10505055                       NaN                          4.0   \n",
       "...                               ...                          ...   \n",
       "SRR10505151                       NaN                          NaN   \n",
       "SRR10505152                       NaN                          NaN   \n",
       "SRR10505153                        NR                          6.0   \n",
       "SRR10505154                       Res                          8.0   \n",
       "SRR10505155                        NR                          8.0   \n",
       "\n",
       "             puns_per_hour_post_treatment      time_point  \n",
       "id                                                         \n",
       "SRR10505051                           8.0  post-treatment  \n",
       "SRR10505052                           8.0   pre-treatment  \n",
       "SRR10505053                           0.0   pre-treatment  \n",
       "SRR10505054                           0.0  post-treatment  \n",
       "SRR10505055                           NaN   pre-treatment  \n",
       "...                                   ...             ...  \n",
       "SRR10505151                           NaN              t1  \n",
       "SRR10505152                           NaN              t1  \n",
       "SRR10505153                           5.0   pre-treatment  \n",
       "SRR10505154                           0.0  post-treatment  \n",
       "SRR10505155                           8.0   pre-treatment  \n",
       "\n",
       "[105 rows x 14 columns]"
      ]
     },
     "execution_count": 2,
     "metadata": {},
     "output_type": "execute_result"
    }
   ],
   "source": [
    "# Metadata df creation and overview\n",
    "meta_df = pd.read_csv('data/raw/pundemic_metadata.tsv', sep='\\t', index_col=0)\n",
    "meta_df"
   ]
  },
  {
   "cell_type": "code",
   "execution_count": 3,
   "id": "a453f78f-4daf-4176-8a2c-98e575b72d4c",
   "metadata": {
    "tags": []
   },
   "outputs": [
    {
     "data": {
      "text/html": [
       "<div>\n",
       "<style scoped>\n",
       "    .dataframe tbody tr th:only-of-type {\n",
       "        vertical-align: middle;\n",
       "    }\n",
       "\n",
       "    .dataframe tbody tr th {\n",
       "        vertical-align: top;\n",
       "    }\n",
       "\n",
       "    .dataframe thead th {\n",
       "        text-align: right;\n",
       "    }\n",
       "</style>\n",
       "<table border=\"1\" class=\"dataframe\">\n",
       "  <thead>\n",
       "    <tr style=\"text-align: right;\">\n",
       "      <th></th>\n",
       "      <th>patient_id</th>\n",
       "      <th>age</th>\n",
       "      <th>sex</th>\n",
       "      <th>ethnicity</th>\n",
       "      <th>continent</th>\n",
       "      <th>country</th>\n",
       "      <th>region</th>\n",
       "      <th>city</th>\n",
       "      <th>group</th>\n",
       "      <th>disease_subgroup</th>\n",
       "      <th>blinded_clinical_response</th>\n",
       "      <th>puns_per_hour_pre_treatment</th>\n",
       "      <th>puns_per_hour_post_treatment</th>\n",
       "      <th>time_point</th>\n",
       "    </tr>\n",
       "    <tr>\n",
       "      <th>id</th>\n",
       "      <th></th>\n",
       "      <th></th>\n",
       "      <th></th>\n",
       "      <th></th>\n",
       "      <th></th>\n",
       "      <th></th>\n",
       "      <th></th>\n",
       "      <th></th>\n",
       "      <th></th>\n",
       "      <th></th>\n",
       "      <th></th>\n",
       "      <th></th>\n",
       "      <th></th>\n",
       "      <th></th>\n",
       "    </tr>\n",
       "  </thead>\n",
       "  <tbody>\n",
       "    <tr>\n",
       "      <th>SRR10505051</th>\n",
       "      <td>1048</td>\n",
       "      <td>36</td>\n",
       "      <td>female</td>\n",
       "      <td>Caucasian</td>\n",
       "      <td>Europe</td>\n",
       "      <td>Switzerland</td>\n",
       "      <td>Zurich</td>\n",
       "      <td>Zurich</td>\n",
       "      <td>Puns</td>\n",
       "      <td>Placebo</td>\n",
       "      <td>NR</td>\n",
       "      <td>9.0</td>\n",
       "      <td>8.0</td>\n",
       "      <td>post-treatment</td>\n",
       "    </tr>\n",
       "    <tr>\n",
       "      <th>SRR10505052</th>\n",
       "      <td>1048</td>\n",
       "      <td>36</td>\n",
       "      <td>female</td>\n",
       "      <td>Caucasian</td>\n",
       "      <td>Europe</td>\n",
       "      <td>Switzerland</td>\n",
       "      <td>Zurich</td>\n",
       "      <td>Zurich</td>\n",
       "      <td>Puns</td>\n",
       "      <td>Placebo</td>\n",
       "      <td>NR</td>\n",
       "      <td>9.0</td>\n",
       "      <td>8.0</td>\n",
       "      <td>pre-treatment</td>\n",
       "    </tr>\n",
       "    <tr>\n",
       "      <th>SRR10505053</th>\n",
       "      <td>1045</td>\n",
       "      <td>29</td>\n",
       "      <td>male</td>\n",
       "      <td>Caucasian</td>\n",
       "      <td>Europe</td>\n",
       "      <td>Switzerland</td>\n",
       "      <td>Zurich</td>\n",
       "      <td>Zurich</td>\n",
       "      <td>Puns</td>\n",
       "      <td>Placebo</td>\n",
       "      <td>Res</td>\n",
       "      <td>6.0</td>\n",
       "      <td>0.0</td>\n",
       "      <td>pre-treatment</td>\n",
       "    </tr>\n",
       "    <tr>\n",
       "      <th>SRR10505054</th>\n",
       "      <td>1045</td>\n",
       "      <td>29</td>\n",
       "      <td>male</td>\n",
       "      <td>Caucasian</td>\n",
       "      <td>Europe</td>\n",
       "      <td>Switzerland</td>\n",
       "      <td>Zurich</td>\n",
       "      <td>Zurich</td>\n",
       "      <td>Puns</td>\n",
       "      <td>Placebo</td>\n",
       "      <td>Res</td>\n",
       "      <td>6.0</td>\n",
       "      <td>0.0</td>\n",
       "      <td>post-treatment</td>\n",
       "    </tr>\n",
       "    <tr>\n",
       "      <th>SRR10505055</th>\n",
       "      <td>1044</td>\n",
       "      <td>34</td>\n",
       "      <td>male</td>\n",
       "      <td>Indian Subcontinental</td>\n",
       "      <td>Europe</td>\n",
       "      <td>Switzerland</td>\n",
       "      <td>Zurich</td>\n",
       "      <td>Zurich</td>\n",
       "      <td>Puns</td>\n",
       "      <td>Placebo</td>\n",
       "      <td>NaN</td>\n",
       "      <td>4.0</td>\n",
       "      <td>NaN</td>\n",
       "      <td>pre-treatment</td>\n",
       "    </tr>\n",
       "  </tbody>\n",
       "</table>\n",
       "</div>"
      ],
      "text/plain": [
       "            patient_id age     sex              ethnicity continent  \\\n",
       "id                                                                    \n",
       "SRR10505051       1048  36  female              Caucasian    Europe   \n",
       "SRR10505052       1048  36  female              Caucasian    Europe   \n",
       "SRR10505053       1045  29    male              Caucasian    Europe   \n",
       "SRR10505054       1045  29    male              Caucasian    Europe   \n",
       "SRR10505055       1044  34    male  Indian Subcontinental    Europe   \n",
       "\n",
       "                 country  region    city group disease_subgroup  \\\n",
       "id                                                                \n",
       "SRR10505051  Switzerland  Zurich  Zurich  Puns          Placebo   \n",
       "SRR10505052  Switzerland  Zurich  Zurich  Puns          Placebo   \n",
       "SRR10505053  Switzerland  Zurich  Zurich  Puns          Placebo   \n",
       "SRR10505054  Switzerland  Zurich  Zurich  Puns          Placebo   \n",
       "SRR10505055  Switzerland  Zurich  Zurich  Puns          Placebo   \n",
       "\n",
       "            blinded_clinical_response  puns_per_hour_pre_treatment  \\\n",
       "id                                                                   \n",
       "SRR10505051                        NR                          9.0   \n",
       "SRR10505052                        NR                          9.0   \n",
       "SRR10505053                       Res                          6.0   \n",
       "SRR10505054                       Res                          6.0   \n",
       "SRR10505055                       NaN                          4.0   \n",
       "\n",
       "             puns_per_hour_post_treatment      time_point  \n",
       "id                                                         \n",
       "SRR10505051                           8.0  post-treatment  \n",
       "SRR10505052                           8.0   pre-treatment  \n",
       "SRR10505053                           0.0   pre-treatment  \n",
       "SRR10505054                           0.0  post-treatment  \n",
       "SRR10505055                           NaN   pre-treatment  "
      ]
     },
     "execution_count": 3,
     "metadata": {},
     "output_type": "execute_result"
    }
   ],
   "source": [
    "meta_df.head()"
   ]
  },
  {
   "cell_type": "code",
   "execution_count": 4,
   "id": "5543fbf4-0962-4dc6-8322-11df72429d73",
   "metadata": {
    "tags": []
   },
   "outputs": [
    {
     "data": {
      "text/plain": [
       "array(['Placebo', 'FMT', 'donor'], dtype=object)"
      ]
     },
     "execution_count": 4,
     "metadata": {},
     "output_type": "execute_result"
    }
   ],
   "source": [
    "meta_df['disease_subgroup'].unique()"
   ]
  },
  {
   "cell_type": "code",
   "execution_count": 19,
   "id": "49a49e38-67f4-4d47-a124-402256ff9b10",
   "metadata": {
    "tags": []
   },
   "outputs": [],
   "source": [
    "patient_df = meta_df[(meta_df['disease_subgroup'] == \"placebo\") | (meta_df['disease_subgroup'] == \"FMT\")]\n",
    "patient_df.to_csv('data/raw/patient_df', sep = '\\t')"
   ]
  },
  {
   "cell_type": "code",
   "execution_count": 20,
   "id": "7d82240b-8584-4baf-895f-5681d5f2c3c7",
   "metadata": {
    "tags": []
   },
   "outputs": [],
   "source": [
    "donor_df = meta_df[(meta_df['disease_subgroup'] == \"donor\")]\n",
    "donor_df.to_csv('data/raw/donor_df', sep = '\\t')"
   ]
  },
  {
   "cell_type": "code",
   "execution_count": 25,
   "id": "a0cd6b41-6f98-4316-afbf-1360d43a331d",
   "metadata": {
    "collapsed": true,
    "jupyter": {
     "outputs_hidden": true
    },
    "tags": []
   },
   "outputs": [
    {
     "data": {
      "text/html": [
       "<div>\n",
       "<style scoped>\n",
       "    .dataframe tbody tr th:only-of-type {\n",
       "        vertical-align: middle;\n",
       "    }\n",
       "\n",
       "    .dataframe tbody tr th {\n",
       "        vertical-align: top;\n",
       "    }\n",
       "\n",
       "    .dataframe thead th {\n",
       "        text-align: right;\n",
       "    }\n",
       "</style>\n",
       "<table border=\"1\" class=\"dataframe\">\n",
       "  <thead>\n",
       "    <tr style=\"text-align: right;\">\n",
       "      <th></th>\n",
       "      <th>patient_id</th>\n",
       "      <th>age</th>\n",
       "      <th>sex</th>\n",
       "      <th>ethnicity</th>\n",
       "      <th>continent</th>\n",
       "      <th>country</th>\n",
       "      <th>region</th>\n",
       "      <th>city</th>\n",
       "      <th>group</th>\n",
       "      <th>disease_subgroup</th>\n",
       "      <th>blinded_clinical_response</th>\n",
       "      <th>puns_per_hour_pre_treatment</th>\n",
       "      <th>puns_per_hour_post_treatment</th>\n",
       "      <th>time_point</th>\n",
       "    </tr>\n",
       "    <tr>\n",
       "      <th>id</th>\n",
       "      <th></th>\n",
       "      <th></th>\n",
       "      <th></th>\n",
       "      <th></th>\n",
       "      <th></th>\n",
       "      <th></th>\n",
       "      <th></th>\n",
       "      <th></th>\n",
       "      <th></th>\n",
       "      <th></th>\n",
       "      <th></th>\n",
       "      <th></th>\n",
       "      <th></th>\n",
       "      <th></th>\n",
       "    </tr>\n",
       "  </thead>\n",
       "  <tbody>\n",
       "    <tr>\n",
       "      <th>SRR10505051</th>\n",
       "      <td>1048</td>\n",
       "      <td>36</td>\n",
       "      <td>female</td>\n",
       "      <td>Caucasian</td>\n",
       "      <td>Europe</td>\n",
       "      <td>Switzerland</td>\n",
       "      <td>Zurich</td>\n",
       "      <td>Zurich</td>\n",
       "      <td>Puns</td>\n",
       "      <td>Placebo</td>\n",
       "      <td>NR</td>\n",
       "      <td>9.0</td>\n",
       "      <td>8.0</td>\n",
       "      <td>post-treatment</td>\n",
       "    </tr>\n",
       "    <tr>\n",
       "      <th>SRR10505052</th>\n",
       "      <td>1048</td>\n",
       "      <td>36</td>\n",
       "      <td>female</td>\n",
       "      <td>Caucasian</td>\n",
       "      <td>Europe</td>\n",
       "      <td>Switzerland</td>\n",
       "      <td>Zurich</td>\n",
       "      <td>Zurich</td>\n",
       "      <td>Puns</td>\n",
       "      <td>Placebo</td>\n",
       "      <td>NR</td>\n",
       "      <td>9.0</td>\n",
       "      <td>8.0</td>\n",
       "      <td>pre-treatment</td>\n",
       "    </tr>\n",
       "    <tr>\n",
       "      <th>SRR10505053</th>\n",
       "      <td>1045</td>\n",
       "      <td>29</td>\n",
       "      <td>male</td>\n",
       "      <td>Caucasian</td>\n",
       "      <td>Europe</td>\n",
       "      <td>Switzerland</td>\n",
       "      <td>Zurich</td>\n",
       "      <td>Zurich</td>\n",
       "      <td>Puns</td>\n",
       "      <td>Placebo</td>\n",
       "      <td>Res</td>\n",
       "      <td>6.0</td>\n",
       "      <td>0.0</td>\n",
       "      <td>pre-treatment</td>\n",
       "    </tr>\n",
       "    <tr>\n",
       "      <th>SRR10505054</th>\n",
       "      <td>1045</td>\n",
       "      <td>29</td>\n",
       "      <td>male</td>\n",
       "      <td>Caucasian</td>\n",
       "      <td>Europe</td>\n",
       "      <td>Switzerland</td>\n",
       "      <td>Zurich</td>\n",
       "      <td>Zurich</td>\n",
       "      <td>Puns</td>\n",
       "      <td>Placebo</td>\n",
       "      <td>Res</td>\n",
       "      <td>6.0</td>\n",
       "      <td>0.0</td>\n",
       "      <td>post-treatment</td>\n",
       "    </tr>\n",
       "    <tr>\n",
       "      <th>SRR10505055</th>\n",
       "      <td>1044</td>\n",
       "      <td>34</td>\n",
       "      <td>male</td>\n",
       "      <td>Indian Subcontinental</td>\n",
       "      <td>Europe</td>\n",
       "      <td>Switzerland</td>\n",
       "      <td>Zurich</td>\n",
       "      <td>Zurich</td>\n",
       "      <td>Puns</td>\n",
       "      <td>Placebo</td>\n",
       "      <td>NaN</td>\n",
       "      <td>4.0</td>\n",
       "      <td>NaN</td>\n",
       "      <td>pre-treatment</td>\n",
       "    </tr>\n",
       "    <tr>\n",
       "      <th>...</th>\n",
       "      <td>...</td>\n",
       "      <td>...</td>\n",
       "      <td>...</td>\n",
       "      <td>...</td>\n",
       "      <td>...</td>\n",
       "      <td>...</td>\n",
       "      <td>...</td>\n",
       "      <td>...</td>\n",
       "      <td>...</td>\n",
       "      <td>...</td>\n",
       "      <td>...</td>\n",
       "      <td>...</td>\n",
       "      <td>...</td>\n",
       "      <td>...</td>\n",
       "    </tr>\n",
       "    <tr>\n",
       "      <th>SRR10505141</th>\n",
       "      <td>1001</td>\n",
       "      <td>57</td>\n",
       "      <td>female</td>\n",
       "      <td>Caucasian</td>\n",
       "      <td>Europe</td>\n",
       "      <td>Switzerland</td>\n",
       "      <td>Zurich</td>\n",
       "      <td>Zurich</td>\n",
       "      <td>Puns</td>\n",
       "      <td>FMT</td>\n",
       "      <td>Res</td>\n",
       "      <td>7.0</td>\n",
       "      <td>2.0</td>\n",
       "      <td>pre-treatment</td>\n",
       "    </tr>\n",
       "    <tr>\n",
       "      <th>SRR10505142</th>\n",
       "      <td>1001</td>\n",
       "      <td>57</td>\n",
       "      <td>female</td>\n",
       "      <td>Caucasian</td>\n",
       "      <td>Europe</td>\n",
       "      <td>Switzerland</td>\n",
       "      <td>Zurich</td>\n",
       "      <td>Zurich</td>\n",
       "      <td>Puns</td>\n",
       "      <td>FMT</td>\n",
       "      <td>Res</td>\n",
       "      <td>7.0</td>\n",
       "      <td>2.0</td>\n",
       "      <td>post-treatment</td>\n",
       "    </tr>\n",
       "    <tr>\n",
       "      <th>SRR10505153</th>\n",
       "      <td>2225</td>\n",
       "      <td>34</td>\n",
       "      <td>male</td>\n",
       "      <td>Caucasian</td>\n",
       "      <td>Europe</td>\n",
       "      <td>Switzerland</td>\n",
       "      <td>Zurich</td>\n",
       "      <td>Zurich</td>\n",
       "      <td>Puns</td>\n",
       "      <td>FMT</td>\n",
       "      <td>NR</td>\n",
       "      <td>6.0</td>\n",
       "      <td>5.0</td>\n",
       "      <td>pre-treatment</td>\n",
       "    </tr>\n",
       "    <tr>\n",
       "      <th>SRR10505154</th>\n",
       "      <td>1024</td>\n",
       "      <td>Unknown</td>\n",
       "      <td>female</td>\n",
       "      <td>Caucasian</td>\n",
       "      <td>Europe</td>\n",
       "      <td>Switzerland</td>\n",
       "      <td>Zurich</td>\n",
       "      <td>Zurich</td>\n",
       "      <td>Puns</td>\n",
       "      <td>FMT</td>\n",
       "      <td>Res</td>\n",
       "      <td>8.0</td>\n",
       "      <td>0.0</td>\n",
       "      <td>post-treatment</td>\n",
       "    </tr>\n",
       "    <tr>\n",
       "      <th>SRR10505155</th>\n",
       "      <td>1005</td>\n",
       "      <td>30</td>\n",
       "      <td>female</td>\n",
       "      <td>Caucasian</td>\n",
       "      <td>Europe</td>\n",
       "      <td>Switzerland</td>\n",
       "      <td>Zurich</td>\n",
       "      <td>Zurich</td>\n",
       "      <td>Puns</td>\n",
       "      <td>Placebo</td>\n",
       "      <td>NR</td>\n",
       "      <td>8.0</td>\n",
       "      <td>8.0</td>\n",
       "      <td>pre-treatment</td>\n",
       "    </tr>\n",
       "  </tbody>\n",
       "</table>\n",
       "<p>87 rows × 14 columns</p>\n",
       "</div>"
      ],
      "text/plain": [
       "            patient_id      age     sex              ethnicity continent  \\\n",
       "id                                                                         \n",
       "SRR10505051       1048       36  female              Caucasian    Europe   \n",
       "SRR10505052       1048       36  female              Caucasian    Europe   \n",
       "SRR10505053       1045       29    male              Caucasian    Europe   \n",
       "SRR10505054       1045       29    male              Caucasian    Europe   \n",
       "SRR10505055       1044       34    male  Indian Subcontinental    Europe   \n",
       "...                ...      ...     ...                    ...       ...   \n",
       "SRR10505141       1001       57  female              Caucasian    Europe   \n",
       "SRR10505142       1001       57  female              Caucasian    Europe   \n",
       "SRR10505153       2225       34    male              Caucasian    Europe   \n",
       "SRR10505154       1024  Unknown  female              Caucasian    Europe   \n",
       "SRR10505155       1005       30  female              Caucasian    Europe   \n",
       "\n",
       "                 country  region    city group disease_subgroup  \\\n",
       "id                                                                \n",
       "SRR10505051  Switzerland  Zurich  Zurich  Puns          Placebo   \n",
       "SRR10505052  Switzerland  Zurich  Zurich  Puns          Placebo   \n",
       "SRR10505053  Switzerland  Zurich  Zurich  Puns          Placebo   \n",
       "SRR10505054  Switzerland  Zurich  Zurich  Puns          Placebo   \n",
       "SRR10505055  Switzerland  Zurich  Zurich  Puns          Placebo   \n",
       "...                  ...     ...     ...   ...              ...   \n",
       "SRR10505141  Switzerland  Zurich  Zurich  Puns              FMT   \n",
       "SRR10505142  Switzerland  Zurich  Zurich  Puns              FMT   \n",
       "SRR10505153  Switzerland  Zurich  Zurich  Puns              FMT   \n",
       "SRR10505154  Switzerland  Zurich  Zurich  Puns              FMT   \n",
       "SRR10505155  Switzerland  Zurich  Zurich  Puns          Placebo   \n",
       "\n",
       "            blinded_clinical_response  puns_per_hour_pre_treatment  \\\n",
       "id                                                                   \n",
       "SRR10505051                        NR                          9.0   \n",
       "SRR10505052                        NR                          9.0   \n",
       "SRR10505053                       Res                          6.0   \n",
       "SRR10505054                       Res                          6.0   \n",
       "SRR10505055                       NaN                          4.0   \n",
       "...                               ...                          ...   \n",
       "SRR10505141                       Res                          7.0   \n",
       "SRR10505142                       Res                          7.0   \n",
       "SRR10505153                        NR                          6.0   \n",
       "SRR10505154                       Res                          8.0   \n",
       "SRR10505155                        NR                          8.0   \n",
       "\n",
       "             puns_per_hour_post_treatment      time_point  \n",
       "id                                                         \n",
       "SRR10505051                           8.0  post-treatment  \n",
       "SRR10505052                           8.0   pre-treatment  \n",
       "SRR10505053                           0.0   pre-treatment  \n",
       "SRR10505054                           0.0  post-treatment  \n",
       "SRR10505055                           NaN   pre-treatment  \n",
       "...                                   ...             ...  \n",
       "SRR10505141                           2.0   pre-treatment  \n",
       "SRR10505142                           2.0  post-treatment  \n",
       "SRR10505153                           5.0   pre-treatment  \n",
       "SRR10505154                           0.0  post-treatment  \n",
       "SRR10505155                           8.0   pre-treatment  \n",
       "\n",
       "[87 rows x 14 columns]"
      ]
     },
     "execution_count": 25,
     "metadata": {},
     "output_type": "execute_result"
    }
   ],
   "source": [
    "meta_df[(meta_df['time_point'] == \"pre-treatment\") | (meta_df['time_point'] == \"post-treatment\")]"
   ]
  },
  {
   "cell_type": "markdown",
   "id": "db3ef218-33bd-4426-91f6-8ab6e89d5668",
   "metadata": {},
   "source": [
    "We have 105 samples"
   ]
  },
  {
   "cell_type": "markdown",
   "id": "ac5de352-b8db-46e2-8e43-1defd73bff9b",
   "metadata": {},
   "source": [
    "### Plots exploring data"
   ]
  },
  {
   "cell_type": "code",
   "execution_count": 10,
   "id": "170dd10f-76c0-47a3-9711-dd2fd72a4d0b",
   "metadata": {
    "tags": []
   },
   "outputs": [
    {
     "data": {
      "image/png": "[encoded data removed]",
      "text/plain": [
       "<Figure size 600x400 with 1 Axes>"
      ]
     },
     "metadata": {},
     "output_type": "display_data"
    }
   ],
   "source": [
    "sex_counts = meta_df['sex'].value_counts()\n",
    "\n",
    "# Create a barplot\n",
    "plt.figure(figsize=(6, 4))\n",
    "plt.bar(sex_counts.index, sex_counts.values, color=['skyblue', 'lightcoral', 'purple'])\n",
    "plt.xlabel('Sex')\n",
    "plt.ylabel('Count')\n",
    "plt.title('Sex Ratio')\n",
    "plt.show()"
   ]
  },
  {
   "cell_type": "code",
   "execution_count": 13,
   "id": "99d95615-6ce9-4c4b-b795-3d93d14a9f5b",
   "metadata": {
    "tags": []
   },
   "outputs": [
    {
     "data": {
      "image/png": "[encoded data removed]",
      "text/plain": [
       "<Figure size 600x400 with 1 Axes>"
      ]
     },
     "metadata": {},
     "output_type": "display_data"
    }
   ],
   "source": [
    "disease_counts = meta_df['disease_subgroup'].value_counts()\n",
    "\n",
    "# Create a barplot\n",
    "plt.figure(figsize=(6, 4))\n",
    "plt.bar(disease_counts.index, disease_counts.values, color=['skyblue', 'lightcoral', 'purple'])\n",
    "plt.xlabel('Disease Subgroups')\n",
    "plt.ylabel('Count')\n",
    "plt.title('Overview over disease subgroups')\n",
    "plt.show()"
   ]
  },
  {
   "cell_type": "code",
   "execution_count": 15,
   "id": "7bd1b37f-c30f-47db-a0f4-84f794975251",
   "metadata": {
    "tags": []
   },
   "outputs": [
    {
     "data": {
      "image/png": "[encoded data removed]",
      "text/plain": [
       "<Figure size 600x400 with 1 Axes>"
      ]
     },
     "metadata": {},
     "output_type": "display_data"
    }
   ],
   "source": [
    "time_counts = meta_df['time_point'].value_counts()\n",
    "\n",
    "# Create a barplot\n",
    "plt.figure(figsize=(6, 4))\n",
    "plt.bar(time_counts.index, time_counts.values, color=['skyblue', 'lightcoral', 'purple', 'darkblue'])\n",
    "plt.xlabel('Timepoints')\n",
    "plt.ylabel('Count')\n",
    "plt.title('Overview over timepoints')\n",
    "plt.show()"
   ]
  },
  {
   "cell_type": "markdown",
   "id": "b52a2c14-7493-4215-9281-33d01d7aba90",
   "metadata": {},
   "source": [
    "## Sequence Import"
   ]
  },
  {
   "cell_type": "code",
   "execution_count": 22,
   "id": "c4a29a3a-e282-4b31-b726-fcb223211027",
   "metadata": {
    "tags": []
   },
   "outputs": [
    {
     "name": "stdout",
     "output_type": "stream",
     "text": [
      "\u001b[32mUUID\u001b[0m:        15b104e4-bd22-4469-92ac-e08f76767733\n",
      "\u001b[32mType\u001b[0m:        SampleData[SequencesWithQuality]\n",
      "\u001b[32mData format\u001b[0m: SingleLanePerSampleSingleEndFastqDirFmt\n"
     ]
    }
   ],
   "source": [
    "! qiime tools peek $data_dir/pundemic_forward_reads.qza"
   ]
  },
  {
   "cell_type": "code",
   "execution_count": 25,
   "id": "9dbb5753-cb34-4977-80c8-23005bcae7c0",
   "metadata": {
    "tags": []
   },
   "outputs": [
    {
     "name": "stdout",
     "output_type": "stream",
     "text": [
      "\u001b[32mSaved Visualization to: data/raw/pundemic_forward_reads.qzv\u001b[0m\n",
      "\u001b[0m"
     ]
    }
   ],
   "source": [
    "! qiime demux summarize \\\n",
    "    --i-data $data_dir/pundemic_forward_reads.qza \\\n",
    "    --o-visualization $data_dir/pundemic_forward_reads.qzv"
   ]
  },
  {
   "cell_type": "code",
   "execution_count": 26,
   "id": "0f6307fb-867e-4155-9825-ce333d382778",
   "metadata": {
    "tags": []
   },
   "outputs": [
    {
     "data": {
      "text/html": [
       "<div><img onload=\"(function(div, url){\n",
       "if (typeof require !== 'undefined') {\n",
       "    var baseURL = require.toUrl('').split('/').slice(0, -2).join('/');\n",
       "} else {\n",
       "    var baseURL = JSON.parse(\n",
       "        document.getElementById('jupyter-config-data').innerHTML\n",
       "    ).baseUrl.slice(0, -1);\n",
       "}\n",
       "url = baseURL + url;\n",
       "fetch(url).then(function(res) {\n",
       "    if (res.status === 404) {\n",
       "        div.innerHTML = 'Install QIIME 2 Jupyter extension with:<br />' +\n",
       "                        '<code>jupyter serverextension enable --py qiime2' +\n",
       "                        ' --sys-prefix</code><br />then restart your server.' +\n",
       "                        '<br /><br />(Interactive output not available on ' +\n",
       "                        'static notebook viewer services like nbviewer.)';\n",
       "    } else if (res.status === 409) {\n",
       "        div.innerHTML = 'Visualization no longer in scope. Re-run this cell' +\n",
       "                        ' to see the visualization.';\n",
       "    } else if (res.ok) {\n",
       "        url = res.url;\n",
       "        div.innerHTML = '<iframe src=\\'' + url + '\\' style=\\'' +\n",
       "                        'width: 100%; height: 700px; border: 0;\\'>' +\n",
       "                        '</iframe><hr />Open in a: <a href=\\'' + url + '\\'' +\n",
       "                        ' target=\\'_blank\\'>new window</a>'\n",
       "    } else {\n",
       "        div.innerHTML = 'Something has gone wrong. Check notebook server for' +\n",
       "                        ' errors.';\n",
       "    }\n",
       "});\n",
       "})(this.parentElement, '/qiime2/redirect?location=/tmp/qiime2/jovyan/data/84dda303-0886-4a9f-9f5e-bf58b7fdcd3e')\" src=\"data:image/gif;base64,R0lGODlhAQABAIAAAP///wAAACH5BAEAAAAALAAAAAABAAEAAAICRAEAOw==\" /></div>"
      ],
      "text/plain": [
       "<visualization: Visualization uuid: 84dda303-0886-4a9f-9f5e-bf58b7fdcd3e>"
      ]
     },
     "execution_count": 26,
     "metadata": {},
     "output_type": "execute_result"
    }
   ],
   "source": [
    "Visualization.load(f\"{data_dir}/pundemic_forward_reads.qzv\")"
   ]
  },
  {
   "cell_type": "markdown",
   "id": "9a82ec34-da8a-4c3c-900c-825b4240d93b",
   "metadata": {},
   "source": [
    "## Denoising\n",
    "Our sequences originate from the ITS-1 region and were sequenced on an Illumina MiSeq machine. The sequence files contain demultiplexed single-end sequences.\n",
    "\n",
    "For denoising we are trimming the data after 129 nucleotides (at 130 first time 25 per centile quality score dropped below 20). We're doing this using DADA2. It also removes chimeras. The output of applying DADA gives us features which are representative sequences for organisms."
   ]
  },
  {
   "cell_type": "code",
   "execution_count": 27,
   "id": "ceeb4dd7-4f80-425c-973a-05ec56a084c8",
   "metadata": {
    "tags": []
   },
   "outputs": [
    {
     "name": "stdout",
     "output_type": "stream",
     "text": [
      "\u001b[32mSaved FeatureTable[Frequency] to: data/raw/dada2_table.qza\u001b[0m\n",
      "\u001b[32mSaved FeatureData[Sequence] to: data/raw/dada2_rep_seq.qza\u001b[0m\n",
      "\u001b[32mSaved SampleData[DADA2Stats] to: data/raw/dada2_stats.qza\u001b[0m\n",
      "\u001b[0m"
     ]
    }
   ],
   "source": [
    "! qiime dada2 denoise-single \\\n",
    "    --i-demultiplexed-seqs $data_dir_p/pundemic_forward_reads.qza \\\n",
    "    --p-trunc-len 129 \\\n",
    "    --p-n-threads 3 \\\n",
    "    --o-table $data_dir_p/dada2_table.qza \\\n",
    "    --o-representative-sequences $data_dir_p/dada2_rep_seq.qza \\\n",
    "    --o-denoising-stats $data_dir_p/dada2_stats.qza"
   ]
  },
  {
   "cell_type": "code",
   "execution_count": 28,
   "id": "4e3b5c3b-c384-4974-90cf-50e85343bba8",
   "metadata": {
    "tags": []
   },
   "outputs": [
    {
     "name": "stdout",
     "output_type": "stream",
     "text": [
      "\u001b[32mSaved Visualization to: data/raw/dada2_stats.qzv\u001b[0m\n",
      "\u001b[0m"
     ]
    }
   ],
   "source": [
    "! qiime metadata tabulate \\\n",
    "    --m-input-file $data_dir_p/dada2_stats.qza \\\n",
    "    --o-visualization $data_dir_p/dada2_stats.qzv"
   ]
  },
  {
   "cell_type": "code",
   "execution_count": 29,
   "id": "8a9d9110-a80b-45b5-9ace-d3ec5b725ff7",
   "metadata": {
    "tags": []
   },
   "outputs": [
    {
     "data": {
      "text/html": [
       "<div><img onload=\"(function(div, url){\n",
       "if (typeof require !== 'undefined') {\n",
       "    var baseURL = require.toUrl('').split('/').slice(0, -2).join('/');\n",
       "} else {\n",
       "    var baseURL = JSON.parse(\n",
       "        document.getElementById('jupyter-config-data').innerHTML\n",
       "    ).baseUrl.slice(0, -1);\n",
       "}\n",
       "url = baseURL + url;\n",
       "fetch(url).then(function(res) {\n",
       "    if (res.status === 404) {\n",
       "        div.innerHTML = 'Install QIIME 2 Jupyter extension with:<br />' +\n",
       "                        '<code>jupyter serverextension enable --py qiime2' +\n",
       "                        ' --sys-prefix</code><br />then restart your server.' +\n",
       "                        '<br /><br />(Interactive output not available on ' +\n",
       "                        'static notebook viewer services like nbviewer.)';\n",
       "    } else if (res.status === 409) {\n",
       "        div.innerHTML = 'Visualization no longer in scope. Re-run this cell' +\n",
       "                        ' to see the visualization.';\n",
       "    } else if (res.ok) {\n",
       "        url = res.url;\n",
       "        div.innerHTML = '<iframe src=\\'' + url + '\\' style=\\'' +\n",
       "                        'width: 100%; height: 700px; border: 0;\\'>' +\n",
       "                        '</iframe><hr />Open in a: <a href=\\'' + url + '\\'' +\n",
       "                        ' target=\\'_blank\\'>new window</a>'\n",
       "    } else {\n",
       "        div.innerHTML = 'Something has gone wrong. Check notebook server for' +\n",
       "                        ' errors.';\n",
       "    }\n",
       "});\n",
       "})(this.parentElement, '/qiime2/redirect?location=/tmp/qiime2/jovyan/data/3183ea2b-e4f7-463d-81a7-688289d73f80')\" src=\"data:image/gif;base64,R0lGODlhAQABAIAAAP///wAAACH5BAEAAAAALAAAAAABAAEAAAICRAEAOw==\" /></div>"
      ],
      "text/plain": [
       "<visualization: Visualization uuid: 3183ea2b-e4f7-463d-81a7-688289d73f80>"
      ]
     },
     "execution_count": 29,
     "metadata": {},
     "output_type": "execute_result"
    }
   ],
   "source": [
    "Visualization.load(f\"{data_dir_p}/dada2_stats.qzv\")"
   ]
  },
  {
   "cell_type": "code",
   "execution_count": 31,
   "id": "f22116c5-1279-4fe6-a921-04e9b9e1f95b",
   "metadata": {
    "tags": []
   },
   "outputs": [
    {
     "name": "stdout",
     "output_type": "stream",
     "text": [
      "\u001b[32mSaved Visualization to: data/processed/dada2_rep_seq.qzv\u001b[0m\n",
      "\u001b[0m"
     ]
    }
   ],
   "source": [
    "! qiime feature-table tabulate-seqs \\\n",
    "    --i-data $data_dir_p/dada2_rep_seq.qza \\\n",
    "    --o-visualization $data_dir_p/dada2_rep_seq.qzv"
   ]
  },
  {
   "cell_type": "code",
   "execution_count": 34,
   "id": "09cb4b48-1c59-4a58-b34b-f8726893c717",
   "metadata": {
    "tags": []
   },
   "outputs": [
    {
     "data": {
      "text/html": [
       "<div><img onload=\"(function(div, url){\n",
       "if (typeof require !== 'undefined') {\n",
       "    var baseURL = require.toUrl('').split('/').slice(0, -2).join('/');\n",
       "} else {\n",
       "    var baseURL = JSON.parse(\n",
       "        document.getElementById('jupyter-config-data').innerHTML\n",
       "    ).baseUrl.slice(0, -1);\n",
       "}\n",
       "url = baseURL + url;\n",
       "fetch(url).then(function(res) {\n",
       "    if (res.status === 404) {\n",
       "        div.innerHTML = 'Install QIIME 2 Jupyter extension with:<br />' +\n",
       "                        '<code>jupyter serverextension enable --py qiime2' +\n",
       "                        ' --sys-prefix</code><br />then restart your server.' +\n",
       "                        '<br /><br />(Interactive output not available on ' +\n",
       "                        'static notebook viewer services like nbviewer.)';\n",
       "    } else if (res.status === 409) {\n",
       "        div.innerHTML = 'Visualization no longer in scope. Re-run this cell' +\n",
       "                        ' to see the visualization.';\n",
       "    } else if (res.ok) {\n",
       "        url = res.url;\n",
       "        div.innerHTML = '<iframe src=\\'' + url + '\\' style=\\'' +\n",
       "                        'width: 100%; height: 700px; border: 0;\\'>' +\n",
       "                        '</iframe><hr />Open in a: <a href=\\'' + url + '\\'' +\n",
       "                        ' target=\\'_blank\\'>new window</a>'\n",
       "    } else {\n",
       "        div.innerHTML = 'Something has gone wrong. Check notebook server for' +\n",
       "                        ' errors.';\n",
       "    }\n",
       "});\n",
       "})(this.parentElement, '/qiime2/redirect?location=/tmp/qiime2/jovyan/data/283da952-0e8a-4da9-938c-e73ef65a5613')\" src=\"data:image/gif;base64,R0lGODlhAQABAIAAAP///wAAACH5BAEAAAAALAAAAAABAAEAAAICRAEAOw==\" /></div>"
      ],
      "text/plain": [
       "<visualization: Visualization uuid: 283da952-0e8a-4da9-938c-e73ef65a5613>"
      ]
     },
     "execution_count": 34,
     "metadata": {},
     "output_type": "execute_result"
    }
   ],
   "source": [
    "Visualization.load(f\"{data_dir_p}/dada2_rep_seq.qzv\")"
   ]
  },
  {
   "cell_type": "markdown",
   "id": "125b560e-59a2-4f2d-87b8-d6b040763397",
   "metadata": {},
   "source": [
    "We can also visualize the feature table. We will include the metadata file to enrich the table with information on sample groups."
   ]
  },
  {
   "cell_type": "code",
   "execution_count": 37,
   "id": "a1769083-bd39-45db-a83e-554cc8644d8c",
   "metadata": {
    "tags": []
   },
   "outputs": [
    {
     "name": "stdout",
     "output_type": "stream",
     "text": [
      "\u001b[32mSaved Visualization to: data/processed/dada2_table.qzv\u001b[0m\n",
      "\u001b[0m"
     ]
    }
   ],
   "source": [
    "! qiime feature-table summarize \\\n",
    "    --i-table $data_dir_p/dada2_table.qza \\\n",
    "    --m-sample-metadata-file $data_dir/pundemic_metadata.tsv \\\n",
    "    --o-visualization $data_dir_p/dada2_table.qzv"
   ]
  },
  {
   "cell_type": "code",
   "execution_count": 38,
   "id": "6fcdc0d9-13ce-4af8-bb51-aceff8eee2f4",
   "metadata": {
    "tags": []
   },
   "outputs": [
    {
     "data": {
      "text/html": [
       "<div><img onload=\"(function(div, url){\n",
       "if (typeof require !== 'undefined') {\n",
       "    var baseURL = require.toUrl('').split('/').slice(0, -2).join('/');\n",
       "} else {\n",
       "    var baseURL = JSON.parse(\n",
       "        document.getElementById('jupyter-config-data').innerHTML\n",
       "    ).baseUrl.slice(0, -1);\n",
       "}\n",
       "url = baseURL + url;\n",
       "fetch(url).then(function(res) {\n",
       "    if (res.status === 404) {\n",
       "        div.innerHTML = 'Install QIIME 2 Jupyter extension with:<br />' +\n",
       "                        '<code>jupyter serverextension enable --py qiime2' +\n",
       "                        ' --sys-prefix</code><br />then restart your server.' +\n",
       "                        '<br /><br />(Interactive output not available on ' +\n",
       "                        'static notebook viewer services like nbviewer.)';\n",
       "    } else if (res.status === 409) {\n",
       "        div.innerHTML = 'Visualization no longer in scope. Re-run this cell' +\n",
       "                        ' to see the visualization.';\n",
       "    } else if (res.ok) {\n",
       "        url = res.url;\n",
       "        div.innerHTML = '<iframe src=\\'' + url + '\\' style=\\'' +\n",
       "                        'width: 100%; height: 700px; border: 0;\\'>' +\n",
       "                        '</iframe><hr />Open in a: <a href=\\'' + url + '\\'' +\n",
       "                        ' target=\\'_blank\\'>new window</a>'\n",
       "    } else {\n",
       "        div.innerHTML = 'Something has gone wrong. Check notebook server for' +\n",
       "                        ' errors.';\n",
       "    }\n",
       "});\n",
       "})(this.parentElement, '/qiime2/redirect?location=/tmp/qiime2/jovyan/data/92f73594-68bc-47c3-be82-e08a142f9b07')\" src=\"data:image/gif;base64,R0lGODlhAQABAIAAAP///wAAACH5BAEAAAAALAAAAAABAAEAAAICRAEAOw==\" /></div>"
      ],
      "text/plain": [
       "<visualization: Visualization uuid: 92f73594-68bc-47c3-be82-e08a142f9b07>"
      ]
     },
     "execution_count": 38,
     "metadata": {},
     "output_type": "execute_result"
    }
   ],
   "source": [
    "Visualization.load(f\"{data_dir_p}/dada2_table.qzv\")"
   ]
  }
 ],
 "metadata": {
  "kernelspec": {
   "display_name": "QIIME 2",
   "language": "python",
   "name": "python3"
  },
  "language_info": {
   "codemirror_mode": {
    "name": "ipython",
    "version": 3
   },
   "file_extension": ".py",
   "mimetype": "text/x-python",
   "name": "python",
   "nbconvert_exporter": "python",
   "pygments_lexer": "ipython3",
   "version": "3.9.19"
  }
 },
 "nbformat": 4,
 "nbformat_minor": 5
}
