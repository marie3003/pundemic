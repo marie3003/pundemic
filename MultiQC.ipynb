{
 "cells": [
  {
   "cell_type": "code",
   "execution_count": 1,
   "id": "deeceaaf-01d7-4e39-9453-100ca7e62828",
   "metadata": {
    "tags": []
   },
   "outputs": [
    {
     "name": "stdout",
     "output_type": "stream",
     "text": [
      "Note: you may need to restart the kernel to use updated packages.\n"
     ]
    }
   ],
   "source": [
    "%pip install --quiet multiqc pandas\n",
    "%reset -f"
   ]
  },
  {
   "cell_type": "code",
   "execution_count": 3,
   "id": "76566ffe-6128-4c00-a96a-9d79a16b7e43",
   "metadata": {
    "tags": []
   },
   "outputs": [],
   "source": [
    "import multiqc"
   ]
  },
  {
   "cell_type": "code",
   "execution_count": 4,
   "id": "9dde1503-6b3a-4ada-a260-002d98e167cc",
   "metadata": {
    "tags": []
   },
   "outputs": [],
   "source": [
    "data_dir = 'data'\n",
    "log_file1 = f\"{data_dir}/cutadapt_forward_backward_results.log\"\n",
    "log_file2 = f\"{data_dir}/cutadapt_forward_backward_03_results.log\""
   ]
  },
  {
   "cell_type": "code",
   "execution_count": 5,
   "id": "0f4aca73-46c4-4f16-bbd1-ab5b425c356f",
   "metadata": {
    "tags": []
   },
   "outputs": [],
   "source": [
    "import shutil\n",
    "shutil.rmtree('data/.ipynb_checkpoints', ignore_errors=True)"
   ]
  },
  {
   "cell_type": "code",
   "execution_count": 7,
   "id": "fc897aa3-fcc9-44ff-bb8f-ce89f323e0f9",
   "metadata": {
    "tags": []
   },
   "outputs": [
    {
     "name": "stderr",
     "output_type": "stream",
     "text": [
      "\u001b[34m       file_search\u001b[0m | Search path: /home/jovyan/assignments/pundemic/data/cutadapt_forward_backward_results.log\n"
     ]
    },
    {
     "name": "stdout",
     "output_type": "stream",
     "text": [
      "\u001b[38;5;208m///\u001b[0m \u001b[1mhttps://multiqc.info\u001b[0m 🎃 \u001b[2mv1.25.1\u001b[0m\n",
      "\u001b[34m        searching \u001b[0m| ████████████████████████████████████████ 100% 1/1                                           .log\u001b[0m\n"
     ]
    },
    {
     "data": {
      "text/html": [
       "<pre style=\"margin-bottom:0px;margin-bottom:0px;white-space:pre;overflow-x:auto;line-height:normal;font-family:Menlo,'DejaVu Sans Mono',consolas,'Courier New',monospace\"><span style=\"color: #800000; text-decoration-color: #800000; background-color: #272822\">╭─────────────────────────────────</span><span style=\"color: #800000; text-decoration-color: #800000\"> Oops! The '</span><span style=\"color: #800000; text-decoration-color: #800000; text-decoration: underline\">cutadapt</span><span style=\"color: #800000; text-decoration-color: #800000\">' MultiQC module broke... </span><span style=\"color: #800000; text-decoration-color: #800000; background-color: #272822\">──────────────────────────────────╮</span>\n",
       "<span style=\"color: #800000; text-decoration-color: #800000; background-color: #272822\">│</span><span style=\"background-color: #272822\"> Please copy this log and report it at </span><a href=\"https://github.com/MultiQC/MultiQC/issues/new?template=bug_report.md&title=cutadapt%20module%20-%20type\" target=\"_blank\"><span style=\"color: #0000ff; text-decoration-color: #0000ff; background-color: #272822\">https://github.com/MultiQC/MultiQC/issues</span></a><span style=\"background-color: #272822\">                                 </span><span style=\"color: #800000; text-decoration-color: #800000; background-color: #272822\">│</span>\n",
       "<span style=\"color: #800000; text-decoration-color: #800000; background-color: #272822\">│</span><span style=\"background-color: #272822\"> </span><span style=\"background-color: #272822; font-weight: bold; text-decoration: underline\">Please attach a file that triggers the error.</span><span style=\"background-color: #272822\"> The last file found was:                                          </span><span style=\"color: #800000; text-decoration-color: #800000; background-color: #272822\">│</span>\n",
       "<span style=\"color: #800000; text-decoration-color: #800000; background-color: #272822\">│</span><span style=\"background-color: #272822\"> </span><span style=\"color: #008000; text-decoration-color: #008000; background-color: #272822\">data/cutadapt_forward_backward_results.log</span><span style=\"background-color: #272822\">                                                                      </span><span style=\"color: #800000; text-decoration-color: #800000; background-color: #272822\">│</span>\n",
       "<span style=\"color: #800000; text-decoration-color: #800000; background-color: #272822\">│</span><span style=\"background-color: #272822\">                                                                                                                 </span><span style=\"color: #800000; text-decoration-color: #800000; background-color: #272822\">│</span>\n",
       "<span style=\"color: #800000; text-decoration-color: #800000; background-color: #272822\">│</span><span style=\"background-color: #272822\"> </span><span style=\"color: #f8f8f2; text-decoration-color: #f8f8f2; background-color: #272822\">Traceback (most recent call last):</span><span style=\"background-color: #272822\">                                                                              </span><span style=\"color: #800000; text-decoration-color: #800000; background-color: #272822\">│</span>\n",
       "<span style=\"color: #800000; text-decoration-color: #800000; background-color: #272822\">│</span><span style=\"background-color: #272822\"> </span><span style=\"color: #f8f8f2; text-decoration-color: #f8f8f2; background-color: #272822\">  File </span><span style=\"color: #e6db74; text-decoration-color: #e6db74; background-color: #272822\">\"/opt/conda/lib/python3.9/site-packages/multiqc/core/exec_modules.py\"</span><span style=\"color: #f8f8f2; text-decoration-color: #f8f8f2; background-color: #272822\">, line </span><span style=\"color: #ae81ff; text-decoration-color: #ae81ff; background-color: #272822\">68</span><span style=\"color: #f8f8f2; text-decoration-color: #f8f8f2; background-color: #272822\">, </span><span style=\"color: #ff4689; text-decoration-color: #ff4689; background-color: #272822\">in</span><span style=\"color: #f8f8f2; text-decoration-color: #f8f8f2; background-color: #272822\"> exec_modules</span><span style=\"background-color: #272822\">          </span><span style=\"color: #800000; text-decoration-color: #800000; background-color: #272822\">│</span>\n",
       "<span style=\"color: #800000; text-decoration-color: #800000; background-color: #272822\">│</span><span style=\"background-color: #272822\"> </span><span style=\"color: #f8f8f2; text-decoration-color: #f8f8f2; background-color: #272822\">    these_modules: Union[BaseMultiqcModule, List[BaseMultiqcModule]] </span><span style=\"color: #ff4689; text-decoration-color: #ff4689; background-color: #272822\">=</span><span style=\"color: #f8f8f2; text-decoration-color: #f8f8f2; background-color: #272822\"> module_initializer()</span><span style=\"background-color: #272822\">                     </span><span style=\"color: #800000; text-decoration-color: #800000; background-color: #272822\">│</span>\n",
       "<span style=\"color: #800000; text-decoration-color: #800000; background-color: #272822\">│</span><span style=\"background-color: #272822\"> </span><span style=\"color: #f8f8f2; text-decoration-color: #f8f8f2; background-color: #272822\">  File </span><span style=\"color: #e6db74; text-decoration-color: #e6db74; background-color: #272822\">\"/opt/conda/lib/python3.9/site-packages/multiqc/modules/cutadapt/cutadapt.py\"</span><span style=\"color: #f8f8f2; text-decoration-color: #f8f8f2; background-color: #272822\">, line </span><span style=\"color: #ae81ff; text-decoration-color: #ae81ff; background-color: #272822\">55</span><span style=\"color: #f8f8f2; text-decoration-color: #f8f8f2; background-color: #272822\">, </span><span style=\"color: #ff4689; text-decoration-color: #ff4689; background-color: #272822\">in</span><span style=\"color: #f8f8f2; text-decoration-color: #f8f8f2; background-color: #272822\"> </span><span style=\"color: #a6e22e; text-decoration-color: #a6e22e; background-color: #272822\">__init__</span><span style=\"background-color: #272822\">      </span><span style=\"color: #800000; text-decoration-color: #800000; background-color: #272822\">│</span>\n",
       "<span style=\"color: #800000; text-decoration-color: #800000; background-color: #272822\">│</span><span style=\"background-color: #272822\"> </span><span style=\"color: #f8f8f2; text-decoration-color: #f8f8f2; background-color: #272822\">    self</span><span style=\"color: #ff4689; text-decoration-color: #ff4689; background-color: #272822\">.</span><span style=\"color: #f8f8f2; text-decoration-color: #f8f8f2; background-color: #272822\">parse_file(f)</span><span style=\"background-color: #272822\">                                                                                          </span><span style=\"color: #800000; text-decoration-color: #800000; background-color: #272822\">│</span>\n",
       "<span style=\"color: #800000; text-decoration-color: #800000; background-color: #272822\">│</span><span style=\"background-color: #272822\"> </span><span style=\"color: #f8f8f2; text-decoration-color: #f8f8f2; background-color: #272822\">  File </span><span style=\"color: #e6db74; text-decoration-color: #e6db74; background-color: #272822\">\"/opt/conda/lib/python3.9/site-packages/multiqc/modules/cutadapt/cutadapt.py\"</span><span style=\"color: #f8f8f2; text-decoration-color: #f8f8f2; background-color: #272822\">, line </span><span style=\"color: #ae81ff; text-decoration-color: #ae81ff; background-color: #272822\">104</span><span style=\"color: #f8f8f2; text-decoration-color: #f8f8f2; background-color: #272822\">, </span><span style=\"color: #ff4689; text-decoration-color: #ff4689; background-color: #272822\">in</span><span style=\"color: #f8f8f2; text-decoration-color: #f8f8f2; background-color: #272822\"> parse_file</span><span style=\"background-color: #272822\">   </span><span style=\"color: #800000; text-decoration-color: #800000; background-color: #272822\">│</span>\n",
       "<span style=\"color: #800000; text-decoration-color: #800000; background-color: #272822\">│</span><span style=\"background-color: #272822\"> </span><span style=\"color: #f8f8f2; text-decoration-color: #f8f8f2; background-color: #272822\">    </span><span style=\"color: #66d9ef; text-decoration-color: #66d9ef; background-color: #272822\">if</span><span style=\"color: #f8f8f2; text-decoration-color: #f8f8f2; background-color: #272822\"> version_parse(d[</span><span style=\"color: #e6db74; text-decoration-color: #e6db74; background-color: #272822\">\"cutadapt_version\"</span><span style=\"color: #f8f8f2; text-decoration-color: #f8f8f2; background-color: #272822\">]) </span><span style=\"color: #ff4689; text-decoration-color: #ff4689; background-color: #272822\">&gt;</span><span style=\"color: #f8f8f2; text-decoration-color: #f8f8f2; background-color: #272822\"> version_parse(</span><span style=\"color: #e6db74; text-decoration-color: #e6db74; background-color: #272822\">\"1.6\"</span><span style=\"color: #f8f8f2; text-decoration-color: #f8f8f2; background-color: #272822\">):</span><span style=\"background-color: #272822\">                                             </span><span style=\"color: #800000; text-decoration-color: #800000; background-color: #272822\">│</span>\n",
       "<span style=\"color: #800000; text-decoration-color: #800000; background-color: #272822\">│</span><span style=\"background-color: #272822\"> </span><span style=\"color: #a6e22e; text-decoration-color: #a6e22e; background-color: #272822\">KeyError</span><span style=\"color: #f8f8f2; text-decoration-color: #f8f8f2; background-color: #272822\">: </span><span style=\"color: #e6db74; text-decoration-color: #e6db74; background-color: #272822\">'cutadapt_version'</span><span style=\"background-color: #272822\">                                                                                    </span><span style=\"color: #800000; text-decoration-color: #800000; background-color: #272822\">│</span>\n",
       "<span style=\"color: #800000; text-decoration-color: #800000; background-color: #272822\">│</span><span style=\"background-color: #272822\">                                                                                                                 </span><span style=\"color: #800000; text-decoration-color: #800000; background-color: #272822\">│</span>\n",
       "<span style=\"color: #800000; text-decoration-color: #800000; background-color: #272822\">╰─────────────────────────────────────────────────────────────────────────────────────────────────────────────────╯</span>\n",
       "</pre>\n"
      ],
      "text/plain": [
       "\u001b[31;48;2;39;40;34m╭─\u001b[0m\u001b[31;48;2;39;40;34m────────────────────────────────\u001b[0m\u001b[31m Oops! The '\u001b[0m\u001b[4;31mcutadapt\u001b[0m\u001b[31m' MultiQC module broke... \u001b[0m\u001b[31;48;2;39;40;34m─────────────────────────────────\u001b[0m\u001b[31;48;2;39;40;34m─╮\u001b[0m\n",
       "\u001b[31;48;2;39;40;34m│\u001b[0m\u001b[48;2;39;40;34m \u001b[0m\u001b[48;2;39;40;34mPlease copy this log and report it at \u001b[0m\u001b]8;id=51816;https://github.com/MultiQC/MultiQC/issues/new?template=bug_report.md&title=cutadapt%20module%20-%20type\u001b\\\u001b[94;48;2;39;40;34mhttps://github.com/MultiQC/MultiQC/issues\u001b[0m\u001b]8;;\u001b\\\u001b[48;2;39;40;34m \u001b[0m\u001b[48;2;39;40;34m                               \u001b[0m\u001b[48;2;39;40;34m \u001b[0m\u001b[31;48;2;39;40;34m│\u001b[0m\n",
       "\u001b[31;48;2;39;40;34m│\u001b[0m\u001b[48;2;39;40;34m \u001b[0m\u001b[1;4;48;2;39;40;34mPlease attach a file that triggers the error.\u001b[0m\u001b[48;2;39;40;34m The last file found was: \u001b[0m\u001b[48;2;39;40;34m                                        \u001b[0m\u001b[48;2;39;40;34m \u001b[0m\u001b[31;48;2;39;40;34m│\u001b[0m\n",
       "\u001b[31;48;2;39;40;34m│\u001b[0m\u001b[48;2;39;40;34m \u001b[0m\u001b[32;48;2;39;40;34mdata/cutadapt_forward_backward_results.log\u001b[0m\u001b[48;2;39;40;34m                                                                     \u001b[0m\u001b[48;2;39;40;34m \u001b[0m\u001b[31;48;2;39;40;34m│\u001b[0m\n",
       "\u001b[31;48;2;39;40;34m│\u001b[0m\u001b[48;2;39;40;34m \u001b[0m\u001b[48;2;39;40;34m                                                                                                               \u001b[0m\u001b[48;2;39;40;34m \u001b[0m\u001b[31;48;2;39;40;34m│\u001b[0m\n",
       "\u001b[31;48;2;39;40;34m│\u001b[0m\u001b[48;2;39;40;34m \u001b[0m\u001b[38;2;248;248;242;48;2;39;40;34mTraceback\u001b[0m\u001b[38;2;248;248;242;48;2;39;40;34m \u001b[0m\u001b[38;2;248;248;242;48;2;39;40;34m(\u001b[0m\u001b[38;2;248;248;242;48;2;39;40;34mmost\u001b[0m\u001b[38;2;248;248;242;48;2;39;40;34m \u001b[0m\u001b[38;2;248;248;242;48;2;39;40;34mrecent\u001b[0m\u001b[38;2;248;248;242;48;2;39;40;34m \u001b[0m\u001b[38;2;248;248;242;48;2;39;40;34mcall\u001b[0m\u001b[38;2;248;248;242;48;2;39;40;34m \u001b[0m\u001b[38;2;248;248;242;48;2;39;40;34mlast\u001b[0m\u001b[38;2;248;248;242;48;2;39;40;34m)\u001b[0m\u001b[38;2;248;248;242;48;2;39;40;34m:\u001b[0m\u001b[48;2;39;40;34m                                                                             \u001b[0m\u001b[48;2;39;40;34m \u001b[0m\u001b[31;48;2;39;40;34m│\u001b[0m\n",
       "\u001b[31;48;2;39;40;34m│\u001b[0m\u001b[48;2;39;40;34m \u001b[0m\u001b[38;2;248;248;242;48;2;39;40;34m  \u001b[0m\u001b[38;2;248;248;242;48;2;39;40;34mFile\u001b[0m\u001b[38;2;248;248;242;48;2;39;40;34m \u001b[0m\u001b[38;2;230;219;116;48;2;39;40;34m\"\u001b[0m\u001b[38;2;230;219;116;48;2;39;40;34m/opt/conda/lib/python3.9/site-packages/multiqc/core/exec_modules.py\u001b[0m\u001b[38;2;230;219;116;48;2;39;40;34m\"\u001b[0m\u001b[38;2;248;248;242;48;2;39;40;34m,\u001b[0m\u001b[38;2;248;248;242;48;2;39;40;34m \u001b[0m\u001b[38;2;248;248;242;48;2;39;40;34mline\u001b[0m\u001b[38;2;248;248;242;48;2;39;40;34m \u001b[0m\u001b[38;2;174;129;255;48;2;39;40;34m68\u001b[0m\u001b[38;2;248;248;242;48;2;39;40;34m,\u001b[0m\u001b[38;2;248;248;242;48;2;39;40;34m \u001b[0m\u001b[38;2;255;70;137;48;2;39;40;34min\u001b[0m\u001b[38;2;248;248;242;48;2;39;40;34m \u001b[0m\u001b[38;2;248;248;242;48;2;39;40;34mexec_modules\u001b[0m\u001b[48;2;39;40;34m         \u001b[0m\u001b[48;2;39;40;34m \u001b[0m\u001b[31;48;2;39;40;34m│\u001b[0m\n",
       "\u001b[31;48;2;39;40;34m│\u001b[0m\u001b[48;2;39;40;34m \u001b[0m\u001b[38;2;248;248;242;48;2;39;40;34m    \u001b[0m\u001b[38;2;248;248;242;48;2;39;40;34mthese_modules\u001b[0m\u001b[38;2;248;248;242;48;2;39;40;34m:\u001b[0m\u001b[38;2;248;248;242;48;2;39;40;34m \u001b[0m\u001b[38;2;248;248;242;48;2;39;40;34mUnion\u001b[0m\u001b[38;2;248;248;242;48;2;39;40;34m[\u001b[0m\u001b[38;2;248;248;242;48;2;39;40;34mBaseMultiqcModule\u001b[0m\u001b[38;2;248;248;242;48;2;39;40;34m,\u001b[0m\u001b[38;2;248;248;242;48;2;39;40;34m \u001b[0m\u001b[38;2;248;248;242;48;2;39;40;34mList\u001b[0m\u001b[38;2;248;248;242;48;2;39;40;34m[\u001b[0m\u001b[38;2;248;248;242;48;2;39;40;34mBaseMultiqcModule\u001b[0m\u001b[38;2;248;248;242;48;2;39;40;34m]\u001b[0m\u001b[38;2;248;248;242;48;2;39;40;34m]\u001b[0m\u001b[38;2;248;248;242;48;2;39;40;34m \u001b[0m\u001b[38;2;255;70;137;48;2;39;40;34m=\u001b[0m\u001b[38;2;248;248;242;48;2;39;40;34m \u001b[0m\u001b[38;2;248;248;242;48;2;39;40;34mmodule_initializer\u001b[0m\u001b[38;2;248;248;242;48;2;39;40;34m(\u001b[0m\u001b[38;2;248;248;242;48;2;39;40;34m)\u001b[0m\u001b[48;2;39;40;34m                    \u001b[0m\u001b[48;2;39;40;34m \u001b[0m\u001b[31;48;2;39;40;34m│\u001b[0m\n",
       "\u001b[31;48;2;39;40;34m│\u001b[0m\u001b[48;2;39;40;34m \u001b[0m\u001b[38;2;248;248;242;48;2;39;40;34m  \u001b[0m\u001b[38;2;248;248;242;48;2;39;40;34mFile\u001b[0m\u001b[38;2;248;248;242;48;2;39;40;34m \u001b[0m\u001b[38;2;230;219;116;48;2;39;40;34m\"\u001b[0m\u001b[38;2;230;219;116;48;2;39;40;34m/opt/conda/lib/python3.9/site-packages/multiqc/modules/cutadapt/cutadapt.py\u001b[0m\u001b[38;2;230;219;116;48;2;39;40;34m\"\u001b[0m\u001b[38;2;248;248;242;48;2;39;40;34m,\u001b[0m\u001b[38;2;248;248;242;48;2;39;40;34m \u001b[0m\u001b[38;2;248;248;242;48;2;39;40;34mline\u001b[0m\u001b[38;2;248;248;242;48;2;39;40;34m \u001b[0m\u001b[38;2;174;129;255;48;2;39;40;34m55\u001b[0m\u001b[38;2;248;248;242;48;2;39;40;34m,\u001b[0m\u001b[38;2;248;248;242;48;2;39;40;34m \u001b[0m\u001b[38;2;255;70;137;48;2;39;40;34min\u001b[0m\u001b[38;2;248;248;242;48;2;39;40;34m \u001b[0m\u001b[38;2;166;226;46;48;2;39;40;34m__init__\u001b[0m\u001b[48;2;39;40;34m     \u001b[0m\u001b[48;2;39;40;34m \u001b[0m\u001b[31;48;2;39;40;34m│\u001b[0m\n",
       "\u001b[31;48;2;39;40;34m│\u001b[0m\u001b[48;2;39;40;34m \u001b[0m\u001b[38;2;248;248;242;48;2;39;40;34m    \u001b[0m\u001b[38;2;248;248;242;48;2;39;40;34mself\u001b[0m\u001b[38;2;255;70;137;48;2;39;40;34m.\u001b[0m\u001b[38;2;248;248;242;48;2;39;40;34mparse_file\u001b[0m\u001b[38;2;248;248;242;48;2;39;40;34m(\u001b[0m\u001b[38;2;248;248;242;48;2;39;40;34mf\u001b[0m\u001b[38;2;248;248;242;48;2;39;40;34m)\u001b[0m\u001b[48;2;39;40;34m                                                                                         \u001b[0m\u001b[48;2;39;40;34m \u001b[0m\u001b[31;48;2;39;40;34m│\u001b[0m\n",
       "\u001b[31;48;2;39;40;34m│\u001b[0m\u001b[48;2;39;40;34m \u001b[0m\u001b[38;2;248;248;242;48;2;39;40;34m  \u001b[0m\u001b[38;2;248;248;242;48;2;39;40;34mFile\u001b[0m\u001b[38;2;248;248;242;48;2;39;40;34m \u001b[0m\u001b[38;2;230;219;116;48;2;39;40;34m\"\u001b[0m\u001b[38;2;230;219;116;48;2;39;40;34m/opt/conda/lib/python3.9/site-packages/multiqc/modules/cutadapt/cutadapt.py\u001b[0m\u001b[38;2;230;219;116;48;2;39;40;34m\"\u001b[0m\u001b[38;2;248;248;242;48;2;39;40;34m,\u001b[0m\u001b[38;2;248;248;242;48;2;39;40;34m \u001b[0m\u001b[38;2;248;248;242;48;2;39;40;34mline\u001b[0m\u001b[38;2;248;248;242;48;2;39;40;34m \u001b[0m\u001b[38;2;174;129;255;48;2;39;40;34m104\u001b[0m\u001b[38;2;248;248;242;48;2;39;40;34m,\u001b[0m\u001b[38;2;248;248;242;48;2;39;40;34m \u001b[0m\u001b[38;2;255;70;137;48;2;39;40;34min\u001b[0m\u001b[38;2;248;248;242;48;2;39;40;34m \u001b[0m\u001b[38;2;248;248;242;48;2;39;40;34mparse_file\u001b[0m\u001b[48;2;39;40;34m  \u001b[0m\u001b[48;2;39;40;34m \u001b[0m\u001b[31;48;2;39;40;34m│\u001b[0m\n",
       "\u001b[31;48;2;39;40;34m│\u001b[0m\u001b[48;2;39;40;34m \u001b[0m\u001b[38;2;248;248;242;48;2;39;40;34m    \u001b[0m\u001b[38;2;102;217;239;48;2;39;40;34mif\u001b[0m\u001b[38;2;248;248;242;48;2;39;40;34m \u001b[0m\u001b[38;2;248;248;242;48;2;39;40;34mversion_parse\u001b[0m\u001b[38;2;248;248;242;48;2;39;40;34m(\u001b[0m\u001b[38;2;248;248;242;48;2;39;40;34md\u001b[0m\u001b[38;2;248;248;242;48;2;39;40;34m[\u001b[0m\u001b[38;2;230;219;116;48;2;39;40;34m\"\u001b[0m\u001b[38;2;230;219;116;48;2;39;40;34mcutadapt_version\u001b[0m\u001b[38;2;230;219;116;48;2;39;40;34m\"\u001b[0m\u001b[38;2;248;248;242;48;2;39;40;34m]\u001b[0m\u001b[38;2;248;248;242;48;2;39;40;34m)\u001b[0m\u001b[38;2;248;248;242;48;2;39;40;34m \u001b[0m\u001b[38;2;255;70;137;48;2;39;40;34m>\u001b[0m\u001b[38;2;248;248;242;48;2;39;40;34m \u001b[0m\u001b[38;2;248;248;242;48;2;39;40;34mversion_parse\u001b[0m\u001b[38;2;248;248;242;48;2;39;40;34m(\u001b[0m\u001b[38;2;230;219;116;48;2;39;40;34m\"\u001b[0m\u001b[38;2;230;219;116;48;2;39;40;34m1.6\u001b[0m\u001b[38;2;230;219;116;48;2;39;40;34m\"\u001b[0m\u001b[38;2;248;248;242;48;2;39;40;34m)\u001b[0m\u001b[38;2;248;248;242;48;2;39;40;34m:\u001b[0m\u001b[48;2;39;40;34m                                            \u001b[0m\u001b[48;2;39;40;34m \u001b[0m\u001b[31;48;2;39;40;34m│\u001b[0m\n",
       "\u001b[31;48;2;39;40;34m│\u001b[0m\u001b[48;2;39;40;34m \u001b[0m\u001b[38;2;166;226;46;48;2;39;40;34mKeyError\u001b[0m\u001b[38;2;248;248;242;48;2;39;40;34m:\u001b[0m\u001b[38;2;248;248;242;48;2;39;40;34m \u001b[0m\u001b[38;2;230;219;116;48;2;39;40;34m'\u001b[0m\u001b[38;2;230;219;116;48;2;39;40;34mcutadapt_version\u001b[0m\u001b[38;2;230;219;116;48;2;39;40;34m'\u001b[0m\u001b[48;2;39;40;34m                                                                                   \u001b[0m\u001b[48;2;39;40;34m \u001b[0m\u001b[31;48;2;39;40;34m│\u001b[0m\n",
       "\u001b[31;48;2;39;40;34m│\u001b[0m\u001b[48;2;39;40;34m \u001b[0m\u001b[48;2;39;40;34m                                                                                                               \u001b[0m\u001b[48;2;39;40;34m \u001b[0m\u001b[31;48;2;39;40;34m│\u001b[0m\n",
       "\u001b[31;48;2;39;40;34m╰─────────────────────────────────────────────────────────────────────────────────────────────────────────────────╯\u001b[0m\n"
      ]
     },
     "metadata": {},
     "output_type": "display_data"
    },
    {
     "name": "stderr",
     "output_type": "stream",
     "text": [
      "\u001b[34m           multiqc\u001b[0m | \u001b[33mNo analysis results found. Cleaning up…\u001b[0m\n"
     ]
    },
    {
     "data": {
      "text/plain": [
       "<multiqc.multiqc.RunResult at 0x7faaf6cbe670>"
      ]
     },
     "execution_count": 7,
     "metadata": {},
     "output_type": "execute_result"
    }
   ],
   "source": [
    "multiqc.run(f\"{data_dir}/cutadapt_forward_backward_results.log\")"
   ]
  }
 ],
 "metadata": {
  "kernelspec": {
   "display_name": "QIIME 2",
   "language": "python",
   "name": "python3"
  },
  "language_info": {
   "codemirror_mode": {
    "name": "ipython",
    "version": 3
   },
   "file_extension": ".py",
   "mimetype": "text/x-python",
   "name": "python",
   "nbconvert_exporter": "python",
   "pygments_lexer": "ipython3",
   "version": "3.9.19"
  }
 },
 "nbformat": 4,
 "nbformat_minor": 5
}
