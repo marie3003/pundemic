{
 "cells": [
  {
   "cell_type": "code",
   "execution_count": 10,
   "id": "4ac247af-934a-4e3d-80a5-e97750cce9cf",
   "metadata": {
    "tags": []
   },
   "outputs": [],
   "source": [
    "import os\n",
    "import pandas as pd\n",
    "from qiime2 import Visualization\n",
    "import matplotlib.pyplot as plt\n",
    "import numpy as np\n",
    "import re\n",
    "\n",
    "import qiime2 as q2\n",
    "\n",
    "%matplotlib inline\n",
    "\n",
    "data_dir = 'data'"
   ]
  },
  {
   "cell_type": "code",
   "execution_count": 5,
   "id": "73c231d7-58aa-4d91-a394-c8574717b168",
   "metadata": {
    "collapsed": true,
    "jupyter": {
     "outputs_hidden": true
    },
    "tags": []
   },
   "outputs": [
    {
     "name": "stdout",
     "output_type": "stream",
     "text": [
      "Usage: \u001b[94mqiime rescript get-unite-data\u001b[0m [OPTIONS]\n",
      "\n",
      "  Download and import ITS sequences and taxonomy from the UNITE database,\n",
      "  given a version number and taxon_group, with the option to select a\n",
      "  cluster_id and include singletons. Downloads data directly from UNITE's\n",
      "  PlutoF REST API. NOTE: THIS ACTION ACQUIRES DATA FROM UNITE, which is\n",
      "  licensed under CC BY-SA 4.0. To learn more, please visit\n",
      "  https://unite.ut.ee/cite.php and https://creativecommons.org/licenses/by-\n",
      "  sa/4.0/.\n",
      "\n",
      "\u001b[1mParameters\u001b[0m:\n",
      "  \u001b[94m--p-version\u001b[0m TEXT \u001b[32mChoices('10.0', '9.0', '8.3', '8.2')\u001b[0m\n",
      "                          UNITE version to download.         \u001b[35m[default: '10.0']\u001b[0m\n",
      "  \u001b[94m--p-taxon-group\u001b[0m TEXT \u001b[32mChoices('fungi', 'eukaryotes')\u001b[0m\n",
      "                          Download a database with only 'fungi' or including\n",
      "                          all 'eukaryotes'.            \u001b[35m[default: 'eukaryotes']\u001b[0m\n",
      "  \u001b[94m--p-cluster-id\u001b[0m TEXT \u001b[32mChoices('99', '97', 'dynamic')\u001b[0m\n",
      "                          Percent similarity at which sequences in the of\n",
      "                          database were clustered.             \u001b[35m[default: '99']\u001b[0m\n",
      "  \u001b[94m--p-singletons\u001b[0m / \u001b[94m--p-no-singletons\u001b[0m\n",
      "                          Include singleton clusters in the database.\n",
      "                                                              \u001b[35m[default: False]\u001b[0m\n",
      "\u001b[1mOutputs\u001b[0m:\n",
      "  \u001b[94m\u001b[4m--o-taxonomy\u001b[0m ARTIFACT \u001b[32mFeatureData[Taxonomy]\u001b[0m\n",
      "                          UNITE reference taxonomy.                 \u001b[35m[required]\u001b[0m\n",
      "  \u001b[94m\u001b[4m--o-sequences\u001b[0m ARTIFACT \u001b[32mFeatureData[Sequence]\u001b[0m\n",
      "                          UNITE reference sequences.                \u001b[35m[required]\u001b[0m\n",
      "\u001b[1mMiscellaneous\u001b[0m:\n",
      "  \u001b[94m--output-dir\u001b[0m PATH       Output unspecified results to a directory\n",
      "  \u001b[94m--verbose\u001b[0m / \u001b[94m--quiet\u001b[0m     Display verbose output to stdout and/or stderr\n",
      "                          during execution of this action. Or silence output\n",
      "                          if execution is successful (silence is golden).\n",
      "  \u001b[94m--example-data\u001b[0m PATH     Write example data and exit.\n",
      "  \u001b[94m--citations\u001b[0m             Show citations and exit.\n",
      "  \u001b[94m--help\u001b[0m                  Show this message and exit.\n",
      "\u001b[0m"
     ]
    }
   ],
   "source": [
    "! qiime rescript get-unite-data --help"
   ]
  },
  {
   "cell_type": "markdown",
   "id": "d3c771ca-87fc-442c-ac14-5c5da5431b55",
   "metadata": {},
   "source": [
    "## Train Classifier\n",
    "### Get Database UNITE (99, no singletons, all eukaryotes)"
   ]
  },
  {
   "cell_type": "code",
   "execution_count": 9,
   "id": "e303c977-6de6-490d-a121-4dafb54e2a87",
   "metadata": {
    "tags": []
   },
   "outputs": [
    {
     "name": "stdout",
     "output_type": "stream",
     "text": [
      "\u001b[32mSaved FeatureData[Taxonomy] to: data/raw/uniteDB/taxonomy.qza\u001b[0m\n",
      "\u001b[32mSaved FeatureData[Sequence] to: data/raw/uniteDB/sequences.qza\u001b[0m\n",
      "\u001b[0m"
     ]
    }
   ],
   "source": [
    "#we did already do this in the clustering part so all the Unite data base data is in the folder data/clustering\n",
    "#! qiime rescript get-unite-data \\\n",
    "#    --p-version 10.0 \\\n",
    "#    --p-taxon-group eukaryotes \\\n",
    "#    --p-cluster-id 99 \\\n",
    "#    --p-no-singletons \\\n",
    "#    --verbose \\\n",
    "#    --output-dir $data_dir/clustering"
   ]
  },
  {
   "cell_type": "code",
   "execution_count": 12,
   "id": "fe64ca99-0554-4b3b-b281-f0d1c279a22a",
   "metadata": {
    "tags": []
   },
   "outputs": [
    {
     "name": "stdout",
     "output_type": "stream",
     "text": [
      "\u001b[32mSaved FeatureData[Sequence] to: data/raw/uniteDB/sequences_cleaned.qza\u001b[0m\n",
      "\u001b[0m"
     ]
    }
   ],
   "source": [
    "#! qiime rescript cull-seqs \\\n",
    "#    --i-sequences $data_dir/uniteDB/sequences.qza \\\n",
    "#    --o-clean-sequences $data_dir/uniteDB/sequences_cleaned.qza"
   ]
  },
  {
   "cell_type": "markdown",
   "id": "f094b39d-5c97-4c2d-8723-264f6090bab1",
   "metadata": {},
   "source": [
    "remove SH to reduce size of taxonomy file"
   ]
  },
  {
   "cell_type": "code",
   "execution_count": 21,
   "id": "f7256a46-a220-451c-bb0a-36949cd76b5a",
   "metadata": {
    "tags": []
   },
   "outputs": [
    {
     "name": "stdout",
     "output_type": "stream",
     "text": [
      "\u001b[32mSaved FeatureData[Taxonomy] to: data/raw/uniteDB/taxonomy-no-SH.qza\u001b[0m\n",
      "\u001b[0m"
     ]
    }
   ],
   "source": [
    "! qiime rescript edit-taxonomy \\\n",
    "    --i-taxonomy $data_dir/clustering/taxonomy.qza \\\n",
    "    --o-edited-taxonomy $data_dir/clustering/taxonomy-no-SH.qza \\\n",
    "    --p-search-strings ';sh__.*' \\\n",
    "    --p-replacement-strings '' \\\n",
    "    --p-use-regex"
   ]
  },
  {
   "cell_type": "code",
   "execution_count": 13,
   "id": "edae4430-dafc-4a20-add1-8e3b615fd4f3",
   "metadata": {
    "collapsed": true,
    "jupyter": {
     "outputs_hidden": true
    },
    "tags": []
   },
   "outputs": [
    {
     "name": "stdout",
     "output_type": "stream",
     "text": [
      "Usage: \u001b[94mqiime taxa filter-seqs\u001b[0m [OPTIONS]\n",
      "\n",
      "  This method filters sequences based on their taxonomic annotations. Features\n",
      "  can be retained in the result by specifying one or more include search\n",
      "  terms, and can be filtered out of the result by specifying one or more\n",
      "  exclude search terms. If both include and exclude are provided, the\n",
      "  inclusion critera will be applied before the exclusion critera. Either\n",
      "  include or exclude terms (or both) must be provided.\n",
      "\n",
      "\u001b[1mInputs\u001b[0m:\n",
      "  \u001b[94m\u001b[4m--i-sequences\u001b[0m ARTIFACT \u001b[32mFeatureData[Sequence]\u001b[0m\n",
      "                          Feature sequences to be filtered.         \u001b[35m[required]\u001b[0m\n",
      "  \u001b[94m\u001b[4m--i-taxonomy\u001b[0m ARTIFACT \u001b[32mFeatureData[Taxonomy]\u001b[0m\n",
      "                          Taxonomic annotations for features in the provided\n",
      "                          feature sequences. All features in the feature\n",
      "                          sequences must have a corresponding taxonomic\n",
      "                          annotation. Taxonomic annotations for features that\n",
      "                          are not present in the feature sequences will be\n",
      "                          ignored.                                  \u001b[35m[required]\u001b[0m\n",
      "\u001b[1mParameters\u001b[0m:\n",
      "  \u001b[94m--p-include\u001b[0m TEXT        One or more search terms that indicate which taxa\n",
      "                          should be included in the resulting sequences. If\n",
      "                          providing more than one term, terms should be\n",
      "                          delimited by the query-delimiter character. By\n",
      "                          default, all taxa will be included.       \u001b[35m[optional]\u001b[0m\n",
      "  \u001b[94m--p-exclude\u001b[0m TEXT        One or more search terms that indicate which taxa\n",
      "                          should be excluded from the resulting sequences. If\n",
      "                          providing more than one term, terms should be\n",
      "                          delimited by the query-delimiter character. By\n",
      "                          default, no taxa will be excluded.        \u001b[35m[optional]\u001b[0m\n",
      "  \u001b[94m--p-query-delimiter\u001b[0m TEXT\n",
      "                          The string used to delimit multiple search terms\n",
      "                          provided to include or exclude. This parameter\n",
      "                          should only need to be modified if the default\n",
      "                          delimiter (a comma) is used in the provided\n",
      "                          taxonomic annotations.                \u001b[35m[default: ',']\u001b[0m\n",
      "  \u001b[94m--p-mode\u001b[0m TEXT \u001b[32mChoices('exact', 'contains')\u001b[0m\n",
      "                          Mode for determining if a search term matches a\n",
      "                          taxonomic annotation. \"contains\" requires that the\n",
      "                          annotation has the term as a substring; \"exact\"\n",
      "                          requires that the annotation is a perfect match to a\n",
      "                          search term.                   \u001b[35m[default: 'contains']\u001b[0m\n",
      "\u001b[1mOutputs\u001b[0m:\n",
      "  \u001b[94m\u001b[4m--o-filtered-sequences\u001b[0m ARTIFACT \u001b[32mFeatureData[Sequence]\u001b[0m\n",
      "                          The taxonomy-filtered feature sequences.  \u001b[35m[required]\u001b[0m\n",
      "\u001b[1mMiscellaneous\u001b[0m:\n",
      "  \u001b[94m--output-dir\u001b[0m PATH       Output unspecified results to a directory\n",
      "  \u001b[94m--verbose\u001b[0m / \u001b[94m--quiet\u001b[0m     Display verbose output to stdout and/or stderr\n",
      "                          during execution of this action. Or silence output\n",
      "                          if execution is successful (silence is golden).\n",
      "  \u001b[94m--example-data\u001b[0m PATH     Write example data and exit.\n",
      "  \u001b[94m--citations\u001b[0m             Show citations and exit.\n",
      "  \u001b[94m--help\u001b[0m                  Show this message and exit.\n",
      "\u001b[0m"
     ]
    }
   ],
   "source": [
    "! qiime taxa filter-seqs --help"
   ]
  },
  {
   "cell_type": "code",
   "execution_count": 17,
   "id": "679b01bd-cb26-4297-8fd9-d9cd74e73594",
   "metadata": {
    "tags": []
   },
   "outputs": [
    {
     "name": "stdout",
     "output_type": "stream",
     "text": [
      "\u001b[32mSaved Visualization to: data/raw/uniteDB/sequences.qzv\u001b[0m\n",
      "\u001b[0m"
     ]
    }
   ],
   "source": [
    "! qiime feature-table tabulate-seqs \\\n",
    "    --i-data $data_dir/clustering/sequences.qza \\\n",
    "    --o-visualization $data_dir/clustering/sequences.qzv"
   ]
  },
  {
   "cell_type": "code",
   "execution_count": 18,
   "id": "e9f7e4f3-a6bd-4d53-b614-05b162b3b13b",
   "metadata": {
    "tags": []
   },
   "outputs": [
    {
     "data": {
      "text/html": [
       "<div><img onload=\"(function(div, url){\n",
       "if (typeof require !== 'undefined') {\n",
       "    var baseURL = require.toUrl('').split('/').slice(0, -2).join('/');\n",
       "} else {\n",
       "    var baseURL = JSON.parse(\n",
       "        document.getElementById('jupyter-config-data').innerHTML\n",
       "    ).baseUrl.slice(0, -1);\n",
       "}\n",
       "url = baseURL + url;\n",
       "fetch(url).then(function(res) {\n",
       "    if (res.status === 404) {\n",
       "        div.innerHTML = 'Install QIIME 2 Jupyter extension with:<br />' +\n",
       "                        '<code>jupyter serverextension enable --py qiime2' +\n",
       "                        ' --sys-prefix</code><br />then restart your server.' +\n",
       "                        '<br /><br />(Interactive output not available on ' +\n",
       "                        'static notebook viewer services like nbviewer.)';\n",
       "    } else if (res.status === 409) {\n",
       "        div.innerHTML = 'Visualization no longer in scope. Re-run this cell' +\n",
       "                        ' to see the visualization.';\n",
       "    } else if (res.ok) {\n",
       "        url = res.url;\n",
       "        div.innerHTML = '<iframe src=\\'' + url + '\\' style=\\'' +\n",
       "                        'width: 100%; height: 700px; border: 0;\\'>' +\n",
       "                        '</iframe><hr />Open in a: <a href=\\'' + url + '\\'' +\n",
       "                        ' target=\\'_blank\\'>new window</a>'\n",
       "    } else {\n",
       "        div.innerHTML = 'Something has gone wrong. Check notebook server for' +\n",
       "                        ' errors.';\n",
       "    }\n",
       "});\n",
       "})(this.parentElement, '/qiime2/redirect?location=/tmp/qiime2/jovyan/data/ace82314-b1a7-46d6-960b-372060293e20')\" src=\"data:image/gif;base64,R0lGODlhAQABAIAAAP///wAAACH5BAEAAAAALAAAAAABAAEAAAICRAEAOw==\" /></div>"
      ],
      "text/plain": [
       "<visualization: Visualization uuid: ace82314-b1a7-46d6-960b-372060293e20>"
      ]
     },
     "execution_count": 18,
     "metadata": {},
     "output_type": "execute_result"
    }
   ],
   "source": [
    "Visualization.load(f\"{data_dir}/uniteDB/sequences.qzv\")"
   ]
  },
  {
   "cell_type": "markdown",
   "id": "8b51b3b6-f092-47c1-b437-f745e1d12d96",
   "metadata": {},
   "source": [
    "## Taxonomy Classification Evaluation of data classified with pre-trained classifier (EULER)\n",
    "all code run on Euler is in the \"Euler2\" jupyter notebook; this is just the evaluation"
   ]
  },
  {
   "cell_type": "code",
   "execution_count": 2,
   "id": "eb0dd331-befa-430e-9891-e084a1eef88c",
   "metadata": {
    "tags": []
   },
   "outputs": [
    {
     "name": "stdout",
     "output_type": "stream",
     "text": [
      "\u001b[32mSaved Visualization to: data/taxonomy_classification/taxonomy.qzv\u001b[0m\n",
      "\u001b[0m"
     ]
    }
   ],
   "source": [
    "! qiime metadata tabulate \\\n",
    "    --m-input-file $data_dir/taxonomy_classification/taxonomy.qza \\\n",
    "    --o-visualization $data_dir/taxonomy_classification/taxonomy.qzv"
   ]
  },
  {
   "cell_type": "code",
   "execution_count": 3,
   "id": "2898b0dd-1fdf-418e-9c34-d18af844e440",
   "metadata": {
    "tags": []
   },
   "outputs": [
    {
     "name": "stdout",
     "output_type": "stream",
     "text": [
      "\u001b[32mSaved Visualization to: data/taxonomy_classification/taxonomy_30-10a.qzv\u001b[0m\n",
      "\u001b[0m"
     ]
    }
   ],
   "source": [
    "# for data with forward and reverse compliment trimmed\n",
    "! qiime metadata tabulate \\ \n",
    "    --m-input-file $data_dir/taxonomy_classification/taxonomy_30-10a.qza \\\n",
    "    --o-visualization $data_dir/taxonomy_classification/taxonomy_30-10a.qzv"
   ]
  },
  {
   "cell_type": "code",
   "execution_count": 7,
   "id": "417c407a-bdbc-4564-b00b-7d8de9379212",
   "metadata": {
    "tags": []
   },
   "outputs": [
    {
     "data": {
      "text/html": [
       "<div><img onload=\"(function(div, url){\n",
       "if (typeof require !== 'undefined') {\n",
       "    var baseURL = require.toUrl('').split('/').slice(0, -2).join('/');\n",
       "} else {\n",
       "    var baseURL = JSON.parse(\n",
       "        document.getElementById('jupyter-config-data').innerHTML\n",
       "    ).baseUrl.slice(0, -1);\n",
       "}\n",
       "url = baseURL + url;\n",
       "fetch(url).then(function(res) {\n",
       "    if (res.status === 404) {\n",
       "        div.innerHTML = 'Install QIIME 2 Jupyter extension with:<br />' +\n",
       "                        '<code>jupyter serverextension enable --py qiime2' +\n",
       "                        ' --sys-prefix</code><br />then restart your server.' +\n",
       "                        '<br /><br />(Interactive output not available on ' +\n",
       "                        'static notebook viewer services like nbviewer.)';\n",
       "    } else if (res.status === 409) {\n",
       "        div.innerHTML = 'Visualization no longer in scope. Re-run this cell' +\n",
       "                        ' to see the visualization.';\n",
       "    } else if (res.ok) {\n",
       "        url = res.url;\n",
       "        div.innerHTML = '<iframe src=\\'' + url + '\\' style=\\'' +\n",
       "                        'width: 100%; height: 700px; border: 0;\\'>' +\n",
       "                        '</iframe><hr />Open in a: <a href=\\'' + url + '\\'' +\n",
       "                        ' target=\\'_blank\\'>new window</a>'\n",
       "    } else {\n",
       "        div.innerHTML = 'Something has gone wrong. Check notebook server for' +\n",
       "                        ' errors.';\n",
       "    }\n",
       "});\n",
       "})(this.parentElement, '/qiime2/redirect?location=/tmp/qiime2/jovyan/data/0e37c195-4309-4267-8677-a6f74663ff40')\" src=\"data:image/gif;base64,R0lGODlhAQABAIAAAP///wAAACH5BAEAAAAALAAAAAABAAEAAAICRAEAOw==\" /></div>"
      ],
      "text/plain": [
       "<visualization: Visualization uuid: 0e37c195-4309-4267-8677-a6f74663ff40>"
      ]
     },
     "execution_count": 7,
     "metadata": {},
     "output_type": "execute_result"
    }
   ],
   "source": [
    "Visualization.load(f\"{data_dir}/taxonomy_classification/taxonomy_30-10a.qzv\")"
   ]
  },
  {
   "cell_type": "markdown",
   "id": "30a52c28-49c6-4bce-84ca-dfd801cedf1b",
   "metadata": {},
   "source": [
    "Look up some of unassigned reads with BLAST:\n",
    "- Eubacterium eligens\n",
    "- Uncultured soil fungus\n",
    "- Bacteroides uniformes\n",
    "- Homo Sapiens Chromosome 5\n",
    "- Phocaeicola vulgatus strain (Gram neg bacteria)\n",
    "- Debaryomyces hansenii (yeast)\n",
    "- Bacteroides fragiles\n",
    "- Homo sapiens 3 BAC RP11-575H20\n",
    "- Mizuhopecten yessoensis (Mollusk - Weichtier)\n",
    "- Pseudomonas aeruginosa (bacteria) / Aeromonas veronii\n",
    "- Caudoviricetes sp (virus)\n",
    "- Roseburia intestinalis (bacterium)\n",
    "- "
   ]
  },
  {
   "cell_type": "code",
   "execution_count": 6,
   "id": "18f15885-30c4-47fc-8e0a-63fea899f38a",
   "metadata": {
    "tags": []
   },
   "outputs": [
    {
     "name": "stdout",
     "output_type": "stream",
     "text": [
      "\u001b[32mSaved Visualization to: data/taxonomy_classification/taxa-barplot.qzv\u001b[0m\n",
      "\u001b[0m"
     ]
    }
   ],
   "source": [
    "# Plot the results\n",
    "! qiime taxa barplot \\\n",
    "    --i-table $data_dir/dada/dada2_table.qza \\\n",
    "    --i-taxonomy $data_dir/taxonomy_classification/taxonomy.qza \\\n",
    "    --m-metadata-file $data_dir/pundemic_metadata.tsv \\\n",
    "    --o-visualization $data_dir/taxonomy_classification/taxa-barplot.qzv"
   ]
  },
  {
   "cell_type": "code",
   "execution_count": null,
   "id": "b487fca4-f317-4621-abdd-f036e6f9d232",
   "metadata": {},
   "outputs": [],
   "source": []
  },
  {
   "cell_type": "code",
   "execution_count": 3,
   "id": "1954a4ad-5285-460e-a4c0-c059c8cd7bab",
   "metadata": {
    "tags": []
   },
   "outputs": [
    {
     "data": {
      "text/html": [
       "<div><img onload=\"(function(div, url){\n",
       "if (typeof require !== 'undefined') {\n",
       "    var baseURL = require.toUrl('').split('/').slice(0, -2).join('/');\n",
       "} else {\n",
       "    var baseURL = JSON.parse(\n",
       "        document.getElementById('jupyter-config-data').innerHTML\n",
       "    ).baseUrl.slice(0, -1);\n",
       "}\n",
       "url = baseURL + url;\n",
       "fetch(url).then(function(res) {\n",
       "    if (res.status === 404) {\n",
       "        div.innerHTML = 'Install QIIME 2 Jupyter extension with:<br />' +\n",
       "                        '<code>jupyter serverextension enable --py qiime2' +\n",
       "                        ' --sys-prefix</code><br />then restart your server.' +\n",
       "                        '<br /><br />(Interactive output not available on ' +\n",
       "                        'static notebook viewer services like nbviewer.)';\n",
       "    } else if (res.status === 409) {\n",
       "        div.innerHTML = 'Visualization no longer in scope. Re-run this cell' +\n",
       "                        ' to see the visualization.';\n",
       "    } else if (res.ok) {\n",
       "        url = res.url;\n",
       "        div.innerHTML = '<iframe src=\\'' + url + '\\' style=\\'' +\n",
       "                        'width: 100%; height: 700px; border: 0;\\'>' +\n",
       "                        '</iframe><hr />Open in a: <a href=\\'' + url + '\\'' +\n",
       "                        ' target=\\'_blank\\'>new window</a>'\n",
       "    } else {\n",
       "        div.innerHTML = 'Something has gone wrong. Check notebook server for' +\n",
       "                        ' errors.';\n",
       "    }\n",
       "});\n",
       "})(this.parentElement, '/qiime2/redirect?location=/tmp/qiime2/jovyan/data/73774546-d27b-481b-a89d-67f847ab97ed')\" src=\"data:image/gif;base64,R0lGODlhAQABAIAAAP///wAAACH5BAEAAAAALAAAAAABAAEAAAICRAEAOw==\" /></div>"
      ],
      "text/plain": [
       "<visualization: Visualization uuid: 73774546-d27b-481b-a89d-67f847ab97ed>"
      ]
     },
     "execution_count": 3,
     "metadata": {},
     "output_type": "execute_result"
    }
   ],
   "source": [
    "Visualization.load(f\"{data_dir}/taxonomy_classification/taxa-barplot.qzv\")"
   ]
  },
  {
   "cell_type": "code",
   "execution_count": 5,
   "id": "f39ad4de-a407-4757-8cdb-e48f2fd81455",
   "metadata": {
    "tags": []
   },
   "outputs": [
    {
     "name": "stdout",
     "output_type": "stream",
     "text": [
      "\u001b[32mSaved Visualization to: data/taxonomy_classification/taxa-barplot_30-10a.qzv\u001b[0m\n",
      "\u001b[0m"
     ]
    }
   ],
   "source": [
    "# Plot the results\n",
    "# for data with forward and reverse compliment trimmed\n",
    "! qiime taxa barplot \\\n",
    "    --i-table $data_dir/dada/dada2_table.qza \\\n",
    "    --i-taxonomy $data_dir/taxonomy_classification/taxonomy_30-10a.qza \\\n",
    "    --m-metadata-file $data_dir/pundemic_metadata.tsv \\\n",
    "    --o-visualization $data_dir/taxonomy_classification/taxa-barplot_30-10a.qzv"
   ]
  },
  {
   "cell_type": "code",
   "execution_count": 6,
   "id": "f8da2c0c-1594-4e75-9257-41088874bb65",
   "metadata": {
    "tags": []
   },
   "outputs": [
    {
     "data": {
      "text/html": [
       "<div><img onload=\"(function(div, url){\n",
       "if (typeof require !== 'undefined') {\n",
       "    var baseURL = require.toUrl('').split('/').slice(0, -2).join('/');\n",
       "} else {\n",
       "    var baseURL = JSON.parse(\n",
       "        document.getElementById('jupyter-config-data').innerHTML\n",
       "    ).baseUrl.slice(0, -1);\n",
       "}\n",
       "url = baseURL + url;\n",
       "fetch(url).then(function(res) {\n",
       "    if (res.status === 404) {\n",
       "        div.innerHTML = 'Install QIIME 2 Jupyter extension with:<br />' +\n",
       "                        '<code>jupyter serverextension enable --py qiime2' +\n",
       "                        ' --sys-prefix</code><br />then restart your server.' +\n",
       "                        '<br /><br />(Interactive output not available on ' +\n",
       "                        'static notebook viewer services like nbviewer.)';\n",
       "    } else if (res.status === 409) {\n",
       "        div.innerHTML = 'Visualization no longer in scope. Re-run this cell' +\n",
       "                        ' to see the visualization.';\n",
       "    } else if (res.ok) {\n",
       "        url = res.url;\n",
       "        div.innerHTML = '<iframe src=\\'' + url + '\\' style=\\'' +\n",
       "                        'width: 100%; height: 700px; border: 0;\\'>' +\n",
       "                        '</iframe><hr />Open in a: <a href=\\'' + url + '\\'' +\n",
       "                        ' target=\\'_blank\\'>new window</a>'\n",
       "    } else {\n",
       "        div.innerHTML = 'Something has gone wrong. Check notebook server for' +\n",
       "                        ' errors.';\n",
       "    }\n",
       "});\n",
       "})(this.parentElement, '/qiime2/redirect?location=/tmp/qiime2/jovyan/data/63a1491d-072e-4cda-a341-3d00fa982dcb')\" src=\"data:image/gif;base64,R0lGODlhAQABAIAAAP///wAAACH5BAEAAAAALAAAAAABAAEAAAICRAEAOw==\" /></div>"
      ],
      "text/plain": [
       "<visualization: Visualization uuid: 63a1491d-072e-4cda-a341-3d00fa982dcb>"
      ]
     },
     "execution_count": 6,
     "metadata": {},
     "output_type": "execute_result"
    }
   ],
   "source": [
    "Visualization.load(f\"{data_dir}/taxonomy_classification/taxa-barplot_30-10a.qzv\")"
   ]
  },
  {
   "cell_type": "code",
   "execution_count": 9,
   "id": "45324636-7fe0-471d-80e6-1d60626b9414",
   "metadata": {
    "tags": []
   },
   "outputs": [
    {
     "data": {
      "text/html": [
       "<div>\n",
       "<style scoped>\n",
       "    .dataframe tbody tr th:only-of-type {\n",
       "        vertical-align: middle;\n",
       "    }\n",
       "\n",
       "    .dataframe tbody tr th {\n",
       "        vertical-align: top;\n",
       "    }\n",
       "\n",
       "    .dataframe thead th {\n",
       "        text-align: right;\n",
       "    }\n",
       "</style>\n",
       "<table border=\"1\" class=\"dataframe\">\n",
       "  <thead>\n",
       "    <tr style=\"text-align: right;\">\n",
       "      <th></th>\n",
       "      <th>patient_id</th>\n",
       "      <th>age</th>\n",
       "      <th>sex</th>\n",
       "      <th>ethnicity</th>\n",
       "      <th>continent</th>\n",
       "      <th>country</th>\n",
       "      <th>region</th>\n",
       "      <th>city</th>\n",
       "      <th>group</th>\n",
       "      <th>disease_subgroup</th>\n",
       "      <th>blinded_clinical_response</th>\n",
       "      <th>puns_per_hour_pre_treatment</th>\n",
       "      <th>puns_per_hour_post_treatment</th>\n",
       "      <th>time_point</th>\n",
       "    </tr>\n",
       "    <tr>\n",
       "      <th>id</th>\n",
       "      <th></th>\n",
       "      <th></th>\n",
       "      <th></th>\n",
       "      <th></th>\n",
       "      <th></th>\n",
       "      <th></th>\n",
       "      <th></th>\n",
       "      <th></th>\n",
       "      <th></th>\n",
       "      <th></th>\n",
       "      <th></th>\n",
       "      <th></th>\n",
       "      <th></th>\n",
       "      <th></th>\n",
       "    </tr>\n",
       "  </thead>\n",
       "  <tbody>\n",
       "    <tr>\n",
       "      <th>SRR10505051</th>\n",
       "      <td>1048</td>\n",
       "      <td>36</td>\n",
       "      <td>female</td>\n",
       "      <td>Caucasian</td>\n",
       "      <td>Europe</td>\n",
       "      <td>Switzerland</td>\n",
       "      <td>Zurich</td>\n",
       "      <td>Zurich</td>\n",
       "      <td>Puns</td>\n",
       "      <td>Placebo</td>\n",
       "      <td>NR</td>\n",
       "      <td>9.0</td>\n",
       "      <td>8.0</td>\n",
       "      <td>post-treatment</td>\n",
       "    </tr>\n",
       "    <tr>\n",
       "      <th>SRR10505052</th>\n",
       "      <td>1048</td>\n",
       "      <td>36</td>\n",
       "      <td>female</td>\n",
       "      <td>Caucasian</td>\n",
       "      <td>Europe</td>\n",
       "      <td>Switzerland</td>\n",
       "      <td>Zurich</td>\n",
       "      <td>Zurich</td>\n",
       "      <td>Puns</td>\n",
       "      <td>Placebo</td>\n",
       "      <td>NR</td>\n",
       "      <td>9.0</td>\n",
       "      <td>8.0</td>\n",
       "      <td>pre-treatment</td>\n",
       "    </tr>\n",
       "    <tr>\n",
       "      <th>SRR10505053</th>\n",
       "      <td>1045</td>\n",
       "      <td>29</td>\n",
       "      <td>male</td>\n",
       "      <td>Caucasian</td>\n",
       "      <td>Europe</td>\n",
       "      <td>Switzerland</td>\n",
       "      <td>Zurich</td>\n",
       "      <td>Zurich</td>\n",
       "      <td>Puns</td>\n",
       "      <td>Placebo</td>\n",
       "      <td>Res</td>\n",
       "      <td>6.0</td>\n",
       "      <td>0.0</td>\n",
       "      <td>pre-treatment</td>\n",
       "    </tr>\n",
       "    <tr>\n",
       "      <th>SRR10505054</th>\n",
       "      <td>1045</td>\n",
       "      <td>29</td>\n",
       "      <td>male</td>\n",
       "      <td>Caucasian</td>\n",
       "      <td>Europe</td>\n",
       "      <td>Switzerland</td>\n",
       "      <td>Zurich</td>\n",
       "      <td>Zurich</td>\n",
       "      <td>Puns</td>\n",
       "      <td>Placebo</td>\n",
       "      <td>Res</td>\n",
       "      <td>6.0</td>\n",
       "      <td>0.0</td>\n",
       "      <td>post-treatment</td>\n",
       "    </tr>\n",
       "    <tr>\n",
       "      <th>SRR10505055</th>\n",
       "      <td>1044</td>\n",
       "      <td>34</td>\n",
       "      <td>male</td>\n",
       "      <td>Indian Subcontinental</td>\n",
       "      <td>Europe</td>\n",
       "      <td>Switzerland</td>\n",
       "      <td>Zurich</td>\n",
       "      <td>Zurich</td>\n",
       "      <td>Puns</td>\n",
       "      <td>Placebo</td>\n",
       "      <td>NaN</td>\n",
       "      <td>4.0</td>\n",
       "      <td>NaN</td>\n",
       "      <td>pre-treatment</td>\n",
       "    </tr>\n",
       "  </tbody>\n",
       "</table>\n",
       "</div>"
      ],
      "text/plain": [
       "            patient_id age     sex              ethnicity continent  \\\n",
       "id                                                                    \n",
       "SRR10505051       1048  36  female              Caucasian    Europe   \n",
       "SRR10505052       1048  36  female              Caucasian    Europe   \n",
       "SRR10505053       1045  29    male              Caucasian    Europe   \n",
       "SRR10505054       1045  29    male              Caucasian    Europe   \n",
       "SRR10505055       1044  34    male  Indian Subcontinental    Europe   \n",
       "\n",
       "                 country  region    city group disease_subgroup  \\\n",
       "id                                                                \n",
       "SRR10505051  Switzerland  Zurich  Zurich  Puns          Placebo   \n",
       "SRR10505052  Switzerland  Zurich  Zurich  Puns          Placebo   \n",
       "SRR10505053  Switzerland  Zurich  Zurich  Puns          Placebo   \n",
       "SRR10505054  Switzerland  Zurich  Zurich  Puns          Placebo   \n",
       "SRR10505055  Switzerland  Zurich  Zurich  Puns          Placebo   \n",
       "\n",
       "            blinded_clinical_response  puns_per_hour_pre_treatment  \\\n",
       "id                                                                   \n",
       "SRR10505051                        NR                          9.0   \n",
       "SRR10505052                        NR                          9.0   \n",
       "SRR10505053                       Res                          6.0   \n",
       "SRR10505054                       Res                          6.0   \n",
       "SRR10505055                       NaN                          4.0   \n",
       "\n",
       "             puns_per_hour_post_treatment      time_point  \n",
       "id                                                         \n",
       "SRR10505051                           8.0  post-treatment  \n",
       "SRR10505052                           8.0   pre-treatment  \n",
       "SRR10505053                           0.0   pre-treatment  \n",
       "SRR10505054                           0.0  post-treatment  \n",
       "SRR10505055                           NaN   pre-treatment  "
      ]
     },
     "execution_count": 9,
     "metadata": {},
     "output_type": "execute_result"
    }
   ],
   "source": [
    "meta_df = pd.read_csv(f'{data_dir}/pundemic_metadata.tsv', sep='\\t', index_col=0)\n",
    "meta_df.head()"
   ]
  },
  {
   "cell_type": "code",
   "execution_count": 26,
   "id": "130b6dd3-f443-47aa-894f-06e7db56febe",
   "metadata": {
    "tags": []
   },
   "outputs": [
    {
     "data": {
      "text/html": [
       "<div>\n",
       "<style scoped>\n",
       "    .dataframe tbody tr th:only-of-type {\n",
       "        vertical-align: middle;\n",
       "    }\n",
       "\n",
       "    .dataframe tbody tr th {\n",
       "        vertical-align: top;\n",
       "    }\n",
       "\n",
       "    .dataframe thead th {\n",
       "        text-align: right;\n",
       "    }\n",
       "</style>\n",
       "<table border=\"1\" class=\"dataframe\">\n",
       "  <thead>\n",
       "    <tr style=\"text-align: right;\">\n",
       "      <th></th>\n",
       "      <th>patient_id</th>\n",
       "      <th>age</th>\n",
       "      <th>sex</th>\n",
       "      <th>ethnicity</th>\n",
       "      <th>continent</th>\n",
       "      <th>country</th>\n",
       "      <th>region</th>\n",
       "      <th>city</th>\n",
       "      <th>group</th>\n",
       "      <th>disease_subgroup</th>\n",
       "      <th>blinded_clinical_response</th>\n",
       "      <th>puns_per_hour_pre_treatment</th>\n",
       "      <th>puns_per_hour_post_treatment</th>\n",
       "      <th>time_point</th>\n",
       "    </tr>\n",
       "    <tr>\n",
       "      <th>id</th>\n",
       "      <th></th>\n",
       "      <th></th>\n",
       "      <th></th>\n",
       "      <th></th>\n",
       "      <th></th>\n",
       "      <th></th>\n",
       "      <th></th>\n",
       "      <th></th>\n",
       "      <th></th>\n",
       "      <th></th>\n",
       "      <th></th>\n",
       "      <th></th>\n",
       "      <th></th>\n",
       "      <th></th>\n",
       "    </tr>\n",
       "  </thead>\n",
       "  <tbody>\n",
       "    <tr>\n",
       "      <th>SRR10505053</th>\n",
       "      <td>1045</td>\n",
       "      <td>29</td>\n",
       "      <td>male</td>\n",
       "      <td>Caucasian</td>\n",
       "      <td>Europe</td>\n",
       "      <td>Switzerland</td>\n",
       "      <td>Zurich</td>\n",
       "      <td>Zurich</td>\n",
       "      <td>Puns</td>\n",
       "      <td>Placebo</td>\n",
       "      <td>Res</td>\n",
       "      <td>6.0</td>\n",
       "      <td>0.0</td>\n",
       "      <td>pre-treatment</td>\n",
       "    </tr>\n",
       "    <tr>\n",
       "      <th>SRR10505056</th>\n",
       "      <td>1044</td>\n",
       "      <td>34</td>\n",
       "      <td>male</td>\n",
       "      <td>Indian Subcontinental</td>\n",
       "      <td>Europe</td>\n",
       "      <td>Switzerland</td>\n",
       "      <td>Zurich</td>\n",
       "      <td>Zurich</td>\n",
       "      <td>Puns</td>\n",
       "      <td>Placebo</td>\n",
       "      <td>NaN</td>\n",
       "      <td>4.0</td>\n",
       "      <td>NaN</td>\n",
       "      <td>post-treatment</td>\n",
       "    </tr>\n",
       "    <tr>\n",
       "      <th>SRR10505059</th>\n",
       "      <td>1042</td>\n",
       "      <td>40</td>\n",
       "      <td>male</td>\n",
       "      <td>Caucasian</td>\n",
       "      <td>Europe</td>\n",
       "      <td>Switzerland</td>\n",
       "      <td>Zurich</td>\n",
       "      <td>Zurich</td>\n",
       "      <td>Puns</td>\n",
       "      <td>Placebo</td>\n",
       "      <td>NaN</td>\n",
       "      <td>9.0</td>\n",
       "      <td>8.0</td>\n",
       "      <td>post-treatment</td>\n",
       "    </tr>\n",
       "    <tr>\n",
       "      <th>SRR10505061</th>\n",
       "      <td>2212</td>\n",
       "      <td>27</td>\n",
       "      <td>male</td>\n",
       "      <td>Caucasian</td>\n",
       "      <td>Europe</td>\n",
       "      <td>Switzerland</td>\n",
       "      <td>Zurich</td>\n",
       "      <td>Zurich</td>\n",
       "      <td>Puns</td>\n",
       "      <td>FMT</td>\n",
       "      <td>NR</td>\n",
       "      <td>8.0</td>\n",
       "      <td>4.0</td>\n",
       "      <td>pre-treatment</td>\n",
       "    </tr>\n",
       "    <tr>\n",
       "      <th>SRR10505062</th>\n",
       "      <td>1041</td>\n",
       "      <td>39</td>\n",
       "      <td>female</td>\n",
       "      <td>Caucasian</td>\n",
       "      <td>Europe</td>\n",
       "      <td>Switzerland</td>\n",
       "      <td>Zurich</td>\n",
       "      <td>Zurich</td>\n",
       "      <td>Puns</td>\n",
       "      <td>FMT</td>\n",
       "      <td>Res</td>\n",
       "      <td>6.0</td>\n",
       "      <td>0.0</td>\n",
       "      <td>post-treatment</td>\n",
       "    </tr>\n",
       "  </tbody>\n",
       "</table>\n",
       "</div>"
      ],
      "text/plain": [
       "            patient_id age     sex              ethnicity continent  \\\n",
       "id                                                                    \n",
       "SRR10505053       1045  29    male              Caucasian    Europe   \n",
       "SRR10505056       1044  34    male  Indian Subcontinental    Europe   \n",
       "SRR10505059       1042  40    male              Caucasian    Europe   \n",
       "SRR10505061       2212  27    male              Caucasian    Europe   \n",
       "SRR10505062       1041  39  female              Caucasian    Europe   \n",
       "\n",
       "                 country  region    city group disease_subgroup  \\\n",
       "id                                                                \n",
       "SRR10505053  Switzerland  Zurich  Zurich  Puns          Placebo   \n",
       "SRR10505056  Switzerland  Zurich  Zurich  Puns          Placebo   \n",
       "SRR10505059  Switzerland  Zurich  Zurich  Puns          Placebo   \n",
       "SRR10505061  Switzerland  Zurich  Zurich  Puns              FMT   \n",
       "SRR10505062  Switzerland  Zurich  Zurich  Puns              FMT   \n",
       "\n",
       "            blinded_clinical_response  puns_per_hour_pre_treatment  \\\n",
       "id                                                                   \n",
       "SRR10505053                       Res                          6.0   \n",
       "SRR10505056                       NaN                          4.0   \n",
       "SRR10505059                       NaN                          9.0   \n",
       "SRR10505061                        NR                          8.0   \n",
       "SRR10505062                       Res                          6.0   \n",
       "\n",
       "             puns_per_hour_post_treatment      time_point  \n",
       "id                                                         \n",
       "SRR10505053                           0.0   pre-treatment  \n",
       "SRR10505056                           NaN  post-treatment  \n",
       "SRR10505059                           8.0  post-treatment  \n",
       "SRR10505061                           4.0   pre-treatment  \n",
       "SRR10505062                           0.0  post-treatment  "
      ]
     },
     "execution_count": 26,
     "metadata": {},
     "output_type": "execute_result"
    }
   ],
   "source": [
    "bad_classification_ids_string = \"SRR10505118SRR10505099SRR10505121SRR10505142SRR10505109SRR10505113SRR10505131SRR10505070SRR10505122SRR10505127SRR10505084SRR10505059SRR10505078SRR10505083SRR10505089SRR10505077SRR10505134SRR10505107SRR10505090SRR10505076SRR10505106SRR10505148SRR10505075SRR10505065SRR10505132SRR10505112SRR10505081SRR10505068SRR10505062SRR10505152SRR10505066SRR10505133SRR10505074SRR10505116SRR10505114SRR10505103SRR10505126SRR10505064SRR10505151SRR10505136SRR10505056SRR10505135SRR10505146SRR10505108SRR10505141SRR10505147SRR10505101SRR10505123SRR10505069SRR10505117SRR10505067SRR10505053SRR10505079SRR10505104SRR10505143SRR10505115SRR10505097SRR10505140SRR10505061SRR10505087SRR10505098SRR10505138\"\n",
    "bad_classification_ids_list = re.findall(r'SRR\\d+', bad_classification_ids_string)\n",
    "meta_df_bad_classification = meta_df[meta_df.index.isin(bad_classification_ids_list)]\n",
    "meta_df_bad_classification.to_csv(f'{data_dir}/metadata_bad_classification.csv')\n",
    "meta_df_bad_classification.head()"
   ]
  },
  {
   "cell_type": "code",
   "execution_count": null,
   "id": "3e89c9ba-7962-4720-953c-2265414d6ee5",
   "metadata": {},
   "outputs": [],
   "source": []
  }
 ],
 "metadata": {
  "kernelspec": {
   "display_name": "QIIME 2",
   "language": "python",
   "name": "python3"
  },
  "language_info": {
   "codemirror_mode": {
    "name": "ipython",
    "version": 3
   },
   "file_extension": ".py",
   "mimetype": "text/x-python",
   "name": "python",
   "nbconvert_exporter": "python",
   "pygments_lexer": "ipython3",
   "version": "3.9.19"
  }
 },
 "nbformat": 4,
 "nbformat_minor": 5
}
